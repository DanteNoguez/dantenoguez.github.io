{
  "nbformat": 4,
  "nbformat_minor": 0,
  "metadata": {
    "colab": {
      "provenance": []
    },
    "kernelspec": {
      "name": "python3",
      "display_name": "Python 3"
    },
    "language_info": {
      "name": "python"
    }
  },
  "cells": [
    {
      "cell_type": "markdown",
      "source": [
        "# Elementos de redes neuronales\n",
        "\n",
        "Sin preámbulo alguno, construiremos una red neuronal desde cero, explicando a detalle cada paso. En primer lugar, crearemos la «clase» `Numero`, es decir, formularemos una estructura que nos permita definir, modificar y operar con números. Dado que las redes neuronales son gigantescas expresiones matemáticas, los números serán nuestros átomos. De momento, cada número tendrá las siguientes propiedades: un valor, un par de valores previos que pueden generarlo (por ejemplo, 1 y 1 en el caso de que sumados nos den el número 2), la operación que genera al número y una etiqueta en caso de que queramos asociarlo a una variable. Por último, agregaremos la suma, la resta y la multiplicación para poder operar con nuestros números:"
      ],
      "metadata": {
        "id": "cXY3yC_9YofV"
      }
    },
    {
      "cell_type": "code",
      "source": [
        "import math\n",
        "class Numero:\n",
        "  def __init__(self, valor, _previos=(), _op='', etiqueta=''):\n",
        "    self.valor = valor\n",
        "    self._previos = set(_previos)\n",
        "    self._op = _op\n",
        "    self.etiqueta = etiqueta\n",
        "    eps = 1e-5\n",
        "\n",
        "  def __repr__(self):\n",
        "    return f'Valor={self.valor}' # esta función determina cómo se representa nuestro número\n",
        "\n",
        "  def __add__(self, otro): # adición\n",
        "    otro = otro if isinstance(otro, Numero) else Numero(otro) # nos cercioramos de que el otro valor sea un Número\n",
        "    resultado = Numero(self.valor + otro.valor, (self, otro), '+')\n",
        "    return resultado\n",
        "\n",
        "  def __radd__(self, otro): # en Python, debemos apoyarnos de una función extra (con prefijo r) para casos en los que la función anterior no funcione\n",
        "    return self + otro\n",
        "\n",
        "  def __mul__(self, otro): # multiplicación\n",
        "    otro = otro if isinstance(otro, Numero) else Numero(otro)\n",
        "    resultado = Numero(self.valor * otro.valor, (self, otro), '*')\n",
        "    return resultado\n",
        "\n",
        "  def __rmul__(self, otro):\n",
        "    return self * otro\n",
        "\n",
        "  def __sub__(self, otro): # resta, substracción\n",
        "    return self + (-otro)\n",
        "\n",
        "  def __rsub__(self, otro):\n",
        "    return otro + (-self)\n",
        "\n",
        "  def __pow__(self, otro):\n",
        "    assert isinstance(otro, (int, float))\n",
        "    resultado = Numero(self.valor**otro, (self,), f'**{otro}')\n",
        "    return resultado\n",
        "\n",
        "  def __truediv__(self, otro): # división\n",
        "    return otro * self**-1 #dividir es lo mismo que multiplicar por el dividendo elevado a la menos 1\n",
        "  \n",
        "  def __rtruediv__(self, otro):\n",
        "    return otro * self**-1\n",
        "\n",
        "  def __neg__(self): # volver negativo un número\n",
        "    return self * -1\n"
      ],
      "metadata": {
        "id": "w7d9DNicPsjo"
      },
      "execution_count": 101,
      "outputs": []
    },
    {
      "cell_type": "code",
      "source": [
        "a = Numero(2, etiqueta='a') # definimos dos Números: a y b\n",
        "b = Numero(5, etiqueta='b')\n",
        "c = a*b # definimos c, que es el resultado de multiplicar a y b\n",
        "\n",
        "print(f'{c} | Valores previos: {c._previos}, | Operación realizada para generar c: {c._op}')"
      ],
      "metadata": {
        "colab": {
          "base_uri": "https://localhost:8080/"
        },
        "id": "aDx-aC3RW_U5",
        "outputId": "98dfd2bf-5160-4ace-bfa8-272c69d6799d"
      },
      "execution_count": 102,
      "outputs": [
        {
          "output_type": "stream",
          "name": "stdout",
          "text": [
            "Valor=10 | Valores previos: {Valor=2, Valor=5}, | Operación realizada para generar c: *\n"
          ]
        }
      ]
    },
    {
      "cell_type": "markdown",
      "source": [
        "Antes de pasar a revisar conceptos más complicados, podemos visualizar de mejor manera lo que acabamos de hacer. A continuación, programaremos una función para graficar, pero explicarla queda fuera del enfoque de este texto."
      ],
      "metadata": {
        "id": "hGlu4bMAaccB"
      }
    },
    {
      "cell_type": "code",
      "source": [
        "from graphviz import Digraph\n",
        "\n",
        "def rastreo(origen):\n",
        "  # construye un conjunto de todos los nodos en un gráfico\n",
        "  nodos, lineas = set(), set()\n",
        "  def construir(v):\n",
        "    if v not in nodos:\n",
        "      nodos.add(v)\n",
        "      for parte in v._previos:\n",
        "        lineas.add((parte, v))\n",
        "        construir(parte)\n",
        "  construir(origen)\n",
        "  return nodos, lineas\n",
        "\n",
        "def graficar(origen):\n",
        "  grafica = Digraph(format='svg', graph_attr={'rankdir': 'LR'}) # left to right, izquierda a derecha\n",
        "\n",
        "  nodos, lineas = rastreo(origen)\n",
        "  for n in nodos:\n",
        "    uid = str(id(n))\n",
        "    # por cada valor en la grafica, crea un nodo rectangular ('record') para él\n",
        "    grafica.node(name=uid, label='{ %s | valor %.4f}' % (n.etiqueta, n.valor), shape='record')\n",
        "    if n._op:\n",
        "      # si el valor es resultado de una operación, crea un nodo para la operación\n",
        "      grafica.node(name = uid + n._op, label = n._op)\n",
        "      # conecta los nodos\n",
        "      grafica.edge(uid + n._op, uid)\n",
        "\n",
        "  for n1, n2 in lineas:\n",
        "    # conecta n1 al nodo operación de n2\n",
        "    grafica.edge(str(id(n1)), str(id(n2)) + n2._op)\n",
        "\n",
        "  return grafica"
      ],
      "metadata": {
        "id": "SOKC3geffwhO"
      },
      "execution_count": 103,
      "outputs": []
    },
    {
      "cell_type": "markdown",
      "source": [
        "{margin}\n",
        "*Para saber más sobre funciones, véase nuestra [lección anterior](https://dantenoguez.github.io/Ensayos/elementos-program.html).*\n",
        "\n",
        "Una vez definida la función, podemos graficar los resultados que vimos para la variable $c$:"
      ],
      "metadata": {
        "id": "GJcCwCXOh7rO"
      }
    },
    {
      "cell_type": "code",
      "source": [
        "c.etiqueta = 'c'\n",
        "graficar(c)"
      ],
      "metadata": {
        "colab": {
          "base_uri": "https://localhost:8080/",
          "height": 154
        },
        "id": "3wIv8bAmhu52",
        "outputId": "743d9ecf-d146-4a43-cae0-16400b879233"
      },
      "execution_count": 104,
      "outputs": [
        {
          "output_type": "execute_result",
          "data": {
            "text/plain": [
              "<graphviz.dot.Digraph at 0x7f25c3616290>"
            ],
            "image/svg+xml": "<?xml version=\"1.0\" encoding=\"UTF-8\" standalone=\"no\"?>\n<!DOCTYPE svg PUBLIC \"-//W3C//DTD SVG 1.1//EN\"\n \"http://www.w3.org/Graphics/SVG/1.1/DTD/svg11.dtd\">\n<!-- Generated by graphviz version 2.40.1 (20161225.0304)\n -->\n<!-- Title: %3 Pages: 1 -->\n<svg width=\"370pt\" height=\"100pt\"\n viewBox=\"0.00 0.00 370.00 100.00\" xmlns=\"http://www.w3.org/2000/svg\" xmlns:xlink=\"http://www.w3.org/1999/xlink\">\n<g id=\"graph0\" class=\"graph\" transform=\"scale(1 1) rotate(0) translate(4 96)\">\n<title>%3</title>\n<polygon fill=\"#ffffff\" stroke=\"transparent\" points=\"-4,4 -4,-96 366,-96 366,4 -4,4\"/>\n<!-- 139800168829712 -->\n<g id=\"node1\" class=\"node\">\n<title>139800168829712</title>\n<polygon fill=\"none\" stroke=\"#000000\" points=\"241,-27.5 241,-63.5 362,-63.5 362,-27.5 241,-27.5\"/>\n<text text-anchor=\"middle\" x=\"252.5\" y=\"-41.8\" font-family=\"Times,serif\" font-size=\"14.00\" fill=\"#000000\">c</text>\n<polyline fill=\"none\" stroke=\"#000000\" points=\"264,-27.5 264,-63.5 \"/>\n<text text-anchor=\"middle\" x=\"313\" y=\"-41.8\" font-family=\"Times,serif\" font-size=\"14.00\" fill=\"#000000\">valor 10.0000</text>\n</g>\n<!-- 139800168829712* -->\n<g id=\"node2\" class=\"node\">\n<title>139800168829712*</title>\n<ellipse fill=\"none\" stroke=\"#000000\" cx=\"178\" cy=\"-45.5\" rx=\"27\" ry=\"18\"/>\n<text text-anchor=\"middle\" x=\"178\" y=\"-41.8\" font-family=\"Times,serif\" font-size=\"14.00\" fill=\"#000000\">*</text>\n</g>\n<!-- 139800168829712*&#45;&gt;139800168829712 -->\n<g id=\"edge1\" class=\"edge\">\n<title>139800168829712*&#45;&gt;139800168829712</title>\n<path fill=\"none\" stroke=\"#000000\" d=\"M205.1026,-45.5C212.7894,-45.5 221.5352,-45.5 230.5486,-45.5\"/>\n<polygon fill=\"#000000\" stroke=\"#000000\" points=\"230.7966,-49.0001 240.7965,-45.5 230.7965,-42.0001 230.7966,-49.0001\"/>\n</g>\n<!-- 139800168831760 -->\n<g id=\"node3\" class=\"node\">\n<title>139800168831760</title>\n<polygon fill=\"none\" stroke=\"#000000\" points=\".5,-55.5 .5,-91.5 114.5,-91.5 114.5,-55.5 .5,-55.5\"/>\n<text text-anchor=\"middle\" x=\"12\" y=\"-69.8\" font-family=\"Times,serif\" font-size=\"14.00\" fill=\"#000000\">a</text>\n<polyline fill=\"none\" stroke=\"#000000\" points=\"23.5,-55.5 23.5,-91.5 \"/>\n<text text-anchor=\"middle\" x=\"69\" y=\"-69.8\" font-family=\"Times,serif\" font-size=\"14.00\" fill=\"#000000\">valor 2.0000</text>\n</g>\n<!-- 139800168831760&#45;&gt;139800168829712* -->\n<g id=\"edge3\" class=\"edge\">\n<title>139800168831760&#45;&gt;139800168829712*</title>\n<path fill=\"none\" stroke=\"#000000\" d=\"M114.5741,-60.238C124.1055,-58.0232 133.7433,-55.7837 142.5296,-53.7421\"/>\n<polygon fill=\"#000000\" stroke=\"#000000\" points=\"143.4472,-57.1222 152.3955,-51.4496 141.8628,-50.3038 143.4472,-57.1222\"/>\n</g>\n<!-- 139800168830672 -->\n<g id=\"node4\" class=\"node\">\n<title>139800168830672</title>\n<polygon fill=\"none\" stroke=\"#000000\" points=\"0,-.5 0,-36.5 115,-36.5 115,-.5 0,-.5\"/>\n<text text-anchor=\"middle\" x=\"12\" y=\"-14.8\" font-family=\"Times,serif\" font-size=\"14.00\" fill=\"#000000\">b</text>\n<polyline fill=\"none\" stroke=\"#000000\" points=\"24,-.5 24,-36.5 \"/>\n<text text-anchor=\"middle\" x=\"69.5\" y=\"-14.8\" font-family=\"Times,serif\" font-size=\"14.00\" fill=\"#000000\">valor 5.0000</text>\n</g>\n<!-- 139800168830672&#45;&gt;139800168829712* -->\n<g id=\"edge2\" class=\"edge\">\n<title>139800168830672&#45;&gt;139800168829712*</title>\n<path fill=\"none\" stroke=\"#000000\" d=\"M115.2794,-31.4464C124.469,-33.5055 133.7352,-35.5818 142.2213,-37.4832\"/>\n<polygon fill=\"#000000\" stroke=\"#000000\" points=\"141.6044,-40.9317 152.1278,-39.7029 143.135,-34.1011 141.6044,-40.9317\"/>\n</g>\n</g>\n</svg>\n"
          },
          "metadata": {},
          "execution_count": 104
        }
      ]
    },
    {
      "cell_type": "markdown",
      "source": [
        "En este esquema queda más claro que la multiplicación es una función. Podemos ahora definir una función más compleja:"
      ],
      "metadata": {
        "id": "RbSUc-NKiP2c"
      }
    },
    {
      "cell_type": "code",
      "source": [
        "a = Numero(2.0, etiqueta='a')\n",
        "b = Numero(-3.0, etiqueta='b')\n",
        "c = Numero(10.0, etiqueta='c')\n",
        "d = a*b; d.etiqueta='d'\n",
        "e = d+c; e.etiqueta='e'\n",
        "\n",
        "graficar(e)"
      ],
      "metadata": {
        "colab": {
          "base_uri": "https://localhost:8080/",
          "height": 192
        },
        "id": "eG4fAKIMiECK",
        "outputId": "a4146206-cb11-4714-9a04-49e5f3b3dd47"
      },
      "execution_count": 105,
      "outputs": [
        {
          "output_type": "execute_result",
          "data": {
            "text/plain": [
              "<graphviz.dot.Digraph at 0x7f25c35d4cd0>"
            ],
            "image/svg+xml": "<?xml version=\"1.0\" encoding=\"UTF-8\" standalone=\"no\"?>\n<!DOCTYPE svg PUBLIC \"-//W3C//DTD SVG 1.1//EN\"\n \"http://www.w3.org/Graphics/SVG/1.1/DTD/svg11.dtd\">\n<!-- Generated by graphviz version 2.40.1 (20161225.0304)\n -->\n<!-- Title: %3 Pages: 1 -->\n<svg width=\"614pt\" height=\"128pt\"\n viewBox=\"0.00 0.00 614.00 128.00\" xmlns=\"http://www.w3.org/2000/svg\" xmlns:xlink=\"http://www.w3.org/1999/xlink\">\n<g id=\"graph0\" class=\"graph\" transform=\"scale(1 1) rotate(0) translate(4 124)\">\n<title>%3</title>\n<polygon fill=\"#ffffff\" stroke=\"transparent\" points=\"-4,4 -4,-124 610,-124 610,4 -4,4\"/>\n<!-- 139800168188496 -->\n<g id=\"node1\" class=\"node\">\n<title>139800168188496</title>\n<polygon fill=\"none\" stroke=\"#000000\" points=\"0,-83.5 0,-119.5 119,-119.5 119,-83.5 0,-83.5\"/>\n<text text-anchor=\"middle\" x=\"12\" y=\"-97.8\" font-family=\"Times,serif\" font-size=\"14.00\" fill=\"#000000\">b</text>\n<polyline fill=\"none\" stroke=\"#000000\" points=\"24,-83.5 24,-119.5 \"/>\n<text text-anchor=\"middle\" x=\"71.5\" y=\"-97.8\" font-family=\"Times,serif\" font-size=\"14.00\" fill=\"#000000\">valor &#45;3.0000</text>\n</g>\n<!-- 139800168187536* -->\n<g id=\"node3\" class=\"node\">\n<title>139800168187536*</title>\n<ellipse fill=\"none\" stroke=\"#000000\" cx=\"182\" cy=\"-73.5\" rx=\"27\" ry=\"18\"/>\n<text text-anchor=\"middle\" x=\"182\" y=\"-69.8\" font-family=\"Times,serif\" font-size=\"14.00\" fill=\"#000000\">*</text>\n</g>\n<!-- 139800168188496&#45;&gt;139800168187536* -->\n<g id=\"edge4\" class=\"edge\">\n<title>139800168188496&#45;&gt;139800168187536*</title>\n<path fill=\"none\" stroke=\"#000000\" d=\"M119.3146,-87.8281C128.5547,-85.7161 137.8384,-83.5941 146.324,-81.6545\"/>\n<polygon fill=\"#000000\" stroke=\"#000000\" points=\"147.2533,-85.0325 156.222,-79.3921 145.6935,-78.2084 147.2533,-85.0325\"/>\n</g>\n<!-- 139800168187536 -->\n<g id=\"node2\" class=\"node\">\n<title>139800168187536</title>\n<polygon fill=\"none\" stroke=\"#000000\" points=\"246,-55.5 246,-91.5 365,-91.5 365,-55.5 246,-55.5\"/>\n<text text-anchor=\"middle\" x=\"258\" y=\"-69.8\" font-family=\"Times,serif\" font-size=\"14.00\" fill=\"#000000\">d</text>\n<polyline fill=\"none\" stroke=\"#000000\" points=\"270,-55.5 270,-91.5 \"/>\n<text text-anchor=\"middle\" x=\"317.5\" y=\"-69.8\" font-family=\"Times,serif\" font-size=\"14.00\" fill=\"#000000\">valor &#45;6.0000</text>\n</g>\n<!-- 139800168187856+ -->\n<g id=\"node6\" class=\"node\">\n<title>139800168187856+</title>\n<ellipse fill=\"none\" stroke=\"#000000\" cx=\"429\" cy=\"-45.5\" rx=\"27\" ry=\"18\"/>\n<text text-anchor=\"middle\" x=\"429\" y=\"-41.8\" font-family=\"Times,serif\" font-size=\"14.00\" fill=\"#000000\">+</text>\n</g>\n<!-- 139800168187536&#45;&gt;139800168187856+ -->\n<g id=\"edge3\" class=\"edge\">\n<title>139800168187536&#45;&gt;139800168187856+</title>\n<path fill=\"none\" stroke=\"#000000\" d=\"M365.0795,-59.9921C374.7443,-57.8009 384.4801,-55.5936 393.3383,-53.5852\"/>\n<polygon fill=\"#000000\" stroke=\"#000000\" points=\"394.2985,-56.9565 403.2771,-51.3319 392.7507,-50.1297 394.2985,-56.9565\"/>\n</g>\n<!-- 139800168187536*&#45;&gt;139800168187536 -->\n<g id=\"edge1\" class=\"edge\">\n<title>139800168187536*&#45;&gt;139800168187536</title>\n<path fill=\"none\" stroke=\"#000000\" d=\"M209.1026,-73.5C217.0806,-73.5 226.1995,-73.5 235.5742,-73.5\"/>\n<polygon fill=\"#000000\" stroke=\"#000000\" points=\"235.8054,-77.0001 245.8054,-73.5 235.8053,-70.0001 235.8054,-77.0001\"/>\n</g>\n<!-- 139800168189584 -->\n<g id=\"node4\" class=\"node\">\n<title>139800168189584</title>\n<polygon fill=\"none\" stroke=\"#000000\" points=\"245,-.5 245,-36.5 366,-36.5 366,-.5 245,-.5\"/>\n<text text-anchor=\"middle\" x=\"256.5\" y=\"-14.8\" font-family=\"Times,serif\" font-size=\"14.00\" fill=\"#000000\">c</text>\n<polyline fill=\"none\" stroke=\"#000000\" points=\"268,-.5 268,-36.5 \"/>\n<text text-anchor=\"middle\" x=\"317\" y=\"-14.8\" font-family=\"Times,serif\" font-size=\"14.00\" fill=\"#000000\">valor 10.0000</text>\n</g>\n<!-- 139800168189584&#45;&gt;139800168187856+ -->\n<g id=\"edge6\" class=\"edge\">\n<title>139800168189584&#45;&gt;139800168187856+</title>\n<path fill=\"none\" stroke=\"#000000\" d=\"M366.1646,-31.7627C375.4453,-33.7917 384.7588,-35.8278 393.266,-37.6877\"/>\n<polygon fill=\"#000000\" stroke=\"#000000\" points=\"392.6699,-41.14 403.1867,-39.8566 394.165,-34.3015 392.6699,-41.14\"/>\n</g>\n<!-- 139800168187856 -->\n<g id=\"node5\" class=\"node\">\n<title>139800168187856</title>\n<polygon fill=\"none\" stroke=\"#000000\" points=\"492,-27.5 492,-63.5 606,-63.5 606,-27.5 492,-27.5\"/>\n<text text-anchor=\"middle\" x=\"503.5\" y=\"-41.8\" font-family=\"Times,serif\" font-size=\"14.00\" fill=\"#000000\">e</text>\n<polyline fill=\"none\" stroke=\"#000000\" points=\"515,-27.5 515,-63.5 \"/>\n<text text-anchor=\"middle\" x=\"560.5\" y=\"-41.8\" font-family=\"Times,serif\" font-size=\"14.00\" fill=\"#000000\">valor 4.0000</text>\n</g>\n<!-- 139800168187856+&#45;&gt;139800168187856 -->\n<g id=\"edge2\" class=\"edge\">\n<title>139800168187856+&#45;&gt;139800168187856</title>\n<path fill=\"none\" stroke=\"#000000\" d=\"M456.2299,-45.5C463.9671,-45.5 472.7532,-45.5 481.7601,-45.5\"/>\n<polygon fill=\"#000000\" stroke=\"#000000\" points=\"481.979,-49.0001 491.979,-45.5 481.9789,-42.0001 481.979,-49.0001\"/>\n</g>\n<!-- 139800168189904 -->\n<g id=\"node7\" class=\"node\">\n<title>139800168189904</title>\n<polygon fill=\"none\" stroke=\"#000000\" points=\"2.5,-28.5 2.5,-64.5 116.5,-64.5 116.5,-28.5 2.5,-28.5\"/>\n<text text-anchor=\"middle\" x=\"14\" y=\"-42.8\" font-family=\"Times,serif\" font-size=\"14.00\" fill=\"#000000\">a</text>\n<polyline fill=\"none\" stroke=\"#000000\" points=\"25.5,-28.5 25.5,-64.5 \"/>\n<text text-anchor=\"middle\" x=\"71\" y=\"-42.8\" font-family=\"Times,serif\" font-size=\"14.00\" fill=\"#000000\">valor 2.0000</text>\n</g>\n<!-- 139800168189904&#45;&gt;139800168187536* -->\n<g id=\"edge5\" class=\"edge\">\n<title>139800168189904&#45;&gt;139800168187536*</title>\n<path fill=\"none\" stroke=\"#000000\" d=\"M116.8047,-59.1304C126.8485,-61.3442 137.0345,-63.5892 146.2761,-65.6262\"/>\n<polygon fill=\"#000000\" stroke=\"#000000\" points=\"145.7322,-69.0902 156.2512,-67.8247 147.2389,-62.2543 145.7322,-69.0902\"/>\n</g>\n</g>\n</svg>\n"
          },
          "metadata": {},
          "execution_count": 105
        }
      ]
    },
    {
      "cell_type": "markdown",
      "source": [
        "Ahora, supongamos que, a través de los valores $a$ o $b$, queremos influir en el valor de $e$ para llevarlo a 0. ¿Cómo podríamos hacerlo? Con fuerza bruta, podríamos aumentar $a$ (ojo: si lo disminuyéramos, aumentaríamos el valor de $e$, puesto que $a$ está siendo multiplicada por un valor negativo: $b = -3$) por un valor pequeño y hacer pruebas hasta conseguir 0."
      ],
      "metadata": {
        "id": "uxMxWQL2mK-1"
      }
    },
    {
      "cell_type": "code",
      "source": [
        "aumento = 0.001\n",
        "a = Numero(2.0, etiqueta='a')\n",
        "a += aumento\n",
        "b = Numero(-3.0, etiqueta='b')\n",
        "c = Numero(10.0, etiqueta='c')\n",
        "d = a*b; d.etiqueta='d'\n",
        "e = d+c; e.etiqueta='e'\n",
        "\n",
        "e"
      ],
      "metadata": {
        "colab": {
          "base_uri": "https://localhost:8080/"
        },
        "id": "_CWUL4WMm34f",
        "outputId": "e8410c94-0f83-43e3-e5fb-8f5f90ce2377"
      },
      "execution_count": 111,
      "outputs": [
        {
          "output_type": "execute_result",
          "data": {
            "text/plain": [
              "Valor=3.997"
            ]
          },
          "metadata": {},
          "execution_count": 111
        }
      ]
    },
    {
      "cell_type": "markdown",
      "source": [
        "Hemos conseguido disminuir el valor de $e$, pero nuestro método no parece eficiente. Si pudiéramos alterar $b$ y $a$ al mismo tiempo, en la dirección correcta y en la magnitud adecuada, nuestro método mejoraría. "
      ],
      "metadata": {
        "id": "zf1TwEs_m3D5"
      }
    }
  ]
}