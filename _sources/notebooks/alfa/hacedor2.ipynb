{
  "nbformat": 4,
  "nbformat_minor": 0,
  "metadata": {
    "colab": {
      "provenance": [],
      "collapsed_sections": []
    },
    "kernelspec": {
      "name": "python3",
      "display_name": "Python 3"
    },
    "language_info": {
      "name": "python"
    }
  },
  "cells": [
    {
      "cell_type": "markdown",
      "source": [
        "# Elementos de procesamiento de lenguajes naturales, parte II\n",
        "\n",
        "Siguiendo nuestra lección anterior, optimizaremos nuestro modelo de red neuronal para crear nombres. Ahora, lo haremos en el estilo del *paper* [Bengio et. al, 2003](https://www.jmlr.org/papers/volume3/bengio03a/bengio03a.pdf)."
      ],
      "metadata": {
        "id": "mWGJJFnQhflL"
      }
    },
    {
      "cell_type": "code",
      "execution_count": 286,
      "metadata": {
        "id": "20vcSVe-RXia"
      },
      "outputs": [],
      "source": [
        "import torch\n",
        "import torch.nn.functional as F\n",
        "from torch import nn\n",
        "import numpy as np\n",
        "import matplotlib.pyplot as plt\n",
        "import os\n",
        "import requests\n",
        "from pathlib import Path"
      ]
    },
    {
      "cell_type": "code",
      "source": [
        "path = Path('data/')\n",
        "if not path.is_dir():\n",
        "  path.mkdir(parents=True, exist_ok=True)\n",
        "\n",
        "with open(path / 'nombres.txt', 'wb') as f:\n",
        "  request = requests.get('https://github.com/DanteNoguez/CalculusRatiocinator/raw/main/data/nombres.txt')\n",
        "  f.write(request.content)"
      ],
      "metadata": {
        "id": "2wiy1BkyVoK6"
      },
      "execution_count": 287,
      "outputs": []
    },
    {
      "cell_type": "code",
      "source": [
        "nombres = open('data/nombres.txt', 'r').read().splitlines()\n",
        "nombres[:8]"
      ],
      "metadata": {
        "colab": {
          "base_uri": "https://localhost:8080/"
        },
        "id": "I_nJ3lXeWVII",
        "outputId": "e644144c-8e42-4ce4-c026-054f43f84668"
      },
      "execution_count": 288,
      "outputs": [
        {
          "output_type": "execute_result",
          "data": {
            "text/plain": [
              "['maria', 'rosa', 'jose', 'carmen', 'ana', 'juana', 'antonio', 'elena']"
            ]
          },
          "metadata": {},
          "execution_count": 288
        }
      ]
    },
    {
      "cell_type": "code",
      "source": [
        "len(nombres)"
      ],
      "metadata": {
        "colab": {
          "base_uri": "https://localhost:8080/"
        },
        "id": "okwXbLowXOQl",
        "outputId": "9d63074e-d763-43cf-8573-b17d4b9bdb67"
      },
      "execution_count": 289,
      "outputs": [
        {
          "output_type": "execute_result",
          "data": {
            "text/plain": [
              "21029"
            ]
          },
          "metadata": {},
          "execution_count": 289
        }
      ]
    },
    {
      "cell_type": "code",
      "source": [
        "V = sorted(set(''.join(nombres)))\n",
        "paf = {p:f+1 for f, p in enumerate(V)}\n",
        "paf['.'] = 0\n",
        "fap = {f:p for p,f in paf.items()}\n",
        "print(fap)"
      ],
      "metadata": {
        "colab": {
          "base_uri": "https://localhost:8080/"
        },
        "id": "FOuM5vdCXkVd",
        "outputId": "34adb3ca-d5ab-4714-e0d0-bd7cf79a8d27"
      },
      "execution_count": 290,
      "outputs": [
        {
          "output_type": "stream",
          "name": "stdout",
          "text": [
            "{1: 'a', 2: 'b', 3: 'c', 4: 'd', 5: 'e', 6: 'f', 7: 'g', 8: 'h', 9: 'i', 10: 'j', 11: 'k', 12: 'l', 13: 'm', 14: 'n', 15: 'o', 16: 'p', 17: 'q', 18: 'r', 19: 's', 20: 't', 21: 'u', 22: 'v', 23: 'w', 24: 'x', 25: 'y', 26: 'z', 0: '.'}\n"
          ]
        }
      ]
    },
    {
      "cell_type": "markdown",
      "source": [
        "### Un modelo neuronal probabilístico de lenguaje\n",
        "\n",
        "Primero, comenzaremos dividiendo nuestros datos en «bloques». Por ejemplo, en nuestro modelo de bigramas, el bloque contenía un solo carácter, puesto que realizábamos la predicción a partir de una letra; pero podemos aumentar el «contexto» de nuestras predicciones para involucrar más letras al momento de predecir la siguiente. Veamos, por ejemplo, cómo luciría nuestro tratamiento de los datos si hiciéramos bloques de tres caracteres para predecir el siguiente:"
      ],
      "metadata": {
        "id": "n2O-rwNLp0YM"
      }
    },
    {
      "cell_type": "code",
      "source": [
        "def construir_dataset(nombres):\n",
        "  block_size = 3 # longitud del contexto\n",
        "  X, Y = [], []\n",
        "  for n in nombres:\n",
        "    #print(f'nombre: {n}')\n",
        "    contexto = [0] * block_size\n",
        "    for c in n + '.':\n",
        "      ix = paf[c]\n",
        "      X.append(contexto)\n",
        "      Y.append(ix)\n",
        "      #print(''.join(fap[i] for i in contexto), '----> ', fap[ix])\n",
        "      contexto = contexto[1:] + [ix]\n",
        "  \n",
        "  X = torch.tensor(X) # contexto\n",
        "  Y = torch.tensor(Y) # objetivo\n",
        "  return X, Y"
      ],
      "metadata": {
        "id": "9N7EnXZTZgco"
      },
      "execution_count": 291,
      "outputs": []
    },
    {
      "cell_type": "markdown",
      "source": [
        "```{margin}\n",
        "“The training set is a sequence $w_1 · · · w_T$ of words $w_t \\in V$, where the vocabulary $V$ is a large but finite set.”\n",
        "```"
      ],
      "metadata": {
        "id": "eH9gpAd8DT69"
      }
    },
    {
      "cell_type": "code",
      "source": [
        "construir_dataset(nombres[:3])"
      ],
      "metadata": {
        "colab": {
          "base_uri": "https://localhost:8080/"
        },
        "id": "q-tv_YsjwIfh",
        "outputId": "99a8c5e9-444b-40be-b3d9-e5fae9f15ced"
      },
      "execution_count": null,
      "outputs": [
        {
          "output_type": "stream",
          "name": "stdout",
          "text": [
            "nombre: maria\n",
            "... ---->  m\n",
            "..m ---->  a\n",
            ".ma ---->  r\n",
            "mar ---->  i\n",
            "ari ---->  a\n",
            "ria ---->  .\n",
            "nombre: rosa\n",
            "... ---->  r\n",
            "..r ---->  o\n",
            ".ro ---->  s\n",
            "ros ---->  a\n",
            "osa ---->  .\n",
            "nombre: jose\n",
            "... ---->  j\n",
            "..j ---->  o\n",
            ".jo ---->  s\n",
            "jos ---->  e\n",
            "ose ---->  .\n"
          ]
        },
        {
          "output_type": "execute_result",
          "data": {
            "text/plain": [
              "(tensor([[ 0,  0,  0],\n",
              "         [ 0,  0, 13],\n",
              "         [ 0, 13,  1],\n",
              "         [13,  1, 18],\n",
              "         [ 1, 18,  9],\n",
              "         [18,  9,  1],\n",
              "         [ 0,  0,  0],\n",
              "         [ 0,  0, 18],\n",
              "         [ 0, 18, 15],\n",
              "         [18, 15, 19],\n",
              "         [15, 19,  1],\n",
              "         [ 0,  0,  0],\n",
              "         [ 0,  0, 10],\n",
              "         [ 0, 10, 15],\n",
              "         [10, 15, 19],\n",
              "         [15, 19,  5]]),\n",
              " tensor([13,  1, 18,  9,  1,  0, 18, 15, 19,  1,  0, 10, 15, 19,  5,  0]))"
            ]
          },
          "metadata": {},
          "execution_count": 18
        }
      ]
    },
    {
      "cell_type": "markdown",
      "source": [
        "Nuestra intuición detrás de esta aproximación es que el lenguaje funciona mejor con contexto: así como el sentido de un concepto se entiende mejor en contexto, también los caracteres se pueden predecir más razonablemente dado un contexto más amplio. \n",
        "\n",
        "Similar a como habíamos hecho anteriormente, construimos una matriz `X` para contener el contexto como entrada y un vector `Y` que contiene el objetivo (es decir, carácter) que debe seguir a cada respectivo contexto. Como se puede apreciar, solamente estamos construyendo `X` e `Y` con sus respectivos índices del vocabulario.\n",
        "\n",
        "Dado que solo tomamos 3 nombres como ejemplo, nuestros datos únicamente contienen 16 contextos o *inputs* y 16 objetivos o *outputs*:"
      ],
      "metadata": {
        "id": "dO_nn97fssxp"
      }
    },
    {
      "cell_type": "code",
      "source": [
        "X, Y = construir_dataset(nombres[:3])\n",
        "X.shape, Y.shape"
      ],
      "metadata": {
        "colab": {
          "base_uri": "https://localhost:8080/"
        },
        "id": "UnQbjfrAvkdi",
        "outputId": "71f74b62-77a0-4efe-a8dc-4c25d272b68d"
      },
      "execution_count": 292,
      "outputs": [
        {
          "output_type": "execute_result",
          "data": {
            "text/plain": [
              "(torch.Size([16, 3]), torch.Size([16]))"
            ]
          },
          "metadata": {},
          "execution_count": 292
        }
      ]
    },
    {
      "cell_type": "markdown",
      "source": [
        "Ahora estamos listos para hacer el *embedding*. Mientras que en el *paper* los datos se incrustan en una tabla de consulta de 30 dimensiones (o *features*) para un vocabulario de 17,000 palabras, nosotros —que únicamente tenemos un vocabulario de 27 caracteres— podemos aproximarnos a la incrustación con algo más pequeño, como una incrustación de dos dimensiones ($m = 2$)."
      ],
      "metadata": {
        "id": "0mwDZ-E5wpGu"
      }
    },
    {
      "cell_type": "code",
      "source": [
        "C = torch.randn((27, 2)) # tabla de consulta\n",
        "C"
      ],
      "metadata": {
        "colab": {
          "base_uri": "https://localhost:8080/"
        },
        "id": "tGlTifYhzqv7",
        "outputId": "d83d47d5-b28d-481a-b689-dadfc4c44d95"
      },
      "execution_count": 293,
      "outputs": [
        {
          "output_type": "execute_result",
          "data": {
            "text/plain": [
              "tensor([[ 1.1950, -1.6664],\n",
              "        [ 1.0195, -0.4103],\n",
              "        [-0.2143,  1.6073],\n",
              "        [ 1.3569,  1.3905],\n",
              "        [ 0.7943, -0.9118],\n",
              "        [ 0.4180,  0.3789],\n",
              "        [-1.1457,  0.4822],\n",
              "        [-0.5390, -1.8550],\n",
              "        [ 0.1015,  1.0336],\n",
              "        [ 0.1822,  1.7465],\n",
              "        [ 1.0465,  0.5108],\n",
              "        [-0.3649,  1.3349],\n",
              "        [-1.6279, -1.2823],\n",
              "        [ 0.3673, -1.0746],\n",
              "        [ 1.4023, -0.8277],\n",
              "        [ 1.2148, -0.7885],\n",
              "        [ 0.3532, -0.8317],\n",
              "        [ 0.4932,  0.6096],\n",
              "        [-1.4151,  0.7786],\n",
              "        [ 3.8467, -1.3610],\n",
              "        [ 1.9704, -0.0231],\n",
              "        [-0.5216, -0.7434],\n",
              "        [ 0.9543, -0.3574],\n",
              "        [ 1.0646, -0.6760],\n",
              "        [-0.2655, -0.1184],\n",
              "        [ 2.4975,  0.1847],\n",
              "        [-2.5699,  0.6519]])"
            ]
          },
          "metadata": {},
          "execution_count": 293
        }
      ]
    },
    {
      "cell_type": "markdown",
      "source": [
        "Como vemos, cada *token* o elemento del volcabulario se incrustará en dos dimensiones, es decir, tendrá dos números asociados. Ahora, tomaremos un atajo que nos permitirá ser más eficientes con la codificación y la primera capa de la red neuronal. Anteriormente, habíamos hecho un *one-hot encoding* para luego pasarlo por una capa `W`; pero, bien visto, estos dos pasos pueden ser omitidos porque consiguen el mismo resultado que la incrustación en nuestra tabla `C`. \n",
        "\n",
        "Primero: la codificación *one-hot*, si fuéramos a multiplicarla por `C`, anularía todos los valores de `C` al multiplicarlos por 0 y conservaría una fila correspondiente a la de la multiplicación por 1. Ergo, podemos omitir la multiplicación y hacer una indexación para asociar directamente cada carácter con cada fila que un vector *one-hot* multiplicaría por 1. Dicho esto, podemos concebir a `C` como un equivalente de la capa `W`, puesto que consiste de valores aleatorios que asignan un número a cada carácter y luego pueden optimizarse con propagación hacia atrás.\n",
        "\n",
        "Dicho esto, la indexación (*embedding*) será bastante simple:\n",
        "\n",
        "```{margin}\n",
        "“A mapping $C$ from any element $i$ of $V$ to a real vector $C(i) \\in \\mathbb{R}^m$. It represents the distributed feature vectors associated with each word in the vocabulary. In practice, C is represented by a $\\left|V\\right| \\times m$ matrix of free parameters”.\n",
        "```"
      ],
      "metadata": {
        "id": "KXQ0eItb0cAM"
      }
    },
    {
      "cell_type": "code",
      "source": [
        "emb = C[X] # embedding\n",
        "\n",
        "f'Segunda fila de C: {C[1].numpy()} | Tercer valor del tercer bloque incrustado (es decir, letra a): {emb[2][2].numpy()}'"
      ],
      "metadata": {
        "colab": {
          "base_uri": "https://localhost:8080/",
          "height": 37
        },
        "id": "AWRbIvaQAJbc",
        "outputId": "b4fda9e0-b821-41e0-cf39-a833e5b0f306"
      },
      "execution_count": 295,
      "outputs": [
        {
          "output_type": "execute_result",
          "data": {
            "text/plain": [
              "'Segunda fila de C: [ 1.0194591  -0.41030166] | Tercer valor del tercer bloque incrustado (es decir, letra a): [ 1.0194591  -0.41030166]'"
            ],
            "application/vnd.google.colaboratory.intrinsic+json": {
              "type": "string"
            }
          },
          "metadata": {},
          "execution_count": 295
        }
      ]
    },
    {
      "cell_type": "code",
      "source": [
        "print('Dimensiones del embedding: ', emb.shape) \n",
        "print('Tres bloques del embedding, correspondientes a «..m», «.ma» y «mar»:', emb[1:4])"
      ],
      "metadata": {
        "colab": {
          "base_uri": "https://localhost:8080/"
        },
        "id": "2wVT6iiNIale",
        "outputId": "6018f44f-0831-4c6b-975b-3af72e68023a"
      },
      "execution_count": 296,
      "outputs": [
        {
          "output_type": "stream",
          "name": "stdout",
          "text": [
            "Dimensiones del embedding:  torch.Size([16, 3, 2])\n",
            "Tres bloques del embedding, correspondientes a «..m», «.ma» y «mar»: tensor([[[ 1.1950, -1.6664],\n",
            "         [ 1.1950, -1.6664],\n",
            "         [ 0.3673, -1.0746]],\n",
            "\n",
            "        [[ 1.1950, -1.6664],\n",
            "         [ 0.3673, -1.0746],\n",
            "         [ 1.0195, -0.4103]],\n",
            "\n",
            "        [[ 0.3673, -1.0746],\n",
            "         [ 1.0195, -0.4103],\n",
            "         [-1.4151,  0.7786]]])\n"
          ]
        }
      ]
    },
    {
      "cell_type": "markdown",
      "source": [
        "Ahora, echemos un vistazo a la arquitectura que deseamos lograr:\n",
        "\n",
        "```{figure} ../../img/bengio2003.png\n",
        "---\n",
        "width: 70%\n",
        "name: bengio2003\n",
        "---\n",
        "Arquitectura neuronal $f\\left(i, w_{t-1}, \\cdots, w_{t-n+1}\\right)=g\\left(i, C\\left(w_{t-1}\\right), \\cdots, C\\left(w_{t-n+1}\\right)\\right)$ donde $g$ es la red neuronal y $C(i)$ es el $i$-ésimo vector de cada palabra. En nuestro caso, utilizamos bloques de tres letras (`contexto`, vector `X`) en lugar de palabras ($w$).\n",
        "```"
      ],
      "metadata": {
        "id": "Mvh5GMkLIWsk"
      }
    },
    {
      "cell_type": "markdown",
      "source": [
        "Como vemos, tenemos casi terminado el inicio y únicamente nos falta concatenar entre sí los bloques del *embedding*, puesto que juntos atravesarán la misma capa de neuronas.\n",
        "```{margin}\n",
        "“\\[...] $x$ is the word features layer activation vector, which is the concatenation of the input word features from the matrix $C$: $x = C\\left(w_{t-1}\\right), \\left(w_{t-2}\\right) \\cdots, C\\left(w_{t-n+1}\\right)$.”\n",
        "```\n",
        "Para conseguirlo, podemos utilizar distintos métodos con PyTorch:"
      ],
      "metadata": {
        "id": "Ln__Tj3MQz1p"
      }
    },
    {
      "cell_type": "code",
      "source": [
        "metodo1 = torch.cat([emb[:, 0, :], emb[:, 1, :], emb[:, 2, :]], 1)\n",
        "print(f\"\"\"Ahora, en lugar de estar contenidos en bloques de tres filas: \n",
        "{emb[0]}\n",
        "Estarían contenidos en bloques de una fila (seis columnas):\n",
        "{metodo1[0]}\"\"\")"
      ],
      "metadata": {
        "colab": {
          "base_uri": "https://localhost:8080/"
        },
        "id": "llevzXqoY8kG",
        "outputId": "1269073c-3523-4f13-c6c9-b40b8d7fc82d"
      },
      "execution_count": 297,
      "outputs": [
        {
          "output_type": "stream",
          "name": "stdout",
          "text": [
            "Ahora, en lugar de estar contenidos en bloques de tres filas: \n",
            "tensor([[ 1.1950, -1.6664],\n",
            "        [ 1.1950, -1.6664],\n",
            "        [ 1.1950, -1.6664]])\n",
            "Estarían contenidos en bloques de una fila (seis columnas):\n",
            "tensor([ 1.1950, -1.6664,  1.1950, -1.6664,  1.1950, -1.6664])\n"
          ]
        }
      ]
    },
    {
      "cell_type": "code",
      "source": [
        "metodo2 = torch.cat(torch.unbind(emb, 1), 1)\n",
        "f'Aunque también es equivalente: {metodo2[0]}'"
      ],
      "metadata": {
        "colab": {
          "base_uri": "https://localhost:8080/",
          "height": 37
        },
        "id": "NoRTuW6YaZox",
        "outputId": "b47cc42a-1797-4072-cd9f-3bb540a4f9ab"
      },
      "execution_count": 298,
      "outputs": [
        {
          "output_type": "execute_result",
          "data": {
            "text/plain": [
              "'Aunque también es equivalente: tensor([ 1.1950, -1.6664,  1.1950, -1.6664,  1.1950, -1.6664])'"
            ],
            "application/vnd.google.colaboratory.intrinsic+json": {
              "type": "string"
            }
          },
          "metadata": {},
          "execution_count": 298
        }
      ]
    },
    {
      "cell_type": "markdown",
      "source": [
        "Pero el método más eficiente[^1] y simple es `view`. Como primer argumento, colocaremos `-1` para que de esta forma PyTorch infiera el tamaño de la dimensión 0 que debería tener el tensor (sería, pues, equivalente a colocar `emb[0].shape`), y como segundo argumento `6` porque queremos que el tensor tenga las 6 columnas correspondientes a un bloque de tres *tokens*:"
      ],
      "metadata": {
        "id": "BBMagWewbQ2-"
      }
    },
    {
      "cell_type": "code",
      "source": [
        "emb.view(-1, 6)[0], emb.view(-1, 6).shape # esta es la variable x del paper"
      ],
      "metadata": {
        "colab": {
          "base_uri": "https://localhost:8080/"
        },
        "id": "PBCWB06samzE",
        "outputId": "67e761d7-b78b-4694-afc1-035b2bc5a023"
      },
      "execution_count": 299,
      "outputs": [
        {
          "output_type": "execute_result",
          "data": {
            "text/plain": [
              "(tensor([ 1.1950, -1.6664,  1.1950, -1.6664,  1.1950, -1.6664]),\n",
              " torch.Size([16, 6]))"
            ]
          },
          "metadata": {},
          "execution_count": 299
        }
      ]
    },
    {
      "cell_type": "markdown",
      "source": [
        "Ahora ya tenemos lo suficiente para definir más variables:\n",
        "\n",
        "> “Let $h$ be the number of hidden units[^2], and $m$ the number of features associated with each word. When no direct connections from word features to outputs are desired, the matrix $W$ is set to 0 . The free parameters of the model are the output biases $b$ (with $|V|$ elements), the hidden layer biases $d$ (with $h$ elements), the hidden-to-output weights $U$ (a $|V| \\times h$ matrix), the word features to output weights $W$ (a $|V| \\times(n-1) m$ matrix), the hidden layer weights $H$ (a $h \\times(n-1) m$ matrix), and the word features $C$(a $|V| \\times m$ matrix $)$: $\\theta=(b, d, W, U, H, C)$”."
      ],
      "metadata": {
        "id": "aQkp7vTli1RI"
      }
    },
    {
      "cell_type": "code",
      "source": [
        "f'Número de features (m), es decir, número de componentes de cada bloque: {C.size(dim=1)} | Número de elementos por bloque «(n-1)m»: {emb.view(-1, 6).size(dim=1)} | Elementos de |V|: {len(V)+1}'"
      ],
      "metadata": {
        "colab": {
          "base_uri": "https://localhost:8080/",
          "height": 37
        },
        "id": "wGjpIQCJTQHT",
        "outputId": "48fac1c7-c81f-4ccd-8323-cec4e7a8dcc3"
      },
      "execution_count": 320,
      "outputs": [
        {
          "output_type": "execute_result",
          "data": {
            "text/plain": [
              "'Número de features (m), es decir, número de componentes de cada bloque: 2 | Número de elementos por bloque «(n-1)m»: 6 | Elementos de |V|: 27'"
            ],
            "application/vnd.google.colaboratory.intrinsic+json": {
              "type": "string"
            }
          },
          "metadata": {},
          "execution_count": 320
        }
      ]
    },
    {
      "cell_type": "markdown",
      "source": [
        "El número de parámetros ($h$) depende del problema a tratar: generalmente, a mayor cantidad de datos, es mejor mayor cantidad de parámetros. En general, cuestiones técnicas como esta dependen de la evaluación experimental que hagamos de nuestro modelo: tras pruebas con diferentes números de parámetros, podemos elegir la que más efectiva y eficiente sea. En el *paper*, por ejemplo, probaron con 50 y 100 *hidden units*. Dado que por el momento solo estamos ejemplificando con tres nombres, $h = 50$ unidades serán suficientes.\n",
        "\n",
        "Por otra parte, fijar un valor de 0 a $W$ es igual que no utilizarla, de manera que omitiremos su definición porque no la necesitamos."
      ],
      "metadata": {
        "id": "YvTldl3y1cnp"
      }
    },
    {
      "cell_type": "code",
      "source": [
        "h = 50\n",
        "d = torch.randn((h))\n",
        "H = torch.randn((6, h))\n",
        "\n",
        "a = torch.tanh(emb.view(-1, 6) @ H + d)\n",
        "a.shape"
      ],
      "metadata": {
        "colab": {
          "base_uri": "https://localhost:8080/"
        },
        "id": "vn986Q_bRgr2",
        "outputId": "7905e35e-f4f1-42b7-dc7e-72037e798201"
      },
      "execution_count": 301,
      "outputs": [
        {
          "output_type": "execute_result",
          "data": {
            "text/plain": [
              "torch.Size([16, 50])"
            ]
          },
          "metadata": {},
          "execution_count": 301
        }
      ]
    },
    {
      "cell_type": "markdown",
      "source": [
        "Ahora, la capa oculta previa al *output*, es decir, la *hidden-to-output layer* se compone de $U$ y $b$, mientras que el resultado de esta capa son —el lector lo recordará— lo que llamamos *logits*, es decir, el resultado de la última capa de la red neuronal. Estos *logits* serán convertidos en  probabilidades y, con ello, tendremos el *output* de toda la red. "
      ],
      "metadata": {
        "id": "CiZ4E0jsVs0F"
      }
    },
    {
      "cell_type": "code",
      "source": [
        "U = torch.randn((h, 27))\n",
        "b = torch.randn(27)\n",
        "\n",
        "logits = a @ U + b\n",
        "logits.shape"
      ],
      "metadata": {
        "colab": {
          "base_uri": "https://localhost:8080/"
        },
        "id": "9ctI-j3zV2K0",
        "outputId": "87cc97c0-dc98-4d1d-c755-982d9782f021"
      },
      "execution_count": 302,
      "outputs": [
        {
          "output_type": "execute_result",
          "data": {
            "text/plain": [
              "torch.Size([16, 27])"
            ]
          },
          "metadata": {},
          "execution_count": 302
        }
      ]
    },
    {
      "cell_type": "markdown",
      "source": [
        "Ahora, para convertir esto en probabilidades, haremos lo mismo que en la lección pasada:"
      ],
      "metadata": {
        "id": "vf6uqdGxf07U"
      }
    },
    {
      "cell_type": "code",
      "source": [
        "counts = logits.exp()\n",
        "prob = counts / counts.sum(1, keepdims=True)\n",
        "prob[0].sum()"
      ],
      "metadata": {
        "colab": {
          "base_uri": "https://localhost:8080/"
        },
        "id": "2UZCsFTOf4vc",
        "outputId": "fe61659c-7598-4cea-bc95-d09121fa3d77"
      },
      "execution_count": 303,
      "outputs": [
        {
          "output_type": "execute_result",
          "data": {
            "text/plain": [
              "tensor(1.0000)"
            ]
          },
          "metadata": {},
          "execution_count": 303
        }
      ]
    },
    {
      "cell_type": "markdown",
      "source": [
        "Para crear nuestra función de pérdida, necesitamos seleccionar nuestros objetivos (con base en el índice que nos dio `Y`):"
      ],
      "metadata": {
        "id": "FOU_daFOf5_c"
      }
    },
    {
      "cell_type": "code",
      "source": [
        "prob[torch.arange(16), Y]"
      ],
      "metadata": {
        "colab": {
          "base_uri": "https://localhost:8080/"
        },
        "id": "XesO8cnLgFsB",
        "outputId": "8dec22cf-4eba-4aa2-a488-2fbad6b7c2ea"
      },
      "execution_count": 304,
      "outputs": [
        {
          "output_type": "execute_result",
          "data": {
            "text/plain": [
              "tensor([2.7201e-07, 1.4083e-02, 5.6987e-07, 3.5629e-07, 9.4318e-10, 4.6116e-08,\n",
              "        2.3890e-10, 9.0728e-04, 2.6708e-06, 2.7046e-05, 1.8723e-08, 2.6864e-07,\n",
              "        7.6290e-06, 8.3047e-06, 1.6912e-09, 1.4596e-08])"
            ]
          },
          "metadata": {},
          "execution_count": 304
        }
      ]
    },
    {
      "cell_type": "markdown",
      "source": [
        "Ejemplifiquemos: si nuestro *input* es «mar» (`emb[3]`), nuestra probabilidad debe ser alta para que el número del *embedding* que represente la letra «i» de «María» sea un *output*:"
      ],
      "metadata": {
        "id": "vAogwu906LYo"
      }
    },
    {
      "cell_type": "code",
      "source": [
        "print(f\"\"\"En un inicio, cada letra de «mar» correspondía a su índice en el vocabulario: {X[3]}\n",
        "Cuando pasamos estos índices a una matriz para que fueran representados por dos números, obtuvimos: {emb[3]}\n",
        "Al mismo tiempo, la letra «i» fue guardada como objetivo en Y, siendo su índice: {Y[3]}\n",
        "De manera que la probabilidad de nuestra red neuronal debe ser alta para el número que representa la letra «i» en el embedding: {-prob[3, Y[3]]}\"\"\")"
      ],
      "metadata": {
        "colab": {
          "base_uri": "https://localhost:8080/"
        },
        "id": "gzP5D6cn7C6-",
        "outputId": "7f8d6938-5562-4b40-d502-8bb24394500b"
      },
      "execution_count": 305,
      "outputs": [
        {
          "output_type": "stream",
          "name": "stdout",
          "text": [
            "En un inicio, cada letra de «mar» correspondía a su índice en el vocabulario: tensor([13,  1, 18])\n",
            "Cuando pasamos estos índices a una matriz para que fueran representados por dos números, obtuvimos: tensor([[ 0.3673, -1.0746],\n",
            "        [ 1.0195, -0.4103],\n",
            "        [-1.4151,  0.7786]])\n",
            "Al mismo tiempo, la letra «i» fue guardada como objetivo en Y, siendo su índice: 9\n",
            "De manera que la probabilidad de nuestra red neuronal debe ser alta para el número que representa la letra «i» en el embedding: -3.5628877981253027e-07\n"
          ]
        }
      ]
    },
    {
      "cell_type": "markdown",
      "source": [
        "Dado que no hemos entrenado la red, la probabilidad anterior es muy baja. Para poder entrenarla, formularemos la función de pérdida mediante el promedio del logaritmo natural de las probabilidades que la red neuronal asigna a cada objetivo, y finalmente hacemos de este un número positivo al multiplicarlo por $-1$, igual que en la lección pasada:"
      ],
      "metadata": {
        "id": "8_8s5YhMgrDD"
      }
    },
    {
      "cell_type": "code",
      "source": [
        "perdida = -prob[torch.arange(16), Y].log().mean()\n",
        "perdida"
      ],
      "metadata": {
        "colab": {
          "base_uri": "https://localhost:8080/"
        },
        "id": "t-V-YLiMg9Qi",
        "outputId": "d711c17f-9ba6-408c-8191-0661f1b86f43"
      },
      "execution_count": 306,
      "outputs": [
        {
          "output_type": "execute_result",
          "data": {
            "text/plain": [
              "tensor(14.5898)"
            ]
          },
          "metadata": {},
          "execution_count": 306
        }
      ]
    },
    {
      "cell_type": "markdown",
      "source": [
        "Usando PyTorch, podemos simplificar todo este proceso mediante el uso de `cross_entropy`:"
      ],
      "metadata": {
        "id": "MMDFftuZiZuJ"
      }
    },
    {
      "cell_type": "code",
      "source": [
        "F.cross_entropy(logits, Y)"
      ],
      "metadata": {
        "colab": {
          "base_uri": "https://localhost:8080/"
        },
        "id": "gHcV_mJPigMl",
        "outputId": "55c3a084-9acc-4439-b80c-6c34ee82ffcb"
      },
      "execution_count": 307,
      "outputs": [
        {
          "output_type": "execute_result",
          "data": {
            "text/plain": [
              "tensor(14.5898)"
            ]
          },
          "metadata": {},
          "execution_count": 307
        }
      ]
    },
    {
      "cell_type": "markdown",
      "source": [
        "Finalmente, agrupamos los parámetros —$\\theta$— en una variable:"
      ],
      "metadata": {
        "id": "YccvWoeSutKG"
      }
    },
    {
      "cell_type": "code",
      "source": [
        "parametros = [b, d, U, H, C]"
      ],
      "metadata": {
        "id": "SozrJQzlu6Le"
      },
      "execution_count": 308,
      "outputs": []
    },
    {
      "cell_type": "markdown",
      "source": [
        "Indicamos a PyTorch que requeriremos gradientes para el entrenamiento de nuestros parámetros:"
      ],
      "metadata": {
        "id": "5sMEdaOk9Syz"
      }
    },
    {
      "cell_type": "code",
      "source": [
        "for p in parametros:\n",
        "  p.requires_grad = True"
      ],
      "metadata": {
        "id": "zr_TdESFvm1p"
      },
      "execution_count": 309,
      "outputs": []
    },
    {
      "cell_type": "markdown",
      "source": [
        "Finalmente, podemos entrenar la red:"
      ],
      "metadata": {
        "id": "jdrFZM0m9a7P"
      }
    },
    {
      "cell_type": "code",
      "source": [
        "for i in range(100):\n",
        "  # paso hacia delante\n",
        "  emb = C[X]\n",
        "  h = torch.tanh(emb.view(-1, 6) @ H + d)\n",
        "  logits = h @ U + b\n",
        "  perdida = F.cross_entropy(logits, Y)\n",
        "  \n",
        "  # propagación hacia atrás\n",
        "  for p in parametros:\n",
        "    p.grad = None\n",
        "  perdida.backward()\n",
        "  \n",
        "  for p in parametros:\n",
        "    p.data += -0.1 * p.grad\n",
        "\n",
        "print(perdida.item())"
      ],
      "metadata": {
        "colab": {
          "base_uri": "https://localhost:8080/"
        },
        "id": "07Gi5EJpweFt",
        "outputId": "406185a2-86e6-417f-916d-c540323a7c99"
      },
      "execution_count": 310,
      "outputs": [
        {
          "output_type": "stream",
          "name": "stdout",
          "text": [
            "0.25268855690956116\n"
          ]
        }
      ]
    },
    {
      "cell_type": "markdown",
      "source": [
        "Bien, hemos conseguido un resultado decente en nuestro ejemplo. Ahora es momento de entrenar nuestra red con todos los nombres a la vez. \n",
        "\n",
        "### Optimización de modelos neuronales: conjuntos de datos, sobreajuste, tasa de aprendizaje y lotes\n",
        "\n",
        "Primero hacen falta algunos ajustes. Por una parte, evitaremos que nuestro modelo «memorice» o «sobreajuste» cada *output* correspondiente a cada *input* (a este sobreajuste se le llama *overfitting*), puesto que queremos nombres nuevos y originales y no una regurgitación de los que estamos utilizando. Para ello, se han desarrollado un número de técnicas en *deep learning*; pero de momento, utilizaremos una de las más elementales, y consiste en separar nuestros datos en tres partes: entrenamiento, validación y prueba. Entrenaremos nuestro modelo con una cantidad razonable de nombres (el 80 % de ellos), definimos nuestros parámetros —en rigor, hiperparámetros[^3]— con los datos de validación (10 % de nuestros nombres) y verificamos que el modelo sepa generalizar su aprendizaje con los datos destinados a las pruebas (último 10 % de nombres)."
      ],
      "metadata": {
        "id": "SrSZQ3lkEQLL"
      }
    },
    {
      "cell_type": "code",
      "source": [
        "import random\n",
        "random.shuffle(nombres)\n",
        "n1 = int(0.8*len(nombres))\n",
        "n2 = int(0.9*len(nombres))\n",
        "\n",
        "Xtr, Ytr = construir_dataset(nombres[:n1])\n",
        "Xdev, Ydev = construir_dataset(nombres[n1:n2])\n",
        "Xte, Yte = construir_dataset(nombres[n2:])\n",
        "X, Y = construir_dataset(nombres)\n",
        "\n",
        "X.shape, Xtr.shape, Xdev.shape, Xte.shape"
      ],
      "metadata": {
        "id": "N0zzO1IwdW5D",
        "colab": {
          "base_uri": "https://localhost:8080/"
        },
        "outputId": "534a8dc0-99c5-4357-9f7e-bb5b9141e37f"
      },
      "execution_count": 402,
      "outputs": [
        {
          "output_type": "execute_result",
          "data": {
            "text/plain": [
              "(torch.Size([165469, 3]),\n",
              " torch.Size([132418, 3]),\n",
              " torch.Size([16559, 3]),\n",
              " torch.Size([16492, 3]))"
            ]
          },
          "metadata": {},
          "execution_count": 402
        }
      ]
    },
    {
      "cell_type": "markdown",
      "source": [
        "Ahora definimos nuestros hiperparámetros, aunque esta vez utilizaremos $h = 100$:"
      ],
      "metadata": {
        "id": "HVvkgagZHBlO"
      }
    },
    {
      "cell_type": "code",
      "source": [
        "C = torch.randn(27, 2)\n",
        "emb = C[Xtr]\n",
        "h = 100\n",
        "H = torch.randn((6, h))\n",
        "d = torch.randn(h)\n",
        "\n",
        "a = torch.tanh(emb.view(-1, 6) @ H + d)\n",
        "\n",
        "U = torch.randn(h, 27)\n",
        "b = torch.randn(27)\n",
        "\n",
        "logits = a @ U + b\n",
        "\n",
        "parametros = [C, H, d, U, b]"
      ],
      "metadata": {
        "id": "I0uqOeClM0bH"
      },
      "execution_count": 409,
      "outputs": []
    },
    {
      "cell_type": "markdown",
      "source": [
        "Nuestro número total de parámetros resultantes es:"
      ],
      "metadata": {
        "id": "-7YQCEE9KIGl"
      }
    },
    {
      "cell_type": "code",
      "source": [
        "sum(p.numel() for p in parametros)"
      ],
      "metadata": {
        "colab": {
          "base_uri": "https://localhost:8080/"
        },
        "id": "MpijkcRINOUM",
        "outputId": "dc8b2199-dc89-4b76-d07a-37704e2303c6"
      },
      "execution_count": 404,
      "outputs": [
        {
          "output_type": "execute_result",
          "data": {
            "text/plain": [
              "3481"
            ]
          },
          "metadata": {},
          "execution_count": 404
        }
      ]
    },
    {
      "cell_type": "markdown",
      "source": [
        "Por otro lado, podemos acelerar el entrenamiento de la red neuronal de la siguiente forma: en cada repetición del *loop* de aprendizaje, podemos seleccionar un «lote» (*batch*) o segmento de los datos para únicamente llevar a cabo el proceso de aprendizaje en ese mismo lote, de manera que el modelo no se entrene tomando siempre en consideración todos los datos a la vez, sino datos —en este caso, nombres— aleatorios en cada iteración. Aunque esto implique sacrificar en cierta medida el desempeño de la red neuronal, sin embargo ese sacrificio se compensa con la rapidez que podemos generar a cambio.\n",
        "\n",
        "Para crear estos lotes, podemos utilizar el siguiente código, el cual generará índices correspondientes a 32 nombres aleatorios de entre aquellos que pertenezcan a nuestros datos:"
      ],
      "metadata": {
        "id": "OyC-Cw1ILP6c"
      }
    },
    {
      "cell_type": "code",
      "source": [
        "ix = torch.randint(0, X.shape[0], (32,))\n",
        "f'Tres ejemplos: {ix[:3].numpy()}'"
      ],
      "metadata": {
        "colab": {
          "base_uri": "https://localhost:8080/",
          "height": 37
        },
        "id": "8o2LeL14VhKw",
        "outputId": "74b4e7e5-2389-40ee-f38b-391f272ac2cd"
      },
      "execution_count": 391,
      "outputs": [
        {
          "output_type": "execute_result",
          "data": {
            "text/plain": [
              "'Tres ejemplos: [123401  87687  70020]'"
            ],
            "application/vnd.google.colaboratory.intrinsic+json": {
              "type": "string"
            }
          },
          "metadata": {},
          "execution_count": 391
        }
      ]
    },
    {
      "cell_type": "markdown",
      "source": [
        "Finalmente, nos falta tratar los detalles técnicos detrás de la *learning rate* («tasa de aprendizaje») del modelo. Recordemos que, cuando modificamos los parámetros en la dirección del gradiente, generalmente atenuamos al gradiente multiplicándolo por un número pequeño para así no excedernos en el ajuste, consiguiendo una pérdida cercana a 0 sin sobrepasarla.\n",
        "\n",
        "Para determinar una *learning rate* razonable, tenemos que averiguar empíricamente los «límites» de la misma:"
      ],
      "metadata": {
        "id": "lIJn4uOiKLIm"
      }
    },
    {
      "cell_type": "code",
      "source": [
        "for p in parametros:\n",
        "  p.requires_grad = True"
      ],
      "metadata": {
        "id": "srB_AEmtMTQB"
      },
      "execution_count": 410,
      "outputs": []
    },
    {
      "cell_type": "code",
      "source": [
        "for _ in range(10):\n",
        "  #minibatch («minilote»)\n",
        "  ix = torch.randint(0, Xdev.shape[0], (32,))\n",
        "\n",
        "  # propagación hacia delante\n",
        "  emb = C[Xdev[ix]]\n",
        "  a = torch.tanh(emb.view(-1, 6) @ H + d)\n",
        "  logits = a @ U + b\n",
        "  perdida = F.cross_entropy(logits, Ydev[ix])\n",
        "  print(perdida.item())\n",
        "  \n",
        "  # propagación hacia atrás\n",
        "  for p in parametros:\n",
        "    p.grad = None\n",
        "  perdida.backward()\n",
        "\n",
        "  # actualización\n",
        "  lr = -1 # intentaremos obtener el límite superior\n",
        "  for p in parametros:\n",
        "    p.data += lr * p.grad"
      ],
      "metadata": {
        "colab": {
          "base_uri": "https://localhost:8080/"
        },
        "id": "ur8J9v32ZGRO",
        "outputId": "f4be0970-a36a-4116-febb-778f0ccca090"
      },
      "execution_count": 393,
      "outputs": [
        {
          "output_type": "stream",
          "name": "stdout",
          "text": [
            "22.080612182617188\n",
            "18.37497329711914\n",
            "15.564812660217285\n",
            "15.621807098388672\n",
            "17.045852661132812\n",
            "18.507583618164062\n",
            "21.449209213256836\n",
            "21.56830596923828\n",
            "24.576093673706055\n",
            "15.103194236755371\n"
          ]
        }
      ]
    },
    {
      "cell_type": "markdown",
      "source": [
        "Como vemos, la pérdida disminuye con una tasa de aprendizaje de -1; pero al mismo tiempo indica que esta tasa es muy alta porque no es nada estable y se balancea hacia arriba y abajo. Este puede ser nuestro límite superior, busquemos el inferior:"
      ],
      "metadata": {
        "id": "VxEDRaeSCuy4"
      }
    },
    {
      "cell_type": "code",
      "source": [
        "for _ in range(10):\n",
        "  #minibatch («minilote»)\n",
        "  ix = torch.randint(0, Xdev.shape[0], (32,))\n",
        "\n",
        "  # propagación hacia delante\n",
        "  emb = C[Xdev[ix]]\n",
        "  a = torch.tanh(emb.view(-1, 6) @ H + d)\n",
        "  logits = a @ U + b\n",
        "  perdida = F.cross_entropy(logits, Ydev[ix])\n",
        "  print(perdida.item())\n",
        "  \n",
        "  # propagación hacia atrás\n",
        "  for p in parametros:\n",
        "    p.grad = None\n",
        "  perdida.backward()\n",
        "\n",
        "  # actualización\n",
        "  lr = -0.001 # intentaremos obtener el límite inferior\n",
        "  for p in parametros:\n",
        "    p.data += lr * p.grad"
      ],
      "metadata": {
        "colab": {
          "base_uri": "https://localhost:8080/"
        },
        "id": "Dmlss8gdDGde",
        "outputId": "2adc40ed-146f-4357-c612-961d1384db4a"
      },
      "execution_count": 394,
      "outputs": [
        {
          "output_type": "stream",
          "name": "stdout",
          "text": [
            "16.730724334716797\n",
            "19.113916397094727\n",
            "16.265771865844727\n",
            "16.343080520629883\n",
            "19.638389587402344\n",
            "17.050613403320312\n",
            "16.68904685974121\n",
            "23.818950653076172\n",
            "16.777978897094727\n",
            "20.498703002929688\n"
          ]
        }
      ]
    },
    {
      "cell_type": "markdown",
      "source": [
        "De igual forma, esta pérdida es subóptima porque es demasiado lenta para eficientar el aprendizaje, de manera que este puede ser nuestro límite inferior. Ahora, haremos una prueba de entrenamiento con tasas de aprendizaje que se encuentren dentro de estos límites; pero, para que nuestra tasa de aprendizaje no cambie lineal sino exponencialmente, podemos utilizar nuestros números como potencias de 10. Es decir, en teoría, nuestras tasas de aprendizaje serían mil números del 0.001 al 1:"
      ],
      "metadata": {
        "id": "q1-XFmj8D-Rh"
      }
    },
    {
      "cell_type": "code",
      "source": [
        "lr = torch.linspace(0.001, 1, 1000)\n",
        "\n",
        "plt.plot(lr.numpy());"
      ],
      "metadata": {
        "colab": {
          "base_uri": "https://localhost:8080/",
          "height": 265
        },
        "id": "TFjsRBJDFHN9",
        "outputId": "93f0f1e9-5cd6-4201-86f5-234832a4f0ed"
      },
      "execution_count": 395,
      "outputs": [
        {
          "output_type": "display_data",
          "data": {
            "text/plain": [
              "<Figure size 432x288 with 1 Axes>"
            ],
            "image/png": "[encoded data removed]"
          },
          "metadata": {
            "needs_background": "light"
          }
        }
      ]
    },
    {
      "cell_type": "markdown",
      "source": [
        "Pero $10^{-3} = 0.001$ y $10{^0} = 1$, de manera que utilizar este truco nos ayuda a obtener un cambio exponencial en nuestras tasas de aprendizaje. Ahora, nuestros 1000 números serán exponentes de 10 y lucirán así:"
      ],
      "metadata": {
        "id": "e4RzxflMGRlv"
      }
    },
    {
      "cell_type": "code",
      "source": [
        "lre = torch.linspace(-3, 0, 1000)\n",
        "lrs = 10**lre\n",
        "\n",
        "plt.plot(lrs.numpy());"
      ],
      "metadata": {
        "id": "BBz2E7b9R019",
        "colab": {
          "base_uri": "https://localhost:8080/",
          "height": 265
        },
        "outputId": "78a917e1-8925-4b1f-da75-837c6c5bdb6e"
      },
      "execution_count": 396,
      "outputs": [
        {
          "output_type": "display_data",
          "data": {
            "text/plain": [
              "<Figure size 432x288 with 1 Axes>"
            ],
            "image/png": "[encoded data removed]"
          },
          "metadata": {
            "needs_background": "light"
          }
        }
      ]
    },
    {
      "cell_type": "markdown",
      "source": [
        "Ahora, para elegir el número correcto en este rango, podemos registrar nuestras pérdidas correspondientes a cada tasa durante el entrenamiento:"
      ],
      "metadata": {
        "id": "hiOSxckvHGGr"
      }
    },
    {
      "cell_type": "code",
      "source": [
        "lr_i = []\n",
        "perdidas_i = []\n",
        "\n",
        "for i in range(1000):\n",
        "  #minibatch («minilote»)\n",
        "  ix = torch.randint(0, Xdev.shape[0], (32,))\n",
        "\n",
        "  # propagación hacia delante\n",
        "  emb = C[Xdev[ix]]\n",
        "  a = torch.tanh(emb.view(-1, 6) @ H + d)\n",
        "  logits = a @ U + b\n",
        "  perdida = F.cross_entropy(logits, Ydev[ix])\n",
        "  #print(perdida.item())\n",
        "  \n",
        "  # propagación hacia atrás\n",
        "  for p in parametros:\n",
        "    p.grad = None\n",
        "  perdida.backward()\n",
        "\n",
        "  # actualización\n",
        "  lr = lrs[i] # intentaremos obtener el límite inferior\n",
        "  for p in parametros:\n",
        "    p.data += -lr * p.grad\n",
        "\n",
        "  # registrar estadísticas\n",
        "  lr_i.append(lre[i])\n",
        "  perdidas_i.append(perdida.item())"
      ],
      "metadata": {
        "id": "FZvwJ9N_KNN0"
      },
      "execution_count": 406,
      "outputs": []
    },
    {
      "cell_type": "code",
      "source": [
        "plt.plot(lr_i, perdidas_i);"
      ],
      "metadata": {
        "colab": {
          "base_uri": "https://localhost:8080/",
          "height": 265
        },
        "id": "NG28-zOEKOAS",
        "outputId": "4ff177dc-1a85-4927-ebf7-cac0e22f8baa"
      },
      "execution_count": 407,
      "outputs": [
        {
          "output_type": "display_data",
          "data": {
            "text/plain": [
              "<Figure size 432x288 with 1 Axes>"
            ],
            "image/png": "[encoded data removed]"
          },
          "metadata": {
            "needs_background": "light"
          }
        }
      ]
    },
    {
      "cell_type": "markdown",
      "source": [
        "En el gráfico podemos apreciar que nuestra tasa de aprendizaje óptima —es decir, la que mejor minimiza la pérdida— se encuentra alrededor de $10^{-1}$ (es decir, $0.1$), de manera que podemos utilizar esta tasa con mayor confianza para entrenar todos nuestros parámetros con los datos de `Xtr`."
      ],
      "metadata": {
        "id": "WfGI0APWPD1F"
      }
    },
    {
      "cell_type": "code",
      "source": [
        "paso_i = []\n",
        "perdidas_i = []\n",
        "\n",
        "for i in range(1000):\n",
        "  #minibatch («minilote»)\n",
        "  ix = torch.randint(0, Xtr.shape[0], (32,))\n",
        "\n",
        "  # propagación hacia delante\n",
        "  emb = C[Xtr[ix]]\n",
        "  a = torch.tanh(emb.view(-1, 6) @ H + d)\n",
        "  logits = a @ U + b\n",
        "  perdida = F.cross_entropy(logits, Ytr[ix])\n",
        "  \n",
        "  # propagación hacia atrás\n",
        "  for p in parametros:\n",
        "    p.grad = None\n",
        "  perdida.backward()\n",
        "\n",
        "  # actualización\n",
        "  lr = 0.1 # nueva tasa\n",
        "  for p in parametros:\n",
        "    p.data += -lr * p.grad\n",
        "\n",
        "  # registrar estadísticas\n",
        "  paso_i.append(i)\n",
        "  perdidas_i.append(perdida.item())"
      ],
      "metadata": {
        "id": "qUhPiHU9SIDF"
      },
      "execution_count": 411,
      "outputs": []
    },
    {
      "cell_type": "code",
      "source": [
        "plt.plot(paso_i, perdidas_i);"
      ],
      "metadata": {
        "id": "GW2pHmdef7qi",
        "colab": {
          "base_uri": "https://localhost:8080/",
          "height": 265
        },
        "outputId": "cb4b2fdc-dc7a-4c69-dfb6-fc6c99cba399"
      },
      "execution_count": 413,
      "outputs": [
        {
          "output_type": "display_data",
          "data": {
            "text/plain": [
              "<Figure size 432x288 with 1 Axes>"
            ],
            "image/png": "[encoded data removed]"
          },
          "metadata": {
            "needs_background": "light"
          }
        }
      ]
    },
    {
      "cell_type": "markdown",
      "source": [
        "Debido a que entrenamos nuestros parámetros en lotes, la función de pérdida tiene algo de ruido cuando se acerca a su valor mínimo. Comprobemos ahora la pérdida que tenemos en `Xdev`:"
      ],
      "metadata": {
        "id": "gTxEGBDQSwo7"
      }
    },
    {
      "cell_type": "code",
      "source": [
        "emb = C[Xdev]\n",
        "a = torch.tanh(emb.view(-1, 6) @ H + d)\n",
        "logits = a @ U + b\n",
        "perdida = F.cross_entropy(logits, Ydev)\n",
        "perdida"
      ],
      "metadata": {
        "colab": {
          "base_uri": "https://localhost:8080/"
        },
        "id": "SlcEcHzPSu9q",
        "outputId": "97eac106-8da5-4a67-eb1f-84541b52068c"
      },
      "execution_count": 414,
      "outputs": [
        {
          "output_type": "execute_result",
          "data": {
            "text/plain": [
              "tensor(2.4327, grad_fn=<NllLossBackward0>)"
            ]
          },
          "metadata": {},
          "execution_count": 414
        }
      ]
    },
    {
      "cell_type": "markdown",
      "source": [
        "Finalmente, podemos visualizar cómo luce nuestro *embedding* ahora que ha sido entrenado:"
      ],
      "metadata": {
        "id": "o_NQDww9TZ1c"
      }
    },
    {
      "cell_type": "code",
      "source": [
        "plt.figure(figsize=(8,8))\n",
        "plt.scatter(C[:,0].data, C[:,1].data, s=200)\n",
        "for i in range(C.shape[0]):\n",
        "  plt.text(C[i,0].item(), C[i,1].item(), fap[i], ha='center', va='center', color='white')\n",
        "plt.grid('minor');"
      ],
      "metadata": {
        "colab": {
          "base_uri": "https://localhost:8080/",
          "height": 483
        },
        "id": "8EANrk6BTrlM",
        "outputId": "7d03f486-7325-4402-cd02-6405698f38d6"
      },
      "execution_count": 428,
      "outputs": [
        {
          "output_type": "display_data",
          "data": {
            "text/plain": [
              "<Figure size 576x576 with 1 Axes>"
            ],
            "image/png": "[encoded data removed]"
          },
          "metadata": {
            "needs_background": "light"
          }
        }
      ]
    },
    {
      "cell_type": "markdown",
      "source": [
        "Como vemos, las vocales —junto con la «y», aunque sin la «i»— aparecen agrupadas entre sí: esto quiere decir que nuestro modelo las interpreta como letras similares. Lo mismo aplica para las consonantes.\n",
        "\n",
        "Hasta el momento, no hemos conseguido mejorar nuestro modelo anterior. En la práctica, la optimización de modelos se hace con un número de pruebas que contengan hiperparámetros distintos. Podemos, por ejemplo, aumentar nuestros parámetros, nuestro *embedding*, nuestras capas, probar nuevas tasas de aprendizaje, entrenar el modelo por más tiempo, etcétera. Intentemos hacer un poco de todo para finalizar esta lección:\n",
        "\n",
        "### Ensayo de un modelo con hiperparámetros óptimos"
      ],
      "metadata": {
        "id": "PTpjDaqmVrBB"
      }
    },
    {
      "cell_type": "code",
      "source": [
        "random.shuffle(nombres)\n",
        "n1 = int(0.8*len(nombres))\n",
        "n2 = int(0.9*len(nombres))\n",
        "\n",
        "Xtr, Ytr = construir_dataset(nombres[:n1])\n",
        "Xdev, Ydev = construir_dataset(nombres[n1:n2])\n",
        "Xte, Yte = construir_dataset(nombres[n2:])\n",
        "X, Y = construir_dataset(nombres)\n",
        "\n",
        "C = torch.randn(27, 10) # un embedding de 10 dimensiones\n",
        "h = 200 # aumentamos las unidades ocultas a 200\n",
        "H = torch.randn((30, h)) # recordemos: 10 * 3 = 30\n",
        "d = torch.randn(h)\n",
        "U = torch.randn(h, 27)\n",
        "b = torch.randn(27)\n",
        "\n",
        "parametros = [C, H, d, U, b]"
      ],
      "metadata": {
        "id": "mJea2Woegj5H"
      },
      "execution_count": 445,
      "outputs": []
    },
    {
      "cell_type": "code",
      "source": [
        "for p in parametros:\n",
        "  p.requires_grad = True\n",
        "\n",
        "for i in range(15000):\n",
        "  #minibatch («minilote»)\n",
        "  ix = torch.randint(0, Xtr.shape[0], (32,))\n",
        "\n",
        "  # propagación hacia delante\n",
        "  emb = C[Xtr[ix]]\n",
        "  a = torch.tanh(emb.view(-1, 30) @ H + d)\n",
        "  logits = a @ U + b\n",
        "  perdida = F.cross_entropy(logits, Ytr[ix])\n",
        "  \n",
        "  # propagación hacia atrás\n",
        "  for p in parametros:\n",
        "    p.grad = None\n",
        "  perdida.backward()\n",
        "\n",
        "  # actualización\n",
        "  lr = 0.1 if i < 14000 else 0.01 # nuestra tasa de aprendizaje disminuirá hacia el final del entrenamiento\n",
        "  for p in parametros:\n",
        "    p.data += -lr * p.grad\n",
        "\n",
        "print(perdida.item())"
      ],
      "metadata": {
        "colab": {
          "base_uri": "https://localhost:8080/"
        },
        "id": "WcrQYS_Lg-m-",
        "outputId": "189c674b-fad4-4ca1-d3d6-caf7e85129fa"
      },
      "execution_count": 446,
      "outputs": [
        {
          "output_type": "stream",
          "name": "stdout",
          "text": [
            "1.7781141996383667\n"
          ]
        }
      ]
    },
    {
      "cell_type": "markdown",
      "source": [
        "Finalmente hemos superado al modelo anterior con fuerza bruta. Aunque podríamos seguir ajustándolo, me parece que esto será suficiente para obtener mejores muestras de nombres. Revisemos la pérdida de nuestros `Xdev` y `Xte` para cerciorarnos de que nuestro modelo haya generalizado sus aprendizajes, en vez de memorizarlos:"
      ],
      "metadata": {
        "id": "vFEC-VhliHVW"
      }
    },
    {
      "cell_type": "code",
      "source": [
        "emb = C[Xdev]\n",
        "a = torch.tanh(emb.view(-1, 30) @ H + d)\n",
        "logits = a @ U + b\n",
        "perdida = F.cross_entropy(logits, Ydev)\n",
        "perdida"
      ],
      "metadata": {
        "id": "VJcK54eTPpTo",
        "colab": {
          "base_uri": "https://localhost:8080/"
        },
        "outputId": "70af0d4e-cab5-4cce-a2f1-31dcfa00656e"
      },
      "execution_count": 448,
      "outputs": [
        {
          "output_type": "execute_result",
          "data": {
            "text/plain": [
              "tensor(1.9739, grad_fn=<NllLossBackward0>)"
            ]
          },
          "metadata": {},
          "execution_count": 448
        }
      ]
    },
    {
      "cell_type": "code",
      "source": [
        "emb = C[Xte]\n",
        "a = torch.tanh(emb.view(-1, 30) @ H + d)\n",
        "logits = a @ U + b\n",
        "perdida = F.cross_entropy(logits, Yte)\n",
        "perdida"
      ],
      "metadata": {
        "colab": {
          "base_uri": "https://localhost:8080/"
        },
        "id": "B6qHnZwVkDqn",
        "outputId": "f68ffdc3-23c7-4f48-b00a-c13c4e102b33"
      },
      "execution_count": 449,
      "outputs": [
        {
          "output_type": "execute_result",
          "data": {
            "text/plain": [
              "tensor(1.9782, grad_fn=<NllLossBackward0>)"
            ]
          },
          "metadata": {},
          "execution_count": 449
        }
      ]
    },
    {
      "cell_type": "markdown",
      "source": [
        "Tenemos también pérdidas razonables para ambos conjuntos de datos. Conforme la pérdida del entrenamiento difiera más de las otras dos (`Xdev` y `Xte`), esto indicaría que nuestros parámetros están memorizando los datos, no generalizándolos. En ese sentido, debemos ser cuidados de no sobreentrenar, ni tampoco sobredimensionar el modelo, puesto que si nos excedemos, terminará memorizando todos nuestros datos.\n",
        "\n",
        "Para finalizar, obtengamos algunas muestras de nombres generados por nuestro modelo:"
      ],
      "metadata": {
        "id": "P9gJFQCBkJcp"
      }
    },
    {
      "cell_type": "code",
      "source": [
        "block_size = 3\n",
        "for _ in range(20):\n",
        "  out = []\n",
        "  context = [0] * block_size\n",
        "  while True:\n",
        "    emb = C[torch.tensor([context])]\n",
        "    a = torch.tanh(emb.view(1, -1) @ H + d)\n",
        "    logits = a @ U + b\n",
        "    probs = F.softmax(logits, dim=1)\n",
        "    ix = torch.multinomial(probs, num_samples=1).item()\n",
        "    context = context[1:] + [ix]\n",
        "    out.append(ix)\n",
        "    if ix == 0:\n",
        "      break\n",
        "\n",
        "  print(''.join(fap[i] for i in out))"
      ],
      "metadata": {
        "id": "vS8h0tWHQLCH",
        "colab": {
          "base_uri": "https://localhost:8080/"
        },
        "outputId": "e53669c7-8d2b-4a81-e5d1-a61434fe4cc2"
      },
      "execution_count": 455,
      "outputs": [
        {
          "output_type": "stream",
          "name": "stdout",
          "text": [
            "cedelzorena.\n",
            "carixto.\n",
            "leiscasiria.\n",
            "jovino.\n",
            "renta.\n",
            "marizio.\n",
            "alfidela.\n",
            "alsa.\n",
            "paulogia.\n",
            "taw.\n",
            "migdina.\n",
            "duboa.\n",
            "secahmidio.\n",
            "sihorgel.\n",
            "floreta.\n",
            "remenicia.\n",
            "penoyda.\n",
            "filiano.\n",
            "frinda.\n",
            "geria.\n"
          ]
        }
      ]
    },
    {
      "cell_type": "markdown",
      "source": [
        "Indudablemente, estos nombres son más respetables."
      ],
      "metadata": {
        "id": "uZgbBCm9nThf"
      }
    },
    {
      "cell_type": "markdown",
      "source": [
        "[^1]: El método `view` es eficiente porque [no requiere de nuevo espacio](http://blog.ezyang.com/2019/05/pytorch-internals/) en la memoria de nuestra computadora, sino que utiliza el mismo tensor para reacomodarlo de manera distinta. Conforme nuestros programas se vuelvan más complejos, debemos procurar eficientar al máximo nuestros recursos computacionales. Para un acercamiento más general al tema, véase el [artículo de Horace He](https://horace.io/brrr_intro.html).\n",
        "\n",
        "[^2]: En *deep learning*, el término *hidden* («oculto») se utiliza para referirse a componentes de una red neuronal que no son «visibles» ni como entradas ni como salidas de la red. Se trata de entradas o salidas que se procesan internamente por la red neuronal antes de arrojar un resultado final. La *hidden unit*, en ese sentido, se refiere a cada unidad o componente de una capa oculta (*hidden layer*) en la red. Podemos entenderla como sinónimo de «nodo» o «neurona».\n",
        "\n",
        "[^3]: Se denominan «parámetros» a los números o coeficientes que la red neuronal aprende y determina durante el entrenamiento (por ejemplo, los números de los pesos y los sesgos). Por otra parte, los «hiperparámetros» son aquellos que nosotros definimos manualmente según la naturaleza de cada problema, y que optimizamos mediante pruebas con distintos valores (por ejemplo, nuestras unidades ocultas $h$)."
      ],
      "metadata": {
        "id": "rbHyRZ9gbY3P"
      }
    }
  ]
}