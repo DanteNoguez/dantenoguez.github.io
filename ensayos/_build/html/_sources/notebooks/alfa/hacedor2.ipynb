{
  "nbformat": 4,
  "nbformat_minor": 0,
  "metadata": {
    "colab": {
      "provenance": []
    },
    "kernelspec": {
      "name": "python3",
      "display_name": "Python 3"
    },
    "language_info": {
      "name": "python"
    }
  },
  "cells": [
    {
      "cell_type": "markdown",
      "source": [
        "# Elementos de PLN, o El Hacedor 2.0\n",
        "\n",
        "Siguiendo nuestra lección anterior, optimizaremos nuestro modelo de red neuronal para crear nombres. Ahora, lo haremos en el estilo del *paper* [Bengio et. al, 2003](https://www.jmlr.org/papers/volume3/bengio03a/bengio03a.pdf)."
      ],
      "metadata": {
        "id": "mWGJJFnQhflL"
      }
    },
    {
      "cell_type": "code",
      "execution_count": 1,
      "metadata": {
        "id": "20vcSVe-RXia"
      },
      "outputs": [],
      "source": [
        "import torch\n",
        "import torch.nn.functional as F\n",
        "from torch import nn\n",
        "import numpy as np\n",
        "import matplotlib.pyplot as plt\n",
        "import os\n",
        "import requests\n",
        "from pathlib import Path"
      ]
    },
    {
      "cell_type": "code",
      "source": [
        "path = Path('data/')\n",
        "if not path.is_dir():\n",
        "  path.mkdir(parents=True, exist_ok=True)\n",
        "\n",
        "with open(path / 'nombres.txt', 'wb') as f:\n",
        "  request = requests.get('https://github.com/DanteNoguez/CalculusRatiocinator/raw/main/data/nombres.txt')\n",
        "  f.write(request.content)"
      ],
      "metadata": {
        "id": "2wiy1BkyVoK6"
      },
      "execution_count": 2,
      "outputs": []
    },
    {
      "cell_type": "code",
      "source": [
        "nombres = open('data/nombres.txt', 'r').read().splitlines()\n",
        "nombres[:8]"
      ],
      "metadata": {
        "colab": {
          "base_uri": "https://localhost:8080/"
        },
        "id": "I_nJ3lXeWVII",
        "outputId": "a17b7fc9-dc0e-4465-89ff-e6e248a79d12"
      },
      "execution_count": 3,
      "outputs": [
        {
          "output_type": "execute_result",
          "data": {
            "text/plain": [
              "['maria', 'rosa', 'jose', 'carmen', 'ana', 'juana', 'antonio', 'elena']"
            ]
          },
          "metadata": {},
          "execution_count": 3
        }
      ]
    },
    {
      "cell_type": "code",
      "source": [
        "len(nombres)"
      ],
      "metadata": {
        "colab": {
          "base_uri": "https://localhost:8080/"
        },
        "id": "okwXbLowXOQl",
        "outputId": "687f27df-28fc-42e1-a82f-faab459bf1c0"
      },
      "execution_count": 4,
      "outputs": [
        {
          "output_type": "execute_result",
          "data": {
            "text/plain": [
              "21029"
            ]
          },
          "metadata": {},
          "execution_count": 4
        }
      ]
    },
    {
      "cell_type": "code",
      "source": [
        "V = sorted(set(''.join(nombres)))\n",
        "paf = {p:f+1 for f, p in enumerate(V)}\n",
        "paf['.'] = 0\n",
        "fap = {f:p for p,f in paf.items()}\n",
        "print(fap)"
      ],
      "metadata": {
        "colab": {
          "base_uri": "https://localhost:8080/"
        },
        "id": "FOuM5vdCXkVd",
        "outputId": "8af358d3-db29-4dcd-c6e1-fa8e1084ff0a"
      },
      "execution_count": 43,
      "outputs": [
        {
          "output_type": "stream",
          "name": "stdout",
          "text": [
            "{1: 'a', 2: 'b', 3: 'c', 4: 'd', 5: 'e', 6: 'f', 7: 'g', 8: 'h', 9: 'i', 10: 'j', 11: 'k', 12: 'l', 13: 'm', 14: 'n', 15: 'o', 16: 'p', 17: 'q', 18: 'r', 19: 's', 20: 't', 21: 'u', 22: 'v', 23: 'w', 24: 'x', 25: 'y', 26: 'z', 0: '.'}\n"
          ]
        }
      ]
    },
    {
      "cell_type": "markdown",
      "source": [
        "### Un modelo neuronal probabilístico de lenguaje\n",
        "\n",
        "Primero, comenzaremos dividiendo nuestros datos en «bloques». Por ejemplo, en nuestro modelo de bigramas, el bloque contenía un solo carácter, puesto que realizábamos la predicción a partir de una letra; pero podemos aumentar el «contexto» de nuestras predicciones para involucrar más letras al momento de predecir la siguiente. Veamos, por ejemplo, cómo luciría nuestro tratamiento de los datos si hiciéramos bloques de tres caracteres para predecir el siguiente:"
      ],
      "metadata": {
        "id": "n2O-rwNLp0YM"
      }
    },
    {
      "cell_type": "code",
      "source": [
        "def construir_dataset(nombres):\n",
        "  block_size = 3 # longitud del contexto\n",
        "  X, Y = [], []\n",
        "  for n in nombres:\n",
        "    #print(f'nombre: {n}')\n",
        "    contexto = [0] * block_size\n",
        "    for c in n + '.':\n",
        "      ix = paf[c]\n",
        "      X.append(contexto)\n",
        "      Y.append(ix)\n",
        "      #print(''.join(fap[i] for i in contexto), '----> ', fap[ix])\n",
        "      contexto = contexto[1:] + [ix]\n",
        "  \n",
        "  X = torch.tensor(X) # contexto\n",
        "  Y = torch.tensor(Y) # objetivo\n",
        "  return X, Y"
      ],
      "metadata": {
        "id": "9N7EnXZTZgco"
      },
      "execution_count": 19,
      "outputs": []
    },
    {
      "cell_type": "markdown",
      "source": [
        "```{margin}\n",
        "“The training set is a sequence $w_1 · · · w_T$ of words $w_t \\in V$, where the vocabulary $V$ is a large but finite set.”\n",
        "```"
      ],
      "metadata": {
        "id": "eH9gpAd8DT69"
      }
    },
    {
      "cell_type": "code",
      "source": [
        "construir_dataset(nombres[:3])"
      ],
      "metadata": {
        "colab": {
          "base_uri": "https://localhost:8080/"
        },
        "id": "q-tv_YsjwIfh",
        "outputId": "99a8c5e9-444b-40be-b3d9-e5fae9f15ced"
      },
      "execution_count": 18,
      "outputs": [
        {
          "output_type": "stream",
          "name": "stdout",
          "text": [
            "nombre: maria\n",
            "... ---->  m\n",
            "..m ---->  a\n",
            ".ma ---->  r\n",
            "mar ---->  i\n",
            "ari ---->  a\n",
            "ria ---->  .\n",
            "nombre: rosa\n",
            "... ---->  r\n",
            "..r ---->  o\n",
            ".ro ---->  s\n",
            "ros ---->  a\n",
            "osa ---->  .\n",
            "nombre: jose\n",
            "... ---->  j\n",
            "..j ---->  o\n",
            ".jo ---->  s\n",
            "jos ---->  e\n",
            "ose ---->  .\n"
          ]
        },
        {
          "output_type": "execute_result",
          "data": {
            "text/plain": [
              "(tensor([[ 0,  0,  0],\n",
              "         [ 0,  0, 13],\n",
              "         [ 0, 13,  1],\n",
              "         [13,  1, 18],\n",
              "         [ 1, 18,  9],\n",
              "         [18,  9,  1],\n",
              "         [ 0,  0,  0],\n",
              "         [ 0,  0, 18],\n",
              "         [ 0, 18, 15],\n",
              "         [18, 15, 19],\n",
              "         [15, 19,  1],\n",
              "         [ 0,  0,  0],\n",
              "         [ 0,  0, 10],\n",
              "         [ 0, 10, 15],\n",
              "         [10, 15, 19],\n",
              "         [15, 19,  5]]),\n",
              " tensor([13,  1, 18,  9,  1,  0, 18, 15, 19,  1,  0, 10, 15, 19,  5,  0]))"
            ]
          },
          "metadata": {},
          "execution_count": 18
        }
      ]
    },
    {
      "cell_type": "markdown",
      "source": [
        "Nuestra intuición detrás de esta aproximación es que el lenguaje funciona mejor con contexto: así como el sentido de un concepto se entiende mejor en contexto, también los caracteres se pueden predecir más razonablemente dado un contexto más amplio. \n",
        "\n",
        "Similar a como habíamos hecho anteriormente, construimos una matriz `X` para contener el contexto como entrada y un vector `Y` que contiene el objetivo (es decir, carácter) que debe seguir a cada respectivo contexto. Como se puede apreciar, solamente estamos construyendo `X` e `Y` con sus respectivos índices del vocabulario.\n",
        "\n",
        "Dado que solo tomamos 3 nombres como ejemplo, nuestros datos únicamente contienen 16 contextos o *inputs* y 16 objetivos o *outputs*:"
      ],
      "metadata": {
        "id": "dO_nn97fssxp"
      }
    },
    {
      "cell_type": "code",
      "source": [
        "X, Y = construir_dataset(nombres[:3])\n",
        "X.shape, Y.shape"
      ],
      "metadata": {
        "colab": {
          "base_uri": "https://localhost:8080/"
        },
        "id": "UnQbjfrAvkdi",
        "outputId": "d9f3564b-cd87-4fb6-c346-67274700f7d5"
      },
      "execution_count": 21,
      "outputs": [
        {
          "output_type": "execute_result",
          "data": {
            "text/plain": [
              "(torch.Size([16, 3]), torch.Size([16]))"
            ]
          },
          "metadata": {},
          "execution_count": 21
        }
      ]
    },
    {
      "cell_type": "markdown",
      "source": [
        "Ahora estamos listos para hacer el *embedding*. Mientras que en el *paper* los datos se incrustan en una tabla de consulta de 30 dimensiones (o *features*) para un vocabulario de 17,000 palabras, nosotros —que únicamente tenemos un vocabulario de 27 caracteres— podemos aproximarnos a la incrustación con algo más pequeño, como una incrustación de dos dimensiones."
      ],
      "metadata": {
        "id": "0mwDZ-E5wpGu"
      }
    },
    {
      "cell_type": "code",
      "source": [
        "C = torch.randn((27, 2)) # tabla de consulta\n",
        "C"
      ],
      "metadata": {
        "colab": {
          "base_uri": "https://localhost:8080/"
        },
        "id": "tGlTifYhzqv7",
        "outputId": "36b779e4-5843-48f6-92d8-33c57c8443aa"
      },
      "execution_count": 26,
      "outputs": [
        {
          "output_type": "execute_result",
          "data": {
            "text/plain": [
              "tensor([[ 1.2398,  1.6226],\n",
              "        [-1.0390, -0.6315],\n",
              "        [ 1.4867, -2.0639],\n",
              "        [-0.5019, -0.0847],\n",
              "        [ 0.3543,  0.0429],\n",
              "        [ 0.0747,  0.0483],\n",
              "        [-0.8429, -0.7471],\n",
              "        [ 1.2111, -0.4298],\n",
              "        [-0.2744, -0.0716],\n",
              "        [ 0.8073,  1.4253],\n",
              "        [ 0.7349, -1.3932],\n",
              "        [-0.7396, -1.6109],\n",
              "        [ 1.1352,  1.1073],\n",
              "        [-1.8026, -1.0121],\n",
              "        [ 0.2880,  0.6969],\n",
              "        [-0.9063, -0.2191],\n",
              "        [-0.2776,  0.0224],\n",
              "        [-0.0813,  1.3615],\n",
              "        [ 0.7298,  0.3834],\n",
              "        [ 0.3386, -0.9600],\n",
              "        [-0.6149,  0.0942],\n",
              "        [ 0.8082,  3.5541],\n",
              "        [-0.5630, -0.5980],\n",
              "        [ 1.1308,  0.9338],\n",
              "        [-0.3946,  0.1407],\n",
              "        [ 0.1347, -1.3152],\n",
              "        [ 0.2762, -0.8832]])"
            ]
          },
          "metadata": {},
          "execution_count": 26
        }
      ]
    },
    {
      "cell_type": "markdown",
      "source": [
        "Como vemos, cada *token* o elemento del volcabulario se incrustará en dos dimensiones, es decir, tendrá dos números asociados. Ahora, tomaremos un atajo que nos permitirá ser más eficientes con la codificación y la primera capa de la red neuronal. Anteriormente, habíamos hecho un *one-hot encoding* para luego pasarlo por una capa `W`; pero, bien visto, estos dos pasos pueden ser omitidos porque consiguen el mismo resultado que la incrustación en nuestra tabla `C`. \n",
        "\n",
        "Primero: la codificación *one-hot*, si fuéramos a multiplicarla por `C`, anularía todos los valores de `C` al multiplicarlos por 0 y conservaría una fila correspondiente a la de la multiplicación por 1. Ergo, podemos omitir la multiplicación y hacer una indexación para asociar directamente cada carácter con cada fila que un vector *one-hot* multiplicaría por 1. Dicho esto, podemos concebir a `C` como un equivalente de la capa `W`, puesto que consiste de valores aleatorios que asignan un número a cada carácter y luego pueden optimizarse con propagación hacia atrás.\n",
        "\n",
        "Dicho esto, la indexación (*embedding*) será bastante simple:\n",
        "\n",
        "```{margin}\n",
        "“A mapping $C$ from any element $i$ of $V$ to a real vector $C(i) \\in \\mathbb{R}^m$. It represents the distributed feature vectors associated with each word in the vocabulary. In practice, C is represented by a $\\left|V\\right| \\times m$ matrix of free parameters”.\n",
        "```"
      ],
      "metadata": {
        "id": "KXQ0eItb0cAM"
      }
    },
    {
      "cell_type": "code",
      "source": [
        "emb = C[X] # embedding\n",
        "\n",
        "f'Segunda fila de C: {C[1].numpy()} | Tercer valor del tercer bloque incrustado (es decir, letra a): {emb[2][2].numpy()}'"
      ],
      "metadata": {
        "colab": {
          "base_uri": "https://localhost:8080/",
          "height": 37
        },
        "id": "AWRbIvaQAJbc",
        "outputId": "25344a5f-b337-4b77-a7fd-b907f3732811"
      },
      "execution_count": 42,
      "outputs": [
        {
          "output_type": "execute_result",
          "data": {
            "text/plain": [
              "'Segunda fila de C: [-1.0390474 -0.6314941] | Tercer valor del tercer bloque incrustado (es decir, letra a): [-1.0390474 -0.6314941]'"
            ],
            "application/vnd.google.colaboratory.intrinsic+json": {
              "type": "string"
            }
          },
          "metadata": {},
          "execution_count": 42
        }
      ]
    },
    {
      "cell_type": "code",
      "source": [
        "print('Dimensiones del embedding: ', emb.shape) \n",
        "print('Tres bloques del embedding, correspondientes a «..m», «.ma» y «mar»:', emb[1:4])"
      ],
      "metadata": {
        "colab": {
          "base_uri": "https://localhost:8080/"
        },
        "id": "2wVT6iiNIale",
        "outputId": "04715986-89d6-4a4d-a84a-5a131ffd0592"
      },
      "execution_count": 48,
      "outputs": [
        {
          "output_type": "stream",
          "name": "stdout",
          "text": [
            "Dimensiones del embedding:  torch.Size([16, 3, 2])\n",
            "Tres bloques del embedding, correspondientes a «..m», «.ma» y «mar»: tensor([[[ 1.2398,  1.6226],\n",
            "         [ 1.2398,  1.6226],\n",
            "         [-1.8026, -1.0121]],\n",
            "\n",
            "        [[ 1.2398,  1.6226],\n",
            "         [-1.8026, -1.0121],\n",
            "         [-1.0390, -0.6315]],\n",
            "\n",
            "        [[-1.8026, -1.0121],\n",
            "         [-1.0390, -0.6315],\n",
            "         [ 0.7298,  0.3834]]])\n"
          ]
        }
      ]
    },
    {
      "cell_type": "markdown",
      "source": [
        "Ahora, echemos un vistazo a la arquitectura que deseamos lograr:\n",
        "\n",
        "```{figure} ../../img/bengio2003.png\n",
        "---\n",
        "width: 70%\n",
        "name: bengio2003\n",
        "---\n",
        "Arquitectura neuronal $f\\left(i, w_{t-1}, \\cdots, w_{t-n+1}\\right)=g\\left(i, C\\left(w_{t-1}\\right), \\cdots, C\\left(w_{t-n+1}\\right)\\right)$ donde $g$ es la red neuronal y $C(i)$ es el $i$-ésimo vector de cada palabra. En nuestro caso, utilizamos bloques de tres letras (`contexto`, vector `X`) en lugar de palabras ($w$).\n",
        "```"
      ],
      "metadata": {
        "id": "Mvh5GMkLIWsk"
      }
    },
    {
      "cell_type": "markdown",
      "source": [
        "Como vemos, tenemos casi terminado el inicio y únicamente nos falta concatenar entre sí los bloques del *embedding*, puesto que juntos atravesarán la misma capa de neuronas.\n",
        "```{margin}\n",
        "“\\[...] $x$ is the word features layer activation vector, which is the concatenation of the input word features from the matrix $C$: $x = C\\left(w_{t-1}\\right), \\left(w_{t-2}\\right) \\cdots, C\\left(w_{t-n+1}\\right)$.”\n",
        "```\n",
        "Para conseguirlo, podemos utilizar distintos métodos con PyTorch:"
      ],
      "metadata": {
        "id": "Ln__Tj3MQz1p"
      }
    },
    {
      "cell_type": "code",
      "source": [
        "metodo1 = torch.cat([emb[:, 0, :], emb[:, 1, :], emb[:, 2, :]], 1)\n",
        "print(f\"\"\"Ahora, en lugar de estar contenidos en bloques de tres filas: \n",
        "{emb[0]}\n",
        "Estarían contenidos en una fila de tres bloques (seis columnas):\n",
        "{metodo1[0]}\"\"\")"
      ],
      "metadata": {
        "colab": {
          "base_uri": "https://localhost:8080/"
        },
        "id": "llevzXqoY8kG",
        "outputId": "68b2ef83-14e4-40f2-ffe9-a351256a3824"
      },
      "execution_count": 65,
      "outputs": [
        {
          "output_type": "stream",
          "name": "stdout",
          "text": [
            "Ahora, en lugar de estar contenidos en bloques de tres filas: \n",
            "tensor([[1.2398, 1.6226],\n",
            "        [1.2398, 1.6226],\n",
            "        [1.2398, 1.6226]])\n",
            "Estarían contenidos en una fila de tres bloques (seis columnas):\n",
            "tensor([1.2398, 1.6226, 1.2398, 1.6226, 1.2398, 1.6226])\n"
          ]
        }
      ]
    },
    {
      "cell_type": "code",
      "source": [
        "metodo2 = torch.cat(torch.unbind(emb, 1), 1)\n",
        "f'Aunque también es equivalente: {metodo2[0]}'"
      ],
      "metadata": {
        "colab": {
          "base_uri": "https://localhost:8080/",
          "height": 37
        },
        "id": "NoRTuW6YaZox",
        "outputId": "7749f300-bb59-488c-f4cb-0dcd778b3460"
      },
      "execution_count": 67,
      "outputs": [
        {
          "output_type": "execute_result",
          "data": {
            "text/plain": [
              "'Aunque también es equivalente: tensor([1.2398, 1.6226, 1.2398, 1.6226, 1.2398, 1.6226])'"
            ],
            "application/vnd.google.colaboratory.intrinsic+json": {
              "type": "string"
            }
          },
          "metadata": {},
          "execution_count": 67
        }
      ]
    },
    {
      "cell_type": "markdown",
      "source": [
        "Pero el método más eficiente[^1] y simple es `view`. Como primer argumento, colocaremos `-1` para que de esta forma PyTorch infiera el tamaño de la dimensión 0 que debería tener el tensor (sería, pues, equivalente a colocar `emb[0].shape`), y como segundo argumento `6` porque queremos que el tensor tenga las 6 columnas correspondientes a los tres bloques de cada *input*:"
      ],
      "metadata": {
        "id": "BBMagWewbQ2-"
      }
    },
    {
      "cell_type": "code",
      "source": [
        "x = emb.view(-1, 6)\n",
        "x[0], x.shape"
      ],
      "metadata": {
        "colab": {
          "base_uri": "https://localhost:8080/"
        },
        "id": "PBCWB06samzE",
        "outputId": "6290a670-7442-4474-f93e-6301e144716c"
      },
      "execution_count": 70,
      "outputs": [
        {
          "output_type": "execute_result",
          "data": {
            "text/plain": [
              "(tensor([1.2398, 1.6226, 1.2398, 1.6226, 1.2398, 1.6226]), torch.Size([16, 6]))"
            ]
          },
          "metadata": {},
          "execution_count": 70
        }
      ]
    },
    {
      "cell_type": "markdown",
      "source": [
        "Ahora ya tenemos lo suficiente para definir más variables:\n",
        "\n",
        "> “Let $h$ be the number of hidden units[^2], and $m$ the number of features associated with each word. When no direct connections from word features to outputs are desired, the matrix $W$ is set to 0 . The free parameters of the model are the output biases $b$ (with $|V|$ elements), the hidden layer biases $d$ (with $h$ elements), the hidden-to-output weights $U$ (a $|V| \\times h$ matrix), the word features to output weights $W$ (a $|V| \\times(n-1) m$ matrix), the hidden layer weights $H$ (a $h \\times(n-1) m$ matrix), and the word features $C(\\mathrm{a}|V| \\times m$ matrix $)$: $\\theta=(b, d, W, U, H, C)$”."
      ],
      "metadata": {
        "id": "aQkp7vTli1RI"
      }
    },
    {
      "cell_type": "code",
      "source": [
        "import random\n",
        "random.shuffle(words)\n",
        "n1 = int(0.8*len(words))\n",
        "n2 = int(0.9*len(words))\n",
        "\n",
        "Xtr, Ytr = build_dataset(words[:n1])\n",
        "Xdev, Ydev = build_dataset(words[n1:n2])\n",
        "Xte, Yte = build_dataset(words[n2:])"
      ],
      "metadata": {
        "id": "N0zzO1IwdW5D"
      },
      "execution_count": null,
      "outputs": []
    },
    {
      "cell_type": "code",
      "source": [
        "Xtr.shape"
      ],
      "metadata": {
        "colab": {
          "base_uri": "https://localhost:8080/"
        },
        "id": "KUtlHOcLavWv",
        "outputId": "6a54778a-461f-4b75-8bfe-1f924343a60d"
      },
      "execution_count": null,
      "outputs": [
        {
          "output_type": "execute_result",
          "data": {
            "text/plain": [
              "torch.Size([132473, 3])"
            ]
          },
          "metadata": {},
          "execution_count": 7
        }
      ]
    },
    {
      "cell_type": "code",
      "source": [
        "C = torch.randn(27, 10)\n",
        "W1 = torch.randn((30, 200))\n",
        "b1 = torch.randn(200)\n",
        "W2 = torch.randn(200, 27)\n",
        "b2 = torch.randn(27)\n",
        "parameters = [C, W1, b2, W2, b2]"
      ],
      "metadata": {
        "id": "I0uqOeClM0bH"
      },
      "execution_count": null,
      "outputs": []
    },
    {
      "cell_type": "code",
      "source": [
        "sum(p.nelement() for p in parameters)"
      ],
      "metadata": {
        "colab": {
          "base_uri": "https://localhost:8080/"
        },
        "id": "MpijkcRINOUM",
        "outputId": "30ed2196-e05a-49c3-b3a0-2ee56520e6b8"
      },
      "execution_count": null,
      "outputs": [
        {
          "output_type": "execute_result",
          "data": {
            "text/plain": [
              "11724"
            ]
          },
          "metadata": {},
          "execution_count": 264
        }
      ]
    },
    {
      "cell_type": "code",
      "source": [
        "for p in parameters:\n",
        "  p.requires_grad = True"
      ],
      "metadata": {
        "id": "srB_AEmtMTQB"
      },
      "execution_count": null,
      "outputs": []
    },
    {
      "cell_type": "code",
      "source": [
        "lre = torch.linspace(-3, 0, 1000)\n",
        "lrs = 10**lre"
      ],
      "metadata": {
        "id": "BBz2E7b9R019"
      },
      "execution_count": null,
      "outputs": []
    },
    {
      "cell_type": "code",
      "source": [
        "plt.plot(lri, lossi)"
      ],
      "metadata": {
        "colab": {
          "base_uri": "https://localhost:8080/",
          "height": 282
        },
        "id": "547WVWX3SQwP",
        "outputId": "2ae8fba3-e997-4733-9b30-cef808e3cedb"
      },
      "execution_count": null,
      "outputs": [
        {
          "output_type": "execute_result",
          "data": {
            "text/plain": [
              "[<matplotlib.lines.Line2D at 0x7f63551eb250>]"
            ]
          },
          "metadata": {},
          "execution_count": 183
        },
        {
          "output_type": "display_data",
          "data": {
            "text/plain": [
              "<Figure size 432x288 with 1 Axes>"
            ],
            "image/png": "[encoded data removed]"
          },
          "metadata": {
            "needs_background": "light"
          }
        }
      ]
    },
    {
      "cell_type": "code",
      "source": [
        "10**-0.5"
      ],
      "metadata": {
        "colab": {
          "base_uri": "https://localhost:8080/"
        },
        "id": "yjinSayVUnzk",
        "outputId": "c0c0fd1a-32bf-4fec-afb2-fc53edf2ab99"
      },
      "execution_count": null,
      "outputs": [
        {
          "output_type": "execute_result",
          "data": {
            "text/plain": [
              "0.31622776601683794"
            ]
          },
          "metadata": {},
          "execution_count": 184
        }
      ]
    },
    {
      "cell_type": "code",
      "source": [
        "lri = []\n",
        "lossi = []\n",
        "stepi = []"
      ],
      "metadata": {
        "id": "cALHoO36fxQj"
      },
      "execution_count": null,
      "outputs": []
    },
    {
      "cell_type": "code",
      "source": [
        "for i in range(1000):\n",
        "  #minibatch\n",
        "  ix = torch.randint(0, Xtr.shape[0], (32,))\n",
        "\n",
        "  #forward pass\n",
        "  emb = C[Xtr][ix]\n",
        "  h = torch.tanh(emb.view(-1, 30) @ W1 + b1)\n",
        "  logits = h @ W2 + b2\n",
        "  loss = F.cross_entropy(logits, Ytr[ix])\n",
        "  \n",
        "  # backward pass\n",
        "  for p in parameters:\n",
        "    p.grad = None\n",
        "  loss.backward()\n",
        "  #update\n",
        "  #lr = lrs[i]\n",
        "  lr = -0.031\n",
        "  for p in parameters:\n",
        "    p.data += lr * p.grad\n",
        "\n",
        "  #track stats\n",
        "  #lri.append(lre[i])\n",
        "  stepi.append(i)\n",
        "  lossi.append(loss.log10().item())\n",
        "\n",
        "print(loss.item())"
      ],
      "metadata": {
        "colab": {
          "base_uri": "https://localhost:8080/"
        },
        "id": "FZvwJ9N_KNN0",
        "outputId": "63ff7e16-c2a5-490a-c4e4-20628244b552"
      },
      "execution_count": null,
      "outputs": [
        {
          "output_type": "stream",
          "name": "stdout",
          "text": [
            "1.8074958324432373\n"
          ]
        }
      ]
    },
    {
      "cell_type": "code",
      "source": [
        "plt.plot(stepi, lossi)"
      ],
      "metadata": {
        "colab": {
          "base_uri": "https://localhost:8080/",
          "height": 282
        },
        "id": "GW2pHmdef7qi",
        "outputId": "9a5e240d-05d0-4b67-9692-269c7c236b65"
      },
      "execution_count": null,
      "outputs": [
        {
          "output_type": "execute_result",
          "data": {
            "text/plain": [
              "[<matplotlib.lines.Line2D at 0x7f6353f7b790>]"
            ]
          },
          "metadata": {},
          "execution_count": 271
        },
        {
          "output_type": "display_data",
          "data": {
            "text/plain": [
              "<Figure size 432x288 with 1 Axes>"
            ],
            "image/png": "[encoded data removed]"
          },
          "metadata": {
            "needs_background": "light"
          }
        }
      ]
    },
    {
      "cell_type": "code",
      "source": [
        "emb = C[Xdev]\n",
        "h = torch.tanh(emb.view(-1, 30) @ W1 + b1)\n",
        "logits = h @ W2 + b2\n",
        "loss = F.cross_entropy(logits, Ydev)\n",
        "loss"
      ],
      "metadata": {
        "colab": {
          "base_uri": "https://localhost:8080/"
        },
        "id": "VJcK54eTPpTo",
        "outputId": "8b51c98a-fd9c-4ff9-a80c-0cb97bc8999f"
      },
      "execution_count": null,
      "outputs": [
        {
          "output_type": "execute_result",
          "data": {
            "text/plain": [
              "tensor(2.1043, grad_fn=<NllLossBackward0>)"
            ]
          },
          "metadata": {},
          "execution_count": 272
        }
      ]
    },
    {
      "cell_type": "code",
      "source": [
        "block_size = 3\n",
        "for _ in range(20):\n",
        "  out = []\n",
        "  context = [0] * block_size\n",
        "  while True:\n",
        "    emb = C[torch.tensor([context])]\n",
        "    h = torch.tanh(emb.view(1, -1) @ W1 + b1)\n",
        "    logits = h @ W2 + b2\n",
        "    probs = F.softmax(logits, dim=1)\n",
        "    ix = torch.multinomial(probs, num_samples=1).item()\n",
        "    context = context[1:] + [ix]\n",
        "    out.append(ix)\n",
        "    if ix == 0:\n",
        "      break\n",
        "\n",
        "  print(''.join(itos[i] for i in out))"
      ],
      "metadata": {
        "colab": {
          "base_uri": "https://localhost:8080/"
        },
        "id": "vS8h0tWHQLCH",
        "outputId": "df5be885-6ffa-4148-f8c3-74d6b4e41662"
      },
      "execution_count": null,
      "outputs": [
        {
          "output_type": "stream",
          "name": "stdout",
          "text": [
            "usabiano.\n",
            "reresrabendo.\n",
            "alla.\n",
            "selmoriva.\n",
            "elsoip.\n",
            "ziga.\n",
            "pention.\n",
            "claura.\n",
            "oru.\n",
            "frudogia.\n",
            "antrerio.\n",
            "nima.\n",
            "srobent.\n",
            "bertiquin.\n",
            "devonia.\n",
            "sacia.\n",
            "alida.\n",
            "vabladis.\n",
            "capia.\n",
            "edubgakio.\n"
          ]
        }
      ]
    },
    {
      "cell_type": "markdown",
      "source": [
        "[^1]: El método `view` es eficiente porque [no requiere de nuevo espacio](http://blog.ezyang.com/2019/05/pytorch-internals/) en la memoria de nuestra computadora, sino que utiliza el mismo tensor para reacomodarlo de manera distinta. Conforme nuestros programas se vuelvan más complejos, debemos procurar eficientar al máximo nuestros recursos computacionales. Para un acercamiento más general al tema, véase el [artículo de Horace He](https://horace.io/brrr_intro.html).\n",
        "\n",
        "[^2]: En *deep learning*, el término *hidden* («oculto») se utiliza para referirse a componentes de una red neuronal que no son «visibles» ni como entradas ni como salidas de la red. Se trata de entradas o salidas que se procesan internamente por la red neuronal antes de arrojar un resultado final. La *hidden unit*, en ese sentido, se refiere a cada unidad o componente de una capa oculta (*hidden layer*) en la red. Podemos entenderla como sinónimo de «nodo» o «neurona»."
      ],
      "metadata": {
        "id": "rbHyRZ9gbY3P"
      }
    }
  ]
}