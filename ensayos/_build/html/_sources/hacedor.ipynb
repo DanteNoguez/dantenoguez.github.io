{
  "cells": [
    {
      "cell_type": "markdown",
      "metadata": {},
      "source": [
        "# El Hacedor"
      ]
    },
    {
      "cell_type": "code",
      "execution_count": null,
      "metadata": {
        "id": "UIcRYjz7vVjx"
      },
      "outputs": [],
      "source": [
        "import pandas as pd\n",
        "import numpy as np\n",
        "import re\n",
        "\n",
        "#nombres = pd.read_csv('historico-nombres.csv').iloc[0:200000]\n",
        "#regex = \"[^a-z]\"\n",
        "#nombres = nombres['nombre'].str.lower()\n",
        "#filtro = nombres.str.contains(\"[^a-z]\")\n",
        "#nombres = nombres[~filtro].astype('str')\n",
        "\n",
        "#nombres.to_csv(r'nombres.txt', header=None, index=None, mode='a')\n",
        "#nombres.head(10)"
      ]
    },
    {
      "cell_type": "code",
      "execution_count": null,
      "metadata": {
        "id": "cjPrWuX-O5-e"
      },
      "outputs": [],
      "source": [
        "palabras = open('nombres.txt', 'r').read().splitlines()"
      ]
    },
    {
      "cell_type": "code",
      "execution_count": null,
      "metadata": {
        "colab": {
          "base_uri": "https://localhost:8080/"
        },
        "id": "ndq9xKHVSXrz",
        "outputId": "d851e517-334e-43c4-8055-fc0b4f2c50af"
      },
      "outputs": [
        {
          "data": {
            "text/plain": [
              "['maria',\n",
              " 'rosa',\n",
              " 'jose',\n",
              " 'carmen',\n",
              " 'ana',\n",
              " 'juana',\n",
              " 'antonio',\n",
              " 'elena',\n",
              " 'teresa',\n",
              " 'angela']"
            ]
          },
          "execution_count": 5,
          "metadata": {},
          "output_type": "execute_result"
        }
      ],
      "source": [
        "palabras[:10]"
      ]
    },
    {
      "cell_type": "code",
      "execution_count": null,
      "metadata": {
        "colab": {
          "base_uri": "https://localhost:8080/"
        },
        "id": "wmSYx3STTUNL",
        "outputId": "69c0c992-4448-4aad-8a58-671b87cfea9a"
      },
      "outputs": [
        {
          "data": {
            "text/plain": [
              "21029"
            ]
          },
          "execution_count": 6,
          "metadata": {},
          "output_type": "execute_result"
        }
      ],
      "source": [
        "len(palabras)"
      ]
    },
    {
      "cell_type": "markdown",
      "metadata": {
        "id": "YyY1K36iKgL1"
      },
      "source": [
        "### Bigramas"
      ]
    },
    {
      "cell_type": "code",
      "execution_count": null,
      "metadata": {
        "colab": {
          "base_uri": "https://localhost:8080/"
        },
        "id": "DBZVt_qPT0hc",
        "outputId": "59b6abe6-f5e2-411a-fd55-15b9a471429f"
      },
      "outputs": [
        {
          "name": "stdout",
          "output_type": "stream",
          "text": [
            "<I> m\n",
            "m a\n",
            "a r\n",
            "r i\n",
            "i a\n",
            "a <F>\n",
            "<I> r\n",
            "r o\n",
            "o s\n",
            "s a\n",
            "a <F>\n",
            "<I> j\n",
            "j o\n",
            "o s\n",
            "s e\n",
            "e <F>\n"
          ]
        }
      ],
      "source": [
        "b = {}\n",
        "\n",
        "for p in palabras[:3]:\n",
        "  cs = ['<I>'] + list(p) + ['<F>']\n",
        "  for c1, c2 in zip(cs, cs[1:]):\n",
        "    bigrama = (c1, c2)\n",
        "    b[bigrama] = b.get(bigrama, 0) + 1\n",
        "    print(c1, c2)"
      ]
    },
    {
      "cell_type": "code",
      "execution_count": null,
      "metadata": {
        "colab": {
          "base_uri": "https://localhost:8080/"
        },
        "id": "4CBHxaLeUfyX",
        "outputId": "2328b295-f572-47b7-fa6a-a8637f75f0e7"
      },
      "outputs": [
        {
          "data": {
            "text/plain": [
              "{('<I>', 'm'): 1,\n",
              " ('m', 'a'): 1,\n",
              " ('a', 'r'): 1,\n",
              " ('r', 'i'): 1,\n",
              " ('i', 'a'): 1,\n",
              " ('a', '<F>'): 2,\n",
              " ('<I>', 'r'): 1,\n",
              " ('r', 'o'): 1,\n",
              " ('o', 's'): 2,\n",
              " ('s', 'a'): 1,\n",
              " ('<I>', 'j'): 1,\n",
              " ('j', 'o'): 1,\n",
              " ('s', 'e'): 1,\n",
              " ('e', '<F>'): 1}"
            ]
          },
          "execution_count": 8,
          "metadata": {},
          "output_type": "execute_result"
        }
      ],
      "source": [
        "b"
      ]
    },
    {
      "cell_type": "code",
      "execution_count": null,
      "metadata": {
        "id": "PskL1rHaV6qu"
      },
      "outputs": [],
      "source": [
        "b = {}\n",
        "\n",
        "for p in palabras:\n",
        "  cs = ['<I>'] + list(p) + ['<F>']\n",
        "  for c1, c2 in zip(cs, cs[1:]):\n",
        "    bigrama = (c1, c2)\n",
        "    b[bigrama] = b.get(bigrama, 0) + 1"
      ]
    },
    {
      "cell_type": "code",
      "execution_count": null,
      "metadata": {
        "colab": {
          "base_uri": "https://localhost:8080/"
        },
        "id": "wPWA6IBMWP1J",
        "outputId": "5b60eb58-d573-4955-fd81-0c4f7f327d4c"
      },
      "outputs": [
        {
          "data": {
            "text/plain": [
              "[(('a', '<F>'), 10750),\n",
              " (('o', '<F>'), 5515),\n",
              " (('i', 'n'), 3768),\n",
              " (('n', 'a'), 3525),\n",
              " (('i', 'a'), 3419),\n",
              " (('l', 'i'), 3390),\n",
              " (('e', 'l'), 3231),\n",
              " (('a', 'n'), 2893),\n",
              " (('<I>', 'a'), 2611),\n",
              " (('e', 'r'), 2359),\n",
              " (('r', 'i'), 2335),\n",
              " (('<I>', 'e'), 2205),\n",
              " (('a', 'r'), 2031),\n",
              " (('i', 'o'), 2022),\n",
              " (('d', 'a'), 2017),\n",
              " (('a', 'l'), 1787),\n",
              " (('c', 'i'), 1783),\n",
              " (('l', 'a'), 1750),\n",
              " (('i', 'l'), 1710),\n",
              " (('r', 'a'), 1676),\n",
              " (('e', 'n'), 1650),\n",
              " (('m', 'a'), 1553),\n",
              " (('o', 'r'), 1527),\n",
              " (('d', 'o'), 1505),\n",
              " (('t', 'a'), 1478),\n",
              " (('n', 'o'), 1472),\n",
              " (('<I>', 'c'), 1465),\n",
              " (('n', 'i'), 1448),\n",
              " (('o', 'n'), 1349),\n",
              " (('m', 'i'), 1265),\n",
              " (('d', 'e'), 1256),\n",
              " (('<I>', 's'), 1248),\n",
              " (('<I>', 'l'), 1230),\n",
              " (('<I>', 'm'), 1228),\n",
              " (('r', 'o'), 1204),\n",
              " (('n', 'd'), 1160),\n",
              " (('e', 's'), 1127),\n",
              " (('l', 'e'), 1123),\n",
              " (('s', 'a'), 1086),\n",
              " (('i', 's'), 1073),\n",
              " (('d', 'i'), 1054),\n",
              " (('s', 'i'), 1049),\n",
              " (('<I>', 'd'), 1038),\n",
              " (('t', 'o'), 1032),\n",
              " (('<I>', 'r'), 1014),\n",
              " (('r', 'e'), 1014),\n",
              " (('i', 'd'), 1006),\n",
              " (('b', 'e'), 965),\n",
              " (('o', 'l'), 943),\n",
              " (('<I>', 'f'), 941),\n",
              " (('s', 't'), 939),\n",
              " (('<I>', 'g'), 924),\n",
              " (('e', '<F>'), 922),\n",
              " (('i', 'c'), 914),\n",
              " (('<I>', 'n'), 913),\n",
              " (('<I>', 'b'), 909),\n",
              " (('t', 'i'), 907),\n",
              " (('l', 'd'), 894),\n",
              " (('c', 'a'), 851),\n",
              " (('v', 'i'), 849),\n",
              " (('n', '<F>'), 837),\n",
              " (('m', 'e'), 836),\n",
              " (('a', 'd'), 829),\n",
              " (('i', 'r'), 797),\n",
              " (('a', 's'), 796),\n",
              " (('t', 'e'), 785),\n",
              " (('<I>', 'p'), 774),\n",
              " (('n', 'e'), 758),\n",
              " (('c', 'e'), 757),\n",
              " (('s', '<F>'), 742),\n",
              " (('l', 'o'), 738),\n",
              " (('s', 'e'), 729),\n",
              " (('<I>', 'i'), 726),\n",
              " (('a', 'c'), 689),\n",
              " (('<I>', 'h'), 668),\n",
              " (('r', 't'), 621),\n",
              " (('e', 'o'), 620),\n",
              " (('o', 's'), 611),\n",
              " (('n', 'c'), 602),\n",
              " (('n', 't'), 592),\n",
              " (('i', 't'), 587),\n",
              " (('<I>', 'o'), 584),\n",
              " (('e', 'd'), 581),\n",
              " (('<I>', 't'), 578),\n",
              " (('a', 'm'), 570),\n",
              " (('g', 'i'), 570),\n",
              " (('g', 'e'), 562),\n",
              " (('<I>', 'v'), 548),\n",
              " (('a', 't'), 542),\n",
              " (('a', 'u'), 532),\n",
              " (('<I>', 'j'), 522),\n",
              " (('b', 'a'), 517),\n",
              " (('c', 'o'), 508),\n",
              " (('e', 't'), 507),\n",
              " (('r', 'm'), 506),\n",
              " (('e', 'm'), 503),\n",
              " (('v', 'e'), 499),\n",
              " (('v', 'a'), 498),\n",
              " (('l', '<F>'), 487),\n",
              " (('i', 'm'), 481),\n",
              " (('r', '<F>'), 467),\n",
              " (('f', 'i'), 448),\n",
              " (('u', 'r'), 447),\n",
              " (('u', 'l'), 444),\n",
              " (('a', 'b'), 434),\n",
              " (('h', 'e'), 389),\n",
              " (('u', 'n'), 389),\n",
              " (('u', 's'), 388),\n",
              " (('f', 'e'), 387),\n",
              " (('p', 'a'), 374),\n",
              " (('b', 'i'), 374),\n",
              " (('i', 'e'), 373),\n",
              " (('o', 'm'), 364),\n",
              " (('l', 'm'), 363),\n",
              " (('f', 'a'), 356),\n",
              " (('m', 'o'), 339),\n",
              " (('u', 'd'), 339),\n",
              " (('l', 'v'), 337),\n",
              " (('i', '<F>'), 334),\n",
              " (('r', 'c'), 327),\n",
              " (('u', 'i'), 317),\n",
              " (('c', 'l'), 315),\n",
              " (('l', 'u'), 314),\n",
              " (('g', 'u'), 312),\n",
              " (('r', 'u'), 309),\n",
              " (('g', 'a'), 307),\n",
              " (('i', 'g'), 296),\n",
              " (('e', 'u'), 296),\n",
              " (('o', 'd'), 294),\n",
              " (('q', 'u'), 292),\n",
              " (('h', 'i'), 285),\n",
              " (('t', 'r'), 282),\n",
              " (('l', 'f'), 281),\n",
              " (('r', 'd'), 279),\n",
              " (('z', 'a'), 279),\n",
              " (('s', 'o'), 278),\n",
              " (('f', 'r'), 275),\n",
              " (('l', 'l'), 273),\n",
              " (('a', 'i'), 264),\n",
              " (('e', 'c'), 262),\n",
              " (('e', 'v'), 253),\n",
              " (('f', 'o'), 248),\n",
              " (('i', 'b'), 247),\n",
              " (('r', 'n'), 246),\n",
              " (('p', 'e'), 244),\n",
              " (('p', 'i'), 241),\n",
              " (('e', 'g'), 235),\n",
              " (('j', 'a'), 234),\n",
              " (('<I>', 'z'), 233),\n",
              " (('u', 'e'), 232),\n",
              " (('a', 'g'), 229),\n",
              " (('i', 'v'), 225),\n",
              " (('n', 's'), 224),\n",
              " (('e', 'a'), 223),\n",
              " (('a', 'v'), 221),\n",
              " (('b', 'r'), 220),\n",
              " (('<I>', 'y'), 218),\n",
              " (('d', 'r'), 213),\n",
              " (('h', 'a'), 211),\n",
              " (('r', 'g'), 207),\n",
              " (('p', 'o'), 203),\n",
              " (('n', 'g'), 196),\n",
              " (('l', 'b'), 195),\n",
              " (('g', 'r'), 194),\n",
              " (('d', '<F>'), 194),\n",
              " (('s', 'u'), 192),\n",
              " (('u', 'c'), 189),\n",
              " (('u', 'a'), 187),\n",
              " (('c', 't'), 183),\n",
              " (('j', 'u'), 180),\n",
              " (('c', 'r'), 180),\n",
              " (('s', 'c'), 178),\n",
              " (('d', 'u'), 175),\n",
              " (('o', 't'), 175),\n",
              " (('p', 'r'), 172),\n",
              " (('o', 'c'), 170),\n",
              " (('t', 'u'), 169),\n",
              " (('<I>', 'w'), 169),\n",
              " (('e', 'f'), 168),\n",
              " (('y', '<F>'), 166),\n",
              " (('c', 'h'), 166),\n",
              " (('o', 'b'), 164),\n",
              " (('s', 'l'), 164),\n",
              " (('o', 'v'), 162),\n",
              " (('j', 'o'), 161),\n",
              " (('g', 'o'), 160),\n",
              " (('n', 'u'), 159),\n",
              " (('m', 'u'), 158),\n",
              " (('u', 'm'), 154),\n",
              " (('<I>', 'u'), 154),\n",
              " (('f', 'l'), 149),\n",
              " (('r', 'l'), 146),\n",
              " (('k', 'o'), 145),\n",
              " (('e', 'i'), 144),\n",
              " (('e', 'b'), 143),\n",
              " (('t', 't'), 141),\n",
              " (('u', 'b'), 138),\n",
              " (('h', 'o'), 136),\n",
              " (('n', 'z'), 132),\n",
              " (('a', 'z'), 131),\n",
              " (('s', 'm'), 130),\n",
              " (('i', 'z'), 129),\n",
              " (('z', 'i'), 127),\n",
              " (('t', '<F>'), 121),\n",
              " (('l', 's'), 118),\n",
              " (('c', 'u'), 117),\n",
              " (('z', 'o'), 117),\n",
              " (('b', 'o'), 117),\n",
              " (('t', 'h'), 115),\n",
              " (('l', 'c'), 115),\n",
              " (('n', 'n'), 114),\n",
              " (('i', 'f'), 112),\n",
              " (('r', 's'), 112),\n",
              " (('z', 'e'), 110),\n",
              " (('u', 't'), 105),\n",
              " (('w', 'a'), 105),\n",
              " (('i', 'p'), 102),\n",
              " (('o', 'f'), 102),\n",
              " (('s', 'p'), 102),\n",
              " (('z', '<F>'), 100),\n",
              " (('b', 'l'), 100),\n",
              " (('r', 'f'), 100),\n",
              " (('j', 'e'), 99),\n",
              " (('a', 'q'), 98),\n",
              " (('e', 'p'), 97),\n",
              " (('a', 'e'), 93),\n",
              " (('i', 'k'), 93),\n",
              " (('a', 'p'), 93),\n",
              " (('a', 'y'), 89),\n",
              " (('<I>', 'k'), 88),\n",
              " (('m', '<F>'), 87),\n",
              " (('k', 'a'), 87),\n",
              " (('r', 'b'), 86),\n",
              " (('l', 't'), 85),\n",
              " (('z', 'u'), 82),\n",
              " (('a', 'f'), 81),\n",
              " (('m', 'b'), 80),\n",
              " (('a', 'o'), 79),\n",
              " (('h', '<F>'), 79),\n",
              " (('o', 'g'), 79),\n",
              " (('y', 'o'), 78),\n",
              " (('g', 'n'), 77),\n",
              " (('o', 'i'), 76),\n",
              " (('b', 'u'), 75),\n",
              " (('r', 'v'), 74),\n",
              " (('y', 'a'), 74),\n",
              " (('k', 'i'), 72),\n",
              " (('y', 's'), 72),\n",
              " (('e', 'j'), 71),\n",
              " (('e', 'z'), 69),\n",
              " (('s', 'h'), 69),\n",
              " (('a', 'x'), 67),\n",
              " (('l', 'y'), 67),\n",
              " (('x', 'i'), 66),\n",
              " (('u', 'v'), 66),\n",
              " (('u', 'g'), 65),\n",
              " (('a', 'h'), 64),\n",
              " (('r', 'r'), 64),\n",
              " (('g', 'l'), 63),\n",
              " (('u', 'f'), 59),\n",
              " (('w', 'i'), 59),\n",
              " (('l', 'g'), 57),\n",
              " (('v', 'o'), 57),\n",
              " (('o', 'e'), 57),\n",
              " (('w', 'e'), 56),\n",
              " (('e', 'y'), 56),\n",
              " (('h', 'u'), 53),\n",
              " (('m', 'p'), 53),\n",
              " (('n', 'f'), 53),\n",
              " (('n', 'r'), 52),\n",
              " (('y', 'n'), 51),\n",
              " (('u', 'z'), 51),\n",
              " (('i', 'u'), 50),\n",
              " (('y', 'd'), 49),\n",
              " (('j', 'i'), 48),\n",
              " (('y', 'e'), 47),\n",
              " (('s', 's'), 47),\n",
              " (('i', 'x'), 45),\n",
              " (('a', 'a'), 45),\n",
              " (('u', 'k'), 45),\n",
              " (('i', 'j'), 45),\n",
              " (('o', 'p'), 43),\n",
              " (('r', 'y'), 42),\n",
              " (('a', 'k'), 42),\n",
              " (('<I>', 'q'), 41),\n",
              " (('y', 'r'), 40),\n",
              " (('e', 'e'), 39),\n",
              " (('s', 'z'), 39),\n",
              " (('u', '<F>'), 38),\n",
              " (('b', 'd'), 37),\n",
              " (('o', 'u'), 37),\n",
              " (('n', 'k'), 37),\n",
              " (('i', 'q'), 34),\n",
              " (('o', 'a'), 34),\n",
              " (('e', 'x'), 34),\n",
              " (('f', 'u'), 34),\n",
              " (('t', 's'), 34),\n",
              " (('d', 'm'), 34),\n",
              " (('d', 'y'), 34),\n",
              " (('n', 'y'), 33),\n",
              " (('x', 't'), 33),\n",
              " (('p', 'l'), 33),\n",
              " (('n', 'j'), 32),\n",
              " (('u', 'p'), 32),\n",
              " (('k', '<F>'), 32),\n",
              " (('p', 'p'), 32),\n",
              " (('c', '<F>'), 31),\n",
              " (('u', 'o'), 31),\n",
              " (('s', 'v'), 30),\n",
              " (('p', 'u'), 30),\n",
              " (('k', 'e'), 30),\n",
              " (('a', 'w'), 30),\n",
              " (('i', 'y'), 28),\n",
              " (('e', 'q'), 28),\n",
              " (('g', '<F>'), 27),\n",
              " (('y', 'm'), 27),\n",
              " (('a', 'j'), 27),\n",
              " (('g', 'd'), 25),\n",
              " (('o', 'y'), 25),\n",
              " (('o', 'q'), 24),\n",
              " (('o', 'k'), 24),\n",
              " (('o', 'j'), 24),\n",
              " (('y', 'u'), 23),\n",
              " (('w', '<F>'), 22),\n",
              " (('x', 'e'), 22),\n",
              " (('e', 'k'), 22),\n",
              " (('r', 'p'), 21),\n",
              " (('o', 'h'), 21),\n",
              " (('s', 'f'), 21),\n",
              " (('k', 'u'), 21),\n",
              " (('f', '<F>'), 20),\n",
              " (('c', 'y'), 20),\n",
              " (('s', 'b'), 20),\n",
              " (('m', 'm'), 19),\n",
              " (('l', 'k'), 19),\n",
              " (('l', 'p'), 19),\n",
              " (('n', 'q'), 19),\n",
              " (('d', 'd'), 19),\n",
              " (('y', 'l'), 18),\n",
              " (('t', 'y'), 18),\n",
              " (('x', '<F>'), 17),\n",
              " (('r', 'z'), 17),\n",
              " (('n', 'v'), 17),\n",
              " (('o', 'z'), 17),\n",
              " (('u', 'h'), 17),\n",
              " (('v', 'l'), 17),\n",
              " (('d', 'g'), 16),\n",
              " (('u', 'j'), 16),\n",
              " (('r', 'q'), 16),\n",
              " (('b', '<F>'), 16),\n",
              " (('y', 'g'), 16),\n",
              " (('m', 'y'), 15),\n",
              " (('e', 'h'), 15),\n",
              " (('l', 'z'), 15),\n",
              " (('s', 'r'), 14),\n",
              " (('d', 'w'), 14),\n",
              " (('z', 'y'), 14),\n",
              " (('d', 'v'), 14),\n",
              " (('c', 'c'), 14),\n",
              " (('i', 'h'), 14),\n",
              " (('r', 'k'), 14),\n",
              " (('r', 'j'), 14),\n",
              " (('r', 'w'), 13),\n",
              " (('p', 'c'), 12),\n",
              " (('e', 'w'), 12),\n",
              " (('h', 'r'), 12),\n",
              " (('c', 'z'), 12),\n",
              " (('j', 'z'), 12),\n",
              " (('v', '<F>'), 12),\n",
              " (('n', 'm'), 11),\n",
              " (('w', 'o'), 11),\n",
              " (('s', 'y'), 11),\n",
              " (('p', 'h'), 11),\n",
              " (('z', 'm'), 11),\n",
              " (('w', 'l'), 11),\n",
              " (('u', 'y'), 11),\n",
              " (('s', 'q'), 11),\n",
              " (('g', 'm'), 10),\n",
              " (('p', '<F>'), 10),\n",
              " (('l', 'q'), 10),\n",
              " (('z', 'z'), 10),\n",
              " (('y', 'i'), 10),\n",
              " (('h', 't'), 9),\n",
              " (('t', 'l'), 9),\n",
              " (('k', 'l'), 9),\n",
              " (('x', 'a'), 9),\n",
              " (('z', 'd'), 9),\n",
              " (('s', 'k'), 8),\n",
              " (('d', 'l'), 8),\n",
              " (('c', 'q'), 8),\n",
              " (('k', 's'), 8),\n",
              " (('s', 'd'), 8),\n",
              " (('r', 'h'), 8),\n",
              " (('d', 'z'), 8),\n",
              " (('v', 'r'), 7),\n",
              " (('k', 'r'), 7),\n",
              " (('l', 'j'), 7),\n",
              " (('g', 'h'), 7),\n",
              " (('p', 's'), 6),\n",
              " (('f', 'f'), 6),\n",
              " (('o', 'w'), 6),\n",
              " (('d', 'n'), 6),\n",
              " (('s', 'w'), 6),\n",
              " (('v', 'k'), 6),\n",
              " (('h', 'y'), 6),\n",
              " (('s', 'n'), 6),\n",
              " (('b', 's'), 6),\n",
              " (('y', 'w'), 6),\n",
              " (('c', 'k'), 5),\n",
              " (('y', 't'), 5),\n",
              " (('l', 'w'), 5),\n",
              " (('g', 'g'), 5),\n",
              " (('z', 'r'), 5),\n",
              " (('j', 'n'), 5),\n",
              " (('d', 'h'), 5),\n",
              " (('l', 'h'), 5),\n",
              " (('z', 'c'), 5),\n",
              " (('t', 'm'), 5),\n",
              " (('j', 'g'), 4),\n",
              " (('u', 'x'), 4),\n",
              " (('f', 'g'), 4),\n",
              " (('h', 'n'), 4),\n",
              " (('l', 'n'), 4),\n",
              " (('m', 's'), 4),\n",
              " (('t', 'k'), 4),\n",
              " (('j', 'l'), 4),\n",
              " (('t', 'z'), 4),\n",
              " (('x', 'c'), 4),\n",
              " (('y', 'b'), 4),\n",
              " (('h', 'd'), 4),\n",
              " (('h', 'm'), 4),\n",
              " (('g', 't'), 4),\n",
              " (('n', 'l'), 4),\n",
              " (('n', 'h'), 4),\n",
              " (('m', 'n'), 4),\n",
              " (('i', 'w'), 4),\n",
              " (('g', 'w'), 3),\n",
              " (('j', '<F>'), 3),\n",
              " (('j', 'k'), 3),\n",
              " (('w', 'd'), 3),\n",
              " (('p', 't'), 3),\n",
              " (('h', 'l'), 3),\n",
              " (('y', 'c'), 3),\n",
              " (('z', 'b'), 3),\n",
              " (('l', 'r'), 3),\n",
              " (('n', 'b'), 3),\n",
              " (('u', 'q'), 3),\n",
              " (('g', 'f'), 3),\n",
              " (('y', 'f'), 3),\n",
              " (('w', 'y'), 3),\n",
              " (('y', 'v'), 3),\n",
              " (('t', 'n'), 3),\n",
              " (('z', 'h'), 3),\n",
              " (('t', 'j'), 2),\n",
              " (('v', 'u'), 2),\n",
              " (('v', 'd'), 2),\n",
              " (('j', 'm'), 2),\n",
              " (('k', 'y'), 2),\n",
              " (('b', 'b'), 2),\n",
              " (('d', 'j'), 2),\n",
              " (('z', 't'), 2),\n",
              " (('y', 'p'), 2),\n",
              " (('d', 'k'), 2),\n",
              " (('v', 'y'), 2),\n",
              " (('w', 'k'), 2),\n",
              " (('m', 'r'), 2),\n",
              " (('t', 'b'), 2),\n",
              " (('g', 'y'), 2),\n",
              " (('u', 'u'), 2),\n",
              " (('t', 'v'), 2),\n",
              " (('x', 'p'), 2),\n",
              " (('m', 'g'), 2),\n",
              " (('n', 'w'), 2),\n",
              " (('v', 'h'), 2),\n",
              " (('i', 'i'), 2),\n",
              " (('j', 'w'), 2),\n",
              " (('f', 't'), 2),\n",
              " (('g', 'b'), 2),\n",
              " (('z', 'l'), 2),\n",
              " (('b', 'y'), 2),\n",
              " (('j', 's'), 2),\n",
              " (('j', 'd'), 2),\n",
              " (('m', 'h'), 2),\n",
              " (('o', 'x'), 2),\n",
              " (('d', 't'), 2),\n",
              " (('q', 'i'), 1),\n",
              " (('j', 'r'), 1),\n",
              " (('v', 'v'), 1),\n",
              " (('d', 's'), 1),\n",
              " (('m', 'd'), 1),\n",
              " (('m', 'l'), 1),\n",
              " (('b', 'h'), 1),\n",
              " (('z', 'n'), 1),\n",
              " (('j', 'y'), 1),\n",
              " (('t', 'w'), 1),\n",
              " (('k', 'k'), 1),\n",
              " (('h', 'w'), 1),\n",
              " (('c', 's'), 1),\n",
              " (('f', 'n'), 1),\n",
              " (('n', 'p'), 1),\n",
              " (('f', 'c'), 1),\n",
              " (('d', 'f'), 1),\n",
              " (('k', 'c'), 1),\n",
              " (('g', 'j'), 1),\n",
              " (('c', 'n'), 1),\n",
              " (('g', 'v'), 1),\n",
              " (('t', 'c'), 1),\n",
              " (('m', 't'), 1),\n",
              " (('f', 'q'), 1),\n",
              " (('h', 's'), 1),\n",
              " (('y', 'x'), 1),\n",
              " (('z', 'v'), 1),\n",
              " (('p', 'z'), 1),\n",
              " (('k', 'm'), 1),\n",
              " (('y', 'z'), 1),\n",
              " (('j', 'v'), 1),\n",
              " (('p', 'y'), 1),\n",
              " (('v', 's'), 1),\n",
              " (('y', 'k'), 1),\n",
              " (('b', 'j'), 1),\n",
              " (('s', 'g'), 1),\n",
              " (('k', 'n'), 1),\n",
              " (('m', 'f'), 1),\n",
              " (('z', 'k'), 1),\n",
              " (('w', 'b'), 1),\n",
              " (('w', 'j'), 1),\n",
              " (('v', 'n'), 1),\n",
              " (('g', 'z'), 1),\n",
              " (('t', 'x'), 1),\n",
              " (('x', 'u'), 1),\n",
              " (('t', 'd'), 1),\n",
              " (('j', 't'), 1)]"
            ]
          },
          "execution_count": 10,
          "metadata": {},
          "output_type": "execute_result"
        }
      ],
      "source": [
        "sorted(b.items(), key = lambda kv: -kv[1])"
      ]
    },
    {
      "cell_type": "code",
      "execution_count": null,
      "metadata": {
        "id": "p_RT90onWQux"
      },
      "outputs": [],
      "source": [
        "import torch"
      ]
    },
    {
      "cell_type": "code",
      "execution_count": null,
      "metadata": {
        "id": "U7VkwjtwXJZu"
      },
      "outputs": [],
      "source": [
        "N = torch.zeros((27, 27), dtype=torch.int32)"
      ]
    },
    {
      "cell_type": "code",
      "execution_count": null,
      "metadata": {
        "colab": {
          "base_uri": "https://localhost:8080/"
        },
        "id": "7_IKLGkJXyIA",
        "outputId": "cdd039be-3667-4fbf-ea51-dffa7604fb50"
      },
      "outputs": [
        {
          "data": {
            "text/plain": [
              "{'a': 1,\n",
              " 'b': 2,\n",
              " 'c': 3,\n",
              " 'd': 4,\n",
              " 'e': 5,\n",
              " 'f': 6,\n",
              " 'g': 7,\n",
              " 'h': 8,\n",
              " 'i': 9,\n",
              " 'j': 10,\n",
              " 'k': 11,\n",
              " 'l': 12,\n",
              " 'm': 13,\n",
              " 'n': 14,\n",
              " 'o': 15,\n",
              " 'p': 16,\n",
              " 'q': 17,\n",
              " 'r': 18,\n",
              " 's': 19,\n",
              " 't': 20,\n",
              " 'u': 21,\n",
              " 'v': 22,\n",
              " 'w': 23,\n",
              " 'x': 24,\n",
              " 'y': 25,\n",
              " 'z': 26,\n",
              " '.': 0}"
            ]
          },
          "execution_count": 15,
          "metadata": {},
          "output_type": "execute_result"
        }
      ],
      "source": [
        "caracs = sorted(list(set(''.join(palabras))))\n",
        "\n",
        "paf = {p:f+1 for f,p in enumerate(caracs)}\n",
        "paf['.'] = 0\n",
        "fap = {f:p for p,f in paf.items()}\n",
        "paf"
      ]
    },
    {
      "cell_type": "code",
      "execution_count": null,
      "metadata": {
        "colab": {
          "base_uri": "https://localhost:8080/"
        },
        "id": "_URnc55SeuGo",
        "outputId": "9ac8bd6c-edf0-4f7c-f832-60430419e05e"
      },
      "outputs": [
        {
          "data": {
            "text/plain": [
              "{1: 'a',\n",
              " 2: 'b',\n",
              " 3: 'c',\n",
              " 4: 'd',\n",
              " 5: 'e',\n",
              " 6: 'f',\n",
              " 7: 'g',\n",
              " 8: 'h',\n",
              " 9: 'i',\n",
              " 10: 'j',\n",
              " 11: 'k',\n",
              " 12: 'l',\n",
              " 13: 'm',\n",
              " 14: 'n',\n",
              " 15: 'o',\n",
              " 16: 'p',\n",
              " 17: 'q',\n",
              " 18: 'r',\n",
              " 19: 's',\n",
              " 20: 't',\n",
              " 21: 'u',\n",
              " 22: 'v',\n",
              " 23: 'w',\n",
              " 24: 'x',\n",
              " 25: 'y',\n",
              " 26: 'z',\n",
              " 0: '.'}"
            ]
          },
          "execution_count": 12,
          "metadata": {},
          "output_type": "execute_result"
        }
      ],
      "source": [
        "fap"
      ]
    },
    {
      "cell_type": "code",
      "execution_count": null,
      "metadata": {
        "id": "kL1qWrgSXNG2"
      },
      "outputs": [],
      "source": [
        "for p in palabras:\n",
        "  cs = ['.'] + list(p) + ['.']\n",
        "  for c1, c2 in zip(cs, cs[1:]):\n",
        "    ix1 = paf[c1]\n",
        "    ix2 = paf[c2]\n",
        "    N[ix1, ix2] += 1"
      ]
    },
    {
      "cell_type": "code",
      "execution_count": null,
      "metadata": {
        "colab": {
          "base_uri": "https://localhost:8080/",
          "height": 901
        },
        "id": "QdiAmBjNnQet",
        "outputId": "541b4ad6-cf31-4b4e-e2e5-be845fb43f6f"
      },
      "outputs": [
        {
          "data": {
            "image/png": "[encoded data removed]",
            "text/plain": [
              "<Figure size 1152x1152 with 1 Axes>"
            ]
          },
          "metadata": {
            "needs_background": "light"
          },
          "output_type": "display_data"
        }
      ],
      "source": [
        "import matplotlib.pyplot as plt\n",
        "\n",
        "plt.figure(figsize=(16, 16))\n",
        "plt.imshow(N, cmap='Blues')\n",
        "for i in range(27):\n",
        "  for j in range(27):\n",
        "    cts = fap[i] + fap[j]\n",
        "    plt.text(j, i, cts, ha='center', va='bottom', color='gray')\n",
        "    plt.text(j, i, N[i, j].item(), ha='center', va='top', color='gray')\n",
        "plt.axis('off');"
      ]
    },
    {
      "cell_type": "markdown",
      "metadata": {
        "id": "1XCnltcd4DdD"
      },
      "source": [
        "Hemos contado la ocurrencia de cada bigrama en el documento de nombres. Ahora, podemos utilizar este conteo como una distribución de probabilidades acerca de cuál letra debe ser consecutiva con otra. Ejemplifiquemos con una fila:"
      ]
    },
    {
      "cell_type": "code",
      "execution_count": null,
      "metadata": {
        "colab": {
          "base_uri": "https://localhost:8080/"
        },
        "id": "sqWwRm5pnSj5",
        "outputId": "ff574335-fdff-44c7-cda7-51d2c5c14155"
      },
      "outputs": [
        {
          "data": {
            "text/plain": [
              "tensor([   0, 2611,  909, 1465, 1038, 2205,  941,  924,  668,  726,  522,   88,\n",
              "        1230, 1228,  913,  584,  774,   41, 1014, 1248,  578,  154,  548,  169,\n",
              "           0,  218,  233], dtype=torch.int32)"
            ]
          },
          "execution_count": 21,
          "metadata": {},
          "output_type": "execute_result"
        }
      ],
      "source": [
        "N[0] # first row"
      ]
    },
    {
      "cell_type": "markdown",
      "metadata": {
        "id": "j7jFf9OX4szH"
      },
      "source": [
        "Obtendremos las probabilidades de cada valor al dividir cada uno por la sumatoria de todos. Con este truco, todos los valores sumados nos darán 1:"
      ]
    },
    {
      "cell_type": "code",
      "execution_count": null,
      "metadata": {
        "colab": {
          "base_uri": "https://localhost:8080/"
        },
        "id": "BvCMSG3mqDXb",
        "outputId": "1bfdfe10-7adc-4235-aa8a-3bf04d735881"
      },
      "outputs": [
        {
          "data": {
            "text/plain": [
              "tensor([0.0000, 0.1242, 0.0432, 0.0697, 0.0494, 0.1049, 0.0447, 0.0439, 0.0318,\n",
              "        0.0345, 0.0248, 0.0042, 0.0585, 0.0584, 0.0434, 0.0278, 0.0368, 0.0019,\n",
              "        0.0482, 0.0593, 0.0275, 0.0073, 0.0261, 0.0080, 0.0000, 0.0104, 0.0111])"
            ]
          },
          "execution_count": 180,
          "metadata": {},
          "output_type": "execute_result"
        }
      ],
      "source": [
        "p = N[0].float()\n",
        "p = p / p.sum()\n",
        "p"
      ]
    },
    {
      "cell_type": "code",
      "execution_count": null,
      "metadata": {
        "colab": {
          "base_uri": "https://localhost:8080/"
        },
        "id": "VBFUGeBOqRP8",
        "outputId": "3dd0bdc8-b265-41fd-9a8f-bd882f1fe750"
      },
      "outputs": [
        {
          "data": {
            "text/plain": [
              "tensor(1.0000)"
            ]
          },
          "execution_count": 181,
          "metadata": {},
          "output_type": "execute_result"
        }
      ],
      "source": [
        "p.sum()"
      ]
    },
    {
      "cell_type": "markdown",
      "metadata": {
        "id": "H-j5qXKy43fz"
      },
      "source": [
        "Utilizaremos `torch.multinomial` para generar números enteros con base en las probabilidades de la distribución que creamos. Primero veamos un ejemplo:"
      ]
    },
    {
      "cell_type": "code",
      "execution_count": null,
      "metadata": {
        "colab": {
          "base_uri": "https://localhost:8080/"
        },
        "id": "czj2HBpgqbga",
        "outputId": "e69361ca-f271-4717-ccc6-96cb3babe6de"
      },
      "outputs": [
        {
          "name": "stdout",
          "output_type": "stream",
          "text": [
            "tensor([0.1805, 0.2687, 0.5233])\n",
            "tensor([0.1856, 0.2763, 0.5381])\n"
          ]
        }
      ],
      "source": [
        "p = torch.rand(3) #creamos tres valores aleatorios\n",
        "print(p)\n",
        "p = p / p.sum() # ahora, creamos una distribución con base en ellos\n",
        "print(p)"
      ]
    },
    {
      "cell_type": "code",
      "execution_count": null,
      "metadata": {
        "colab": {
          "base_uri": "https://localhost:8080/"
        },
        "id": "KelPqtfxrAfr",
        "outputId": "b7077b77-0e54-42a9-9f4a-7b79d7d5a085"
      },
      "outputs": [
        {
          "data": {
            "text/plain": [
              "tensor([1, 2, 1, 1, 2, 0, 0, 2, 1, 2])"
            ]
          },
          "execution_count": 45,
          "metadata": {},
          "output_type": "execute_result"
        }
      ],
      "source": [
        "torch.multinomial(p, num_samples=10, replacement=True) # ahora tomamos muestras de números enteros con base en la distribución\n",
        "# Notemos que los números generados reflejan la distribución de probabilidades anteriores"
      ]
    },
    {
      "cell_type": "markdown",
      "metadata": {
        "id": "uLB5Od-u8ZyT"
      },
      "source": [
        "Ahora podemos hacer lo mismo con la primera fila:"
      ]
    },
    {
      "cell_type": "code",
      "execution_count": null,
      "metadata": {
        "colab": {
          "base_uri": "https://localhost:8080/"
        },
        "id": "PtHz_W1T7gtv",
        "outputId": "bde8a613-47c8-4fd9-dd9d-f471ca6662cb"
      },
      "outputs": [
        {
          "data": {
            "text/plain": [
              "tensor([1])"
            ]
          },
          "execution_count": 54,
          "metadata": {},
          "output_type": "execute_result"
        }
      ],
      "source": [
        "p = N[0].float()\n",
        "p = p / p.sum()\n",
        "\n",
        "torch.multinomial(p, num_samples=1, replacement=True)"
      ]
    },
    {
      "cell_type": "markdown",
      "metadata": {
        "id": "t4IFA5zK8_kQ"
      },
      "source": [
        "Pero el resultado obtenido es el índice de la letra. Veámoslo como letra:"
      ]
    },
    {
      "cell_type": "code",
      "execution_count": null,
      "metadata": {
        "colab": {
          "base_uri": "https://localhost:8080/",
          "height": 37
        },
        "id": "kZHf54M09GUr",
        "outputId": "d48b598e-f091-4333-ca0d-ffbe480981a0"
      },
      "outputs": [
        {
          "data": {
            "application/vnd.google.colaboratory.intrinsic+json": {
              "type": "string"
            },
            "text/plain": [
              "'b'"
            ]
          },
          "execution_count": 57,
          "metadata": {},
          "output_type": "execute_result"
        }
      ],
      "source": [
        "index = torch.multinomial(p, num_samples=1, replacement=True).item()\n",
        "ejemplo = fap[index]\n",
        "ejemplo"
      ]
    },
    {
      "cell_type": "markdown",
      "metadata": {
        "id": "9OOyvyyl7Y8N"
      },
      "source": [
        "Ahora haremos lo mismo con todos los bigramas:"
      ]
    },
    {
      "cell_type": "code",
      "execution_count": null,
      "metadata": {
        "id": "ygD1Dvp6LEYX"
      },
      "outputs": [],
      "source": [
        "P = (N+1).float() # agregamos 1 al conteo para que el logaritmo no tenga problemas eventualmente (smoothing)\n",
        "P /= P.sum(1, keepdim=True) # el 1 indica que la sumatoria se hace en la dimensión 1 (las columnas colapsan para sumarse)"
      ]
    },
    {
      "cell_type": "code",
      "execution_count": null,
      "metadata": {
        "colab": {
          "base_uri": "https://localhost:8080/"
        },
        "id": "Y9JPyyhANDvs",
        "outputId": "dd0ec1b7-8b90-47ba-8f39-350d23656ee0"
      },
      "outputs": [
        {
          "data": {
            "text/plain": [
              "(tensor(1.0000), torch.Size([27, 27]))"
            ]
          },
          "execution_count": 119,
          "metadata": {},
          "output_type": "execute_result"
        }
      ],
      "source": [
        "P[0].sum(), P.shape"
      ]
    },
    {
      "cell_type": "code",
      "execution_count": null,
      "metadata": {
        "colab": {
          "base_uri": "https://localhost:8080/"
        },
        "id": "qqCwRN6Z7VOO",
        "outputId": "eafa8eda-78f5-4a18-fcaa-27bf8c4bae0f"
      },
      "outputs": [
        {
          "data": {
            "text/plain": [
              "tensor([4.7492e-05, 1.2405e-01, 4.3218e-02, 6.9624e-02, 4.9345e-02, 1.0477e-01,\n",
              "        4.4738e-02, 4.3930e-02, 3.1772e-02, 3.4527e-02, 2.4839e-02, 4.2268e-03,\n",
              "        5.8463e-02, 5.8368e-02, 4.3408e-02, 2.7783e-02, 3.6807e-02, 1.9947e-03,\n",
              "        4.8205e-02, 5.9318e-02, 2.7498e-02, 7.3613e-03, 2.6073e-02, 8.0737e-03,\n",
              "        4.7492e-05, 1.0401e-02, 1.1113e-02])"
            ]
          },
          "execution_count": 120,
          "metadata": {},
          "output_type": "execute_result"
        }
      ],
      "source": [
        "P[0]"
      ]
    },
    {
      "cell_type": "code",
      "execution_count": null,
      "metadata": {
        "colab": {
          "base_uri": "https://localhost:8080/"
        },
        "id": "6MFCryDhrgyk",
        "outputId": "90a4ae4b-d058-4e57-c78f-0a19aaeed5cf"
      },
      "outputs": [
        {
          "name": "stdout",
          "output_type": "stream",
          "text": [
            "erauia.\n",
            "eriobrgibelargra.\n",
            "eondima.\n",
            "salidolia.\n",
            "ger.\n"
          ]
        }
      ],
      "source": [
        "for i in range(5):\n",
        "  out = []\n",
        "  ix = 0\n",
        "  while True:\n",
        "    p = P[ix]\n",
        "    ix = torch.multinomial(p, num_samples=1, replacement=True).item()\n",
        "    out.append(fap[ix])\n",
        "    if ix == 0:\n",
        "      break\n",
        "    \n",
        "  print(''.join(out))"
      ]
    },
    {
      "cell_type": "markdown",
      "metadata": {
        "id": "6wvdrpg6ncXq"
      },
      "source": [
        "Podemos observar las probabilidades asignadas a cada bigrama:"
      ]
    },
    {
      "cell_type": "code",
      "execution_count": null,
      "metadata": {
        "colab": {
          "base_uri": "https://localhost:8080/"
        },
        "id": "QmKkO8cxmENU",
        "outputId": "427fed8e-587e-4f1c-9b18-977099f1059c"
      },
      "outputs": [
        {
          "name": "stdout",
          "output_type": "stream",
          "text": [
            ".m: 0.0584\n",
            "ma: 0.3492\n",
            "ar: 0.0863\n",
            "ri: 0.2349\n",
            "ia: 0.1907\n",
            "a.: 0.4568\n",
            ".r: 0.0482\n",
            "ro: 0.1212\n",
            "os: 0.0515\n",
            "sa: 0.1840\n",
            "a.: 0.4568\n",
            ".j: 0.0248\n",
            "jo: 0.2045\n",
            "os: 0.0515\n",
            "se: 0.1236\n",
            "e.: 0.0674\n"
          ]
        }
      ],
      "source": [
        "for p in palabras[:3]:\n",
        "  cs = ['.'] + list(p) + ['.']\n",
        "  for c1, c2 in zip(cs, cs[1:]):\n",
        "    ix1 = paf[c1]\n",
        "    ix2 = paf[c2] \n",
        "    prob = P[ix1, ix2]\n",
        "    print(f'{c1}{c2}: {prob:.4f}') "
      ]
    },
    {
      "cell_type": "markdown",
      "metadata": {
        "id": "HEwc0Xyvng9c"
      },
      "source": [
        "Dado que altas probabilidades en nuestros bigramas indican buen «aprendizaje», en el sentido de que nuestro modelo no es completamente aleatorio, sino que concede importancia a bigramas apropiadamente, una estimación de precisión que podemos emplear es la máxima verosimilitud (maximum likelihood), que es el resultado de multiplicar todas las probabilidades. Por conveniencia, esta estimación utiliza el logaritmo natural de las probabilidades: sumar los logaritmos de las probabilidades es equivalente a multiplicar las probabilidades."
      ]
    },
    {
      "cell_type": "markdown",
      "metadata": {
        "id": "DOCmJusPqOMN"
      },
      "source": [
        "El logaritmo del 0 al uno presenta como valor máximo al 0, pero como valor mínimo el infinito:"
      ]
    },
    {
      "cell_type": "code",
      "execution_count": null,
      "metadata": {
        "colab": {
          "base_uri": "https://localhost:8080/",
          "height": 316
        },
        "id": "_x9MfbXgpZJ2",
        "outputId": "80e548aa-36f2-4e02-aeea-759479766ead"
      },
      "outputs": [
        {
          "name": "stderr",
          "output_type": "stream",
          "text": [
            "/usr/local/lib/python3.7/dist-packages/ipykernel_launcher.py:1: RuntimeWarning: divide by zero encountered in log\n",
            "  \"\"\"Entry point for launching an IPython kernel.\n"
          ]
        },
        {
          "data": {
            "text/plain": [
              "[<matplotlib.lines.Line2D at 0x7fecef4f0d50>]"
            ]
          },
          "execution_count": 123,
          "metadata": {},
          "output_type": "execute_result"
        },
        {
          "data": {
            "image/png": "[encoded data removed]",
            "text/plain": [
              "<Figure size 432x288 with 1 Axes>"
            ]
          },
          "metadata": {
            "needs_background": "light"
          },
          "output_type": "display_data"
        }
      ],
      "source": [
        "plt.plot(np.arange(1, 101, 1), np.log(np.arange(0, 1, 0.01)))"
      ]
    },
    {
      "cell_type": "markdown",
      "metadata": {
        "id": "-DJ2dYfAqZax"
      },
      "source": [
        "Pero, dado que quisiéramos números positivos, podemos volver positivo este número:"
      ]
    },
    {
      "cell_type": "code",
      "execution_count": null,
      "metadata": {
        "colab": {
          "base_uri": "https://localhost:8080/"
        },
        "id": "NmMa5IkKor2t",
        "outputId": "ff1f2f3e-0278-4f09-e04e-f0126eea7573"
      },
      "outputs": [
        {
          "data": {
            "text/plain": [
              "(tensor(-2.6971), tensor(2.6971))"
            ]
          },
          "execution_count": 124,
          "metadata": {},
          "output_type": "execute_result"
        }
      ],
      "source": [
        "logprob = torch.log(prob)\n",
        "nlog = -logprob\n",
        "logprob, nlog"
      ]
    },
    {
      "cell_type": "markdown",
      "metadata": {
        "id": "Ed26rvhKqsDL"
      },
      "source": [
        "Y la negative log likelihood es la suma de todas las negative logs. Nuestra loss function entonces podría ser la negative log likelihood (`nll`) normalizada para obtener el promedio. Mientras esta loss function sea menor, nuestro modelo será mejor:"
      ]
    },
    {
      "cell_type": "code",
      "execution_count": null,
      "metadata": {
        "colab": {
          "base_uri": "https://localhost:8080/"
        },
        "id": "zjNuu-lZI06c",
        "outputId": "8ce9a84e-7bd5-4f33-9b38-cd0acf4f2118"
      },
      "outputs": [
        {
          "name": "stdout",
          "output_type": "stream",
          "text": [
            "375152.34375\n",
            "2.2672061920166016\n"
          ]
        }
      ],
      "source": [
        "log_likelihood = 0.0\n",
        "n = 0.0\n",
        "\n",
        "for p in palabras:\n",
        "  cs = ['.'] + list(p) + ['.']\n",
        "  for c1, c2 in zip(cs, cs[1:]):\n",
        "    ix1 = paf[c1]\n",
        "    ix2 = paf[c2]\n",
        "    prob = P[ix1,ix2]\n",
        "    logprob = torch.log(prob)\n",
        "    log_likelihood += logprob\n",
        "    n += 1\n",
        "    #print(f'{c1}{c2}: {prob} {log_likelihood:.4f}')\n",
        "\n",
        "nll = -log_likelihood\n",
        "print(f'{nll}')\n",
        "print(f'{nll/n}')"
      ]
    },
    {
      "cell_type": "code",
      "execution_count": null,
      "metadata": {
        "colab": {
          "base_uri": "https://localhost:8080/"
        },
        "id": "bqldf2fVrz-e",
        "outputId": "64b61ed8-d086-469a-97c0-8655ca2cd80b"
      },
      "outputs": [
        {
          "name": "stdout",
          "output_type": "stream",
          "text": [
            ".d | prob: 0.0493446 | log likelihood: -3.0089\n",
            "da | prob: 0.3054336 | log likelihood: -4.1949\n",
            "an | prob: 0.1229762 | log likelihood: -6.2907\n",
            "nt | prob: 0.0515025 | log likelihood: -9.2568\n",
            "te | prob: 0.1527994 | log likelihood: -11.1355\n",
            "e. | prob: 0.0674018 | log likelihood: -13.8326\n",
            "nll: 13.832551956176758\n",
            "loss fn: 2.3054254055023193\n"
          ]
        }
      ],
      "source": [
        "log_likelihood = 0.0\n",
        "n = 0.0\n",
        "\n",
        "for bi in ['dante']:\n",
        "  cs = ['.'] + list(bi) + ['.']\n",
        "  for c1, c2 in zip(cs, cs[1:]):\n",
        "    ix1 = paf[c1]\n",
        "    ix2 = paf[c2]\n",
        "    prob = P[ix1,ix2]\n",
        "    logprob = torch.log(prob)\n",
        "    log_likelihood += logprob\n",
        "    n += 1\n",
        "    print(f'{c1}{c2} | prob: {prob:.7f} | log likelihood: {log_likelihood:.4f}')\n",
        "\n",
        "nll = -log_likelihood\n",
        "print(f'nll: {nll}')\n",
        "print(f'loss fn: {nll/n}')"
      ]
    },
    {
      "cell_type": "markdown",
      "metadata": {
        "id": "kjp-OGQhavpO"
      },
      "source": [
        "### Red neuronal"
      ]
    },
    {
      "cell_type": "markdown",
      "metadata": {
        "id": "M2hHJunjxWHB"
      },
      "source": [
        "Optimizaremos nuestro modelo con una red neuronal:"
      ]
    },
    {
      "cell_type": "code",
      "execution_count": null,
      "metadata": {
        "colab": {
          "base_uri": "https://localhost:8080/"
        },
        "id": "O8brd5t6xvj5",
        "outputId": "3845ac8d-b963-4a8e-8a34-df5d2907012c"
      },
      "outputs": [
        {
          "name": "stdout",
          "output_type": "stream",
          "text": [
            ". m\n",
            "m a\n",
            "a r\n",
            "r i\n",
            "i a\n",
            "a .\n"
          ]
        },
        {
          "data": {
            "text/plain": [
              "(tensor([ 0, 13,  1, 18,  9,  1]), tensor([13,  1, 18,  9,  1,  0]))"
            ]
          },
          "execution_count": 134,
          "metadata": {},
          "output_type": "execute_result"
        }
      ],
      "source": [
        "# Juntaremos los bigramas para el set de entrenamiento (inputs x, predicciones y)\n",
        "# Primero un ejemplo:\n",
        "\n",
        "xs, ys = [], []\n",
        "\n",
        "for p in palabras[:1]:\n",
        "  cs = ['.'] + list(p) + ['.']\n",
        "  for c1, c2 in zip(cs, cs[1:]):\n",
        "    ix1 = paf[c1]\n",
        "    ix2 = paf[c2]\n",
        "    print(c1, c2)\n",
        "    xs.append(ix1)\n",
        "    ys.append(ix2)\n",
        "\n",
        "xs = torch.tensor(xs)\n",
        "ys = torch.tensor(ys)\n",
        "xs, ys"
      ]
    },
    {
      "cell_type": "code",
      "execution_count": null,
      "metadata": {
        "colab": {
          "base_uri": "https://localhost:8080/"
        },
        "id": "mow3o5dDb0bi",
        "outputId": "0682ccf2-7622-4099-bfec-9d8655837434"
      },
      "outputs": [
        {
          "data": {
            "text/plain": [
              "tensor([ 0, 13,  1,  ..., 12, 12,  1])"
            ]
          },
          "execution_count": 137,
          "metadata": {},
          "output_type": "execute_result"
        }
      ],
      "source": [
        "# Ahora todas las palabras\n",
        "\n",
        "xs, ys = [], []\n",
        "\n",
        "for p in palabras:\n",
        "  cs = ['.'] + list(p) + ['.']\n",
        "  for c1, c2 in zip(cs, cs[1:]):\n",
        "    ix1 = paf[c1]\n",
        "    ix2 = paf[c2]\n",
        "    xs.append(ix1)\n",
        "    ys.append(ix2)\n",
        "\n",
        "xs = torch.tensor(xs) # Pasamos cada bigrama a tensores x (inputs), y (predicción deseada)\n",
        "ys = torch.tensor(ys)\n",
        "xs"
      ]
    },
    {
      "cell_type": "markdown",
      "metadata": {
        "id": "H27cTedAzqFq"
      },
      "source": [
        "Para pasar esta información a una red neuronal, primero la codificaremos en vectores vía one-hot encoding:"
      ]
    },
    {
      "cell_type": "code",
      "execution_count": null,
      "metadata": {
        "colab": {
          "base_uri": "https://localhost:8080/"
        },
        "id": "1ZbsLepT44s8",
        "outputId": "b9dbf078-e786-4803-e595-64ecbe59f867"
      },
      "outputs": [
        {
          "data": {
            "text/plain": [
              "(tensor([ 0, 13,  1, 18,  9,  1]),\n",
              " tensor([[1., 0., 0., 0., 0., 0., 0., 0., 0., 0., 0., 0., 0., 0., 0., 0., 0., 0.,\n",
              "          0., 0., 0., 0., 0., 0., 0., 0., 0.],\n",
              "         [0., 0., 0., 0., 0., 0., 0., 0., 0., 0., 0., 0., 0., 1., 0., 0., 0., 0.,\n",
              "          0., 0., 0., 0., 0., 0., 0., 0., 0.],\n",
              "         [0., 1., 0., 0., 0., 0., 0., 0., 0., 0., 0., 0., 0., 0., 0., 0., 0., 0.,\n",
              "          0., 0., 0., 0., 0., 0., 0., 0., 0.],\n",
              "         [0., 0., 0., 0., 0., 0., 0., 0., 0., 0., 0., 0., 0., 0., 0., 0., 0., 0.,\n",
              "          1., 0., 0., 0., 0., 0., 0., 0., 0.],\n",
              "         [0., 0., 0., 0., 0., 0., 0., 0., 0., 1., 0., 0., 0., 0., 0., 0., 0., 0.,\n",
              "          0., 0., 0., 0., 0., 0., 0., 0., 0.],\n",
              "         [0., 1., 0., 0., 0., 0., 0., 0., 0., 0., 0., 0., 0., 0., 0., 0., 0., 0.,\n",
              "          0., 0., 0., 0., 0., 0., 0., 0., 0.]]),\n",
              " torch.Size([6, 27]))"
            ]
          },
          "execution_count": 147,
          "metadata": {},
          "output_type": "execute_result"
        }
      ],
      "source": [
        "import torch.nn.functional as F\n",
        "\n",
        "# Primero veamos un ejemplo:\n",
        "xenc = F.one_hot(xs[0:6], num_classes=27).float()\n",
        "xs[0:6], xenc, xenc.shape"
      ]
    },
    {
      "cell_type": "code",
      "execution_count": null,
      "metadata": {
        "colab": {
          "base_uri": "https://localhost:8080/",
          "height": 139
        },
        "id": "DvF-_xFF0bf5",
        "outputId": "a1de4b78-1db1-4650-96ca-5e1017bcbfda"
      },
      "outputs": [
        {
          "data": {
            "text/plain": [
              "<matplotlib.image.AxesImage at 0x7fecefcab610>"
            ]
          },
          "execution_count": 148,
          "metadata": {},
          "output_type": "execute_result"
        },
        {
          "data": {
            "image/png": "[encoded data removed]",
            "text/plain": [
              "<Figure size 432x288 with 1 Axes>"
            ]
          },
          "metadata": {
            "needs_background": "light"
          },
          "output_type": "display_data"
        }
      ],
      "source": [
        "plt.imshow(xenc)"
      ]
    },
    {
      "cell_type": "code",
      "execution_count": null,
      "metadata": {
        "colab": {
          "base_uri": "https://localhost:8080/"
        },
        "id": "LQh_XkYx6NHK",
        "outputId": "cc876808-964b-4a27-fffe-fbfc827e5f01"
      },
      "outputs": [
        {
          "data": {
            "text/plain": [
              "(tensor([[1., 0., 0.,  ..., 0., 0., 0.],\n",
              "         [0., 0., 0.,  ..., 0., 0., 0.],\n",
              "         [0., 1., 0.,  ..., 0., 0., 0.],\n",
              "         ...,\n",
              "         [0., 0., 0.,  ..., 0., 0., 0.],\n",
              "         [0., 0., 0.,  ..., 0., 0., 0.],\n",
              "         [0., 1., 0.,  ..., 0., 0., 0.]]), torch.Size([165469, 27]))"
            ]
          },
          "execution_count": 142,
          "metadata": {},
          "output_type": "execute_result"
        }
      ],
      "source": [
        "xenc = F.one_hot(xs, num_classes=27).float() # Ahora hacemos un one-hot encoding con todos los datos\n",
        "xenc, xenc.shape"
      ]
    },
    {
      "cell_type": "code",
      "execution_count": null,
      "metadata": {
        "colab": {
          "base_uri": "https://localhost:8080/"
        },
        "id": "3mHX2t-XEJvG",
        "outputId": "01202dc1-62b7-4d07-8bc1-9eff5bd59be9"
      },
      "outputs": [
        {
          "data": {
            "text/plain": [
              "tensor([[ 1.7375e+00, -1.6226e+00,  1.1169e+00,  5.2440e-01,  1.9235e+00,\n",
              "          7.7240e-02,  9.0700e-01, -1.4147e-02, -1.3114e+00,  1.8893e+00,\n",
              "          1.3329e+00,  3.8851e-01,  1.4112e-03, -6.9552e-01,  1.5654e+00,\n",
              "         -1.1414e+00, -3.3127e-01,  1.6875e+00, -3.0902e-01, -2.8625e-01,\n",
              "          3.0215e-02, -4.3973e-01,  9.5093e-01, -8.3326e-01,  3.8003e-01,\n",
              "         -4.0360e-01,  9.7218e-01],\n",
              "        [-4.0560e-01,  1.1065e-01, -2.0732e-01, -3.5821e-01, -1.7004e+00,\n",
              "         -4.6233e-02,  4.6964e-01, -4.7488e-01, -1.1909e-01,  7.0113e-01,\n",
              "          4.0031e-02, -4.9382e-01,  1.1622e+00, -1.3650e+00, -9.1052e-01,\n",
              "         -2.0342e+00, -1.5120e+00, -4.5619e-01, -2.3238e-01, -1.4177e+00,\n",
              "          5.8740e-01, -2.1195e+00, -2.9052e-01, -6.9798e-01, -5.4531e-02,\n",
              "          2.6171e-01, -2.9523e-01],\n",
              "        [ 1.8342e+00, -4.6852e-01,  1.3385e+00, -1.4190e+00,  5.9264e-01,\n",
              "         -1.0697e+00, -3.2573e-01,  4.0733e-01, -2.4890e-01,  1.7361e+00,\n",
              "          2.8319e-03, -2.0055e+00,  4.2760e-01,  6.9175e-01,  5.9975e-01,\n",
              "          8.7237e-01, -6.3227e-01, -1.2790e-01, -1.3292e+00, -8.1998e-01,\n",
              "         -1.5152e+00, -1.0235e+00, -1.4560e+00,  3.3558e-01,  4.2188e-01,\n",
              "          3.1603e-01,  2.7001e-01],\n",
              "        [-1.1373e+00, -1.1675e+00, -1.6936e+00, -1.3474e-02, -2.1573e+00,\n",
              "          1.0019e+00, -1.8112e-01, -3.7313e-01, -4.1062e-02,  9.7716e-01,\n",
              "         -9.6486e-01,  5.1369e-02,  9.7147e-01, -1.8224e+00,  1.1882e+00,\n",
              "         -2.7321e-01, -8.2738e-01, -8.7574e-01,  5.5597e-01,  5.9345e-01,\n",
              "          1.9153e+00, -9.8067e-01, -2.9926e-01,  4.4905e-01,  1.8059e-02,\n",
              "         -8.0995e-01, -1.0276e+00],\n",
              "        [-1.2791e+00, -1.0225e+00, -6.8597e-01, -1.0755e+00,  3.7567e-01,\n",
              "          7.7221e-01, -3.3079e-01,  7.6159e-01,  8.0750e-01, -4.7380e-01,\n",
              "          4.1898e-01, -1.4381e+00, -1.1769e+00,  4.2931e-01,  1.0825e+00,\n",
              "          8.9465e-01,  1.7487e+00,  1.3802e+00,  1.6745e+00, -4.3801e-01,\n",
              "          1.3424e+00,  2.4644e-02,  3.1259e+00, -1.8899e+00,  9.7181e-01,\n",
              "          1.3974e+00,  7.4278e-01],\n",
              "        [ 1.8342e+00, -4.6852e-01,  1.3385e+00, -1.4190e+00,  5.9264e-01,\n",
              "         -1.0697e+00, -3.2573e-01,  4.0733e-01, -2.4890e-01,  1.7361e+00,\n",
              "          2.8319e-03, -2.0055e+00,  4.2760e-01,  6.9175e-01,  5.9975e-01,\n",
              "          8.7237e-01, -6.3227e-01, -1.2790e-01, -1.3292e+00, -8.1998e-01,\n",
              "         -1.5152e+00, -1.0235e+00, -1.4560e+00,  3.3558e-01,  4.2188e-01,\n",
              "          3.1603e-01,  2.7001e-01]], grad_fn=<MmBackward0>)"
            ]
          },
          "execution_count": 174,
          "metadata": {},
          "output_type": "execute_result"
        }
      ],
      "source": [
        "w = torch.randn((27,27), requires_grad=True)\n",
        "xenc[:6].shape, w.shape\n",
        "(xenc[:6] @ w)"
      ]
    },
    {
      "cell_type": "code",
      "execution_count": null,
      "metadata": {
        "colab": {
          "base_uri": "https://localhost:8080/"
        },
        "id": "pS5M3Tj1Epta",
        "outputId": "e24ef3eb-5b0e-4471-cdaf-f098e9523af7"
      },
      "outputs": [
        {
          "data": {
            "text/plain": [
              "tensor([1., 0., 0., 0., 0., 0., 0., 0., 0., 0., 0., 0., 0., 0., 0., 0., 0., 0.,\n",
              "        0., 0., 0., 0., 0., 0., 0., 0., 0.])"
            ]
          },
          "execution_count": 175,
          "metadata": {},
          "output_type": "execute_result"
        }
      ],
      "source": [
        "xenc[0]"
      ]
    },
    {
      "cell_type": "code",
      "execution_count": null,
      "metadata": {
        "colab": {
          "base_uri": "https://localhost:8080/"
        },
        "id": "Q1oJYUA_EtHA",
        "outputId": "c837ed14-5f04-48e9-bba8-3fb4d71aedfd"
      },
      "outputs": [
        {
          "data": {
            "text/plain": [
              "tensor([-1.6226, -0.4685,  0.2680,  1.0141, -0.2838,  0.2251,  0.6496, -1.0305,\n",
              "        -1.0217, -1.0225,  0.5276, -1.1557,  1.2544,  0.1107, -0.2494,  0.3028,\n",
              "         1.3921, -1.9678, -1.1675, -0.2656,  0.7018,  2.0679,  1.9240, -0.7715,\n",
              "         0.0897,  1.8722,  1.2221], grad_fn=<SelectBackward0>)"
            ]
          },
          "execution_count": 176,
          "metadata": {},
          "output_type": "execute_result"
        }
      ],
      "source": [
        "w[:,1]"
      ]
    },
    {
      "cell_type": "code",
      "execution_count": null,
      "metadata": {
        "colab": {
          "base_uri": "https://localhost:8080/"
        },
        "id": "dBFiUI4GFVcN",
        "outputId": "bf8930d7-02e4-4298-8061-f30194ba8b57"
      },
      "outputs": [
        {
          "data": {
            "text/plain": [
              "tensor([-1.6226, -0.0000,  0.0000,  0.0000, -0.0000,  0.0000,  0.0000, -0.0000,\n",
              "        -0.0000, -0.0000,  0.0000, -0.0000,  0.0000,  0.0000, -0.0000,  0.0000,\n",
              "         0.0000, -0.0000, -0.0000, -0.0000,  0.0000,  0.0000,  0.0000, -0.0000,\n",
              "         0.0000,  0.0000,  0.0000], grad_fn=<MulBackward0>)"
            ]
          },
          "execution_count": 177,
          "metadata": {},
          "output_type": "execute_result"
        }
      ],
      "source": [
        "(xenc[0] * w[:,1])"
      ]
    },
    {
      "cell_type": "code",
      "execution_count": null,
      "metadata": {
        "colab": {
          "base_uri": "https://localhost:8080/"
        },
        "id": "Odisx3QFFvn9",
        "outputId": "edb4ee30-1cf7-4301-cfb4-78dd9f6ceaa7"
      },
      "outputs": [
        {
          "data": {
            "text/plain": [
              "tensor(-1.6226, grad_fn=<SelectBackward0>)"
            ]
          },
          "execution_count": 178,
          "metadata": {},
          "output_type": "execute_result"
        }
      ],
      "source": [
        "(xenc[:6] @ w)[0,1]"
      ]
    },
    {
      "cell_type": "code",
      "execution_count": null,
      "metadata": {
        "colab": {
          "base_uri": "https://localhost:8080/"
        },
        "id": "XATnIdRVF3lx",
        "outputId": "ca45e831-b63e-49b6-c45d-782cb1af5631"
      },
      "outputs": [
        {
          "data": {
            "text/plain": [
              "tensor(-1.6226, grad_fn=<SumBackward0>)"
            ]
          },
          "execution_count": 179,
          "metadata": {},
          "output_type": "execute_result"
        }
      ],
      "source": [
        "(xenc[0] * w[:,1]).sum()"
      ]
    },
    {
      "cell_type": "code",
      "execution_count": null,
      "metadata": {
        "colab": {
          "base_uri": "https://localhost:8080/"
        },
        "id": "dK3-4qCf6eYY",
        "outputId": "6124d7dd-898c-4f13-d469-3246892812c1"
      },
      "outputs": [
        {
          "data": {
            "text/plain": [
              "torch.Size([165469, 27])"
            ]
          },
          "execution_count": 207,
          "metadata": {},
          "output_type": "execute_result"
        }
      ],
      "source": [
        "#FORWARD PASS\n",
        "\n",
        "W = torch.randn((27, 27), requires_grad=True) # Creamos weights aleatorios\n",
        "logits = xenc @ W #multiplicamos valores de x por w para obtener log-counts\n",
        "counts = logits.exp() # exponenciamos para obtener valores mayores a 0, equivalentes a matriz N\n",
        "probs = counts / counts.sum(1, keepdims=True) # normalizar los counts para obtener probabilidades\n",
        "probs # los últimos dos pasos son equivalentes a la función softmax\n",
        "logits.shape "
      ]
    },
    {
      "cell_type": "code",
      "execution_count": null,
      "metadata": {
        "colab": {
          "base_uri": "https://localhost:8080/"
        },
        "id": "mwy_yItd7Iv3",
        "outputId": "d07802d2-f1ab-4b30-dc63-d5f3ddeaa900"
      },
      "outputs": [
        {
          "data": {
            "text/plain": [
              "torch.Size([165469, 27])"
            ]
          },
          "execution_count": 192,
          "metadata": {},
          "output_type": "execute_result"
        }
      ],
      "source": [
        "probs.shape"
      ]
    },
    {
      "cell_type": "code",
      "execution_count": null,
      "metadata": {
        "colab": {
          "base_uri": "https://localhost:8080/"
        },
        "id": "ChqRnqShZ4uG",
        "outputId": "5c6ca906-00d1-4f10-cd6b-b293774e89e8"
      },
      "outputs": [
        {
          "data": {
            "text/plain": [
              "tensor([0.0146, 0.0240, 0.0170, 0.0048, 0.0505, 0.0098, 0.1241, 0.0519, 0.0512,\n",
              "        0.0357, 0.0390, 0.0099, 0.0302, 0.0544, 0.0401, 0.0584, 0.0268, 0.0211,\n",
              "        0.0679, 0.0421, 0.0178, 0.0231, 0.0844, 0.0066, 0.0394, 0.0392, 0.0163],\n",
              "       grad_fn=<SelectBackward0>)"
            ]
          },
          "execution_count": 193,
          "metadata": {},
          "output_type": "execute_result"
        }
      ],
      "source": [
        "probs[0]"
      ]
    },
    {
      "cell_type": "code",
      "execution_count": null,
      "metadata": {
        "colab": {
          "base_uri": "https://localhost:8080/"
        },
        "id": "DpdM-K0AaFSi",
        "outputId": "b13a9033-6d2e-4e21-c9f6-bf7471d3c682"
      },
      "outputs": [
        {
          "name": "stdout",
          "output_type": "stream",
          "text": [
            "------\n",
            "bigrama ejemplo 1: .m, índices 0,13\n",
            "input: 0\n",
            "probabilidad del output, calculado por la red neuronal: tensor([0.0146, 0.0240, 0.0170, 0.0048, 0.0505, 0.0098, 0.1241, 0.0519, 0.0512,\n",
            "        0.0357, 0.0390, 0.0099, 0.0302, 0.0544, 0.0401, 0.0584, 0.0268, 0.0211,\n",
            "        0.0679, 0.0421, 0.0178, 0.0231, 0.0844, 0.0066, 0.0394, 0.0392, 0.0163],\n",
            "       grad_fn=<SelectBackward0>)\n",
            "output correcto: 13\n",
            "probabilidad asignada por la red al caracter correcto: 0.054369036108255386\n",
            "log likelihood -2.9119603633880615\n",
            "negative log likelihood: 2.9119603633880615\n",
            "------\n",
            "bigrama ejemplo 2: ma, índices 13,1\n",
            "input: 13\n",
            "probabilidad del output, calculado por la red neuronal: tensor([0.0190, 0.0084, 0.0094, 0.0123, 0.0760, 0.0291, 0.0261, 0.0591, 0.0548,\n",
            "        0.0536, 0.0354, 0.0165, 0.0473, 0.0186, 0.0016, 0.0602, 0.0484, 0.2626,\n",
            "        0.0251, 0.0171, 0.0043, 0.0247, 0.0068, 0.0103, 0.0107, 0.0571, 0.0055],\n",
            "       grad_fn=<SelectBackward0>)\n",
            "output correcto: 1\n",
            "probabilidad asignada por la red al caracter correcto: 0.008444707840681076\n",
            "log likelihood -4.774215221405029\n",
            "negative log likelihood: 4.774215221405029\n",
            "------\n",
            "bigrama ejemplo 3: ar, índices 1,18\n",
            "input: 1\n",
            "probabilidad del output, calculado por la red neuronal: tensor([0.0105, 0.0074, 0.1967, 0.0444, 0.0483, 0.0106, 0.0260, 0.1063, 0.0099,\n",
            "        0.0076, 0.0055, 0.0040, 0.0316, 0.0381, 0.0075, 0.0147, 0.0141, 0.1226,\n",
            "        0.0064, 0.0166, 0.0194, 0.0242, 0.0382, 0.1326, 0.0259, 0.0064, 0.0246],\n",
            "       grad_fn=<SelectBackward0>)\n",
            "output correcto: 18\n",
            "probabilidad asignada por la red al caracter correcto: 0.0064162202179431915\n",
            "log likelihood -5.048925876617432\n",
            "negative log likelihood: 5.048925876617432\n",
            "------\n",
            "bigrama ejemplo 4: ri, índices 18,9\n",
            "input: 18\n",
            "probabilidad del output, calculado por la red neuronal: tensor([0.0095, 0.0282, 0.0058, 0.1280, 0.0144, 0.0868, 0.0343, 0.0071, 0.1516,\n",
            "        0.0194, 0.0119, 0.0588, 0.0142, 0.0143, 0.0650, 0.0127, 0.0032, 0.0203,\n",
            "        0.0337, 0.0228, 0.0651, 0.0232, 0.0180, 0.0074, 0.0153, 0.0097, 0.1192],\n",
            "       grad_fn=<SelectBackward0>)\n",
            "output correcto: 9\n",
            "probabilidad asignada por la red al caracter correcto: 0.019440125674009323\n",
            "log likelihood -3.940416097640991\n",
            "negative log likelihood: 3.940416097640991\n",
            "------\n",
            "bigrama ejemplo 5: ia, índices 9,1\n",
            "input: 9\n",
            "probabilidad del output, calculado por la red neuronal: tensor([0.0251, 0.0070, 0.0123, 0.1168, 0.0567, 0.0249, 0.0779, 0.0102, 0.0246,\n",
            "        0.0103, 0.0183, 0.0747, 0.0065, 0.0576, 0.0100, 0.0353, 0.0363, 0.0152,\n",
            "        0.0735, 0.0478, 0.0073, 0.0619, 0.0161, 0.0192, 0.0172, 0.0610, 0.0762],\n",
            "       grad_fn=<SelectBackward0>)\n",
            "output correcto: 1\n",
            "probabilidad asignada por la red al caracter correcto: 0.0070234667509794235\n",
            "log likelihood -4.958498477935791\n",
            "negative log likelihood: 4.958498477935791\n",
            "------\n",
            "bigrama ejemplo 6: a., índices 1,0\n",
            "input: 1\n",
            "probabilidad del output, calculado por la red neuronal: tensor([0.0105, 0.0074, 0.1967, 0.0444, 0.0483, 0.0106, 0.0260, 0.1063, 0.0099,\n",
            "        0.0076, 0.0055, 0.0040, 0.0316, 0.0381, 0.0075, 0.0147, 0.0141, 0.1226,\n",
            "        0.0064, 0.0166, 0.0194, 0.0242, 0.0382, 0.1326, 0.0259, 0.0064, 0.0246],\n",
            "       grad_fn=<SelectBackward0>)\n",
            "output correcto: 0\n",
            "probabilidad asignada por la red al caracter correcto: 0.01051294058561325\n",
            "log likelihood -4.555148124694824\n",
            "negative log likelihood: 4.555148124694824\n",
            "-----\n",
            "promedio de la nll, i. e. loss = 4.364860534667969\n"
          ]
        }
      ],
      "source": [
        "nlls = torch.zeros(6)\n",
        "for i in range(6):\n",
        "  x = xs[i].item()\n",
        "  y = ys[i].item()\n",
        "  print('------')\n",
        "  print(f'bigrama ejemplo {i+1}: {fap[x]}{fap[y]}, índices {x},{y}')\n",
        "  print(f'input: {x}')\n",
        "  print(f'probabilidad del output, calculado por la red neuronal: {probs[i]}')\n",
        "  print(f'output correcto: {y}')\n",
        "  p = probs[i, y]\n",
        "  print(f'probabilidad asignada por la red al caracter correcto: {p.item()}')\n",
        "  logp = torch.log(p)\n",
        "  print('log likelihood', logp.item())\n",
        "  nll = -logp\n",
        "  print('negative log likelihood:', nll.item())\n",
        "  nlls[i] = nll\n",
        "\n",
        "print('-----')\n",
        "print(f'promedio de la nll, i. e. loss = {nlls.mean().item()}')"
      ]
    },
    {
      "cell_type": "code",
      "execution_count": null,
      "metadata": {
        "colab": {
          "base_uri": "https://localhost:8080/"
        },
        "id": "lpvfnq1qiyvz",
        "outputId": "37da386a-ee58-47ac-97e8-2ad635f83d7b"
      },
      "outputs": [
        {
          "data": {
            "text/plain": [
              "tensor([ 0, 13,  1,  ..., 12, 12,  1])"
            ]
          },
          "execution_count": 195,
          "metadata": {},
          "output_type": "execute_result"
        }
      ],
      "source": [
        "xs"
      ]
    },
    {
      "cell_type": "code",
      "execution_count": null,
      "metadata": {
        "colab": {
          "base_uri": "https://localhost:8080/"
        },
        "id": "8s8cMAdLk7dr",
        "outputId": "a8762889-ea90-4c30-e080-461a786d5394"
      },
      "outputs": [
        {
          "data": {
            "text/plain": [
              "tensor([13,  1, 18,  ..., 12,  1,  0])"
            ]
          },
          "execution_count": 196,
          "metadata": {},
          "output_type": "execute_result"
        }
      ],
      "source": [
        "ys"
      ]
    },
    {
      "cell_type": "code",
      "execution_count": null,
      "metadata": {
        "colab": {
          "base_uri": "https://localhost:8080/"
        },
        "id": "sxjighDTk0H-",
        "outputId": "b5b7fa48-70ba-4f0d-d2f3-d6dcaacd2028"
      },
      "outputs": [
        {
          "data": {
            "text/plain": [
              "(tensor(0.0544, grad_fn=<SelectBackward0>),\n",
              " tensor(0.0084, grad_fn=<SelectBackward0>),\n",
              " tensor(0.0064, grad_fn=<SelectBackward0>),\n",
              " tensor(0.0194, grad_fn=<SelectBackward0>),\n",
              " tensor(0.0070, grad_fn=<SelectBackward0>),\n",
              " tensor(0.0105, grad_fn=<SelectBackward0>))"
            ]
          },
          "execution_count": 197,
          "metadata": {},
          "output_type": "execute_result"
        }
      ],
      "source": [
        "probs[0,13], probs[1,1], probs[2,18], probs[3,9], probs[4,1], probs[5,0]"
      ]
    },
    {
      "cell_type": "code",
      "execution_count": null,
      "metadata": {
        "colab": {
          "base_uri": "https://localhost:8080/"
        },
        "id": "DpYsjzQJE-5X",
        "outputId": "ab3d9401-a82e-4c65-dff9-69009c336a5b"
      },
      "outputs": [
        {
          "data": {
            "text/plain": [
              "tensor(702.6670, grad_fn=<SumBackward0>)"
            ]
          },
          "execution_count": 203,
          "metadata": {},
          "output_type": "execute_result"
        }
      ],
      "source": [
        "(W**2).sum()"
      ]
    },
    {
      "cell_type": "code",
      "execution_count": null,
      "metadata": {
        "colab": {
          "base_uri": "https://localhost:8080/"
        },
        "id": "OntNtXegBWOy",
        "outputId": "8b0a7194-acc4-448e-9d05-9a3aa0d8d08c"
      },
      "outputs": [
        {
          "name": "stdout",
          "output_type": "stream",
          "text": [
            "2.4221291542053223\n",
            "2.337578296661377\n",
            "2.320709705352783\n",
            "2.315040111541748\n",
            "2.3112778663635254\n",
            "2.3103187084198\n",
            "2.3092570304870605\n",
            "2.308797836303711\n",
            "2.3081626892089844\n",
            "2.307844877243042\n"
          ]
        }
      ],
      "source": [
        "# AHORA TODO JUNTO:\n",
        "\n",
        "num = xs.nelement()\n",
        "\n",
        "# FORWARD PASS\n",
        "for i in range(10):\n",
        "  xenc = F.one_hot(xs, num_classes=27).float() # Ahora hacemos un one-hot encoding\n",
        "  logits = xenc @ W #multiplicamos valores de x por w para obtener log-counts\n",
        "  counts = logits.exp() # exponenciamos para obtener valores mayores a 0, equivalentes a matriz N\n",
        "  probs = counts / counts.sum(1, keepdims=True) # normalizar los counts para obtener probabilidades\n",
        "  probs # los últimos dos pasos son equivalentes a la función softmax\n",
        "  loss = -probs[torch.arange(num), ys].log().mean() + 0.01*(W**2).mean()\n",
        "  \n",
        "  # BACKWARD PASS\n",
        "  W.grad = None\n",
        "  loss.backward()\n",
        "  print(loss.item())\n",
        "\n",
        "  # UPDATE\n",
        "  W.data += -50 * W.grad"
      ]
    },
    {
      "cell_type": "code",
      "execution_count": null,
      "metadata": {
        "colab": {
          "base_uri": "https://localhost:8080/"
        },
        "id": "JwPHLba5CrFC",
        "outputId": "70b46a2b-4be9-453a-d249-66e38e2f19c1"
      },
      "outputs": [
        {
          "name": "stdout",
          "output_type": "stream",
          "text": [
            "celdino.\n",
            "a.\n",
            "sminoferiludaderta.\n",
            "cis.\n",
            "vada.\n"
          ]
        }
      ],
      "source": [
        "for i in range(5):\n",
        "  out = []\n",
        "  ix = 0\n",
        "  while True:\n",
        "    xenc = F.one_hot(torch.tensor([ix]), num_classes=27).float()\n",
        "    logits = xenc @ W\n",
        "    counts = logits.exp()\n",
        "    p = counts / counts.sum(1, keepdims=True).item()\n",
        "\n",
        "    ix = torch.multinomial(p, num_samples=1, replacement=True).item()\n",
        "    out.append(fap[ix])\n",
        "\n",
        "    if ix == 0:\n",
        "      break\n",
        "\n",
        "  print(''.join(out))"
      ]
    }
  ],
  "metadata": {
    "colab": {
      "provenance": []
    },
    "kernelspec": {
      "display_name": "Python 3",
      "name": "python3"
    },
    "language_info": {
      "name": "python"
    }
  },
  "nbformat": 4,
  "nbformat_minor": 0
}
