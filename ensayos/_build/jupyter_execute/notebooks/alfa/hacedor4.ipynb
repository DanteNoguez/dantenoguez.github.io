{
 "cells": [
  {
   "cell_type": "markdown",
   "metadata": {
    "id": "mWGJJFnQhflL"
   },
   "source": [
    "# Elementos de redes de onda, o El Hacedor parte IV"
   ]
  },
  {
   "cell_type": "code",
   "execution_count": 1,
   "metadata": {
    "id": "20vcSVe-RXia"
   },
   "outputs": [],
   "source": [
    "import torch\n",
    "import torch.nn.functional as F\n",
    "from torch import nn\n",
    "import numpy as np\n",
    "import matplotlib.pyplot as plt"
   ]
  },
  {
   "cell_type": "code",
   "execution_count": null,
   "metadata": {
    "id": "2wiy1BkyVoK6"
   },
   "outputs": [],
   "source": [
    "!wget https://github.com/DanteNoguez/CalculusRatiocinator/raw/main/data/nombres.txt"
   ]
  },
  {
   "cell_type": "code",
   "execution_count": 3,
   "metadata": {
    "colab": {
     "base_uri": "https://localhost:8080/"
    },
    "id": "I_nJ3lXeWVII",
    "outputId": "12834ca0-6e6b-48cb-b90e-fa3cc8eac4e2"
   },
   "outputs": [
    {
     "data": {
      "text/plain": [
       "['maria', 'rosa', 'jose', 'carmen', 'ana', 'juana', 'antonio', 'elena']"
      ]
     },
     "execution_count": 3,
     "metadata": {},
     "output_type": "execute_result"
    }
   ],
   "source": [
    "nombres = open('nombres.txt', 'r').read().splitlines()\n",
    "nombres[:8]"
   ]
  },
  {
   "cell_type": "code",
   "execution_count": 4,
   "metadata": {
    "colab": {
     "base_uri": "https://localhost:8080/"
    },
    "id": "okwXbLowXOQl",
    "outputId": "6d31f3fd-b164-4943-81c6-13f76788dd19"
   },
   "outputs": [
    {
     "data": {
      "text/plain": [
       "21029"
      ]
     },
     "execution_count": 4,
     "metadata": {},
     "output_type": "execute_result"
    }
   ],
   "source": [
    "len(nombres)"
   ]
  },
  {
   "cell_type": "code",
   "execution_count": 5,
   "metadata": {
    "colab": {
     "base_uri": "https://localhost:8080/"
    },
    "id": "FOuM5vdCXkVd",
    "outputId": "04d4781e-58ef-4df8-e422-f6be1d77480a"
   },
   "outputs": [
    {
     "name": "stdout",
     "output_type": "stream",
     "text": [
      "{1: 'a', 2: 'b', 3: 'c', 4: 'd', 5: 'e', 6: 'f', 7: 'g', 8: 'h', 9: 'i', 10: 'j', 11: 'k', 12: 'l', 13: 'm', 14: 'n', 15: 'o', 16: 'p', 17: 'q', 18: 'r', 19: 's', 20: 't', 21: 'u', 22: 'v', 23: 'w', 24: 'x', 25: 'y', 26: 'z', 0: '.'}\n"
     ]
    }
   ],
   "source": [
    "V = sorted(set(''.join(nombres)))\n",
    "paf = {p:f+1 for f, p in enumerate(V)}\n",
    "paf['.'] = 0\n",
    "fap = {f:p for p,f in paf.items()}\n",
    "print(fap)"
   ]
  },
  {
   "cell_type": "code",
   "execution_count": 6,
   "metadata": {
    "colab": {
     "base_uri": "https://localhost:8080/"
    },
    "id": "WGBY8_qlsjZk",
    "outputId": "0cc277a1-ca22-4a8a-8275-ca1e570b513e"
   },
   "outputs": [
    {
     "data": {
      "text/plain": [
       "['maria', 'rosa', 'jose']"
      ]
     },
     "execution_count": 6,
     "metadata": {},
     "output_type": "execute_result"
    }
   ],
   "source": [
    "nombres[:3]"
   ]
  },
  {
   "cell_type": "code",
   "execution_count": 7,
   "metadata": {
    "id": "9N7EnXZTZgco"
   },
   "outputs": [],
   "source": [
    "block_size = 8 # longitud del contexto\n",
    "def construir_dataset(nombres):\n",
    "  X, Y = [], []\n",
    "  for n in nombres:\n",
    "    #print(f'nombre: {n}')\n",
    "    contexto = [0] * block_size\n",
    "    for c in n + '.':\n",
    "      ix = paf[c]\n",
    "      X.append(contexto)\n",
    "      Y.append(ix)\n",
    "      #print(''.join(fap[i] for i in contexto), '----> ', fap[ix])\n",
    "      contexto = contexto[1:] + [ix]\n",
    "  \n",
    "  X = torch.tensor(X) # contexto\n",
    "  Y = torch.tensor(Y) # objetivo\n",
    "  return X, Y"
   ]
  },
  {
   "cell_type": "code",
   "execution_count": 36,
   "metadata": {
    "colab": {
     "base_uri": "https://localhost:8080/"
    },
    "id": "q-tv_YsjwIfh",
    "outputId": "09ae3fac-6b93-4837-d936-d1b136761376"
   },
   "outputs": [
    {
     "name": "stdout",
     "output_type": "stream",
     "text": [
      "nombre: maria\n",
      "........ ---->  m\n",
      ".......m ---->  a\n",
      "......ma ---->  r\n",
      ".....mar ---->  i\n",
      "....mari ---->  a\n",
      "...maria ---->  .\n",
      "nombre: rosa\n",
      "........ ---->  r\n",
      ".......r ---->  o\n",
      "......ro ---->  s\n",
      ".....ros ---->  a\n",
      "....rosa ---->  .\n"
     ]
    },
    {
     "data": {
      "text/plain": [
       "(tensor([[ 0,  0,  0,  0,  0,  0,  0,  0],\n",
       "         [ 0,  0,  0,  0,  0,  0,  0, 13],\n",
       "         [ 0,  0,  0,  0,  0,  0, 13,  1],\n",
       "         [ 0,  0,  0,  0,  0, 13,  1, 18],\n",
       "         [ 0,  0,  0,  0, 13,  1, 18,  9],\n",
       "         [ 0,  0,  0, 13,  1, 18,  9,  1],\n",
       "         [ 0,  0,  0,  0,  0,  0,  0,  0],\n",
       "         [ 0,  0,  0,  0,  0,  0,  0, 18],\n",
       "         [ 0,  0,  0,  0,  0,  0, 18, 15],\n",
       "         [ 0,  0,  0,  0,  0, 18, 15, 19],\n",
       "         [ 0,  0,  0,  0, 18, 15, 19,  1]]),\n",
       " tensor([13,  1, 18,  9,  1,  0, 18, 15, 19,  1,  0]))"
      ]
     },
     "execution_count": 36,
     "metadata": {},
     "output_type": "execute_result"
    }
   ],
   "source": [
    "construir_dataset(nombres[:2])"
   ]
  },
  {
   "cell_type": "code",
   "execution_count": 8,
   "metadata": {
    "colab": {
     "base_uri": "https://localhost:8080/"
    },
    "id": "N0zzO1IwdW5D",
    "outputId": "dbb6b735-abef-40b5-d5ec-d0de11f9066f"
   },
   "outputs": [
    {
     "data": {
      "text/plain": [
       "(torch.Size([165469, 8]),\n",
       " torch.Size([132348, 8]),\n",
       " torch.Size([16650, 8]),\n",
       " torch.Size([16471, 8]))"
      ]
     },
     "execution_count": 8,
     "metadata": {},
     "output_type": "execute_result"
    }
   ],
   "source": [
    "import random\n",
    "random.shuffle(nombres)\n",
    "n1 = int(0.8*len(nombres))\n",
    "n2 = int(0.9*len(nombres))\n",
    "\n",
    "Xtr, Ytr = construir_dataset(nombres[:n1])\n",
    "Xdev, Ydev = construir_dataset(nombres[n1:n2])\n",
    "Xte, Yte = construir_dataset(nombres[n2:])\n",
    "X, Y = construir_dataset(nombres)\n",
    "\n",
    "X.shape, Xtr.shape, Xdev.shape, Xte.shape"
   ]
  },
  {
   "cell_type": "code",
   "execution_count": 9,
   "metadata": {
    "id": "I0uqOeClM0bH"
   },
   "outputs": [],
   "source": [
    "emb_dim = 10 # cada embedding tendrá 10 dimensiones\n",
    "h = 200 # cada capa tendrá 200 unidades (hidden units)\n",
    "vocab_size = len(fap) #tamaño del vocabulario"
   ]
  },
  {
   "cell_type": "markdown",
   "metadata": {
    "id": "7DKozZLvvPVK"
   },
   "source": [
    "Como breve recordatorio, entrenemos nuestra red neuronal y veamos cómo lucía nuestra función de pérdida en nuestra lección anterior:"
   ]
  },
  {
   "cell_type": "markdown",
   "metadata": {
    "id": "_IbRii7lgxm-"
   },
   "source": [
    "### PyTorch\n",
    "\n"
   ]
  },
  {
   "cell_type": "code",
   "execution_count": 16,
   "metadata": {
    "id": "Q8siZxIJ03hR"
   },
   "outputs": [],
   "source": [
    "class Linear:\n",
    "  \n",
    "  def __init__(self, fan_in, fan_out, bias=True):\n",
    "    self.weight = torch.randn((fan_in, fan_out)) / fan_in**0.5\n",
    "    self.bias = torch.zeros(fan_out) if bias else None\n",
    "  \n",
    "  def __call__(self, x):\n",
    "    self.out = x @ self.weight\n",
    "    if self.bias is not None:\n",
    "      self.out += self.bias\n",
    "    return self.out\n",
    "  \n",
    "  def parameters(self):\n",
    "    return [self.weight] + ([] if self.bias is None else [self.bias])\n",
    "\n",
    "\n",
    "class BatchNorm1d:\n",
    "  \n",
    "  def __init__(self, dim, eps=1e-5, momentum=0.1):\n",
    "    self.eps = eps\n",
    "    self.momentum = momentum\n",
    "    self.training = True\n",
    "    # parameters (trained with backprop)\n",
    "    self.gamma = torch.ones(dim)\n",
    "    self.beta = torch.zeros(dim)\n",
    "    # buffers (trained with a running 'momentum update')\n",
    "    self.running_mean = torch.zeros(dim)\n",
    "    self.running_var = torch.ones(dim)\n",
    "  \n",
    "  def __call__(self, x):\n",
    "    # calculate the forward pass\n",
    "    if self.training:\n",
    "      if x.ndim == 2:\n",
    "        dim = 0\n",
    "      elif x.ndim ==3:\n",
    "        dim = (0,1)\n",
    "      xmean = x.mean(dim, keepdim=True) # batch mean\n",
    "      xvar = x.var(dim, keepdim=True) # batch variance\n",
    "    else:\n",
    "      xmean = self.running_mean\n",
    "      xvar = self.running_var\n",
    "    xhat = (x - xmean) / torch.sqrt(xvar + self.eps) # normalize to unit variance\n",
    "    self.out = self.gamma * xhat + self.beta\n",
    "    # update the buffers\n",
    "    if self.training:\n",
    "      with torch.no_grad():\n",
    "        self.running_mean = (1 - self.momentum) * self.running_mean + self.momentum * xmean\n",
    "        self.running_var = (1 - self.momentum) * self.running_var + self.momentum * xvar\n",
    "    return self.out\n",
    "  \n",
    "  def parameters(self):\n",
    "    return [self.gamma, self.beta]\n",
    "\n",
    "class Tanh:\n",
    "  def __call__(self, x):\n",
    "    self.out = torch.tanh(x)\n",
    "    return self.out\n",
    "  def parameters(self):\n",
    "    return []\n",
    "\n",
    "class Embedding:\n",
    "  def __init__(self, num_embeddings, embedding_dim):\n",
    "    self.weight = torch.randn((num_embeddings, embedding_dim))\n",
    "\n",
    "  def __call__(self, IX):\n",
    "    self.out = self.weight[IX]\n",
    "    return self.out\n",
    "\n",
    "  def parameters(self):\n",
    "    return [self.weight]\n",
    "\n",
    "class Flatten:\n",
    "  def __call__(self, x):\n",
    "    self.out = x.view(x.shape[0], -1)\n",
    "    return self.out\n",
    "\n",
    "  def parameters(self):\n",
    "    return []\n",
    "\n",
    "class FlattenConsecutive:\n",
    "  def __init__(self, n):\n",
    "    self.n = n\n",
    "\n",
    "  def __call__(self, x):\n",
    "    B, T, C = x.shape\n",
    "    x = x.view(B, T//self.n, C*self.n)\n",
    "    if x.shape[1] == 1:\n",
    "      x = x.squeeze(1)\n",
    "    self.out = x\n",
    "    return self.out\n",
    "\n",
    "  def parameters(self):\n",
    "    return []\n",
    "\n",
    "class Sequential:\n",
    "  def __init__(self, layers):\n",
    "    self.layers = layers\n",
    "\n",
    "  def __call__(self, x):\n",
    "    for layer in self.layers:\n",
    "      x = layer(x)\n",
    "    self.out = x\n",
    "    return self.out\n",
    "\n",
    "  def parameters(self):\n",
    "    return [p for layer in self.layers for p in layer.parameters()]"
   ]
  },
  {
   "cell_type": "code",
   "execution_count": 22,
   "metadata": {
    "colab": {
     "base_uri": "https://localhost:8080/"
    },
    "id": "n2e6jICtBz7j",
    "outputId": "158825d7-10cc-485c-8cc4-e08c0cab118a"
   },
   "outputs": [
    {
     "name": "stdout",
     "output_type": "stream",
     "text": [
      "76579\n"
     ]
    }
   ],
   "source": [
    "emb_dim = 24 # cada embedding tendrá 10 dimensiones\n",
    "block_size = 8\n",
    "h = 128 # cada capa tendrá 200 unidades (hidden units)\n",
    "vocab_size = len(fap) #tamaño del vocabulario\n",
    "batch_size = 32\n",
    "\n",
    "\n",
    "model = Sequential([\n",
    "    Embedding(vocab_size, emb_dim),\n",
    "    FlattenConsecutive(2), Linear(emb_dim * 2, h, bias=False), BatchNorm1d(h), Tanh(),\n",
    "    FlattenConsecutive(2), Linear(h * 2, h, bias=False), BatchNorm1d(h), Tanh(),\n",
    "    FlattenConsecutive(2), Linear(h * 2, h, bias=False), BatchNorm1d(h), Tanh(),\n",
    "    Linear(h, vocab_size),\n",
    "])\n",
    "\n",
    "with torch.no_grad():\n",
    "  model.layers[-1].weight *= 0.1\n",
    "\n",
    "parameters = model.parameters()\n",
    "print(sum(p.nelement() for p in parameters))\n",
    "for p in parameters:\n",
    "  p.requires_grad = True"
   ]
  },
  {
   "cell_type": "code",
   "execution_count": 23,
   "metadata": {
    "colab": {
     "base_uri": "https://localhost:8080/"
    },
    "id": "99uHr8feC2CX",
    "outputId": "3546a3dd-86ed-4e49-f847-ccc2f0239c60"
   },
   "outputs": [
    {
     "name": "stdout",
     "output_type": "stream",
     "text": [
      "      0/  10000: 3.2910\n",
      "   1000/  10000: 2.0020\n",
      "   2000/  10000: 1.8922\n",
      "   3000/  10000: 1.7809\n",
      "   4000/  10000: 1.7312\n",
      "   5000/  10000: 2.2390\n",
      "   6000/  10000: 2.0523\n",
      "   7000/  10000: 1.4820\n",
      "   8000/  10000: 1.5996\n",
      "   9000/  10000: 2.0324\n"
     ]
    }
   ],
   "source": [
    "perdida_i = []\n",
    "ud = []\n",
    "max_steps = 10000\n",
    "\n",
    "for i in range(max_steps):\n",
    "  #minibatch («minilote»)\n",
    "  ix = torch.randint(0, Xtr.shape[0], (batch_size,))\n",
    "  Xb, Yb = Xtr[ix], Ytr[ix]\n",
    "\n",
    "  # propagación hacia delante\n",
    "  logits = model(Xb)\n",
    "  perdida = F.cross_entropy(logits, Yb)\n",
    "  \n",
    "  # propagación hacia atrás\n",
    "  for p in parameters:\n",
    "    p.grad = None\n",
    "  perdida.backward()\n",
    "\n",
    "  # actualización\n",
    "  lr = 0.1 if i < 5000 else 0.01\n",
    "  for p in parameters:\n",
    "    p.data += -lr * p.grad\n",
    "\n",
    "  # estadísticas\n",
    "  if i % 1000 == 0: # print every once in a while\n",
    "    print(f'{i:7d}/{max_steps:7d}: {perdida.item():.4f}')\n",
    "  perdida_i.append(perdida.log10().item())\n",
    "  with torch.no_grad():\n",
    "    ud.append([((lr*p.grad).std() / p.data.std()).log10().item() for p in parameters])"
   ]
  },
  {
   "cell_type": "code",
   "execution_count": 24,
   "metadata": {
    "colab": {
     "base_uri": "https://localhost:8080/",
     "height": 282
    },
    "id": "2o3dNZ0kO7Lp",
    "outputId": "2992ae64-2b20-4ed1-85a5-6b38151a24a3"
   },
   "outputs": [
    {
     "data": {
      "text/plain": [
       "[<matplotlib.lines.Line2D at 0x7f32647edd10>]"
      ]
     },
     "execution_count": 24,
     "metadata": {},
     "output_type": "execute_result"
    },
    {
     "data": {
      "image/png": "[encoded data removed]",
      "text/plain": [
       "<Figure size 432x288 with 1 Axes>"
      ]
     },
     "metadata": {
      "filenames": {
       "image/png": "/Users/dantenoguez/repos/Ensayos/ensayos/_build/jupyter_execute/notebooks/alfa/hacedor4_16_1.png"
      },
      "needs_background": "light"
     },
     "output_type": "display_data"
    }
   ],
   "source": [
    "plt.plot(torch.tensor(perdida_i).view(-1, 100).mean(1))"
   ]
  },
  {
   "cell_type": "code",
   "execution_count": 25,
   "metadata": {
    "colab": {
     "base_uri": "https://localhost:8080/"
    },
    "id": "ytxmz4HFc3oP",
    "outputId": "dc486677-5205-4fe3-d770-dd30ceac4951"
   },
   "outputs": [
    {
     "name": "stdout",
     "output_type": "stream",
     "text": [
      "Embedding : (32, 8, 24)\n",
      "FlattenConsecutive : (32, 4, 48)\n",
      "Linear : (32, 4, 128)\n",
      "BatchNorm1d : (32, 4, 128)\n",
      "Tanh : (32, 4, 128)\n",
      "FlattenConsecutive : (32, 2, 256)\n",
      "Linear : (32, 2, 128)\n",
      "BatchNorm1d : (32, 2, 128)\n",
      "Tanh : (32, 2, 128)\n",
      "FlattenConsecutive : (32, 256)\n",
      "Linear : (32, 128)\n",
      "BatchNorm1d : (32, 128)\n",
      "Tanh : (32, 128)\n",
      "Linear : (32, 27)\n"
     ]
    }
   ],
   "source": [
    "for layer in model.layers:\n",
    "  print(layer.__class__.__name__, ':', tuple(layer.out.shape))"
   ]
  },
  {
   "cell_type": "code",
   "execution_count": 26,
   "metadata": {
    "id": "AE-Qkwx0S6Dj"
   },
   "outputs": [],
   "source": [
    "for layer in model.layers:\n",
    "  layer.training = False"
   ]
  },
  {
   "cell_type": "code",
   "execution_count": 27,
   "metadata": {
    "colab": {
     "base_uri": "https://localhost:8080/"
    },
    "id": "6tlNK4D1S8yD",
    "outputId": "2a0ce1fb-79d9-4fc8-c4b9-6f5a89ed9547"
   },
   "outputs": [
    {
     "name": "stdout",
     "output_type": "stream",
     "text": [
      "train 1.63508939743042\n",
      "val 1.6731863021850586\n",
      "test 1.708795189857483\n"
     ]
    }
   ],
   "source": [
    "@torch.no_grad()\n",
    "def split_loss(split):\n",
    "  x, y = {\n",
    "      'train': (Xtr, Ytr),\n",
    "      'val': (Xdev, Ydev),\n",
    "    'test': (Xte, Yte),\n",
    "  }[split]\n",
    "  logits = model(x)\n",
    "  loss = F.cross_entropy(logits, y)\n",
    "  print(split, loss.item())\n",
    "\n",
    "split_loss('train')\n",
    "split_loss('val')\n",
    "split_loss('test')"
   ]
  },
  {
   "cell_type": "code",
   "execution_count": 30,
   "metadata": {
    "colab": {
     "base_uri": "https://localhost:8080/"
    },
    "id": "vS8h0tWHQLCH",
    "outputId": "e114c28f-abb3-4202-e555-7b5a69c4dc52"
   },
   "outputs": [
    {
     "name": "stdout",
     "output_type": "stream",
     "text": [
      "grividos.\n",
      "santo.\n",
      "yrenco.\n",
      "freulh.\n",
      "romana.\n",
      "ronusa.\n",
      "flariz.\n",
      "porcidil.\n",
      "baduida.\n",
      "elisia.\n",
      "haide.\n",
      "bani.\n",
      "osgerio.\n",
      "amayca.\n",
      "jacilo.\n",
      "serveria.\n",
      "velto.\n",
      "teangiso.\n",
      "orgulio.\n",
      "abelina.\n"
     ]
    }
   ],
   "source": [
    "block_size = 8\n",
    "for _ in range(20):\n",
    "  out = []\n",
    "  context = [0] * block_size\n",
    "  while True:\n",
    "    logits = model(torch.tensor([context]))\n",
    "    probs = F.softmax(logits, dim=1)\n",
    "    ix = torch.multinomial(probs, num_samples=1).item()\n",
    "    context = context[1:] + [ix]\n",
    "    out.append(ix)\n",
    "    if ix == 0:\n",
    "      break\n",
    "\n",
    "  print(''.join(fap[i] for i in out))"
   ]
  }
 ],
 "metadata": {
  "colab": {
   "provenance": []
  },
  "kernelspec": {
   "display_name": "Python 3",
   "name": "python3"
  },
  "language_info": {
   "name": "python"
  }
 },
 "nbformat": 4,
 "nbformat_minor": 0
}