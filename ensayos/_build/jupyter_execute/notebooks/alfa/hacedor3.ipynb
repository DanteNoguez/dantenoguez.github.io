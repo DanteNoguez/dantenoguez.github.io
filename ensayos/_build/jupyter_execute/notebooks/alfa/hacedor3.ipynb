{
 "cells": [
  {
   "cell_type": "markdown",
   "metadata": {
    "id": "mWGJJFnQhflL"
   },
   "source": [
    "# Elementos de procesamiento de lenguajes naturales, parte III\n",
    "\n",
    "Continuando nuestra última lección, nos adentraremos en el mundo de las «tecniquerías», procurando continuar con la optimización de nuestra red neuronal. En particular, aprenderemos sobre la normalización de lotes (*batch normalization*), \n",
    "\n",
    "Para ello, utilizaremos los mismos datos y el mismo código que implementamos con base en el *paper* [A Neural Probabilistic Language Model](https://www.jmlr.org/papers/volume3/bengio03a/bengio03a.pdf)."
   ]
  },
  {
   "cell_type": "code",
   "execution_count": 1,
   "metadata": {
    "id": "20vcSVe-RXia"
   },
   "outputs": [],
   "source": [
    "import torch\n",
    "import torch.nn.functional as F\n",
    "from torch import nn\n",
    "import numpy as np\n",
    "import matplotlib.pyplot as plt"
   ]
  },
  {
   "cell_type": "code",
   "execution_count": null,
   "metadata": {
    "id": "2wiy1BkyVoK6"
   },
   "outputs": [],
   "source": [
    "!wget https://github.com/DanteNoguez/CalculusRatiocinator/raw/main/data/nombres.txt"
   ]
  },
  {
   "cell_type": "code",
   "execution_count": 3,
   "metadata": {
    "colab": {
     "base_uri": "https://localhost:8080/"
    },
    "id": "I_nJ3lXeWVII",
    "outputId": "f0818f69-7603-412a-9ef4-13d10b5ac788"
   },
   "outputs": [
    {
     "data": {
      "text/plain": [
       "['maria', 'rosa', 'jose', 'carmen', 'ana', 'juana', 'antonio', 'elena']"
      ]
     },
     "execution_count": 3,
     "metadata": {},
     "output_type": "execute_result"
    }
   ],
   "source": [
    "nombres = open('nombres.txt', 'r').read().splitlines()\n",
    "nombres[:8]"
   ]
  },
  {
   "cell_type": "code",
   "execution_count": 4,
   "metadata": {
    "colab": {
     "base_uri": "https://localhost:8080/"
    },
    "id": "okwXbLowXOQl",
    "outputId": "9f75efe3-6c08-4546-f637-7185bb4645d9"
   },
   "outputs": [
    {
     "data": {
      "text/plain": [
       "21029"
      ]
     },
     "execution_count": 4,
     "metadata": {},
     "output_type": "execute_result"
    }
   ],
   "source": [
    "len(nombres)"
   ]
  },
  {
   "cell_type": "code",
   "execution_count": 5,
   "metadata": {
    "colab": {
     "base_uri": "https://localhost:8080/"
    },
    "id": "FOuM5vdCXkVd",
    "outputId": "39d9723a-9cef-4fbd-e01a-b51185049c4f"
   },
   "outputs": [
    {
     "name": "stdout",
     "output_type": "stream",
     "text": [
      "{1: 'a', 2: 'b', 3: 'c', 4: 'd', 5: 'e', 6: 'f', 7: 'g', 8: 'h', 9: 'i', 10: 'j', 11: 'k', 12: 'l', 13: 'm', 14: 'n', 15: 'o', 16: 'p', 17: 'q', 18: 'r', 19: 's', 20: 't', 21: 'u', 22: 'v', 23: 'w', 24: 'x', 25: 'y', 26: 'z', 0: '.'}\n"
     ]
    }
   ],
   "source": [
    "V = sorted(set(''.join(nombres)))\n",
    "paf = {p:f+1 for f, p in enumerate(V)}\n",
    "paf['.'] = 0\n",
    "fap = {f:p for p,f in paf.items()}\n",
    "print(fap)"
   ]
  },
  {
   "cell_type": "code",
   "execution_count": 6,
   "metadata": {
    "colab": {
     "base_uri": "https://localhost:8080/"
    },
    "id": "WGBY8_qlsjZk",
    "outputId": "7df9c14b-698c-4ae3-fc1a-e6d6b27879fe"
   },
   "outputs": [
    {
     "data": {
      "text/plain": [
       "['maria', 'rosa', 'jose']"
      ]
     },
     "execution_count": 6,
     "metadata": {},
     "output_type": "execute_result"
    }
   ],
   "source": [
    "nombres[:3]"
   ]
  },
  {
   "cell_type": "code",
   "execution_count": 7,
   "metadata": {
    "id": "9N7EnXZTZgco"
   },
   "outputs": [],
   "source": [
    "block_size = 3 # longitud del contexto\n",
    "def construir_dataset(nombres):\n",
    "  X, Y = [], []\n",
    "  for n in nombres:\n",
    "    #print(f'nombre: {n}')\n",
    "    contexto = [0] * block_size\n",
    "    for c in n + '.':\n",
    "      ix = paf[c]\n",
    "      X.append(contexto)\n",
    "      Y.append(ix)\n",
    "      #print(''.join(fap[i] for i in contexto), '----> ', fap[ix])\n",
    "      contexto = contexto[1:] + [ix]\n",
    "  \n",
    "  X = torch.tensor(X) # contexto\n",
    "  Y = torch.tensor(Y) # objetivo\n",
    "  return X, Y"
   ]
  },
  {
   "cell_type": "code",
   "execution_count": 8,
   "metadata": {
    "colab": {
     "base_uri": "https://localhost:8080/"
    },
    "id": "q-tv_YsjwIfh",
    "outputId": "73d44be1-fe39-447a-ce8e-1774b4298e50"
   },
   "outputs": [
    {
     "name": "stdout",
     "output_type": "stream",
     "text": [
      "nombre: maria\n",
      "... ---->  m\n",
      "..m ---->  a\n",
      ".ma ---->  r\n",
      "mar ---->  i\n",
      "ari ---->  a\n",
      "ria ---->  .\n",
      "nombre: rosa\n",
      "... ---->  r\n",
      "..r ---->  o\n",
      ".ro ---->  s\n",
      "ros ---->  a\n",
      "osa ---->  .\n",
      "nombre: jose\n",
      "... ---->  j\n",
      "..j ---->  o\n",
      ".jo ---->  s\n",
      "jos ---->  e\n",
      "ose ---->  .\n"
     ]
    },
    {
     "data": {
      "text/plain": [
       "(tensor([[ 0,  0,  0],\n",
       "         [ 0,  0, 13],\n",
       "         [ 0, 13,  1],\n",
       "         [13,  1, 18],\n",
       "         [ 1, 18,  9],\n",
       "         [18,  9,  1],\n",
       "         [ 0,  0,  0],\n",
       "         [ 0,  0, 18],\n",
       "         [ 0, 18, 15],\n",
       "         [18, 15, 19],\n",
       "         [15, 19,  1],\n",
       "         [ 0,  0,  0],\n",
       "         [ 0,  0, 10],\n",
       "         [ 0, 10, 15],\n",
       "         [10, 15, 19],\n",
       "         [15, 19,  5]]),\n",
       " tensor([13,  1, 18,  9,  1,  0, 18, 15, 19,  1,  0, 10, 15, 19,  5,  0]))"
      ]
     },
     "execution_count": 8,
     "metadata": {},
     "output_type": "execute_result"
    }
   ],
   "source": [
    "construir_dataset(nombres[:3])"
   ]
  },
  {
   "cell_type": "code",
   "execution_count": 8,
   "metadata": {
    "colab": {
     "base_uri": "https://localhost:8080/"
    },
    "id": "N0zzO1IwdW5D",
    "outputId": "de3cb7fe-61ec-48c8-8624-2f926b21ebdf"
   },
   "outputs": [
    {
     "data": {
      "text/plain": [
       "(torch.Size([165469, 3]),\n",
       " torch.Size([132452, 3]),\n",
       " torch.Size([16468, 3]),\n",
       " torch.Size([16549, 3]))"
      ]
     },
     "execution_count": 8,
     "metadata": {},
     "output_type": "execute_result"
    }
   ],
   "source": [
    "import random\n",
    "random.shuffle(nombres)\n",
    "n1 = int(0.8*len(nombres))\n",
    "n2 = int(0.9*len(nombres))\n",
    "\n",
    "Xtr, Ytr = construir_dataset(nombres[:n1])\n",
    "Xdev, Ydev = construir_dataset(nombres[n1:n2])\n",
    "Xte, Yte = construir_dataset(nombres[n2:])\n",
    "X, Y = construir_dataset(nombres)\n",
    "\n",
    "X.shape, Xtr.shape, Xdev.shape, Xte.shape"
   ]
  },
  {
   "cell_type": "code",
   "execution_count": 9,
   "metadata": {
    "colab": {
     "base_uri": "https://localhost:8080/"
    },
    "id": "I0uqOeClM0bH",
    "outputId": "bb8cfd01-f787-4b45-c1d7-d0109084d848"
   },
   "outputs": [
    {
     "name": "stdout",
     "output_type": "stream",
     "text": [
      "11897\n"
     ]
    }
   ],
   "source": [
    "emb_dim = 10 # cada embedding tendrá 10 dimensiones\n",
    "h = 200 # cada capa tendrá 200 unidades (hidden units)\n",
    "vocab_size = len(fap) #tamaño del vocabulario\n",
    "\n",
    "C = torch.randn(vocab_size, emb_dim) # tabla de consulta\n",
    "H = torch.randn((emb_dim*block_size, h)) # pesos ocultos\n",
    "d = torch.randn(h) # sesgos ocultos\n",
    "U = torch.randn(h, vocab_size) # pesos de la segunda capa\n",
    "b = torch.randn(vocab_size) # sesgos de la segunda capa\n",
    "\n",
    "parametros = [C, H, d, U, b]\n",
    "\n",
    "print(sum(p.nelement() for p in parametros)) # número total de parámetros\n",
    "for p in parametros:\n",
    "  p.requires_grad = True"
   ]
  },
  {
   "cell_type": "markdown",
   "metadata": {
    "id": "7DKozZLvvPVK"
   },
   "source": [
    "Como breve recordatorio, entrenemos nuestra red neuronal y veamos cómo lucía nuestra función de pérdida en nuestra lección anterior:"
   ]
  },
  {
   "cell_type": "code",
   "execution_count": 10,
   "metadata": {
    "id": "qUhPiHU9SIDF"
   },
   "outputs": [],
   "source": [
    "max_steps = 10000 \n",
    "batch_size = 32\n",
    "paso_i = []\n",
    "perdidas_i = []\n",
    "\n",
    "for i in range(max_steps):\n",
    "  #minibatch («minilote»)\n",
    "  ix = torch.randint(0, Xtr.shape[0], (batch_size,))\n",
    "\n",
    "  # propagación hacia delante\n",
    "  emb = C[Xtr[ix]]\n",
    "  a = torch.tanh(emb.view(-1, emb_dim*block_size) @ H + d)\n",
    "  logits = a @ U + b\n",
    "  perdida = F.cross_entropy(logits, Ytr[ix])\n",
    "  \n",
    "  # propagación hacia atrás\n",
    "  for p in parametros:\n",
    "    p.grad = None\n",
    "  perdida.backward()\n",
    "\n",
    "  # actualización\n",
    "  lr = 0.1 if i < 5000 else 0.01\n",
    "  for p in parametros:\n",
    "    p.data += -lr * p.grad\n",
    "\n",
    "  # registrar estadísticas\n",
    "  paso_i.append(i)\n",
    "  perdidas_i.append(perdida.item())"
   ]
  },
  {
   "cell_type": "code",
   "execution_count": 11,
   "metadata": {
    "colab": {
     "base_uri": "https://localhost:8080/",
     "height": 265
    },
    "id": "GW2pHmdef7qi",
    "outputId": "307f97bd-2b80-4bc5-ac29-26c623d1e611"
   },
   "outputs": [
    {
     "data": {
      "image/png": "[encoded data removed]",
      "text/plain": [
       "<Figure size 432x288 with 1 Axes>"
      ]
     },
     "metadata": {
      "filenames": {
       "image/png": "/Users/dantenoguez/repos/Ensayos/ensayos/_build/jupyter_execute/notebooks/alfa/hacedor3_13_0.png"
      },
      "needs_background": "light"
     },
     "output_type": "display_data"
    }
   ],
   "source": [
    "plt.plot(paso_i, perdidas_i);"
   ]
  },
  {
   "cell_type": "markdown",
   "metadata": {
    "id": "h1qdhqNozMtS"
   },
   "source": [
    "Una función que nos permite obtener más fácilmente el valor actual de la función de pérdida, según queramos analizar uno u otro *split* —conjunto de datos—. Nuestra función estará precedida por un «decorador». En esencia, un decorador altera la función que precede (o que «decora»). En este caso, el decorador que utilizamos indica al programa que no debe rastrear los gradientes de nuestros parámetros. Así, nuestro programa fluye con mayor rapidez, puesto que disminuye su carga de trabajo."
   ]
  },
  {
   "cell_type": "code",
   "execution_count": 12,
   "metadata": {
    "colab": {
     "base_uri": "https://localhost:8080/"
    },
    "id": "JijctbPSzMjr",
    "outputId": "e230da6c-362c-44c5-8764-075d1d13ffb8"
   },
   "outputs": [
    {
     "name": "stdout",
     "output_type": "stream",
     "text": [
      "train 2.1176223754882812\n",
      "val 2.1515469551086426\n",
      "test 2.1483922004699707\n"
     ]
    }
   ],
   "source": [
    "@torch.no_grad() # decorador\n",
    "def perdida_split(split):\n",
    "  x,y = {'train': (Xtr, Ytr),\n",
    "         'val': (Xdev, Ydev),\n",
    "         'test': (Xte, Yte)}[split]\n",
    "  emb = C[x]\n",
    "  a = torch.tanh(emb.view(-1, emb_dim*block_size) @ H + d)\n",
    "  logits = a @ U + b\n",
    "  perdida = F.cross_entropy(logits, y)\n",
    "  print(split, perdida.item())\n",
    "\n",
    "perdida_split('train')\n",
    "perdida_split('val')\n",
    "perdida_split('test')"
   ]
  },
  {
   "cell_type": "markdown",
   "metadata": {
    "id": "8cp21nc92xAY"
   },
   "source": [
    "### Inicialización de pesos y sesgos\n",
    "\n",
    "Nuestra inicialización debería ser equivalente a $\\frac{1}{27}$, puesto que cualquier carácter debería ser igualmente probable que los demás antes de entrenar la red. Sin embargo, nuestra pérdida inicial es muchísimo peor. Según nuestro razonamiento, más bien deberíamos esperar una pérdida de:"
   ]
  },
  {
   "cell_type": "code",
   "execution_count": 73,
   "metadata": {
    "colab": {
     "base_uri": "https://localhost:8080/"
    },
    "id": "Yz7ygjsTzMhj",
    "outputId": "af28762a-153d-4b36-bedc-e65b900cd514"
   },
   "outputs": [
    {
     "data": {
      "text/plain": [
       "tensor(3.2958)"
      ]
     },
     "execution_count": 73,
     "metadata": {},
     "output_type": "execute_result"
    }
   ],
   "source": [
    "-torch.tensor(1/27.0).log() # negative log likelihood"
   ]
  },
  {
   "cell_type": "markdown",
   "metadata": {
    "id": "pm9IGvqN5h3V"
   },
   "source": [
    "Para ejemplificar lo que está pasando, veamos un ejemplo a menor escala con cuatro *logits*. Cuando obtenemos valores aleatorios, nuestra distribución de probabilidades es normal —debido al diseño de `torch.randn`— y nuestros valores son cercanos a cero, de manera que una función de pérdida iniciada con estos parámetros representa buenamente nuestro razonamiento anterior:"
   ]
  },
  {
   "cell_type": "code",
   "execution_count": 18,
   "metadata": {
    "colab": {
     "base_uri": "https://localhost:8080/"
    },
    "id": "HL2TWoyE5im0",
    "outputId": "30452a99-51cb-4478-9ed1-81a46ee110ba"
   },
   "outputs": [
    {
     "data": {
      "text/plain": [
       "(tensor([-1.1220,  0.1112, -0.9848, -0.4849]),\n",
       " tensor([0.1339, 0.4595, 0.1535, 0.2531]),\n",
       " tensor(1.8738))"
      ]
     },
     "execution_count": 18,
     "metadata": {},
     "output_type": "execute_result"
    }
   ],
   "source": [
    "logits_ej = torch.randn(4)\n",
    "probs_ej = torch.softmax(logits_ej, dim=0)\n",
    "perdida_ej = -probs_ej[2].log()\n",
    "\n",
    "logits_ej, probs_ej, perdida_ej"
   ]
  },
  {
   "cell_type": "markdown",
   "metadata": {
    "id": "UFuVeqYT7NUB"
   },
   "source": [
    "Ahora, ejemplifiquemos lo que realmente está pasando en nuestra red."
   ]
  },
  {
   "cell_type": "code",
   "execution_count": 21,
   "metadata": {
    "colab": {
     "base_uri": "https://localhost:8080/"
    },
    "id": "vPDaHhv-7Qpm",
    "outputId": "f12c65e2-4b70-4835-fb7c-42580c984791"
   },
   "outputs": [
    {
     "data": {
      "text/plain": [
       "(tensor([ 17.4183, -17.6220,   4.1508,  17.9295]),\n",
       " tensor([3.7490e-01, 2.2704e-16, 6.4850e-07, 6.2510e-01]),\n",
       " tensor(14.2486))"
      ]
     },
     "execution_count": 21,
     "metadata": {},
     "output_type": "execute_result"
    }
   ],
   "source": [
    "logits_ej = torch.randn(4) * 10 # multiplicamos por 10 los logits\n",
    "probs_ej = torch.softmax(logits_ej, dim=0)\n",
    "perdida_ej = -probs_ej[2].log()\n",
    "\n",
    "logits_ej, probs_ej, perdida_ej"
   ]
  },
  {
   "cell_type": "markdown",
   "metadata": {
    "id": "U3WfTQgo7lSa"
   },
   "source": [
    "Dado que nuestros *logits* ahora adquieren valores más extremos, la distribución se arruina puesto que divergen con mayor magnitud entre sí. Como resultado, la pérdida inicial es gigantesca. En esta misma línea, podemos inferir que nuestra pérdida mejoraría si disminuimos nuestros pesos en la inicialización, multiplicándolos por un número sumamente pequeño. Los sesgos, de la misma manera, tendrían que ser reducidos a cero inicialmente. La finalidad de todo esto es eficientar el proceso de aprendizaje de la red, puesto que de otra forma desperdiciaría los primeros cientos o miles de iteraciones intentando corregir estas divergencias en la distribución de probabilidades asignadas a las predicciones."
   ]
  },
  {
   "cell_type": "code",
   "execution_count": 157,
   "metadata": {
    "id": "FSMObwiqldOe"
   },
   "outputs": [],
   "source": [
    "C = torch.randn(vocab_size, emb_dim) # tabla de consulta\n",
    "H = torch.randn((emb_dim*block_size, h)) # pesos ocultos\n",
    "d = torch.randn(h) # sesgos ocultos\n",
    "\n",
    "U = torch.randn(h, vocab_size) * 0.01 # pesos de la segunda capa\n",
    "b = torch.randn(vocab_size) * 0.0 # sesgos de la segunda capa\n",
    "\n",
    "parametros = [C, H, d, U, b]\n",
    "for p in parametros:\n",
    "  p.requires_grad = True"
   ]
  },
  {
   "cell_type": "code",
   "execution_count": 158,
   "metadata": {
    "id": "nmHp_tco7lDA"
   },
   "outputs": [],
   "source": [
    "max_steps = 10000 \n",
    "batch_size = 32\n",
    "paso_i = []\n",
    "perdidas_i = []\n",
    "\n",
    "for i in range(max_steps):\n",
    "  #minibatch («minilote»)\n",
    "  ix = torch.randint(0, Xtr.shape[0], (batch_size,))\n",
    "\n",
    "  # propagación hacia delante\n",
    "  emb = C[Xtr[ix]]\n",
    "  a = torch.tanh(emb.view(-1, emb_dim*block_size) @ H + d)\n",
    "  logits = a @ U + b\n",
    "  perdida = F.cross_entropy(logits, Ytr[ix])\n",
    "  \n",
    "  # propagación hacia atrás\n",
    "  for p in parametros:\n",
    "    p.grad = None\n",
    "  perdida.backward()\n",
    "\n",
    "  # actualización\n",
    "  lr = 0.1 if i < 5000 else 0.01\n",
    "  for p in parametros:\n",
    "    p.data += -lr * p.grad\n",
    "\n",
    "  # registrar estadísticas\n",
    "  paso_i.append(i)\n",
    "  perdidas_i.append(perdida.item())"
   ]
  },
  {
   "cell_type": "code",
   "execution_count": 159,
   "metadata": {
    "colab": {
     "base_uri": "https://localhost:8080/",
     "height": 265
    },
    "id": "nZ2LBp-NlsuD",
    "outputId": "6a5d5452-c86d-4f95-a76a-f23b18e32d53"
   },
   "outputs": [
    {
     "data": {
      "image/png": "[encoded data removed]",
      "text/plain": [
       "<Figure size 432x288 with 1 Axes>"
      ]
     },
     "metadata": {
      "filenames": {
       "image/png": "/Users/dantenoguez/repos/Ensayos/ensayos/_build/jupyter_execute/notebooks/alfa/hacedor3_25_0.png"
      },
      "needs_background": "light"
     },
     "output_type": "display_data"
    }
   ],
   "source": [
    "plt.plot(paso_i, perdidas_i);"
   ]
  },
  {
   "cell_type": "code",
   "execution_count": 160,
   "metadata": {
    "colab": {
     "base_uri": "https://localhost:8080/"
    },
    "id": "ScPPUCtjlJ6b",
    "outputId": "3a02e5aa-7ff3-47dc-fc2e-bffe23a43ccd"
   },
   "outputs": [
    {
     "name": "stdout",
     "output_type": "stream",
     "text": [
      "train 1.8836445808410645\n",
      "val 1.9156681299209595\n",
      "test 1.9303653240203857\n"
     ]
    }
   ],
   "source": [
    "perdida_split('train')\n",
    "perdida_split('val')\n",
    "perdida_split('test')"
   ]
  },
  {
   "cell_type": "markdown",
   "metadata": {
    "id": "HdLXSeZzlMju"
   },
   "source": [
    "Nuestro gráfico de la pérdida ahora luce diferente, y nuestra pérdida final es mejor debido a que no desperdiciamos etapas de entrenamiento.\n",
    "\n",
    "### Propiedades de la tangente hiperbólica\n",
    "En nuestra [primera lección]() sobre redes neuronales, implementamos el cálculo del gradiente de la tangente hiperbólica con la fórmula `(1 - t**2)`. Por otro lado, la tangente hiperbólica «aplasta» nuestros parámetros durante el entrenamiento, dejándolos en valores que van del 0 al 1. Si somos cuidadosos, notaremos que cuando hacemos propagación hacia atrás, nuestros parámetros que después de la tangente hiperbólica sean 1 o -1, tendrán un gradiente de 0 y, por tanto, no serán entrenados. Su «influencia» en el resultado de la red neuronal será también 0.\n",
    "\n",
    "Ahora, procuraremos cuidar que nuestra red no padezca de este problema. Analicemos, por ejemplo, cómo están distribuidos nuestros parámetros después de aplicarles la tangente hiperbólica (esta es nuestra variable `a`):"
   ]
  },
  {
   "cell_type": "code",
   "execution_count": 161,
   "metadata": {
    "colab": {
     "base_uri": "https://localhost:8080/",
     "height": 265
    },
    "id": "io-y3WbKlMZK",
    "outputId": "9f2428fd-2d08-4128-cbee-8fed81cc36fe"
   },
   "outputs": [
    {
     "data": {
      "image/png": "[encoded data removed]",
      "text/plain": [
       "<Figure size 432x288 with 1 Axes>"
      ]
     },
     "metadata": {
      "filenames": {
       "image/png": "/Users/dantenoguez/repos/Ensayos/ensayos/_build/jupyter_execute/notebooks/alfa/hacedor3_28_0.png"
      },
      "needs_background": "light"
     },
     "output_type": "display_data"
    }
   ],
   "source": [
    "plt.hist(a.view(-1).tolist(), 50);"
   ]
  },
  {
   "cell_type": "markdown",
   "metadata": {
    "id": "m1DdK3AZtCz4"
   },
   "source": [
    "Por otra parte, estos son nuestros valores antes de pasar por `tanh`:"
   ]
  },
  {
   "cell_type": "code",
   "execution_count": 162,
   "metadata": {
    "colab": {
     "base_uri": "https://localhost:8080/",
     "height": 265
    },
    "id": "7aUCEAgJokL_",
    "outputId": "3c38bb2c-2bec-4270-c570-3f33c7c7e1a7"
   },
   "outputs": [
    {
     "data": {
      "image/png": "[encoded data removed]",
      "text/plain": [
       "<Figure size 432x288 with 1 Axes>"
      ]
     },
     "metadata": {
      "filenames": {
       "image/png": "/Users/dantenoguez/repos/Ensayos/ensayos/_build/jupyter_execute/notebooks/alfa/hacedor3_30_0.png"
      },
      "needs_background": "light"
     },
     "output_type": "display_data"
    }
   ],
   "source": [
    "plt.hist((emb.view(-1, emb_dim*block_size) @ H + d).view(-1).tolist(), 50);"
   ]
  },
  {
   "cell_type": "markdown",
   "metadata": {
    "id": "qhoKlgEatUub"
   },
   "source": [
    "Podemos ver que nuestros valores tienen valores extremos que, en consecuencia, terminan en las «colas» (*tails*) de la tangente hiperbólica, es decir, con valores de -1 y 1. Para visualizar esto de mejor manera, pongamos que todos los valores que sean -1 y 1 sean blancos, y negros si tienen cualquier otro valor:"
   ]
  },
  {
   "cell_type": "code",
   "execution_count": 163,
   "metadata": {
    "colab": {
     "base_uri": "https://localhost:8080/",
     "height": 245
    },
    "id": "G2k6I_mylMVC",
    "outputId": "1c8521b2-4199-4e1b-e220-86de5fa72830"
   },
   "outputs": [
    {
     "data": {
      "text/plain": [
       "<matplotlib.image.AxesImage at 0x7f6b04ac19d0>"
      ]
     },
     "execution_count": 163,
     "metadata": {},
     "output_type": "execute_result"
    },
    {
     "data": {
      "image/png": "[encoded data removed]",
      "text/plain": [
       "<Figure size 1440x720 with 1 Axes>"
      ]
     },
     "metadata": {
      "filenames": {
       "image/png": "/Users/dantenoguez/repos/Ensayos/ensayos/_build/jupyter_execute/notebooks/alfa/hacedor3_32_1.png"
      },
      "needs_background": "light"
     },
     "output_type": "display_data"
    }
   ],
   "source": [
    "plt.figure(figsize=(20,10))\n",
    "plt.imshow(a.abs() > 0.99, cmap='gray', interpolation='nearest')"
   ]
  },
  {
   "cell_type": "markdown",
   "metadata": {
    "id": "0phTScY7ts7r"
   },
   "source": [
    "Hay una cantidad ingente de blancos y esto es una mala señal, puesto que implica que muchos de nuestros parámetros no están aprendiendo nada. La solución es idéntica a nuestro ejercicio anterior: si evitamos valores extremos, minimizando los valores iniciales de los parámetros y sesgos de la primera capa, entonces deberíamos obtener una mejor y más compacta distribución de valores, evitando así valores extremos y mejorando el entrenamiento. Comprobémoslo:"
   ]
  },
  {
   "cell_type": "code",
   "execution_count": 172,
   "metadata": {
    "id": "ELtylEbVuSzS"
   },
   "outputs": [],
   "source": [
    "C = torch.randn(vocab_size, emb_dim) # tabla de consulta\n",
    "H = torch.randn((emb_dim*block_size, h)) * 0.3 # pesos ocultos\n",
    "d = torch.randn(h) * 0.01 # sesgos ocultos\n",
    "U = torch.randn(h, vocab_size) * 0.01 # pesos de la segunda capa\n",
    "b = torch.randn(vocab_size) * 0.0\n",
    "\n",
    "parametros = [C, H, d, U, b]\n",
    "for p in parametros:\n",
    "  p.requires_grad = True"
   ]
  },
  {
   "cell_type": "code",
   "execution_count": 173,
   "metadata": {
    "id": "xGwwHIxyuXrn"
   },
   "outputs": [],
   "source": [
    "for i in range(max_steps):\n",
    "  #minibatch («minilote»)\n",
    "  ix = torch.randint(0, Xtr.shape[0], (batch_size,))\n",
    "\n",
    "  # propagación hacia delante\n",
    "  emb = C[Xtr[ix]]\n",
    "  a = torch.tanh(emb.view(-1, emb_dim*block_size) @ H + d)\n",
    "  logits = a @ U + b\n",
    "  perdida = F.cross_entropy(logits, Ytr[ix])\n",
    "  \n",
    "  # propagación hacia atrás\n",
    "  for p in parametros:\n",
    "    p.grad = None\n",
    "  perdida.backward()\n",
    "\n",
    "  # actualización\n",
    "  lr = 0.1 if i < 5000 else 0.01\n",
    "  for p in parametros:\n",
    "    p.data += -lr * p.grad"
   ]
  },
  {
   "cell_type": "code",
   "execution_count": 174,
   "metadata": {
    "colab": {
     "base_uri": "https://localhost:8080/"
    },
    "id": "fLqnnGWeuXpZ",
    "outputId": "8d29ebf9-b951-4984-cfc4-b8ba4b06ec4a"
   },
   "outputs": [
    {
     "name": "stdout",
     "output_type": "stream",
     "text": [
      "train 1.867079734802246\n",
      "val 1.8933453559875488\n",
      "test 1.916183590888977\n"
     ]
    }
   ],
   "source": [
    "perdida_split('train')\n",
    "perdida_split('val')\n",
    "perdida_split('test')"
   ]
  },
  {
   "cell_type": "code",
   "execution_count": 175,
   "metadata": {
    "colab": {
     "base_uri": "https://localhost:8080/",
     "height": 245
    },
    "id": "IoW_b90CumAf",
    "outputId": "3d0a251f-333c-4744-8857-2f61b177da93"
   },
   "outputs": [
    {
     "data": {
      "text/plain": [
       "<matplotlib.image.AxesImage at 0x7f6b04a74ed0>"
      ]
     },
     "execution_count": 175,
     "metadata": {},
     "output_type": "execute_result"
    },
    {
     "data": {
      "image/png": "[encoded data removed]",
      "text/plain": [
       "<Figure size 1440x720 with 1 Axes>"
      ]
     },
     "metadata": {
      "filenames": {
       "image/png": "/Users/dantenoguez/repos/Ensayos/ensayos/_build/jupyter_execute/notebooks/alfa/hacedor3_37_1.png"
      },
      "needs_background": "light"
     },
     "output_type": "display_data"
    }
   ],
   "source": [
    "plt.figure(figsize=(20,10))\n",
    "plt.imshow(a.abs() > 0.99, cmap='gray', interpolation='nearest')"
   ]
  },
  {
   "cell_type": "markdown",
   "metadata": {
    "id": "f5HDC_McuXVm"
   },
   "source": [
    "Ahora nuestra pérdida mejoró y predomina el negro —valores distintos de -1 y 1— en nuestra red.\n",
    "\n",
    "### Inicialización Kaiming\n",
    "La generalización y formalización de nuestro razonamiento fue llevada a cabo por Kaiming He en un [*paper* del 2015](https://arxiv.org/abs/1502.01852). Análisis matemáticos mediante, descubrió que cuando utilizamos la tangente hiperbólica, nuestros pesos iniciales deben estar escalados por la fórmula $\\frac{\\frac{5}{3}}{\\sqrt{\\text{fan-in}}}$, donde *fan-in* —una expresión tomada de los circuitos eléctricos— es el número de *inputs* que toman nuestros pesos (en nuestro caso, `emb_dim*block_size`). Por tanto, nuestra inicialización debería estar escalada por $\\frac{\\frac{5}{3}}{\\sqrt{\\text{fan-in}}} = \\frac{\\frac{5}{3}}{\\sqrt{\\text{emb_dim x block_size}}} = \\frac{\\frac{5}{3}}{\\sqrt{30}}$:"
   ]
  },
  {
   "cell_type": "code",
   "execution_count": 184,
   "metadata": {
    "colab": {
     "base_uri": "https://localhost:8080/"
    },
    "id": "RMyuH5SZuXKJ",
    "outputId": "d2e43535-a297-49d5-b2f5-c730301c886d"
   },
   "outputs": [
    {
     "data": {
      "text/plain": [
       "0.3042903097250923"
      ]
     },
     "execution_count": 184,
     "metadata": {},
     "output_type": "execute_result"
    }
   ],
   "source": [
    "(5/3) / 30**0.5 # elevar a 0.5 es equivalente a obtener la raíz cuadrada"
   ]
  },
  {
   "cell_type": "markdown",
   "metadata": {
    "id": "LPqexl5OuW8r"
   },
   "source": [
    "Y obtenemos el valor que habíamos utilizado. La intuición detrás de esto es que, como decíamos, queremos minimizar los parámetros en la inicialización, y queremos también que tengan una distribución normal (gaussiana). Para conseguirlo, debemos multiplicar nuestros pesos iniciales por un número pequeño; pero para que la distribución consiga normalidad, este número pequeño debe tener ciertas cualidades —precisamente, las que la fórmula obtiene. \n",
    "\n",
    "Ejemplifiquemos: supongamos que `x` es nuestro *input* y `w` nuestra matriz de pesos. Al multiplicarlos entre sí —como hacemos en una red neuronal—, nuestra distribución cambia, aumentando la desviación estándar —la extensión de los valores—:"
   ]
  },
  {
   "cell_type": "code",
   "execution_count": 188,
   "metadata": {
    "colab": {
     "base_uri": "https://localhost:8080/",
     "height": 354
    },
    "id": "EAuubU9cuWzW",
    "outputId": "b84e4f8c-619f-4eef-d9ab-f1d818f54e4e"
   },
   "outputs": [
    {
     "name": "stdout",
     "output_type": "stream",
     "text": [
      "tensor(-0.0004) tensor(1.0086)\n",
      "tensor(-0.0133) tensor(3.1457)\n"
     ]
    },
    {
     "data": {
      "image/png": "[encoded data removed]",
      "text/plain": [
       "<Figure size 1440x360 with 2 Axes>"
      ]
     },
     "metadata": {
      "filenames": {
       "image/png": "/Users/dantenoguez/repos/Ensayos/ensayos/_build/jupyter_execute/notebooks/alfa/hacedor3_41_1.png"
      },
      "needs_background": "light"
     },
     "output_type": "display_data"
    }
   ],
   "source": [
    "x = torch.randn(1000, 10)\n",
    "w = torch.randn(10, 200)\n",
    "y = x @ w\n",
    "print(x.mean(), x.std())\n",
    "print(y.mean(), y.std())\n",
    "plt.figure(figsize=(20,5))\n",
    "plt.subplot(121)\n",
    "plt.hist(x.view(-1).tolist(), 50, density=True);\n",
    "plt.subplot(122)\n",
    "plt.hist(y.view(-1).tolist(), 50, density=True);"
   ]
  },
  {
   "cell_type": "markdown",
   "metadata": {
    "id": "j71tsMHbA-uh"
   },
   "source": [
    "Si al inicio los valores de `x` iban del -4 al 4, tras ser multiplicados por `w` ahora van del -15 al 15. Hay valores más alejados del centro de la distribución que antes, por lo que la desviación estándar es más alta. Recordemos que esto arruinaba la tangente hiperbólica. Pero si minimizamos los valores de `w`, al multiplicarlos por `x` la distribución no se expanderá. Todavía mejor: podemos minimizar los valores de `w` de tal forma que `x` mantenga exactamente la misma distribución. Para ello utilizamos las fórmulas de Kaiming He. En este ejemplo, dado que solo multiplicamos y no usamos `tanh`, la fórmula es $\\frac{1}{\\sqrt{\\text{fan-in}}}$:"
   ]
  },
  {
   "cell_type": "code",
   "execution_count": 191,
   "metadata": {
    "colab": {
     "base_uri": "https://localhost:8080/",
     "height": 354
    },
    "id": "4cns0Kl_uWw2",
    "outputId": "0ee27d89-3b08-4b27-8e22-b182186d7ea9"
   },
   "outputs": [
    {
     "name": "stdout",
     "output_type": "stream",
     "text": [
      "tensor(-0.0165) tensor(0.9966)\n",
      "tensor(-0.0028) tensor(0.9878)\n"
     ]
    },
    {
     "data": {
      "image/png": "[encoded data removed]",
      "text/plain": [
       "<Figure size 1440x360 with 2 Axes>"
      ]
     },
     "metadata": {
      "filenames": {
       "image/png": "/Users/dantenoguez/repos/Ensayos/ensayos/_build/jupyter_execute/notebooks/alfa/hacedor3_43_1.png"
      },
      "needs_background": "light"
     },
     "output_type": "display_data"
    }
   ],
   "source": [
    "x = torch.randn(1000, 10)\n",
    "w = torch.randn(10, 200) * 1 / 10**0.5\n",
    "y = x @ w\n",
    "print(x.mean(), x.std())\n",
    "print(y.mean(), y.std())\n",
    "plt.figure(figsize=(20,5))\n",
    "plt.subplot(121)\n",
    "plt.hist(x.view(-1).tolist(), 50, density=True);\n",
    "plt.subplot(122)\n",
    "plt.hist(y.view(-1).tolist(), 50, density=True);"
   ]
  },
  {
   "cell_type": "markdown",
   "metadata": {
    "id": "ZCt2mabiCyJw"
   },
   "source": [
    "Aunque los valores cambiaran, la desviación estándar permanece igual. \n",
    "\n",
    "### Normalización por lotes (*batch normalization*)\n",
    "Una técnica que cumple la misma función, pero que se utiliza más ampliamente por sus propiedades, es la llamada [«normalización por lotes»](https://arxiv.org/abs/1502.03167). En esencia, podemos prescindir de las fórmulas de Kaiming He y generalizar todavía más su solución. Para ello, normalizamos directamente la distribución de valores de cada matriz de pesos. El algoritmo luce así:\n",
    "\n",
    "$$\n",
    "\\begin{array}{rlr|}\n",
    "\\hline \\text { Input: } & \\text { Values of } x \\text { over a mini-batch: } \\mathcal{B}=\\left\\{x_{1 \\ldots m}\\right\\}  \\\\\n",
    "& \\text { Parameters to be learned: } \\gamma, \\beta \\\\\n",
    "\\text { Output: } & \\left\\{y_i=\\mathrm{BN}_{\\gamma, \\beta}\\left(x_i\\right)\\right\\} & \\\\\n",
    "\\mu_{\\mathcal{B}} & \\leftarrow \\frac{1}{m} \\sum_{i=1}^m x_i & / / \\text { mini-batch mean } \\\\\n",
    "\\sigma_{\\mathcal{B}}^2 & \\leftarrow \\frac{1}{m} \\sum_{i=1}^m\\left(x_i-\\mu_{\\mathcal{B}}\\right)^2 & / / \\text { mini-batch variance } \\\\\n",
    "\\widehat{x}_i & \\leftarrow \\frac{x_i-\\mu_{\\mathcal{B}}}{\\sqrt{\\sigma_{\\mathcal{B}}^2+\\epsilon}} & \\quad / / \\text { normalize } \\\\\n",
    "y_i & \\leftarrow \\gamma \\widehat{x}_i+\\beta \\equiv \\operatorname{BN}_{\\gamma, \\beta}\\left(x_i\\right) & / / \\text { scale and shift }\n",
    "\\end{array}\n",
    "$$\n",
    "\n",
    "Y aunque parezca complicado, la implementación programática es bastante sencilla:"
   ]
  },
  {
   "cell_type": "code",
   "execution_count": 40,
   "metadata": {
    "id": "m3FhHz-AgxOR"
   },
   "outputs": [],
   "source": [
    "C = torch.randn(vocab_size, emb_dim) # tabla de consulta\n",
    "H = torch.randn((emb_dim*block_size, h)) * 0.3 # pesos ocultos\n",
    "#d = torch.randn(h) * 0.01 # sesgos ocultos\n",
    "U = torch.randn(h, vocab_size) * 0.01 # pesos de la segunda capa\n",
    "b = torch.randn(vocab_size) * 0.0\n",
    "\n",
    "bngain = torch.ones((1, h)) # gamma\n",
    "bnbias = torch.zeros((1, h)) # beta\n",
    "bnmean_running = torch.zeros((1, h))\n",
    "bnstd_running = torch.ones((1, h))\n",
    "\n",
    "parametros = [C, H, U, b, bngain, bnbias]\n",
    "for p in parametros:\n",
    "  p.requires_grad = True"
   ]
  },
  {
   "cell_type": "code",
   "execution_count": 41,
   "metadata": {
    "id": "NJ4_0SBJg47C"
   },
   "outputs": [],
   "source": [
    "for i in range(max_steps):\n",
    "  #minibatch («minilote»)\n",
    "  ix = torch.randint(0, Xtr.shape[0], (batch_size,))\n",
    "\n",
    "  # propagación hacia delante\n",
    "  emb = C[Xtr[ix]]\n",
    "  pre_a = emb.view(-1, emb_dim*block_size) @ H #+ d\n",
    "  # BatchNorm\n",
    "  # -----\n",
    "  bnmean_i = pre_a.mean(0, keepdim=True)\n",
    "  bnstd_i =  pre_a.std(0, keepdim=True)\n",
    "  pre_a = bngain * (pre_a - bnmean_i) / bnstd_i + bnbias\n",
    "  with torch.no_grad():\n",
    "    bnmean_running = 0.999 * bnmean_running + 0.001 * bnmean_i\n",
    "    bnstd_running = 0.999 * bnstd_running + 0.001 * bnstd_i \n",
    "  # -----\n",
    "  a = torch.tanh(pre_a)\n",
    "  logits = a @ U + b\n",
    "  perdida = F.cross_entropy(logits, Ytr[ix])\n",
    "  \n",
    "  # propagación hacia atrás\n",
    "  for p in parametros:\n",
    "    p.grad = None\n",
    "  perdida.backward()\n",
    "\n",
    "  # actualización\n",
    "  lr = 0.1 if i < 5000 else 0.01\n",
    "  for p in parametros:\n",
    "    p.data += -lr * p.grad"
   ]
  },
  {
   "cell_type": "code",
   "execution_count": 42,
   "metadata": {
    "colab": {
     "base_uri": "https://localhost:8080/"
    },
    "id": "5fuHTDkkhGlx",
    "outputId": "892006dc-0925-47ea-b876-abe54813d538"
   },
   "outputs": [
    {
     "name": "stdout",
     "output_type": "stream",
     "text": [
      "train 1.9545596837997437\n",
      "val 1.9609586000442505\n",
      "test 1.9600375890731812\n"
     ]
    }
   ],
   "source": [
    "@torch.no_grad() # decorador\n",
    "def perdida_split(split):\n",
    "  x,y = {'train': (Xtr, Ytr),\n",
    "         'val': (Xdev, Ydev),\n",
    "         'test': (Xte, Yte)}[split]\n",
    "  emb = C[x]\n",
    "  pre_a = emb.view(-1, emb_dim*block_size) @ H + d\n",
    "  pre_a = bngain * (pre_a - bnmean_running) / bnstd_running + bnbias\n",
    "  a = torch.tanh(pre_a)\n",
    "  logits = a @ U + b\n",
    "  perdida = F.cross_entropy(logits, y)\n",
    "  print(split, perdida.item())\n",
    "\n",
    "perdida_split('train')\n",
    "perdida_split('val')\n",
    "perdida_split('test')"
   ]
  },
  {
   "cell_type": "markdown",
   "metadata": {
    "id": "_IbRii7lgxm-"
   },
   "source": [
    "### PyTorch\n",
    "\n"
   ]
  },
  {
   "cell_type": "code",
   "execution_count": 62,
   "metadata": {
    "id": "Q8siZxIJ03hR"
   },
   "outputs": [],
   "source": [
    "class Linear:\n",
    "  \n",
    "  def __init__(self, fan_in, fan_out, bias=True):\n",
    "    self.weight = torch.randn((fan_in, fan_out)) / fan_in**0.5\n",
    "    self.bias = torch.zeros(fan_out) if bias else None\n",
    "  \n",
    "  def __call__(self, x):\n",
    "    self.out = x @ self.weight\n",
    "    if self.bias is not None:\n",
    "      self.out += self.bias\n",
    "    return self.out\n",
    "  \n",
    "  def parameters(self):\n",
    "    return [self.weight] + ([] if self.bias is None else [self.bias])\n",
    "\n",
    "\n",
    "class BatchNorm1d:\n",
    "  \n",
    "  def __init__(self, dim, eps=1e-5, momentum=0.1):\n",
    "    self.eps = eps\n",
    "    self.momentum = momentum\n",
    "    self.training = True\n",
    "    # parameters (trained with backprop)\n",
    "    self.gamma = torch.ones(dim)\n",
    "    self.beta = torch.zeros(dim)\n",
    "    # buffers (trained with a running 'momentum update')\n",
    "    self.running_mean = torch.zeros(dim)\n",
    "    self.running_var = torch.ones(dim)\n",
    "  \n",
    "  def __call__(self, x):\n",
    "    # calculate the forward pass\n",
    "    if self.training:\n",
    "      xmean = x.mean(0, keepdim=True) # batch mean\n",
    "      xvar = x.var(0, keepdim=True) # batch variance\n",
    "    else:\n",
    "      xmean = self.running_mean\n",
    "      xvar = self.running_var\n",
    "    xhat = (x - xmean) / torch.sqrt(xvar + self.eps) # normalize to unit variance\n",
    "    self.out = self.gamma * xhat + self.beta\n",
    "    # update the buffers\n",
    "    if self.training:\n",
    "      with torch.no_grad():\n",
    "        self.running_mean = (1 - self.momentum) * self.running_mean + self.momentum * xmean\n",
    "        self.running_var = (1 - self.momentum) * self.running_var + self.momentum * xvar\n",
    "    return self.out\n",
    "  \n",
    "  def parameters(self):\n",
    "    return [self.gamma, self.beta]\n",
    "\n",
    "class Tanh:\n",
    "  def __call__(self, x):\n",
    "    self.out = torch.tanh(x)\n",
    "    return self.out\n",
    "  def parameters(self):\n",
    "    return []"
   ]
  },
  {
   "cell_type": "code",
   "execution_count": 63,
   "metadata": {
    "colab": {
     "base_uri": "https://localhost:8080/"
    },
    "id": "n2e6jICtBz7j",
    "outputId": "f12843cd-b751-4cc5-fac3-770793918b44"
   },
   "outputs": [
    {
     "name": "stdout",
     "output_type": "stream",
     "text": [
      "92924\n"
     ]
    }
   ],
   "source": [
    "emb_dim = 10 # cada embedding tendrá 10 dimensiones\n",
    "block_size = 3\n",
    "h = 200 # cada capa tendrá 200 unidades (hidden units)\n",
    "vocab_size = len(fap) #tamaño del vocabulario\n",
    "\n",
    "C = torch.randn(vocab_size, emb_dim) # tabla de consulta\n",
    "layers = [\n",
    "    Linear(emb_dim * block_size, h, bias=False), BatchNorm1d(h), Tanh(),\n",
    "    Linear(h, h, bias=False), BatchNorm1d(h), Tanh(),\n",
    "    Linear(h, h, bias=False), BatchNorm1d(h), Tanh(),\n",
    "    Linear(h, vocab_size, bias=False), BatchNorm1d(vocab_size),\n",
    "]\n",
    "\n",
    "with torch.no_grad():\n",
    "  layers[-1].gamma *= 0.1\n",
    "  for layer in layers[:-1]:\n",
    "    if isinstance(layer, Linear):\n",
    "      layer.weight *= 1.0\n",
    "\n",
    "parameters = [C] + [p for layer in layers for p in layer.parameters()]\n",
    "print(sum(p.nelement() for p in parameters))\n",
    "for p in parameters:\n",
    "  p.requires_grad = True"
   ]
  },
  {
   "cell_type": "code",
   "execution_count": 64,
   "metadata": {
    "colab": {
     "base_uri": "https://localhost:8080/"
    },
    "id": "99uHr8feC2CX",
    "outputId": "ab051e71-991e-4784-9571-ec7ca36e2166"
   },
   "outputs": [
    {
     "name": "stdout",
     "output_type": "stream",
     "text": [
      "      0/  10000: 3.3156\n",
      "   1000/  10000: 3.2813\n",
      "   2000/  10000: 3.2792\n",
      "   3000/  10000: 3.3146\n",
      "   4000/  10000: 3.3071\n",
      "   5000/  10000: 3.2983\n",
      "   6000/  10000: 3.2956\n",
      "   7000/  10000: 3.2848\n",
      "   8000/  10000: 3.2666\n",
      "   9000/  10000: 3.3004\n"
     ]
    }
   ],
   "source": [
    "perdida_i = []\n",
    "ud = []\n",
    "max_steps = 10000\n",
    "\n",
    "for i in range(max_steps):\n",
    "  #minibatch («minilote»)\n",
    "  ix = torch.randint(0, Xtr.shape[0], (batch_size,))\n",
    "\n",
    "  # propagación hacia delante\n",
    "  emb = C[Xtr[ix]]\n",
    "  x = emb.view(emb.shape[0], -1)\n",
    "  for layer in layers:\n",
    "    x = layer(x)\n",
    "  perdida = F.cross_entropy(x, Ytr[ix])\n",
    "  \n",
    "  # propagación hacia atrás\n",
    "  for layer in layers:\n",
    "    layer.out.retain_grad()\n",
    "  for p in parameters:\n",
    "    p.grad = None\n",
    "  perdida.backward()\n",
    "\n",
    "  # actualización\n",
    "  lr = 0.1 if i < 5000 else 0.01\n",
    "  for p in parametros:\n",
    "    p.data += -lr * p.grad\n",
    "\n",
    "  # estadísticas\n",
    "  if i % 1000 == 0: # print every once in a while\n",
    "    print(f'{i:7d}/{max_steps:7d}: {perdida.item():.4f}')\n",
    "  perdidas_i.append(perdida.log10().item())\n",
    "  with torch.no_grad():\n",
    "    ud.append([((lr*p.grad).std() / p.data.std()).log10().item() for p in parameters])"
   ]
  },
  {
   "cell_type": "code",
   "execution_count": 36,
   "metadata": {
    "colab": {
     "base_uri": "https://localhost:8080/"
    },
    "id": "vS8h0tWHQLCH",
    "outputId": "24aecf1d-bf1e-457e-8032-4587b89cf1c8"
   },
   "outputs": [
    {
     "name": "stdout",
     "output_type": "stream",
     "text": [
      "rulio.\n",
      "maria.\n",
      "homerigjovina.\n",
      "aso.\n",
      "lilandioleda.\n",
      "jer.\n",
      "valdinza.\n",
      "sumenda.\n",
      "ener.\n",
      "neleudotgimio.\n",
      "idelermovelina.\n",
      "delma.\n",
      "elzy.\n",
      "balbertorancio.\n",
      "casikufinechuio.\n",
      "ber.\n",
      "helola.\n",
      "pino.\n",
      "moriana.\n",
      "alberijonelicio.\n"
     ]
    }
   ],
   "source": [
    "block_size = 3\n",
    "for _ in range(20):\n",
    "  out = []\n",
    "  context = [0] * block_size\n",
    "  while True:\n",
    "    emb = C[torch.tensor([context])]\n",
    "    a = torch.tanh(emb.view(1, -1) @ H + d)\n",
    "    logits = a @ U + b\n",
    "    probs = F.softmax(logits, dim=1)\n",
    "    ix = torch.multinomial(probs, num_samples=1).item()\n",
    "    context = context[1:] + [ix]\n",
    "    out.append(ix)\n",
    "    if ix == 0:\n",
    "      break\n",
    "\n",
    "  print(''.join(fap[i] for i in out))"
   ]
  }
 ],
 "metadata": {
  "colab": {
   "provenance": []
  },
  "kernelspec": {
   "display_name": "Python 3",
   "name": "python3"
  },
  "language_info": {
   "name": "python"
  }
 },
 "nbformat": 4,
 "nbformat_minor": 0
}