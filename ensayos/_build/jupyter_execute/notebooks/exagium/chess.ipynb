{
 "cells": [
  {
   "cell_type": "markdown",
   "metadata": {
    "id": "GI2PWUs7JChY"
   },
   "source": [
    "<iframe id=\"9594799\" allowtransparency=\"true\" frameborder=\"0\" style=\"width:100%;border:none;\" src=\"//www.chess.com/emboard?id=9594799\"></iframe><script>window.addEventListener(\"message\",e=>{e['data']&&\"9594799\"===e['data']['id']&&document.getElementById(`${e['data']['id']}`)&&(document.getElementById(`${e['data']['id']}`).style.height=`${e['data']['frameHeight']+30}px`)});</script> "
   ]
  }
 ],
 "metadata": {
  "colab": {
   "provenance": []
  },
  "kernelspec": {
   "display_name": "Python 3",
   "name": "python3"
  },
  "language_info": {
   "name": "python"
  }
 },
 "nbformat": 4,
 "nbformat_minor": 0
}