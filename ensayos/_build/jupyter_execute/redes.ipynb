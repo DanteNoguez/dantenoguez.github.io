{
 "cells": [
  {
   "cell_type": "markdown",
   "metadata": {
    "id": "cXY3yC_9YofV"
   },
   "source": [
    "# Elementos de redes neuronales\n",
    "Este ensayo estará inspirado en [micrograd](https://github.com/karpathy/micrograd) de Andrej Karpathy. En esencia, construiremos una red neuronal desde cero, explicando a detalle cada uno de sus elementos.\n",
    "\n",
    "```{margin}\n",
    "*Como prerrequisitos para esta lección, sugiero leer la [lección anterior](https://dantenoguez.github.io/Ensayos/elementos-program.html) y el artículo de Khan Academy sobre la [pendiente matemática](https://es.khanacademy.org/math/cc-eighth-grade-math/cc-8th-linear-equations-functions/8th-slope/a/slope-from-two-points).*\n",
    "```\n",
    "\n",
    "En primer lugar, crearemos la «clase» `Numero`, es decir, formularemos una estructura que nos permita definir, modificar y operar con números. Dado que las redes neuronales son gigantescas expresiones matemáticas, los números serán nuestros elementos primarios. De momento, cada número tendrá las siguientes propiedades: un valor, un par de valores previos que pueden generarlo (por ejemplo, 1 y 1 en el caso de que sumados nos den el número 2), la operación que genera al número (en nuestro ejemplo, la suma) y una etiqueta en caso de que queramos asociar nuestro número a una variable. Agregaremos también funciones (suma, resta, etcétera) para operar con nuestros números:"
   ]
  },
  {
   "cell_type": "code",
   "execution_count": null,
   "metadata": {
    "id": "2JOJFKA84lh7"
   },
   "outputs": [],
   "source": [
    "!pip install matplotlib --upgrade"
   ]
  },
  {
   "cell_type": "code",
   "execution_count": 24,
   "metadata": {
    "id": "Xog7ax-r4mjy"
   },
   "outputs": [],
   "source": [
    "import math\n",
    "import matplotlib.pyplot as plt\n",
    "import numpy as np"
   ]
  },
  {
   "cell_type": "code",
   "execution_count": 25,
   "metadata": {
    "id": "w7d9DNicPsjo"
   },
   "outputs": [],
   "source": [
    "class Numero:\n",
    "  def __init__(self, valor, _previos=(), _op='', etiqueta=''):\n",
    "    self.valor = valor\n",
    "    self._previos = set(_previos)\n",
    "    self._op = _op\n",
    "    self.etiqueta = etiqueta\n",
    "\n",
    "  def __add__(self, otro): # adición\n",
    "    otro = otro if isinstance(otro, Numero) else Numero(otro) # nos cercioramos de que el otro valor sea un Número\n",
    "    resultado = Numero(self.valor + otro.valor, (self, otro), '+')\n",
    "    return resultado\n",
    "\n",
    "  def __radd__(self, otro): # en Python, debemos apoyarnos de una función extra (con prefijo r) para casos en los que la función anterior no funcione\n",
    "    return self + otro\n",
    "\n",
    "  def __mul__(self, otro): # multiplicación\n",
    "    otro = otro if isinstance(otro, Numero) else Numero(otro)\n",
    "    resultado = Numero(self.valor * otro.valor, (self, otro), '*')\n",
    "    return resultado\n",
    "\n",
    "  def __rmul__(self, otro):\n",
    "    return self * otro\n",
    "\n",
    "  def __sub__(self, otro): # resta, substracción\n",
    "    return self + (-otro)\n",
    "\n",
    "  def __rsub__(self, otro):\n",
    "    return otro + (-self)\n",
    "\n",
    "  def __pow__(self, otro):\n",
    "    assert isinstance(otro, (int, float))\n",
    "    resultado = Numero(self.valor**otro, (self,), f'**{otro}')\n",
    "    return resultado\n",
    "\n",
    "  def __truediv__(self, otro): # división\n",
    "    return self * otro**-1 #dividir es lo mismo que multiplicar por el dividendo elevado a la menos 1\n",
    "  \n",
    "  def __rtruediv__(self, otro):\n",
    "    return otro * self**-1\n",
    "\n",
    "  def __neg__(self): # volver negativo un número\n",
    "    return self * -1\n",
    "\n",
    "  def __repr__(self):\n",
    "    return f'Valor={self.valor}' # esta función determina cómo se representa nuestro número\n"
   ]
  },
  {
   "cell_type": "code",
   "execution_count": 26,
   "metadata": {
    "colab": {
     "base_uri": "https://localhost:8080/"
    },
    "id": "aDx-aC3RW_U5",
    "outputId": "2a3fe439-738f-40ec-9d79-a4d1971abacb"
   },
   "outputs": [
    {
     "name": "stdout",
     "output_type": "stream",
     "text": [
      "Valor=10 | Valores previos: {Valor=2, Valor=5}, | Operación realizada para generar c: *\n"
     ]
    }
   ],
   "source": [
    "a = Numero(2, etiqueta='a') # definimos dos Números: a y b\n",
    "b = Numero(5, etiqueta='b')\n",
    "c = a*b # definimos c, que es el resultado de multiplicar a y b\n",
    "\n",
    "print(f'{c} | Valores previos: {c._previos}, | Operación realizada para generar c: {c._op}')"
   ]
  },
  {
   "cell_type": "markdown",
   "metadata": {
    "id": "hGlu4bMAaccB"
   },
   "source": [
    "Antes de pasar a revisar conceptos más complicados, podemos visualizar de mejor manera lo que acabamos de hacer. \n",
    "```{margin}\n",
    "El código para graficar no tiene que ver con las redes neuronales, de manera que queda fuera de nuestro enfoque explicarlo.\n",
    "```"
   ]
  },
  {
   "cell_type": "code",
   "execution_count": 27,
   "metadata": {
    "id": "SOKC3geffwhO"
   },
   "outputs": [],
   "source": [
    "from graphviz import Digraph\n",
    "\n",
    "def rastreo(origen):\n",
    "  # construye un conjunto de todos los nodos en un gráfico\n",
    "  nodos, lineas = set(), set()\n",
    "  def construir(v):\n",
    "    if v not in nodos:\n",
    "      nodos.add(v)\n",
    "      for parte in v._previos:\n",
    "        lineas.add((parte, v))\n",
    "        construir(parte)\n",
    "  construir(origen)\n",
    "  return nodos, lineas\n",
    "\n",
    "def graficar(origen):\n",
    "  grafica = Digraph(format='svg', graph_attr={'rankdir': 'LR'}) # left to right, izquierda a derecha\n",
    "\n",
    "  nodos, lineas = rastreo(origen)\n",
    "  for n in nodos:\n",
    "    uid = str(id(n))\n",
    "    # por cada valor en la grafica, crea un nodo rectangular ('record') para él\n",
    "    grafica.node(name=uid, label='{ %s | valor %.4f}' % (n.etiqueta, n.valor), shape='record')\n",
    "    if n._op:\n",
    "      # si el valor es resultado de una operación, crea un nodo para la operación\n",
    "      grafica.node(name = uid + n._op, label = n._op)\n",
    "      # conecta los nodos\n",
    "      grafica.edge(uid + n._op, uid)\n",
    "\n",
    "  for n1, n2 in lineas:\n",
    "    # conecta n1 al nodo operación de n2\n",
    "    grafica.edge(str(id(n1)), str(id(n2)) + n2._op)\n",
    "\n",
    "  return grafica"
   ]
  },
  {
   "cell_type": "markdown",
   "metadata": {
    "id": "GJcCwCXOh7rO"
   },
   "source": [
    "Ahora ya podemos graficar los resultados que vimos para la variable $c$:"
   ]
  },
  {
   "cell_type": "code",
   "execution_count": 28,
   "metadata": {
    "colab": {
     "base_uri": "https://localhost:8080/",
     "height": 154
    },
    "id": "3wIv8bAmhu52",
    "outputId": "5e0efcc5-e904-4749-8a05-4e0a4aab4378"
   },
   "outputs": [
    {
     "data": {
      "image/svg+xml": [
       "<?xml version=\"1.0\" encoding=\"UTF-8\" standalone=\"no\"?>\n",
       "<!DOCTYPE svg PUBLIC \"-//W3C//DTD SVG 1.1//EN\"\n",
       " \"http://www.w3.org/Graphics/SVG/1.1/DTD/svg11.dtd\">\n",
       "<!-- Generated by graphviz version 2.40.1 (20161225.0304)\n",
       " -->\n",
       "<!-- Title: %3 Pages: 1 -->\n",
       "<svg width=\"370pt\" height=\"100pt\"\n",
       " viewBox=\"0.00 0.00 370.00 100.00\" xmlns=\"http://www.w3.org/2000/svg\" xmlns:xlink=\"http://www.w3.org/1999/xlink\">\n",
       "<g id=\"graph0\" class=\"graph\" transform=\"scale(1 1) rotate(0) translate(4 96)\">\n",
       "<title>%3</title>\n",
       "<polygon fill=\"#ffffff\" stroke=\"transparent\" points=\"-4,4 -4,-96 366,-96 366,4 -4,4\"/>\n",
       "<!-- 140242264506128 -->\n",
       "<g id=\"node1\" class=\"node\">\n",
       "<title>140242264506128</title>\n",
       "<polygon fill=\"none\" stroke=\"#000000\" points=\"241,-27.5 241,-63.5 362,-63.5 362,-27.5 241,-27.5\"/>\n",
       "<text text-anchor=\"middle\" x=\"252.5\" y=\"-41.8\" font-family=\"Times,serif\" font-size=\"14.00\" fill=\"#000000\">c</text>\n",
       "<polyline fill=\"none\" stroke=\"#000000\" points=\"264,-27.5 264,-63.5 \"/>\n",
       "<text text-anchor=\"middle\" x=\"313\" y=\"-41.8\" font-family=\"Times,serif\" font-size=\"14.00\" fill=\"#000000\">valor 10.0000</text>\n",
       "</g>\n",
       "<!-- 140242264506128* -->\n",
       "<g id=\"node2\" class=\"node\">\n",
       "<title>140242264506128*</title>\n",
       "<ellipse fill=\"none\" stroke=\"#000000\" cx=\"178\" cy=\"-45.5\" rx=\"27\" ry=\"18\"/>\n",
       "<text text-anchor=\"middle\" x=\"178\" y=\"-41.8\" font-family=\"Times,serif\" font-size=\"14.00\" fill=\"#000000\">*</text>\n",
       "</g>\n",
       "<!-- 140242264506128*&#45;&gt;140242264506128 -->\n",
       "<g id=\"edge1\" class=\"edge\">\n",
       "<title>140242264506128*&#45;&gt;140242264506128</title>\n",
       "<path fill=\"none\" stroke=\"#000000\" d=\"M205.1026,-45.5C212.7894,-45.5 221.5352,-45.5 230.5486,-45.5\"/>\n",
       "<polygon fill=\"#000000\" stroke=\"#000000\" points=\"230.7966,-49.0001 240.7965,-45.5 230.7965,-42.0001 230.7966,-49.0001\"/>\n",
       "</g>\n",
       "<!-- 140242264505360 -->\n",
       "<g id=\"node3\" class=\"node\">\n",
       "<title>140242264505360</title>\n",
       "<polygon fill=\"none\" stroke=\"#000000\" points=\"0,-55.5 0,-91.5 115,-91.5 115,-55.5 0,-55.5\"/>\n",
       "<text text-anchor=\"middle\" x=\"12\" y=\"-69.8\" font-family=\"Times,serif\" font-size=\"14.00\" fill=\"#000000\">b</text>\n",
       "<polyline fill=\"none\" stroke=\"#000000\" points=\"24,-55.5 24,-91.5 \"/>\n",
       "<text text-anchor=\"middle\" x=\"69.5\" y=\"-69.8\" font-family=\"Times,serif\" font-size=\"14.00\" fill=\"#000000\">valor 5.0000</text>\n",
       "</g>\n",
       "<!-- 140242264505360&#45;&gt;140242264506128* -->\n",
       "<g id=\"edge2\" class=\"edge\">\n",
       "<title>140242264505360&#45;&gt;140242264506128*</title>\n",
       "<path fill=\"none\" stroke=\"#000000\" d=\"M115.2794,-60.0741C124.5548,-57.9188 133.9085,-55.7453 142.459,-53.7585\"/>\n",
       "<polygon fill=\"#000000\" stroke=\"#000000\" points=\"143.4829,-57.1139 152.4312,-51.4413 141.8985,-50.2955 143.4829,-57.1139\"/>\n",
       "</g>\n",
       "<!-- 140242264505744 -->\n",
       "<g id=\"node4\" class=\"node\">\n",
       "<title>140242264505744</title>\n",
       "<polygon fill=\"none\" stroke=\"#000000\" points=\".5,-.5 .5,-36.5 114.5,-36.5 114.5,-.5 .5,-.5\"/>\n",
       "<text text-anchor=\"middle\" x=\"12\" y=\"-14.8\" font-family=\"Times,serif\" font-size=\"14.00\" fill=\"#000000\">a</text>\n",
       "<polyline fill=\"none\" stroke=\"#000000\" points=\"23.5,-.5 23.5,-36.5 \"/>\n",
       "<text text-anchor=\"middle\" x=\"69\" y=\"-14.8\" font-family=\"Times,serif\" font-size=\"14.00\" fill=\"#000000\">valor 2.0000</text>\n",
       "</g>\n",
       "<!-- 140242264505744&#45;&gt;140242264506128* -->\n",
       "<g id=\"edge3\" class=\"edge\">\n",
       "<title>140242264505744&#45;&gt;140242264506128*</title>\n",
       "<path fill=\"none\" stroke=\"#000000\" d=\"M114.5741,-31.2884C124.1055,-33.4241 133.7433,-35.5836 142.5296,-37.5523\"/>\n",
       "<polygon fill=\"#000000\" stroke=\"#000000\" points=\"141.8722,-40.9917 152.3955,-39.7629 143.4028,-34.1611 141.8722,-40.9917\"/>\n",
       "</g>\n",
       "</g>\n",
       "</svg>\n"
      ],
      "text/plain": [
       "<graphviz.dot.Digraph at 0x7f8cb25f4110>"
      ]
     },
     "execution_count": 28,
     "metadata": {
      "filenames": {
       "image/svg+xml": "/Users/dantenoguez/repos/Ensayos/ensayos/_build/jupyter_execute/redes_8_0.svg"
      }
     },
     "output_type": "execute_result"
    }
   ],
   "source": [
    "c.etiqueta = 'c'\n",
    "graficar(c)"
   ]
  },
  {
   "cell_type": "markdown",
   "metadata": {
    "id": "RbSUc-NKiP2c"
   },
   "source": [
    "Ahora, consideraremos a la función multiplicación como nuestro primer ejemplo para entender las derivadas: en rigor, la derivada es lo mismo que la pendiente, y mide la **proporción del cambio** que una variable provoca en el resultado de una función. En nuestro ejemplo, el cambio que $a$ provoca en el resultado $c$ (o sea $10$), es de cinco veces sí misma. Veámoslo geométricamente para entenderlo mejor:"
   ]
  },
  {
   "cell_type": "code",
   "execution_count": 53,
   "metadata": {
    "colab": {
     "base_uri": "https://localhost:8080/",
     "height": 442
    },
    "id": "bLZ4LWPz6LCF",
    "outputId": "d3849598-3371-4bcb-b697-7ce62313ab94"
   },
   "outputs": [
    {
     "data": {
      "image/png": "[encoded data removed]",
      "text/plain": [
       "<Figure size 720x504 with 1 Axes>"
      ]
     },
     "metadata": {
      "filenames": {
       "image/png": "/Users/dantenoguez/repos/Ensayos/ensayos/_build/jupyter_execute/redes_10_0.png"
      },
      "needs_background": "light"
     },
     "output_type": "display_data"
    }
   ],
   "source": [
    "a2 = np.arange(0, 13, 2)\n",
    "def f(a): return a*5\n",
    "b2 = f(a2)\n",
    "\n",
    "fig, ax = plt.subplots(figsize=(10, 7))\n",
    "ax.plot(a2, b2, marker='o', color='blue') \n",
    "ax.set_facecolor('black')\n",
    "ax.set_xlabel('Valores de a')\n",
    "ax.set_ylabel('Valores de b')\n",
    "#ax.axline((a2[1], b2[1]), slope=derivada, color='red', label='pendiente')\n",
    "#ax.hlines(y=16, xmin=0, xmax=4, linewidth=1, color='white', linestyles='dashed')\n",
    "#ax.vlines(x=4, ymin=0, ymax=16, linewidth=1, color='white', linestyles='dashed')\n",
    "plt.show()"
   ]
  },
  {
   "cell_type": "markdown",
   "metadata": {
    "id": "6myVNEHM67s4"
   },
   "source": [
    "Hemos asignado más valores a nuestras variables, pero el patrón sigue siendo el mismo: cada $a$ aumenta de dos en dos y se multiplica por cinco. Al final, nuestras correspondencias lucen así:"
   ]
  },
  {
   "cell_type": "code",
   "execution_count": 54,
   "metadata": {
    "colab": {
     "base_uri": "https://localhost:8080/",
     "height": 266
    },
    "id": "H6HDg8427U16",
    "outputId": "dff7752a-5fdd-447e-aadc-eb9981ced03b"
   },
   "outputs": [
    {
     "data": {
      "text/html": [
       "<style type=\"text/css\">\n",
       "</style>\n",
       "<table id=\"T_7acce_\" class=\"dataframe\">\n",
       "  <thead>\n",
       "    <tr>\n",
       "      <th class=\"col_heading level0 col0\" >Valores de a</th>\n",
       "      <th class=\"col_heading level0 col1\" >Valores de b</th>\n",
       "    </tr>\n",
       "  </thead>\n",
       "  <tbody>\n",
       "    <tr>\n",
       "      <td id=\"T_7acce_row0_col0\" class=\"data row0 col0\" >0</td>\n",
       "      <td id=\"T_7acce_row0_col1\" class=\"data row0 col1\" >0</td>\n",
       "    </tr>\n",
       "    <tr>\n",
       "      <td id=\"T_7acce_row1_col0\" class=\"data row1 col0\" >2</td>\n",
       "      <td id=\"T_7acce_row1_col1\" class=\"data row1 col1\" >10</td>\n",
       "    </tr>\n",
       "    <tr>\n",
       "      <td id=\"T_7acce_row2_col0\" class=\"data row2 col0\" >4</td>\n",
       "      <td id=\"T_7acce_row2_col1\" class=\"data row2 col1\" >20</td>\n",
       "    </tr>\n",
       "    <tr>\n",
       "      <td id=\"T_7acce_row3_col0\" class=\"data row3 col0\" >6</td>\n",
       "      <td id=\"T_7acce_row3_col1\" class=\"data row3 col1\" >30</td>\n",
       "    </tr>\n",
       "    <tr>\n",
       "      <td id=\"T_7acce_row4_col0\" class=\"data row4 col0\" >8</td>\n",
       "      <td id=\"T_7acce_row4_col1\" class=\"data row4 col1\" >40</td>\n",
       "    </tr>\n",
       "    <tr>\n",
       "      <td id=\"T_7acce_row5_col0\" class=\"data row5 col0\" >10</td>\n",
       "      <td id=\"T_7acce_row5_col1\" class=\"data row5 col1\" >50</td>\n",
       "    </tr>\n",
       "    <tr>\n",
       "      <td id=\"T_7acce_row6_col0\" class=\"data row6 col0\" >12</td>\n",
       "      <td id=\"T_7acce_row6_col1\" class=\"data row6 col1\" >60</td>\n",
       "    </tr>\n",
       "  </tbody>\n",
       "</table>\n"
      ],
      "text/plain": [
       "<pandas.io.formats.style.Styler at 0x7f8cb1dadd90>"
      ]
     },
     "execution_count": 54,
     "metadata": {},
     "output_type": "execute_result"
    }
   ],
   "source": [
    "import pandas as pd\n",
    "d = {'Valores de a': a2, 'Valores de b': b2}\n",
    "tabla = pd.DataFrame(data=d)\n",
    "tabla = tabla.style.hide_index()\n",
    "tabla"
   ]
  },
  {
   "cell_type": "markdown",
   "metadata": {
    "id": "V9tYA_r-78F7"
   },
   "source": [
    "Lo que la pendiente y la derivada nos señalan, como digo, es cuánto influye $a$ en el valor de $b$: si yo aumento 2 a mi primer valor de $a$, es decir, si paso de 0 a 2, ¿cuánto aumenta $b$? $b$ aumenta 5 veces $a$. Si doy otro paso en $a$, es decir, de 2 a 4. ¿cuánto aumenta $b$? Nuevamente, $b$ aumenta 5 veces $a$: $4 \\times 5 = 20$. Así, la derivada de la función $b$ con respecto a $a$ es 5. Trazaremos la derivada para entenderlo:"
   ]
  },
  {
   "cell_type": "code",
   "execution_count": 51,
   "metadata": {
    "colab": {
     "base_uri": "https://localhost:8080/",
     "height": 442
    },
    "id": "BJ2FMEfY8U-Y",
    "outputId": "20940644-b04d-420e-9012-9dcaa460a83d"
   },
   "outputs": [
    {
     "data": {
      "image/png": "[encoded data removed]",
      "text/plain": [
       "<Figure size 720x504 with 1 Axes>"
      ]
     },
     "metadata": {
      "filenames": {
       "image/png": "/Users/dantenoguez/repos/Ensayos/ensayos/_build/jupyter_execute/redes_14_0.png"
      },
      "needs_background": "light"
     },
     "output_type": "display_data"
    }
   ],
   "source": [
    "a2 = np.arange(0, 13, 2)\n",
    "def f(a): return a*5\n",
    "b2 = f(a2)\n",
    "\n",
    "derivada = (b2[2] - b2[1]) / (a2[2] - a2[1])\n",
    "\n",
    "fig, ax = plt.subplots(figsize=(10, 7))\n",
    "ax.plot(a2, b2, marker='o', color='blue', label='recta de la función') \n",
    "ax.set_facecolor('black')\n",
    "ax.set_xlabel('Valores de a')\n",
    "ax.set_ylabel('Valores de b')\n",
    "ax.axline((a2[1], b2[1]), slope=derivada, color='red', label='pendiente') # <- Aquí está definida la derivada\n",
    "ax.hlines(y=10, xmin=0, xmax=2, linewidth=1, color='white', linestyles='dashed')\n",
    "ax.vlines(x=2, ymin=0, ymax=10, linewidth=1, color='white', linestyles='dashed')\n",
    "ax.legend()\n",
    "plt.show()"
   ]
  },
  {
   "cell_type": "markdown",
   "metadata": {
    "id": "lexrwcm9Yepm"
   },
   "source": [
    "Veamos ahora un ejemplo con la función suma: mi variable $x$ tendrá valores del 0 al al 12 con intervalos de 2, mientras que mi función es $x+6$. Mi tabla de valores entonces debería quedar así:"
   ]
  },
  {
   "cell_type": "code",
   "execution_count": 58,
   "metadata": {
    "colab": {
     "base_uri": "https://localhost:8080/",
     "height": 266
    },
    "id": "r9F_uMZg9b4n",
    "outputId": "d5325667-7752-4a6f-9af5-792df9561e58"
   },
   "outputs": [
    {
     "data": {
      "text/html": [
       "<style type=\"text/css\">\n",
       "</style>\n",
       "<table id=\"T_266a1_\" class=\"dataframe\">\n",
       "  <thead>\n",
       "    <tr>\n",
       "      <th class=\"col_heading level0 col0\" >Valores de x</th>\n",
       "      <th class=\"col_heading level0 col1\" >Valores de y</th>\n",
       "    </tr>\n",
       "  </thead>\n",
       "  <tbody>\n",
       "    <tr>\n",
       "      <td id=\"T_266a1_row0_col0\" class=\"data row0 col0\" >0</td>\n",
       "      <td id=\"T_266a1_row0_col1\" class=\"data row0 col1\" >6</td>\n",
       "    </tr>\n",
       "    <tr>\n",
       "      <td id=\"T_266a1_row1_col0\" class=\"data row1 col0\" >2</td>\n",
       "      <td id=\"T_266a1_row1_col1\" class=\"data row1 col1\" >8</td>\n",
       "    </tr>\n",
       "    <tr>\n",
       "      <td id=\"T_266a1_row2_col0\" class=\"data row2 col0\" >4</td>\n",
       "      <td id=\"T_266a1_row2_col1\" class=\"data row2 col1\" >10</td>\n",
       "    </tr>\n",
       "    <tr>\n",
       "      <td id=\"T_266a1_row3_col0\" class=\"data row3 col0\" >6</td>\n",
       "      <td id=\"T_266a1_row3_col1\" class=\"data row3 col1\" >12</td>\n",
       "    </tr>\n",
       "    <tr>\n",
       "      <td id=\"T_266a1_row4_col0\" class=\"data row4 col0\" >8</td>\n",
       "      <td id=\"T_266a1_row4_col1\" class=\"data row4 col1\" >14</td>\n",
       "    </tr>\n",
       "    <tr>\n",
       "      <td id=\"T_266a1_row5_col0\" class=\"data row5 col0\" >10</td>\n",
       "      <td id=\"T_266a1_row5_col1\" class=\"data row5 col1\" >16</td>\n",
       "    </tr>\n",
       "    <tr>\n",
       "      <td id=\"T_266a1_row6_col0\" class=\"data row6 col0\" >12</td>\n",
       "      <td id=\"T_266a1_row6_col1\" class=\"data row6 col1\" >18</td>\n",
       "    </tr>\n",
       "  </tbody>\n",
       "</table>\n"
      ],
      "text/plain": [
       "<pandas.io.formats.style.Styler at 0x7f8cb1c64b10>"
      ]
     },
     "execution_count": 58,
     "metadata": {},
     "output_type": "execute_result"
    }
   ],
   "source": [
    "x = np.arange(0, 13, 2)\n",
    "def f(x): return x+6\n",
    "y = f(x)\n",
    "\n",
    "z = {'Valores de x': x, 'Valores de y': y}\n",
    "tabla = pd.DataFrame(data=z)\n",
    "tabla = tabla.style.hide_index()\n",
    "tabla"
   ]
  },
  {
   "cell_type": "markdown",
   "metadata": {
    "id": "1Rc_6XsjZm-t"
   },
   "source": [
    "Ahora preguntémonos: ¿en qué proporción cambia $y$ cuando aumentamos $x$? Si paso de mi primer valor de $x$ al segundo, es decir, si aumento 2 al 0, ¿cuánto estoy aumentando a mi primer valor de $y$? ¡También dos! Es decir, que la proporción de los cambios entre $x$ e $y$ es 1: si aumento dos a $x$, también aumento 2 a $y$. Anteriormente, si agregábamos 2 a $a$, nuestro valor de $b$ aumentaba cinco veces.\n",
    "\n",
    "Grafiquemos nuestra nueva función de suma:"
   ]
  },
  {
   "cell_type": "code",
   "execution_count": 55,
   "metadata": {
    "colab": {
     "base_uri": "https://localhost:8080/",
     "height": 442
    },
    "id": "fzrKL4kXXkyV",
    "outputId": "1641326f-ec60-4fa9-c13e-e662aad3ef22"
   },
   "outputs": [
    {
     "data": {
      "image/png": "[encoded data removed]",
      "text/plain": [
       "<Figure size 720x504 with 1 Axes>"
      ]
     },
     "metadata": {
      "filenames": {
       "image/png": "/Users/dantenoguez/repos/Ensayos/ensayos/_build/jupyter_execute/redes_18_0.png"
      },
      "needs_background": "light"
     },
     "output_type": "display_data"
    }
   ],
   "source": [
    "derivada = (y[2] - y[1]) / (x[2] - x[1])\n",
    "\n",
    "fig, ax = plt.subplots(figsize=(10, 7))\n",
    "ax.plot(x, y, marker='o', color='blue', label='recta de la función') \n",
    "ax.set_facecolor('black')\n",
    "ax.set_xlabel('Valores de x')\n",
    "ax.set_ylabel('Valores de y')\n",
    "ax.axline((x[1], y[1]), slope=derivada, color='red', label='pendiente') # <- Aquí está definida la derivada\n",
    "ax.hlines(y=10, xmin=0, xmax=4, linewidth=1, color='white', linestyles='dashed')\n",
    "ax.vlines(x=4, ymin=0, ymax=10, linewidth=1, color='white', linestyles='dashed')\n",
    "ax.legend()\n",
    "plt.show()"
   ]
  },
  {
   "cell_type": "markdown",
   "metadata": {
    "id": "mLgR9NRKalOf"
   },
   "source": [
    "Ahora ya entendemos conceptualmente los términos «derivada» y «pendiente», que en realidad son lo mismo. Estudiemos brevemente las fórmulas, para ver cómo se refleja nuestro concepto en ellas:\n",
    "\n",
    "Una fórmula de la derivada luce así:\n",
    "$$\n",
    "f^{\\prime}(a)=\\lim _{h \\rightarrow 0} \\frac{f(a+h)-f(a)}{h}\n",
    "$$\n",
    "\n",
    "Otra fórmula luce así:\n",
    "$$\n",
    "\\frac{\\partial f(x, y)}{\\partial x}=\\frac{f(x+h, y)-f(x, y)}{h}\n",
    "$$\n",
    "\n",
    "Y la fórmula de la pendiente:\n",
    "$$\n",
    "\\text { Pendiente }=\\frac{\\text { Cambio en } \\mathrm{y}}{\\text { Cambio en } \\mathrm{x}}\n",
    "$$\n",
    "\n",
    "O también:\n",
    "$$\n",
    "\\text { Pendiente }=\\frac{\\Delta \\mathrm{y}}{\\Delta \\mathrm{x}}\n",
    "$$\n",
    "\n",
    "```{margin}\n",
    "Sobre límites se puede leer [este artículo](https://es.khanacademy.org/math/ap-calculus-ab/ab-limits-new/ab-1-2/a/limits-intro?modal=1); sobre derivadas, [estos videos](https://es.khanacademy.org/math/ap-calculus-ab/ab-differentiation-1-new).\n",
    "```\n",
    "\n",
    "Es importante familiarizarnos con los símbolos para identificar estos conceptos y fórmulas en los textos académicos. Los signos $\\delta, \\Delta$ son letras del alfabeto griego llamadas «delta», y generalmente se utilizan para representar un cambio. El símbolo $\\lim _{h \\rightarrow 0}$ significa «el límite de la función cuando $h$ tiende a 0»\n",
    "\n",
    "Todas estas fórmulas significan lo mismo. En Wikipedia, se define a la derivada de una función como una «razón de cambio instantánea con la que varía el valor de dicha función matemática», según se modifique el valor de su variable independiente. En otras palabras, es lo que decíamos: la derivada mide la proporción (o razón, o tasa) del cambio que una variable provoca en la función.\n",
    "\n",
    "Por completitud, podemos utilizar estas fórmulas matemáticas para demostrar que son equivalentes entre sí, demostrando a la vez que nuestros resultados programáticos son correctos."
   ]
  }
 ],
 "metadata": {
  "colab": {
   "provenance": []
  },
  "kernelspec": {
   "display_name": "Python 3",
   "name": "python3"
  },
  "language_info": {
   "name": "python"
  }
 },
 "nbformat": 4,
 "nbformat_minor": 0
}