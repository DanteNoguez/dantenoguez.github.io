{
 "cells": [
  {
   "cell_type": "markdown",
   "metadata": {
    "id": "AGCfmhzSyaVJ"
   },
   "source": [
    "# Notación y terminología de matemáticas computacionales\n",
    "\n",
    "### Álgebra lineal"
   ]
  },
  {
   "cell_type": "code",
   "execution_count": 1,
   "metadata": {
    "id": "kaIuGpK6Yy-w"
   },
   "outputs": [],
   "source": [
    "import torch"
   ]
  },
  {
   "cell_type": "markdown",
   "metadata": {
    "id": "HpvOjyuOY19H"
   },
   "source": [
    "La notación convencional de un **vector** es con una variable minúscula y en negritas. Por ejemplo, el vector $x \\in \\mathbb{R}^{n \\times 1}$. Para referirmos a una de sus filas (elementos, ejemplos, dimensiones), utilizamos la variable en itálicas y el superíndice: $x^{(3)}$. La notación en Python es muy similar, salvo por la indexación en 0:"
   ]
  },
  {
   "cell_type": "code",
   "execution_count": 13,
   "metadata": {
    "colab": {
     "base_uri": "https://localhost:8080/"
    },
    "id": "w1mgqbZAY1Oy",
    "outputId": "9c687f2c-d6ca-4570-9948-147eb7caadba"
   },
   "outputs": [
    {
     "data": {
      "text/plain": [
       "tensor([0., 0., 0., 0.])"
      ]
     },
     "execution_count": 13,
     "metadata": {},
     "output_type": "execute_result"
    }
   ],
   "source": [
    "x = torch.zeros(4)\n",
    "x"
   ]
  },
  {
   "cell_type": "code",
   "execution_count": 78,
   "metadata": {
    "colab": {
     "base_uri": "https://localhost:8080/"
    },
    "id": "QwWw9zOMaVQa",
    "outputId": "baa223fb-d384-407c-a246-7e65fd6458cd"
   },
   "outputs": [
    {
     "data": {
      "text/plain": [
       "tensor([0., 0., 1., 0.])"
      ]
     },
     "execution_count": 78,
     "metadata": {},
     "output_type": "execute_result"
    }
   ],
   "source": [
    "x[2] = 1\n",
    "x"
   ]
  },
  {
   "cell_type": "code",
   "execution_count": 24,
   "metadata": {
    "colab": {
     "base_uri": "https://localhost:8080/",
     "height": 37
    },
    "id": "xDvv0SxWK5t2",
    "outputId": "ecb544c0-d10c-4401-9c52-66d8b49c7b15"
   },
   "outputs": [
    {
     "data": {
      "application/vnd.google.colaboratory.intrinsic+json": {
       "type": "string"
      },
      "text/plain": [
       "'El vector tiene una dimensión: torch.Size([4])'"
      ]
     },
     "execution_count": 24,
     "metadata": {},
     "output_type": "execute_result"
    }
   ],
   "source": [
    "f'El vector tiene una dimensión: {x.shape}'"
   ]
  },
  {
   "cell_type": "markdown",
   "metadata": {
    "id": "Gyzmti-oak-P"
   },
   "source": [
    "Una **matriz**, por otro lado, se denota con una letra mayúscula y negritas. Por ejemplo, la matriz (o tensor) $A \\in \\mathbb{R}^{n \\times m}$. En este caso, cada columna (dimensión, feature) utilizaremos el subíndice: $x_{3}$; y cada elemento de la matriz indicará la fila y columna en la que se ubica: $x^{(2)}_{3}$, aunque también se puede utilizar alternativamente $x^{2 \\times 3}$. En Python también funciona similar, salvo por la indexación.\n",
    "\n",
    "Pongamos como ejemplo $A \\in \\mathbb{R}^{3 \\times 3}$"
   ]
  },
  {
   "cell_type": "code",
   "execution_count": 38,
   "metadata": {
    "colab": {
     "base_uri": "https://localhost:8080/"
    },
    "id": "gDQl6psiaYg9",
    "outputId": "d2479925-2f8d-4a8d-97d3-a83ed4a6705b"
   },
   "outputs": [
    {
     "data": {
      "text/plain": [
       "tensor([[0., 0.],\n",
       "        [0., 0.],\n",
       "        [0., 0.]])"
      ]
     },
     "execution_count": 38,
     "metadata": {},
     "output_type": "execute_result"
    }
   ],
   "source": [
    "A = torch.zeros((3, 2))\n",
    "A"
   ]
  },
  {
   "cell_type": "markdown",
   "metadata": {
    "id": "Yh4RCQJ8dqqt"
   },
   "source": [
    "Cambiemos el valor de $A^{(3)}_{2}$, cuyos índices programáticos son un número menor dada la indexación en cero:"
   ]
  },
  {
   "cell_type": "code",
   "execution_count": 39,
   "metadata": {
    "colab": {
     "base_uri": "https://localhost:8080/"
    },
    "id": "OpRwFDWRcyku",
    "outputId": "03cf95f2-edac-4418-defa-7eb57ff3a387"
   },
   "outputs": [
    {
     "data": {
      "text/plain": [
       "tensor([[0., 0.],\n",
       "        [0., 0.],\n",
       "        [0., 1.]])"
      ]
     },
     "execution_count": 39,
     "metadata": {},
     "output_type": "execute_result"
    }
   ],
   "source": [
    "# Primero fila, luego columna\n",
    "A[2][1] = 1\n",
    "A"
   ]
  },
  {
   "cell_type": "code",
   "execution_count": 55,
   "metadata": {
    "colab": {
     "base_uri": "https://localhost:8080/"
    },
    "id": "4algiG2Oc2Ce",
    "outputId": "92b79a28-311c-43c4-b98e-2c258341587f"
   },
   "outputs": [
    {
     "data": {
      "text/plain": [
       "tensor([[0., 0.],\n",
       "        [0., 0.],\n",
       "        [0., 2.]])"
      ]
     },
     "execution_count": 55,
     "metadata": {},
     "output_type": "execute_result"
    }
   ],
   "source": [
    "# También es válido:\n",
    "A[2, 1] = 2\n",
    "A"
   ]
  },
  {
   "cell_type": "code",
   "execution_count": 56,
   "metadata": {
    "colab": {
     "base_uri": "https://localhost:8080/"
    },
    "id": "S1xVzawjLCfx",
    "outputId": "8f4d9499-751a-48be-914b-a9feca9859db"
   },
   "outputs": [
    {
     "data": {
      "text/plain": [
       "('La matriz tiene dos dimensiones: torch.Size([3, 2])', 3, 2)"
      ]
     },
     "execution_count": 56,
     "metadata": {},
     "output_type": "execute_result"
    }
   ],
   "source": [
    "f'La matriz tiene dos dimensiones: {A.shape}', A.size(dim=0), A.size(dim=1)"
   ]
  },
  {
   "cell_type": "markdown",
   "metadata": {
    "id": "3XkptsqYPcjk"
   },
   "source": [
    "Sin embargo, esto puede ser confuso cuando por ejemplo hacemos operaciones a través de una dimensión (o eje, o *axis*). Por ejemplo, si sumáramos a través de la dimensión 0, esperaríamos que se sumen los números por cada fila:"
   ]
  },
  {
   "cell_type": "code",
   "execution_count": 58,
   "metadata": {
    "colab": {
     "base_uri": "https://localhost:8080/"
    },
    "id": "hatu6nX4Nx0z",
    "outputId": "48bad589-0f54-4d03-cfc1-5a7744725b72"
   },
   "outputs": [
    {
     "data": {
      "text/plain": [
       "(tensor([[0., 0.],\n",
       "         [0., 0.],\n",
       "         [0., 2.]]), tensor([[0., 2.]]))"
      ]
     },
     "execution_count": 58,
     "metadata": {},
     "output_type": "execute_result"
    }
   ],
   "source": [
    "A, A.sum(0, keepdim=True)"
   ]
  },
  {
   "cell_type": "markdown",
   "metadata": {
    "id": "llPq-LMMPtY6"
   },
   "source": [
    "Pero el resultado indica que se sumaron las columnas. Inversamente pasa lo mismo:"
   ]
  },
  {
   "cell_type": "code",
   "execution_count": 52,
   "metadata": {
    "colab": {
     "base_uri": "https://localhost:8080/"
    },
    "id": "O9UeMyukOKFX",
    "outputId": "ee6c97ce-75a6-4323-d22d-7845f5c90ba1"
   },
   "outputs": [
    {
     "data": {
      "text/plain": [
       "tensor([[0.],\n",
       "        [0.],\n",
       "        [2.]])"
      ]
     },
     "execution_count": 52,
     "metadata": {},
     "output_type": "execute_result"
    }
   ],
   "source": [
    "A.sum(1, keepdim=True)"
   ]
  },
  {
   "cell_type": "markdown",
   "metadata": {
    "id": "p4PnU4opQPap"
   },
   "source": [
    "En realidad, lo que sucede es que colapsamos el eje seleccionado y luego sumamos los valores, es decir, que la dimensión que seleccionamos para la sumatoria cambia su tamaño a 1. Esta aparente rareza tiene más sentido cuando hablamos de **tensores**, es decir, de matrices con más de dos dimensiones. Por ejemplo: "
   ]
  },
  {
   "cell_type": "code",
   "execution_count": 71,
   "metadata": {
    "colab": {
     "base_uri": "https://localhost:8080/"
    },
    "id": "Nx-zTfTQLFDt",
    "outputId": "f1ad18f3-449d-4db1-b30d-150ad1608ba3"
   },
   "outputs": [
    {
     "data": {
      "text/plain": [
       "tensor([[[0., 0.],\n",
       "         [0., 0.],\n",
       "         [0., 0.]],\n",
       "\n",
       "        [[0., 0.],\n",
       "         [0., 0.],\n",
       "         [0., 0.]],\n",
       "\n",
       "        [[0., 0.],\n",
       "         [0., 0.],\n",
       "         [0., 0.]],\n",
       "\n",
       "        [[0., 0.],\n",
       "         [0., 0.],\n",
       "         [0., 0.]]])"
      ]
     },
     "execution_count": 71,
     "metadata": {},
     "output_type": "execute_result"
    }
   ],
   "source": [
    "B = torch.zeros((4,3,2))\n",
    "B"
   ]
  },
  {
   "cell_type": "code",
   "execution_count": 72,
   "metadata": {
    "colab": {
     "base_uri": "https://localhost:8080/"
    },
    "id": "JxHuTYgfMc6Z",
    "outputId": "64a79b06-c8b7-40d7-937d-8ee9ecd9f2bb"
   },
   "outputs": [
    {
     "data": {
      "text/plain": [
       "tensor([[[0., 0.],\n",
       "         [0., 0.],\n",
       "         [0., 0.]],\n",
       "\n",
       "        [[0., 0.],\n",
       "         [0., 0.],\n",
       "         [0., 1.]],\n",
       "\n",
       "        [[0., 0.],\n",
       "         [0., 0.],\n",
       "         [0., 0.]],\n",
       "\n",
       "        [[0., 0.],\n",
       "         [0., 0.],\n",
       "         [0., 0.]]])"
      ]
     },
     "execution_count": 72,
     "metadata": {},
     "output_type": "execute_result"
    }
   ],
   "source": [
    "B[1][2][1] = 1\n",
    "B"
   ]
  },
  {
   "cell_type": "markdown",
   "metadata": {
    "id": "42lZEeJWRJ7L"
   },
   "source": [
    "En la sumatoria a través de la dimensión 0, «colapsamos» cada bloque con los demás y los sumamos:"
   ]
  },
  {
   "cell_type": "code",
   "execution_count": 73,
   "metadata": {
    "colab": {
     "base_uri": "https://localhost:8080/"
    },
    "id": "OukCla_YQ1iI",
    "outputId": "fdeb36c5-87c3-4674-a166-5c273aa20c70"
   },
   "outputs": [
    {
     "data": {
      "text/plain": [
       "(tensor([[[0., 0.],\n",
       "          [0., 0.],\n",
       "          [0., 1.]]]), torch.Size([1, 3, 2]))"
      ]
     },
     "execution_count": 73,
     "metadata": {},
     "output_type": "execute_result"
    }
   ],
   "source": [
    "B.sum(0, keepdim=True), B.sum(0, keepdim=True).shape"
   ]
  },
  {
   "cell_type": "markdown",
   "metadata": {
    "id": "vRgFxD7GROlG"
   },
   "source": [
    "En la sumatoria a través de la dimensión 1, colapsamos todas las filas de cada bloque y las sumamos:"
   ]
  },
  {
   "cell_type": "code",
   "execution_count": 74,
   "metadata": {
    "colab": {
     "base_uri": "https://localhost:8080/"
    },
    "id": "fRzLq1IIQsqn",
    "outputId": "f335c65e-4c22-46a8-a3ae-ca07294a60f1"
   },
   "outputs": [
    {
     "data": {
      "text/plain": [
       "(tensor([[[0., 0.]],\n",
       " \n",
       "         [[0., 1.]],\n",
       " \n",
       "         [[0., 0.]],\n",
       " \n",
       "         [[0., 0.]]]), torch.Size([4, 1, 2]))"
      ]
     },
     "execution_count": 74,
     "metadata": {},
     "output_type": "execute_result"
    }
   ],
   "source": [
    "B.sum(1, keepdim=True), B.sum(1, keepdim=True).shape"
   ]
  },
  {
   "cell_type": "markdown",
   "metadata": {
    "id": "y1fOO8KZRYxT"
   },
   "source": [
    "En la sumatoria a través de la dimensión 2, colapsamos todas las columnas y las sumamos:"
   ]
  },
  {
   "cell_type": "code",
   "execution_count": 75,
   "metadata": {
    "colab": {
     "base_uri": "https://localhost:8080/"
    },
    "id": "3xd2z_gzQ4nY",
    "outputId": "dd5b1316-1d68-4dd2-d2bf-2b2fe66b0a68"
   },
   "outputs": [
    {
     "data": {
      "text/plain": [
       "(tensor([[[0.],\n",
       "          [0.],\n",
       "          [0.]],\n",
       " \n",
       "         [[0.],\n",
       "          [0.],\n",
       "          [1.]],\n",
       " \n",
       "         [[0.],\n",
       "          [0.],\n",
       "          [0.]],\n",
       " \n",
       "         [[0.],\n",
       "          [0.],\n",
       "          [0.]]]), torch.Size([4, 3, 1]))"
      ]
     },
     "execution_count": 75,
     "metadata": {},
     "output_type": "execute_result"
    }
   ],
   "source": [
    "B.sum(2, keepdim=True), B.sum(2, keepdim=True).shape"
   ]
  },
  {
   "cell_type": "code",
   "execution_count": 76,
   "metadata": {
    "colab": {
     "base_uri": "https://localhost:8080/"
    },
    "id": "Cj5lbm9TMAeY",
    "outputId": "06d151dc-a462-4196-bb8d-e1ac1d66ec8c"
   },
   "outputs": [
    {
     "data": {
      "text/plain": [
       "(torch.Size([4, 3, 2]), 4, 3, 2)"
      ]
     },
     "execution_count": 76,
     "metadata": {},
     "output_type": "execute_result"
    }
   ],
   "source": [
    "# Las dimensiones de nuestro tensor B son:\n",
    "B.shape, B.size(dim=0), B.size(dim=1), B.size(dim=2)"
   ]
  }
 ],
 "metadata": {
  "colab": {
   "collapsed_sections": [],
   "provenance": []
  },
  "kernelspec": {
   "display_name": "Python 3",
   "name": "python3"
  },
  "language_info": {
   "name": "python"
  }
 },
 "nbformat": 4,
 "nbformat_minor": 0
}