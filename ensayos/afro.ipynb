{
  "cells": [
    {
      "cell_type": "markdown",
      "metadata": {},
      "source": [
        "# Elementos de música afroamericana"
      ]
    },
    {
      "cell_type": "markdown",
      "metadata": {
        "id": "zDffQAkhBo3E"
      },
      "source": [
        "```{margin}\n",
        "*Music is the pleasure the human mind experiences from counting without being aware that it is counting.*\n",
        "```"
      ]
    },
    {
      "cell_type": "markdown",
      "metadata": {},
      "source": [
        "Sin otro criterio que mi gusto personal y una cierta consideración por canciones acaso relativamente comunes, comparto lo que considero una lista elemental de música afroamericana, acompañada de algunos comentarios:\n",
        "\n",
        "<iframe style=\"border-radius:12px\" src=\"https://open.spotify.com/embed/playlist/6iUAyXurjKyQS6rUAiIB58?utm_source=generator\" width=\"100%\" height=\"80\" frameBorder=\"0\" allowfullscreen=\"\" allow=\"autoplay; clipboard-write; encrypted-media; fullscreen; picture-in-picture\" loading=\"lazy\"></iframe>\n",
        "\n",
        "**Q Lazzarus** \n",
        "\n",
        "Poco después de su hit *Goodbye Horses*, Q Lazzarus desapareció. Fue hasta 2015 que se supo que había estado trabajando como conductora de un autobús."
      ]
    },
    {
      "cell_type": "markdown",
      "metadata": {
        "id": "1r-vw4b2k7Xc"
      },
      "source": [
        "---\n",
        "\n",
        "Supongo que merece mención *Sea Groove* de Big Boss Man: durante la redacción del texto, pasé un buen rato intentando recordar esta canción porque pensé que pertenecía a la categoría. Resulta que es una banda de londinenses blancos cuyo primer álbum se lanzó en 2001."
      ]
    }
  ],
  "metadata": {
    "colab": {
      "collapsed_sections": [],
      "provenance": []
    },
    "kernelspec": {
      "display_name": "Python 3",
      "name": "python3"
    },
    "language_info": {
      "name": "python"
    }
  },
  "nbformat": 4,
  "nbformat_minor": 0
}
