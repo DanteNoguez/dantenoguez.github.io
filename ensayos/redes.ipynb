{
  "nbformat": 4,
  "nbformat_minor": 0,
  "metadata": {
    "colab": {
      "provenance": []
    },
    "kernelspec": {
      "name": "python3",
      "display_name": "Python 3"
    },
    "language_info": {
      "name": "python"
    }
  },
  "cells": [
    {
      "cell_type": "markdown",
      "source": [
        "# Elementos de redes neuronales\n",
        "Este ensayo estará inspirado en [micrograd](https://github.com/karpathy/micrograd) de Andrej Karpathy. En esencia, construiremos una red neuronal desde cero, explicando a detalle cada uno de sus elementos.\n",
        "\n",
        "```{margin}\n",
        "*Como prerrequisitos para esta lección, sugiero leer la [lección anterior](https://dantenoguez.github.io/Ensayos/elementos-program.html) y el artículo de Khan Academy sobre la [pendiente matemática](https://es.khanacademy.org/math/cc-eighth-grade-math/cc-8th-linear-equations-functions/8th-slope/a/slope-from-two-points).*\n",
        "```\n",
        "\n",
        "En primer lugar, crearemos la clase `Numero`, es decir, formularemos una estructura que nos permita definir, modificar y operar con números. Dado que las redes neuronales son gigantescas expresiones matemáticas, los números serán nuestros elementos primarios. De momento, cada número tendrá las siguientes propiedades: un valor, un par de valores previos para el caso de que haya sido generado mediante una operación (por ejemplo, 1 y 1 en el caso de que sumados nos hayan dado el número 2), la operación que generó dicho número (en nuestro ejemplo, la suma) y una etiqueta en caso de que queramos asociar nuestro número a una variable. Agregaremos también funciones (suma, resta, etcétera) para operar con nuestros números:"
      ],
      "metadata": {
        "id": "cXY3yC_9YofV"
      }
    },
    {
      "cell_type": "code",
      "source": [
        "!pip install matplotlib --upgrade"
      ],
      "metadata": {
        "id": "2JOJFKA84lh7",
        "colab": {
          "base_uri": "https://localhost:8080/",
          "height": 494
        },
        "outputId": "d15db8f1-cbd1-4b85-fcc5-06d95840b1e9"
      },
      "execution_count": 1,
      "outputs": [
        {
          "output_type": "stream",
          "name": "stdout",
          "text": [
            "Looking in indexes: https://pypi.org/simple, https://us-python.pkg.dev/colab-wheels/public/simple/\n",
            "Requirement already satisfied: matplotlib in /usr/local/lib/python3.7/dist-packages (3.2.2)\n",
            "Collecting matplotlib\n",
            "  Downloading matplotlib-3.5.3-cp37-cp37m-manylinux_2_5_x86_64.manylinux1_x86_64.whl (11.2 MB)\n",
            "\u001b[K     |████████████████████████████████| 11.2 MB 5.0 MB/s \n",
            "\u001b[?25hRequirement already satisfied: numpy>=1.17 in /usr/local/lib/python3.7/dist-packages (from matplotlib) (1.21.6)\n",
            "Requirement already satisfied: cycler>=0.10 in /usr/local/lib/python3.7/dist-packages (from matplotlib) (0.11.0)\n",
            "Requirement already satisfied: kiwisolver>=1.0.1 in /usr/local/lib/python3.7/dist-packages (from matplotlib) (1.4.4)\n",
            "Requirement already satisfied: python-dateutil>=2.7 in /usr/local/lib/python3.7/dist-packages (from matplotlib) (2.8.2)\n",
            "Requirement already satisfied: packaging>=20.0 in /usr/local/lib/python3.7/dist-packages (from matplotlib) (21.3)\n",
            "Requirement already satisfied: pyparsing>=2.2.1 in /usr/local/lib/python3.7/dist-packages (from matplotlib) (3.0.9)\n",
            "Requirement already satisfied: pillow>=6.2.0 in /usr/local/lib/python3.7/dist-packages (from matplotlib) (7.1.2)\n",
            "Collecting fonttools>=4.22.0\n",
            "  Downloading fonttools-4.37.4-py3-none-any.whl (960 kB)\n",
            "\u001b[K     |████████████████████████████████| 960 kB 45.9 MB/s \n",
            "\u001b[?25hRequirement already satisfied: typing-extensions in /usr/local/lib/python3.7/dist-packages (from kiwisolver>=1.0.1->matplotlib) (4.1.1)\n",
            "Requirement already satisfied: six>=1.5 in /usr/local/lib/python3.7/dist-packages (from python-dateutil>=2.7->matplotlib) (1.15.0)\n",
            "Installing collected packages: fonttools, matplotlib\n",
            "  Attempting uninstall: matplotlib\n",
            "    Found existing installation: matplotlib 3.2.2\n",
            "    Uninstalling matplotlib-3.2.2:\n",
            "      Successfully uninstalled matplotlib-3.2.2\n",
            "Successfully installed fonttools-4.37.4 matplotlib-3.5.3\n"
          ]
        },
        {
          "output_type": "display_data",
          "data": {
            "application/vnd.colab-display-data+json": {
              "pip_warning": {
                "packages": [
                  "matplotlib",
                  "mpl_toolkits"
                ]
              }
            }
          },
          "metadata": {}
        }
      ]
    },
    {
      "cell_type": "code",
      "source": [
        "import math\n",
        "import matplotlib.pyplot as plt\n",
        "import numpy as np"
      ],
      "metadata": {
        "id": "Xog7ax-r4mjy"
      },
      "execution_count": 1,
      "outputs": []
    },
    {
      "cell_type": "code",
      "source": [
        "class Numero:\n",
        "  def __init__(self, valor, _previos=(), _op='', etiqueta=''):\n",
        "    self.valor = valor\n",
        "    self._previos = set(_previos)\n",
        "    self._op = _op\n",
        "    self.etiqueta = etiqueta\n",
        "\n",
        "  def __add__(self, otro): # adición\n",
        "    otro = otro if isinstance(otro, Numero) else Numero(otro) # nos cercioramos de que el otro valor sea un Número\n",
        "    resultado = Numero(self.valor + otro.valor, (self, otro), '+')\n",
        "    return resultado\n",
        "\n",
        "  def __radd__(self, otro): # en Python, debemos apoyarnos de una función extra (con prefijo r) para casos en los que la función anterior no funcione\n",
        "    return self + otro\n",
        "\n",
        "  def __mul__(self, otro): # multiplicación\n",
        "    otro = otro if isinstance(otro, Numero) else Numero(otro)\n",
        "    resultado = Numero(self.valor * otro.valor, (self, otro), '*')\n",
        "    return resultado\n",
        "\n",
        "  def __rmul__(self, otro):\n",
        "    return self * otro\n",
        "\n",
        "  def __sub__(self, otro): # resta, substracción\n",
        "    return self + (-otro)\n",
        "\n",
        "  def __rsub__(self, otro):\n",
        "    return otro + (-self)\n",
        "\n",
        "  def __pow__(self, otro):\n",
        "    assert isinstance(otro, (int, float))\n",
        "    resultado = Numero(self.valor**otro, (self,), f'**{otro}')\n",
        "    return resultado\n",
        "\n",
        "  def __truediv__(self, otro): # división\n",
        "    return self * otro**-1 #dividir es lo mismo que multiplicar por el dividendo elevado a la menos 1\n",
        "  \n",
        "  def __rtruediv__(self, otro):\n",
        "    return otro * self**-1\n",
        "\n",
        "  def __neg__(self): # volver negativo un número\n",
        "    return self * -1\n",
        "\n",
        "  def __repr__(self):\n",
        "    return f'Valor={self.valor}' # esta función determina cómo se representa nuestro número\n"
      ],
      "metadata": {
        "id": "w7d9DNicPsjo"
      },
      "execution_count": 2,
      "outputs": []
    },
    {
      "cell_type": "code",
      "source": [
        "a = Numero(2, etiqueta='a') # definimos dos Números: a y b\n",
        "b = Numero(5, etiqueta='b')\n",
        "c = a*b # definimos c, que es el resultado de multiplicar a y b\n",
        "\n",
        "print(f'{c} | Valores previos: {c._previos}, | Operación realizada para generar c: {c._op}')"
      ],
      "metadata": {
        "colab": {
          "base_uri": "https://localhost:8080/"
        },
        "id": "aDx-aC3RW_U5",
        "outputId": "f00263fa-3106-427f-97d3-e09bcbc8877c"
      },
      "execution_count": 3,
      "outputs": [
        {
          "output_type": "stream",
          "name": "stdout",
          "text": [
            "Valor=10 | Valores previos: {Valor=2, Valor=5}, | Operación realizada para generar c: *\n"
          ]
        }
      ]
    },
    {
      "cell_type": "markdown",
      "source": [
        "Antes de pasar a revisar conceptos más complicados, podemos visualizar de mejor manera lo que acabamos de hacer. \n",
        "```{margin}\n",
        "El código para graficar no tiene que ver con las redes neuronales, de manera que queda fuera de nuestro enfoque explicarlo.\n",
        "```"
      ],
      "metadata": {
        "id": "hGlu4bMAaccB"
      }
    },
    {
      "cell_type": "code",
      "source": [
        "from graphviz import Digraph\n",
        "\n",
        "def rastreo(origen):\n",
        "  # construye un conjunto de todos los nodos en un gráfico\n",
        "  nodos, lineas = set(), set()\n",
        "  def construir(v):\n",
        "    if v not in nodos:\n",
        "      nodos.add(v)\n",
        "      for parte in v._previos:\n",
        "        lineas.add((parte, v))\n",
        "        construir(parte)\n",
        "  construir(origen)\n",
        "  return nodos, lineas\n",
        "\n",
        "def graficar(origen):\n",
        "  grafica = Digraph(format='svg', graph_attr={'rankdir': 'LR'}) # left to right, izquierda a derecha\n",
        "\n",
        "  nodos, lineas = rastreo(origen)\n",
        "  for n in nodos:\n",
        "    uid = str(id(n))\n",
        "    # por cada valor en la grafica, crea un nodo rectangular ('record') para él\n",
        "    grafica.node(name=uid, label='{ %s | valor %.4f}' % (n.etiqueta, n.valor), shape='record')\n",
        "    if n._op:\n",
        "      # si el valor es resultado de una operación, crea un nodo para la operación\n",
        "      grafica.node(name = uid + n._op, label = n._op)\n",
        "      # conecta los nodos\n",
        "      grafica.edge(uid + n._op, uid)\n",
        "\n",
        "  for n1, n2 in lineas:\n",
        "    # conecta n1 al nodo operación de n2\n",
        "    grafica.edge(str(id(n1)), str(id(n2)) + n2._op)\n",
        "\n",
        "  return grafica"
      ],
      "metadata": {
        "id": "SOKC3geffwhO"
      },
      "execution_count": 4,
      "outputs": []
    },
    {
      "cell_type": "markdown",
      "source": [
        "Ahora ya podemos graficar los resultados que vimos para la variable $c$:"
      ],
      "metadata": {
        "id": "GJcCwCXOh7rO"
      }
    },
    {
      "cell_type": "code",
      "source": [
        "c.etiqueta = 'c'\n",
        "graficar(c)"
      ],
      "metadata": {
        "colab": {
          "base_uri": "https://localhost:8080/",
          "height": 154
        },
        "id": "3wIv8bAmhu52",
        "outputId": "871ea188-922c-41b1-ebce-eb288c7664e2"
      },
      "execution_count": 5,
      "outputs": [
        {
          "output_type": "execute_result",
          "data": {
            "text/plain": [
              "<graphviz.dot.Digraph at 0x7fd8d9be3b10>"
            ],
            "image/svg+xml": "<?xml version=\"1.0\" encoding=\"UTF-8\" standalone=\"no\"?>\n<!DOCTYPE svg PUBLIC \"-//W3C//DTD SVG 1.1//EN\"\n \"http://www.w3.org/Graphics/SVG/1.1/DTD/svg11.dtd\">\n<!-- Generated by graphviz version 2.40.1 (20161225.0304)\n -->\n<!-- Title: %3 Pages: 1 -->\n<svg width=\"370pt\" height=\"100pt\"\n viewBox=\"0.00 0.00 370.00 100.00\" xmlns=\"http://www.w3.org/2000/svg\" xmlns:xlink=\"http://www.w3.org/1999/xlink\">\n<g id=\"graph0\" class=\"graph\" transform=\"scale(1 1) rotate(0) translate(4 96)\">\n<title>%3</title>\n<polygon fill=\"#ffffff\" stroke=\"transparent\" points=\"-4,4 -4,-96 366,-96 366,4 -4,4\"/>\n<!-- 140569342649360 -->\n<g id=\"node1\" class=\"node\">\n<title>140569342649360</title>\n<polygon fill=\"none\" stroke=\"#000000\" points=\"241,-27.5 241,-63.5 362,-63.5 362,-27.5 241,-27.5\"/>\n<text text-anchor=\"middle\" x=\"252.5\" y=\"-41.8\" font-family=\"Times,serif\" font-size=\"14.00\" fill=\"#000000\">c</text>\n<polyline fill=\"none\" stroke=\"#000000\" points=\"264,-27.5 264,-63.5 \"/>\n<text text-anchor=\"middle\" x=\"313\" y=\"-41.8\" font-family=\"Times,serif\" font-size=\"14.00\" fill=\"#000000\">valor 10.0000</text>\n</g>\n<!-- 140569342649360* -->\n<g id=\"node2\" class=\"node\">\n<title>140569342649360*</title>\n<ellipse fill=\"none\" stroke=\"#000000\" cx=\"178\" cy=\"-45.5\" rx=\"27\" ry=\"18\"/>\n<text text-anchor=\"middle\" x=\"178\" y=\"-41.8\" font-family=\"Times,serif\" font-size=\"14.00\" fill=\"#000000\">*</text>\n</g>\n<!-- 140569342649360*&#45;&gt;140569342649360 -->\n<g id=\"edge1\" class=\"edge\">\n<title>140569342649360*&#45;&gt;140569342649360</title>\n<path fill=\"none\" stroke=\"#000000\" d=\"M205.1026,-45.5C212.7894,-45.5 221.5352,-45.5 230.5486,-45.5\"/>\n<polygon fill=\"#000000\" stroke=\"#000000\" points=\"230.7966,-49.0001 240.7965,-45.5 230.7965,-42.0001 230.7966,-49.0001\"/>\n</g>\n<!-- 140569342648784 -->\n<g id=\"node3\" class=\"node\">\n<title>140569342648784</title>\n<polygon fill=\"none\" stroke=\"#000000\" points=\"0,-55.5 0,-91.5 115,-91.5 115,-55.5 0,-55.5\"/>\n<text text-anchor=\"middle\" x=\"12\" y=\"-69.8\" font-family=\"Times,serif\" font-size=\"14.00\" fill=\"#000000\">b</text>\n<polyline fill=\"none\" stroke=\"#000000\" points=\"24,-55.5 24,-91.5 \"/>\n<text text-anchor=\"middle\" x=\"69.5\" y=\"-69.8\" font-family=\"Times,serif\" font-size=\"14.00\" fill=\"#000000\">valor 5.0000</text>\n</g>\n<!-- 140569342648784&#45;&gt;140569342649360* -->\n<g id=\"edge2\" class=\"edge\">\n<title>140569342648784&#45;&gt;140569342649360*</title>\n<path fill=\"none\" stroke=\"#000000\" d=\"M115.2794,-60.0741C124.5548,-57.9188 133.9085,-55.7453 142.459,-53.7585\"/>\n<polygon fill=\"#000000\" stroke=\"#000000\" points=\"143.4829,-57.1139 152.4312,-51.4413 141.8985,-50.2955 143.4829,-57.1139\"/>\n</g>\n<!-- 140569342649104 -->\n<g id=\"node4\" class=\"node\">\n<title>140569342649104</title>\n<polygon fill=\"none\" stroke=\"#000000\" points=\".5,-.5 .5,-36.5 114.5,-36.5 114.5,-.5 .5,-.5\"/>\n<text text-anchor=\"middle\" x=\"12\" y=\"-14.8\" font-family=\"Times,serif\" font-size=\"14.00\" fill=\"#000000\">a</text>\n<polyline fill=\"none\" stroke=\"#000000\" points=\"23.5,-.5 23.5,-36.5 \"/>\n<text text-anchor=\"middle\" x=\"69\" y=\"-14.8\" font-family=\"Times,serif\" font-size=\"14.00\" fill=\"#000000\">valor 2.0000</text>\n</g>\n<!-- 140569342649104&#45;&gt;140569342649360* -->\n<g id=\"edge3\" class=\"edge\">\n<title>140569342649104&#45;&gt;140569342649360*</title>\n<path fill=\"none\" stroke=\"#000000\" d=\"M114.5741,-31.2884C124.1055,-33.4241 133.7433,-35.5836 142.5296,-37.5523\"/>\n<polygon fill=\"#000000\" stroke=\"#000000\" points=\"141.8722,-40.9917 152.3955,-39.7629 143.4028,-34.1611 141.8722,-40.9917\"/>\n</g>\n</g>\n</svg>\n"
          },
          "metadata": {},
          "execution_count": 5
        }
      ]
    },
    {
      "cell_type": "markdown",
      "source": [
        "### La derivada\n",
        "\n",
        "```{margin}\n",
        "Recomiendo mirar [este video](https://es.khanacademy.org/math/ap-calculus-ab/ab-differentiation-1-new/ab-2-1/v/newton-leibniz-and-usain-bolt) antes de continuar la lectura.\n",
        "```\n",
        "\n",
        "Ahora, consideraremos a la función multiplicación como nuestro primer ejemplo para entender las derivadas. Conceptualmente, la derivada es lo mismo que la pendiente, y mide la **proporción o magnitud del cambio** que una variable provoca en el resultado de una función. Digamos que la derivada mide la fuerza con la que una variable influye en el resultado de una función.\n",
        "\n",
        "En nuestro ejemplo, el cambio que $a$ provoca en el resultado $c$ (o sea $10$) es de cinco veces sí misma. Veámoslo geométricamente para entenderlo mejor:"
      ],
      "metadata": {
        "id": "RbSUc-NKiP2c"
      }
    },
    {
      "cell_type": "code",
      "source": [
        "a2 = np.arange(0, 13, 2)\n",
        "def f(a): return a*5\n",
        "b2 = f(a2)\n",
        "\n",
        "fig, ax = plt.subplots(figsize=(10, 7))\n",
        "ax.plot(a2, b2, marker='o', color='blue') \n",
        "ax.set_facecolor('black')\n",
        "ax.set_xlabel('Valores de a')\n",
        "ax.set_ylabel('Valores de b')\n",
        "plt.show()"
      ],
      "metadata": {
        "colab": {
          "base_uri": "https://localhost:8080/",
          "height": 442
        },
        "id": "bLZ4LWPz6LCF",
        "outputId": "3f324546-fe06-407f-e077-defe82482355"
      },
      "execution_count": 6,
      "outputs": [
        {
          "output_type": "display_data",
          "data": {
            "text/plain": [
              "<Figure size 720x504 with 1 Axes>"
            ],
            "image/png": "[encoded data removed]"
          },
          "metadata": {
            "needs_background": "light"
          }
        }
      ]
    },
    {
      "cell_type": "markdown",
      "source": [
        "Hemos asignado más valores a nuestras variables, pero el patrón sigue siendo el mismo: cada $a$ aumenta de dos en dos; cada $b$ resulta de multiplicar $a$ cinco veces. Al final, nuestras correspondencias lucen así:"
      ],
      "metadata": {
        "id": "6myVNEHM67s4"
      }
    },
    {
      "cell_type": "code",
      "source": [
        "import pandas as pd\n",
        "d = {'Valores de a': a2, 'Valores de b': b2}\n",
        "tabla = pd.DataFrame(data=d)\n",
        "tabla = tabla.style.hide_index()\n",
        "tabla"
      ],
      "metadata": {
        "colab": {
          "base_uri": "https://localhost:8080/",
          "height": 266
        },
        "id": "H6HDg8427U16",
        "outputId": "c30f772f-a0ca-4cad-d3f5-d04ac6c4dfad"
      },
      "execution_count": 7,
      "outputs": [
        {
          "output_type": "execute_result",
          "data": {
            "text/plain": [
              "<pandas.io.formats.style.Styler at 0x7fd8d9105390>"
            ],
            "text/html": [
              "<style type=\"text/css\">\n",
              "</style>\n",
              "<table id=\"T_5627d_\" class=\"dataframe\">\n",
              "  <thead>\n",
              "    <tr>\n",
              "      <th class=\"col_heading level0 col0\" >Valores de a</th>\n",
              "      <th class=\"col_heading level0 col1\" >Valores de b</th>\n",
              "    </tr>\n",
              "  </thead>\n",
              "  <tbody>\n",
              "    <tr>\n",
              "      <td id=\"T_5627d_row0_col0\" class=\"data row0 col0\" >0</td>\n",
              "      <td id=\"T_5627d_row0_col1\" class=\"data row0 col1\" >0</td>\n",
              "    </tr>\n",
              "    <tr>\n",
              "      <td id=\"T_5627d_row1_col0\" class=\"data row1 col0\" >2</td>\n",
              "      <td id=\"T_5627d_row1_col1\" class=\"data row1 col1\" >10</td>\n",
              "    </tr>\n",
              "    <tr>\n",
              "      <td id=\"T_5627d_row2_col0\" class=\"data row2 col0\" >4</td>\n",
              "      <td id=\"T_5627d_row2_col1\" class=\"data row2 col1\" >20</td>\n",
              "    </tr>\n",
              "    <tr>\n",
              "      <td id=\"T_5627d_row3_col0\" class=\"data row3 col0\" >6</td>\n",
              "      <td id=\"T_5627d_row3_col1\" class=\"data row3 col1\" >30</td>\n",
              "    </tr>\n",
              "    <tr>\n",
              "      <td id=\"T_5627d_row4_col0\" class=\"data row4 col0\" >8</td>\n",
              "      <td id=\"T_5627d_row4_col1\" class=\"data row4 col1\" >40</td>\n",
              "    </tr>\n",
              "    <tr>\n",
              "      <td id=\"T_5627d_row5_col0\" class=\"data row5 col0\" >10</td>\n",
              "      <td id=\"T_5627d_row5_col1\" class=\"data row5 col1\" >50</td>\n",
              "    </tr>\n",
              "    <tr>\n",
              "      <td id=\"T_5627d_row6_col0\" class=\"data row6 col0\" >12</td>\n",
              "      <td id=\"T_5627d_row6_col1\" class=\"data row6 col1\" >60</td>\n",
              "    </tr>\n",
              "  </tbody>\n",
              "</table>\n"
            ]
          },
          "metadata": {},
          "execution_count": 7
        }
      ]
    },
    {
      "cell_type": "markdown",
      "source": [
        "Lo que la pendiente y la derivada nos señalan, como digo, es cuánto influye $a$ en el valor de $b$: si yo sumo 2 a mi primer valor de $a$, es decir, si paso de 0 a 2, ¿cuánto aumenta $b$? $b$ aumenta 5 veces $a$. Si doy otro paso en $a$, es decir, si paso de 2 a 4. ¿cuánto aumenta $b$? Nuevamente, $b$ aumenta 5 veces $a$: $4 \\times 5 = 20$. Intuitivamente: dado que $b$ es el resultado de multiplicar 5 veces $a$, es claro que cada valor de $b$ será cinco veces más grande que cada valor correspondiente de $a$. Y eso es todo lo que nos indican la derivada y la pendiente.\n",
        "\n",
        "Así, la derivada de la función $b$ con respecto a $a$ es 5. 5 es la proporción con la que $b$ está cambiando; 5 es la «fuerza» con la que $a$ está influyendo en el resultado de $b$. Es como si no supiéramos que $a$ está siendo multiplicado por 5 para generar $b$, y entonces aplicáramos nuestro razonamiento matemático para adivinarlo. \n",
        "\n",
        "Visualicemos la derivada:"
      ],
      "metadata": {
        "id": "V9tYA_r-78F7"
      }
    },
    {
      "cell_type": "code",
      "source": [
        "a2 = np.arange(0, 13, 2)\n",
        "def f(a): return a*5\n",
        "b2 = f(a2)\n",
        "\n",
        "derivada = (b2[2] - b2[1]) / (a2[2] - a2[1])\n",
        "\n",
        "fig, ax = plt.subplots(figsize=(10, 7))\n",
        "ax.plot(a2, b2, marker='o', color='blue', label='recta de la función') \n",
        "ax.set_facecolor('black')\n",
        "ax.set_xlabel('Valores de a')\n",
        "ax.set_ylabel('Valores de b')\n",
        "ax.axline((a2[1], b2[1]), slope=derivada, color='red', label='pendiente') # <- Aquí está definida la derivada\n",
        "ax.hlines(y=10, xmin=0, xmax=2, linewidth=1, color='white', linestyles='dashed')\n",
        "ax.vlines(x=2, ymin=0, ymax=10, linewidth=1, color='white', linestyles='dashed')\n",
        "ax.legend()\n",
        "plt.show()"
      ],
      "metadata": {
        "colab": {
          "base_uri": "https://localhost:8080/",
          "height": 442
        },
        "id": "BJ2FMEfY8U-Y",
        "outputId": "e02d4a00-7386-4317-a33d-05be14cf5806"
      },
      "execution_count": 8,
      "outputs": [
        {
          "output_type": "display_data",
          "data": {
            "text/plain": [
              "<Figure size 720x504 with 1 Axes>"
            ],
            "image/png": "[encoded data removed]"
          },
          "metadata": {
            "needs_background": "light"
          }
        }
      ]
    },
    {
      "cell_type": "markdown",
      "source": [
        "La derivada resulta ser la misma que la recta de la función. Geométricamente, podríamos entender a la derivada como el grado de inclinación de una función (de la recta, en este caso) en un punto determinado. Entonces, al trazarla en este caso, dado que la recta tiene la misma inclinación en todos sus puntos (es decir, en todos los valores correspondientes de $a$ y $b$) porque la proporción es la misma en todos ellos, la derivada resulta ser igual que la recta.\n",
        "\n",
        "Entonces, la inclinación de la recta nos la dieron los valores de $a$ y $b$: la proporción entre ellos se ve reflejada en la inclinación, como ejemplifican las líneas blancas punteadas. Aunque menos obvio, dicha inclinación representa la «fuerza» con la que $a$ mueve a $b$."
      ],
      "metadata": {
        "id": "lexrwcm9Yepm"
      }
    },
    {
      "cell_type": "markdown",
      "source": [
        "Pongamos otro ejemplo: si los valores de la función nunca cambiaran, entonces la derivada sería 0. Geométricamente, no habría nada de inclinación; conceptualmente, la variable no alteraría nunca el resultado de la función, no tendría ninguna influencia en la función, de manera que el «cambio» siempre sería nulo, cero:"
      ],
      "metadata": {
        "id": "kBc49tIHuz9c"
      }
    },
    {
      "cell_type": "code",
      "source": [
        "# Supongamos que quiero medir la distancia que recorro en 20 segundos:\n",
        "# Si con el paso de tiempo no avanzo o, lo que es lo mismo,\n",
        "# si mi variable tiempo no influye en la función distancia, entonces mi función y mi derivada lucen así:\n",
        "\n",
        "tiempo = np.arange(0, 21, 1)\n",
        "def f(t): return t*0\n",
        "distancia = f(tiempo)\n",
        "\n",
        "fig, ax = plt.subplots(figsize=(10, 7))\n",
        "ax.plot(tiempo, distancia, marker='o', color='blue', label='recta de la función') \n",
        "ax.set_facecolor('black')\n",
        "ax.set_xlabel('Tiempo (segundos)')\n",
        "ax.set_ylabel('Distancia (metros)')\n",
        "ax.axline((tiempo[0], distancia[0]), slope=0, color='red', label='Pendiente')\n",
        "ax.legend()\n",
        "plt.show()"
      ],
      "metadata": {
        "colab": {
          "base_uri": "https://localhost:8080/",
          "height": 442
        },
        "id": "wKdEfzmPiPqe",
        "outputId": "267bd70d-87d2-4bb3-da09-68147e8aea15"
      },
      "execution_count": 9,
      "outputs": [
        {
          "output_type": "display_data",
          "data": {
            "text/plain": [
              "<Figure size 720x504 with 1 Axes>"
            ],
            "image/png": "[encoded data removed]"
          },
          "metadata": {
            "needs_background": "light"
          }
        }
      ]
    },
    {
      "cell_type": "markdown",
      "source": [
        "Veamos otro ejemplo, ahora con la función suma: mi variable $x$ tendrá valores del 0 al 12 con intervalos de 2, mientras que mi función es $x+6$. Mi tabla de valores entonces debería quedar así:"
      ],
      "metadata": {
        "id": "SJafUmOpiQUa"
      }
    },
    {
      "cell_type": "code",
      "source": [
        "x = np.arange(0, 13, 2)\n",
        "def f(x): return x+6\n",
        "y = f(x)\n",
        "\n",
        "z = {'Valores de x': x, 'Valores de y': y}\n",
        "tabla = pd.DataFrame(data=z)\n",
        "tabla = tabla.style.hide_index()\n",
        "tabla"
      ],
      "metadata": {
        "colab": {
          "base_uri": "https://localhost:8080/",
          "height": 266
        },
        "id": "r9F_uMZg9b4n",
        "outputId": "951cc9c7-592f-4cb1-cba9-e1c51abd9314"
      },
      "execution_count": 38,
      "outputs": [
        {
          "output_type": "execute_result",
          "data": {
            "text/plain": [
              "<pandas.io.formats.style.Styler at 0x7fd8d70b3610>"
            ],
            "text/html": [
              "<style type=\"text/css\">\n",
              "</style>\n",
              "<table id=\"T_33b22_\" class=\"dataframe\">\n",
              "  <thead>\n",
              "    <tr>\n",
              "      <th class=\"col_heading level0 col0\" >Valores de x</th>\n",
              "      <th class=\"col_heading level0 col1\" >Valores de y</th>\n",
              "    </tr>\n",
              "  </thead>\n",
              "  <tbody>\n",
              "    <tr>\n",
              "      <td id=\"T_33b22_row0_col0\" class=\"data row0 col0\" >0</td>\n",
              "      <td id=\"T_33b22_row0_col1\" class=\"data row0 col1\" >6</td>\n",
              "    </tr>\n",
              "    <tr>\n",
              "      <td id=\"T_33b22_row1_col0\" class=\"data row1 col0\" >2</td>\n",
              "      <td id=\"T_33b22_row1_col1\" class=\"data row1 col1\" >8</td>\n",
              "    </tr>\n",
              "    <tr>\n",
              "      <td id=\"T_33b22_row2_col0\" class=\"data row2 col0\" >4</td>\n",
              "      <td id=\"T_33b22_row2_col1\" class=\"data row2 col1\" >10</td>\n",
              "    </tr>\n",
              "    <tr>\n",
              "      <td id=\"T_33b22_row3_col0\" class=\"data row3 col0\" >6</td>\n",
              "      <td id=\"T_33b22_row3_col1\" class=\"data row3 col1\" >12</td>\n",
              "    </tr>\n",
              "    <tr>\n",
              "      <td id=\"T_33b22_row4_col0\" class=\"data row4 col0\" >8</td>\n",
              "      <td id=\"T_33b22_row4_col1\" class=\"data row4 col1\" >14</td>\n",
              "    </tr>\n",
              "    <tr>\n",
              "      <td id=\"T_33b22_row5_col0\" class=\"data row5 col0\" >10</td>\n",
              "      <td id=\"T_33b22_row5_col1\" class=\"data row5 col1\" >16</td>\n",
              "    </tr>\n",
              "    <tr>\n",
              "      <td id=\"T_33b22_row6_col0\" class=\"data row6 col0\" >12</td>\n",
              "      <td id=\"T_33b22_row6_col1\" class=\"data row6 col1\" >18</td>\n",
              "    </tr>\n",
              "  </tbody>\n",
              "</table>\n"
            ]
          },
          "metadata": {},
          "execution_count": 38
        }
      ]
    },
    {
      "cell_type": "markdown",
      "source": [
        "Ahora preguntémonos: ¿en qué proporción cambia $y$ cuando aumentamos $x$? Si paso de mi primer valor de $x$ al segundo, es decir, si paso de 0 a 2, ¿cuánto estoy aumentando a mi primer valor de $y$? ¡También dos! Es decir, que la proporción de los cambios entre $x$ e $y$ es 1: si aumento dos a $x$, también aumento 2 a $y$. En nuestro primer ejemplo, si agregábamos 2 a $a$, nuestro valor de $b$ aumentaba cinco veces $a$.\n",
        "\n",
        "Esto tiene sentido porque la multiplicación aumenta nuestros valores con mayor velocidad y en diferente proporción que la suma: por ejemplo, $2 \\times 4 = 8$, pero $2 + 4 = 6$, y conforme tomamos números más grandes, nuestra multiplicación continúa creciendo a mayor velocidad que la suma: $2 \\times 10 = 20$, pero $2 + 10 = 12$.\n",
        "\n",
        "Grafiquemos nuestra nueva función de suma:"
      ],
      "metadata": {
        "id": "1Rc_6XsjZm-t"
      }
    },
    {
      "cell_type": "code",
      "source": [
        "derivada = (y[2] - y[1]) / (x[2] - x[1])\n",
        "\n",
        "fig, ax = plt.subplots(figsize=(10, 7))\n",
        "ax.plot(x, y, marker='o', color='blue', label='recta de la función') \n",
        "ax.set_facecolor('black')\n",
        "ax.set_xlabel('Valores de x')\n",
        "ax.set_ylabel('Valores de y')\n",
        "ax.axline((x[1], y[1]), slope=derivada, color='red', label='pendiente') # <- Aquí está definida la derivada\n",
        "ax.hlines(y=10, xmin=0, xmax=4, linewidth=1, color='white', linestyles='dashed')\n",
        "ax.vlines(x=4, ymin=0, ymax=10, linewidth=1, color='white', linestyles='dashed')\n",
        "ax.legend()\n",
        "plt.show()"
      ],
      "metadata": {
        "colab": {
          "base_uri": "https://localhost:8080/",
          "height": 442
        },
        "id": "fzrKL4kXXkyV",
        "outputId": "7c484bf5-dd04-4d4a-8b62-2a23814700c0"
      },
      "execution_count": 11,
      "outputs": [
        {
          "output_type": "display_data",
          "data": {
            "text/plain": [
              "<Figure size 720x504 with 1 Axes>"
            ],
            "image/png": "[encoded data removed]"
          },
          "metadata": {
            "needs_background": "light"
          }
        }
      ]
    },
    {
      "cell_type": "markdown",
      "source": [
        "La inclinación de la recta es menor porque $y$ aumenta lentamente en proporción a $x$, de 2 en 2. Una vez más: únicamente estamos averiguando la proporción que hay entre los valores de $x$ y de $y$. Si cada valor de $x$ aumenta significativamente cada valor correspondiente de la función, entonces nuestra derivada será alta y la inclinación de la recta será empinada. \n",
        "\n",
        "Por otra parte, cuando cada valor de la función aumenta poco conforme hacemos más grande nuestra variable de entrada, entonces la derivada será pequeña y la inclinación será poca."
      ],
      "metadata": {
        "id": "eH3YenH1u6Hf"
      }
    },
    {
      "cell_type": "markdown",
      "source": [
        "Ahora que ya entendemos conceptualmente los términos «derivada» y «pendiente» —que en realidad son lo mismo, salvo sutilezas que veremos después—, estudiemos brevemente sus fórmulas matemáticas. Una manera de definir la derivada es:\n",
        "\n",
        "$\n",
        "f^{\\prime}(a)=\\lim _{h \\rightarrow 0} \\frac{f(a+h)-f(a)}{h}\n",
        "$\n",
        "\n",
        "Otra fórmula luce así:\n",
        "$\n",
        "\\frac{\\partial f(x, y)}{\\partial x}=\\frac{f(x+h, y)-f(x, y)}{h}\n",
        "$\n",
        "\n",
        "La fórmula de la pendiente:\n",
        "$\n",
        "\\text { Pendiente }=\\frac{\\text { Cambio en } \\mathrm{y}}{\\text { Cambio en } \\mathrm{x}}=\\frac{y_2 - y_1}{x_2-x_1}\n",
        "$\n",
        "\n",
        "O también:\n",
        "$\n",
        "\\text { Pendiente }=\\frac{\\Delta \\mathrm{y}}{\\Delta \\mathrm{x}}\n",
        "$\n",
        "\n",
        "```{margin}\n",
        "Sobre límites se puede leer [este artículo](https://es.khanacademy.org/math/ap-calculus-ab/ab-limits-new/ab-1-2/a/limits-intro?modal=1); sobre derivadas, [estos videos](https://es.khanacademy.org/math/ap-calculus-ab/ab-differentiation-1-new).\n",
        "```\n",
        "\n",
        "Por una parte, es importante familiarizarnos con la notación matemática, así podremos identificar estos conceptos y fórmulas en los textos académicos. Los signos $\\delta, \\Delta$ son letras del alfabeto griego llamadas «delta» (la primera es minúscula; la segunda, mayúscula), y generalmente se utilizan para representar un cambio. El símbolo $\\lim _{h \\rightarrow 0}$ significa «el límite de la función cuando $h$ tiende a 0»\n",
        "\n",
        "Todas estas fórmulas significan lo mismo. Si prestamos atención, todas realizan una resta para calcular el cambio en valores de la variable y la función, y después una división para estimar la proporción de dicho cambio.\n",
        "\n",
        "En Wikipedia, se define a la derivada de una función como una «razón de cambio instantánea con la que varía el valor de dicha función matemática, según se modifique el valor de su variable independiente». En otras palabras, es lo que decíamos: la derivada mide la proporción (o razón, o tasa, o magnitud) del cambio que los valores de la variable provocan en la función.\n",
        "\n",
        "Podemos utilizar estas fórmulas matemáticas para demostrar que son equivalentes entre sí, demostrando a la vez que nuestros resultados programáticos son correctos:"
      ],
      "metadata": {
        "id": "mLgR9NRKalOf"
      }
    },
    {
      "cell_type": "code",
      "source": [
        "def pendiente(x, y, j, i):\n",
        "  return (y[j] - y[i]) / (x[j] - x[i])\n",
        "\n",
        "pendiente(x, y, 2, 1)"
      ],
      "metadata": {
        "id": "6nHHfZOHqtdg",
        "colab": {
          "base_uri": "https://localhost:8080/"
        },
        "outputId": "1ab7b943-2871-4ad7-e720-f4e80b157d96"
      },
      "execution_count": 13,
      "outputs": [
        {
          "output_type": "execute_result",
          "data": {
            "text/plain": [
              "1.0"
            ]
          },
          "metadata": {},
          "execution_count": 13
        }
      ]
    },
    {
      "cell_type": "code",
      "source": [
        "def derivada(x, f, i):\n",
        "  h = 0.000001\n",
        "  return (f(x[i]+h) - f(x[i])) / h\n",
        "\n",
        "derivada(x, f, 2)"
      ],
      "metadata": {
        "colab": {
          "base_uri": "https://localhost:8080/"
        },
        "id": "Sp543FdiKhP5",
        "outputId": "d4b55bf6-5dc5-4e34-d20f-0f7a2dde498a"
      },
      "execution_count": 39,
      "outputs": [
        {
          "output_type": "execute_result",
          "data": {
            "text/plain": [
              "1.0000000010279564"
            ]
          },
          "metadata": {},
          "execution_count": 39
        }
      ]
    }
  ]
}