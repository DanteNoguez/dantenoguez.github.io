{
  "nbformat": 4,
  "nbformat_minor": 0,
  "metadata": {
    "colab": {
      "provenance": []
    },
    "kernelspec": {
      "name": "python3",
      "display_name": "Python 3"
    },
    "language_info": {
      "name": "python"
    }
  },
  "cells": [
    {
      "cell_type": "markdown",
      "source": [
        "# Elementos de redes neuronales\n",
        "\n",
        "```{margin}\n",
        "*Como prerrequisitos para esta lección, sugiero leer la [lección anterior](https://dantenoguez.github.io/Ensayos/elementos-program.html) y el artículo de Khan Academy sobre la [pendiente matemática](https://es.khanacademy.org/math/cc-eighth-grade-math/cc-8th-linear-equations-functions/8th-slope/a/slope-from-two-points).*\n",
        "```\n",
        "\n",
        "Este ensayo está inspirado en [micrograd](https://github.com/karpathy/micrograd) de Andrej Karpathy. A continuación, construiremos una red neuronal desde cero, explicando a detalle cada uno de sus elementos."
      ],
      "metadata": {
        "id": "cXY3yC_9YofV"
      }
    },
    {
      "cell_type": "code",
      "source": [
        "!pip install matplotlib --upgrade"
      ],
      "metadata": {
        "id": "2JOJFKA84lh7"
      },
      "execution_count": null,
      "outputs": []
    },
    {
      "cell_type": "code",
      "source": [
        "import math\n",
        "import matplotlib.pyplot as plt\n",
        "import numpy as np"
      ],
      "metadata": {
        "id": "Xog7ax-r4mjy"
      },
      "execution_count": 1,
      "outputs": []
    },
    {
      "cell_type": "markdown",
      "source": [
        "### La derivada\n",
        "\n",
        "```{margin}\n",
        "Recomiendo mirar [este video](https://es.khanacademy.org/math/ap-calculus-ab/ab-differentiation-1-new/ab-2-1/v/newton-leibniz-and-usain-bolt) antes de continuar la lectura.\n",
        "```\n",
        "\n",
        "En primer lugar, es importante entender la derivada, puesto que las redes neuronales la utilizan para «aprender».\n",
        "\n",
        "Consideremos a la función multiplicación como nuestro primer ejemplo para entender las derivadas. Conceptualmente, la derivada es muy similar a la pendiente, y mide la **proporción o magnitud del cambio** que una variable provoca en el resultado de una función. Digamos que la derivada mide la fuerza con la que una variable influye en el resultado de una función.\n",
        "\n",
        "Como ejemplo, midamos el cambio que una variable $a$ (con valores del 0 al 12 en intervalos de 2) provoca en el resultado de una función $c$ (equivalente a multiplicar cada valor de $a$ por 5):"
      ],
      "metadata": {
        "id": "RbSUc-NKiP2c"
      }
    },
    {
      "cell_type": "code",
      "source": [
        "a2 = np.arange(0, 13, 2) \n",
        "b2 = 5\n",
        "def f(a, b): return a*b\n",
        "c = f(a2, b2)\n",
        "\n",
        "fig, ax = plt.subplots(figsize=(10, 7))\n",
        "ax.plot(a2, c, marker='o', color='blue') \n",
        "ax.set_facecolor('black')\n",
        "ax.set_xlabel('Valores de a')\n",
        "ax.set_ylabel('Valores de b')\n",
        "plt.show()"
      ],
      "metadata": {
        "colab": {
          "base_uri": "https://localhost:8080/",
          "height": 442
        },
        "id": "bLZ4LWPz6LCF",
        "outputId": "585f9d7a-50a5-4c11-e401-cd39fbeb961f"
      },
      "execution_count": 50,
      "outputs": [
        {
          "output_type": "display_data",
          "data": {
            "text/plain": [
              "<Figure size 720x504 with 1 Axes>"
            ],
            "image/png": "[encoded data removed]"
          },
          "metadata": {
            "needs_background": "light"
          }
        }
      ]
    },
    {
      "cell_type": "markdown",
      "source": [
        "Hemos asignado más valores a nuestras variables, pero el patrón sigue siendo el mismo: cada $a$ aumenta de dos en dos; cada $c$ resulta de multiplicar $a$ por $b$ (que siempre es 5). Al final, nuestras correspondencias lucen así:"
      ],
      "metadata": {
        "id": "6myVNEHM67s4"
      }
    },
    {
      "cell_type": "code",
      "source": [
        "import pandas as pd\n",
        "d = {'Valores de a': a2, 'Valores de b': b2, 'Valores de c': c}\n",
        "tabla = pd.DataFrame(data=d)\n",
        "tabla = tabla.style.hide_index()\n",
        "tabla"
      ],
      "metadata": {
        "colab": {
          "base_uri": "https://localhost:8080/",
          "height": 266
        },
        "id": "H6HDg8427U16",
        "outputId": "a9a8d7de-ec27-4028-f28e-caa70f150251"
      },
      "execution_count": 51,
      "outputs": [
        {
          "output_type": "execute_result",
          "data": {
            "text/plain": [
              "<pandas.io.formats.style.Styler at 0x7f7820d48a50>"
            ],
            "text/html": [
              "<style type=\"text/css\">\n",
              "</style>\n",
              "<table id=\"T_f060f_\" class=\"dataframe\">\n",
              "  <thead>\n",
              "    <tr>\n",
              "      <th class=\"col_heading level0 col0\" >Valores de a</th>\n",
              "      <th class=\"col_heading level0 col1\" >Valores de b</th>\n",
              "      <th class=\"col_heading level0 col2\" >Valores de c</th>\n",
              "    </tr>\n",
              "  </thead>\n",
              "  <tbody>\n",
              "    <tr>\n",
              "      <td id=\"T_f060f_row0_col0\" class=\"data row0 col0\" >0</td>\n",
              "      <td id=\"T_f060f_row0_col1\" class=\"data row0 col1\" >5</td>\n",
              "      <td id=\"T_f060f_row0_col2\" class=\"data row0 col2\" >0</td>\n",
              "    </tr>\n",
              "    <tr>\n",
              "      <td id=\"T_f060f_row1_col0\" class=\"data row1 col0\" >2</td>\n",
              "      <td id=\"T_f060f_row1_col1\" class=\"data row1 col1\" >5</td>\n",
              "      <td id=\"T_f060f_row1_col2\" class=\"data row1 col2\" >10</td>\n",
              "    </tr>\n",
              "    <tr>\n",
              "      <td id=\"T_f060f_row2_col0\" class=\"data row2 col0\" >4</td>\n",
              "      <td id=\"T_f060f_row2_col1\" class=\"data row2 col1\" >5</td>\n",
              "      <td id=\"T_f060f_row2_col2\" class=\"data row2 col2\" >20</td>\n",
              "    </tr>\n",
              "    <tr>\n",
              "      <td id=\"T_f060f_row3_col0\" class=\"data row3 col0\" >6</td>\n",
              "      <td id=\"T_f060f_row3_col1\" class=\"data row3 col1\" >5</td>\n",
              "      <td id=\"T_f060f_row3_col2\" class=\"data row3 col2\" >30</td>\n",
              "    </tr>\n",
              "    <tr>\n",
              "      <td id=\"T_f060f_row4_col0\" class=\"data row4 col0\" >8</td>\n",
              "      <td id=\"T_f060f_row4_col1\" class=\"data row4 col1\" >5</td>\n",
              "      <td id=\"T_f060f_row4_col2\" class=\"data row4 col2\" >40</td>\n",
              "    </tr>\n",
              "    <tr>\n",
              "      <td id=\"T_f060f_row5_col0\" class=\"data row5 col0\" >10</td>\n",
              "      <td id=\"T_f060f_row5_col1\" class=\"data row5 col1\" >5</td>\n",
              "      <td id=\"T_f060f_row5_col2\" class=\"data row5 col2\" >50</td>\n",
              "    </tr>\n",
              "    <tr>\n",
              "      <td id=\"T_f060f_row6_col0\" class=\"data row6 col0\" >12</td>\n",
              "      <td id=\"T_f060f_row6_col1\" class=\"data row6 col1\" >5</td>\n",
              "      <td id=\"T_f060f_row6_col2\" class=\"data row6 col2\" >60</td>\n",
              "    </tr>\n",
              "  </tbody>\n",
              "</table>\n"
            ]
          },
          "metadata": {},
          "execution_count": 51
        }
      ]
    },
    {
      "cell_type": "markdown",
      "source": [
        "```{margin}\n",
        "En rigor, la derivada equivale a la pendiente de la línea tangente a un punto de la función. En una función no lineal, por ejemplo, no hablamos de la pendiente de la función, sino de la pendiente de la tangente en un punto (que equivale a la derivada), y la diferencia entre ambas se agudiza cuando agregamos más dimensiones. Aun así, en términos conceptuales, cuando hablamos de dos dimensiones, ambas son equivalentes y la comparación puede ayudar a entender la derivada.\n",
        "```\n",
        "\n",
        "Lo que la derivada nos señala, como digo, es cuánto influye $a$ en el valor de $c$: si yo sumo 2 a mi primer valor de $a$, es decir, si paso de 0 a 2, ¿cuánto aumenta $c$? $c$ aumenta 5 veces $a$. Si doy otro paso en $a$, es decir, si paso de 2 a 4. ¿cuánto aumenta $c$? Nuevamente, $b$ aumenta 5 veces $a$: $4 \\times 5 = 20$. Intuitivamente: dado que $c$ es el resultado de multiplicar 5 veces $a$, es claro que cada valor de $c$ será cinco veces más grande que cada valor correspondiente de $a$.\n",
        "\n",
        "Así, la derivada de la función $c$ con respecto a $a$ es 5. 5 es la proporción con la que $c$ está cambiando; 5 es la «fuerza» con la que $a$ está influyendo en el resultado de $c$. Es como si no supiéramos que $a$ está siendo multiplicado por $b$ para generar $c$, y entonces aplicáramos nuestro razonamiento matemático para deducirlo. \n",
        "\n",
        "Visualicémoslo:"
      ],
      "metadata": {
        "id": "V9tYA_r-78F7"
      }
    },
    {
      "cell_type": "code",
      "source": [
        "deriv = (f(a2+0.00001, b2) - f(a2, b2)) / 0.00001\n",
        "print(f'Valores de la derivada en cada punto: {deriv}')\n",
        "\n",
        "fig, ax = plt.subplots(figsize=(10, 7))\n",
        "ax.plot(a2, c, marker='o', color='blue', label='recta de la función') \n",
        "ax.set_facecolor('black')\n",
        "ax.set_xlabel('Valores de a')\n",
        "ax.set_ylabel('Valores de c')\n",
        "ax.axline((a2[1], c[1]), slope=deriv[1], color='red', label='pendiente') # <- La pendiente es la derivada\n",
        "ax.hlines(y=10, xmin=0, xmax=2, linewidth=1, color='white', linestyles='dashed')\n",
        "ax.vlines(x=2, ymin=0, ymax=10, linewidth=1, color='white', linestyles='dashed')\n",
        "ax.legend()\n",
        "plt.show()"
      ],
      "metadata": {
        "colab": {
          "base_uri": "https://localhost:8080/",
          "height": 459
        },
        "id": "BJ2FMEfY8U-Y",
        "outputId": "689b766d-ef20-46cf-f103-c935e07bffc0"
      },
      "execution_count": 8,
      "outputs": [
        {
          "output_type": "stream",
          "name": "stdout",
          "text": [
            "Valores de la derivada en cada punto: [5. 5. 5. 5. 5. 5. 5.]\n"
          ]
        },
        {
          "output_type": "display_data",
          "data": {
            "text/plain": [
              "<Figure size 720x504 with 1 Axes>"
            ],
            "image/png": "[encoded data removed]"
          },
          "metadata": {
            "needs_background": "light"
          }
        }
      ]
    },
    {
      "cell_type": "markdown",
      "source": [
        "La línea tangente al punto derivado (denotado por las líneas punteadas: $a=2, c=10$) resulta tener la misma inclinación que la recta de la función. Geométricamente, en espacios de dos dimensiones, podríamos entender a la derivada como el grado de inclinación de la línea tangente a un punto. Pero dado que todos los segmentos de una recta tienen la misma inclinación, entonces la inclinación de la tangente es la misma que la de la recta y, consecuentemente, la tangente es igual a la pendiente.\n",
        "\n",
        "En suma, la pendiente y la derivada tienen el mismo valor porque la proporción es la misma en todos los puntos: la inclinación de la recta nos la dieron los valores de $a$ y $c$; la proporción entre ellos se ve reflejada en la inclinación; y dicha inclinación representa la «fuerza» con la que $a$ mueve a $c$."
      ],
      "metadata": {
        "id": "lexrwcm9Yepm"
      }
    },
    {
      "cell_type": "markdown",
      "source": [
        "Pongamos otro ejemplo: si los valores de la función nunca cambiaran, entonces la derivada sería 0. Geométricamente, no habría nada de inclinación en la tangente; conceptualmente, la variable no alteraría nunca el resultado de la función, no tendría ninguna influencia en la función, de manera que el «cambio» siempre sería nulo, cero:"
      ],
      "metadata": {
        "id": "kBc49tIHuz9c"
      }
    },
    {
      "cell_type": "code",
      "source": [
        "# Supongamos que quiero medir la distancia que recorro en 20 segundos:\n",
        "# Si con el paso de tiempo no avanzo o, lo que es lo mismo,\n",
        "# si mi variable tiempo no influye en la función distancia, entonces mi función y mi derivada lucen así:\n",
        "\n",
        "tiempo = np.arange(0, 21, 1)\n",
        "def f(t): return t*0\n",
        "distancia = f(tiempo)\n",
        "\n",
        "fig, ax = plt.subplots(figsize=(10, 7))\n",
        "ax.plot(tiempo, distancia, marker='o', color='blue', label='recta de la función') \n",
        "ax.set_facecolor('black')\n",
        "ax.set_xlabel('Tiempo (segundos)')\n",
        "ax.set_ylabel('Distancia (metros)')\n",
        "ax.axline((tiempo[0], distancia[0]), slope=0, color='red', label='Pendiente')\n",
        "ax.legend()\n",
        "plt.show()"
      ],
      "metadata": {
        "colab": {
          "base_uri": "https://localhost:8080/",
          "height": 442
        },
        "id": "wKdEfzmPiPqe",
        "outputId": "ffa4eeee-4132-499b-a0a4-d2b0afc7ef27"
      },
      "execution_count": 9,
      "outputs": [
        {
          "output_type": "display_data",
          "data": {
            "text/plain": [
              "<Figure size 720x504 with 1 Axes>"
            ],
            "image/png": "[encoded data removed]"
          },
          "metadata": {
            "needs_background": "light"
          }
        }
      ]
    },
    {
      "cell_type": "markdown",
      "source": [
        "Veamos otro ejemplo, ahora con la función suma: mi variable $x$ tendrá valores del 0 al 12 con intervalos de 2, mientras que mi función es $x+6$. Mi tabla de valores entonces debería quedar así:"
      ],
      "metadata": {
        "id": "SJafUmOpiQUa"
      }
    },
    {
      "cell_type": "code",
      "source": [
        "x = np.arange(0, 13, 2)\n",
        "def f(x): return x+6\n",
        "y = f(x)\n",
        "\n",
        "z = {'Valores de x': x, 'Valores de y': y}\n",
        "tabla = pd.DataFrame(data=z)\n",
        "tabla = tabla.style.hide_index()\n",
        "tabla"
      ],
      "metadata": {
        "colab": {
          "base_uri": "https://localhost:8080/",
          "height": 266
        },
        "id": "r9F_uMZg9b4n",
        "outputId": "02bafb39-573c-41a6-a1dc-517967a993f8"
      },
      "execution_count": 10,
      "outputs": [
        {
          "output_type": "execute_result",
          "data": {
            "text/plain": [
              "<pandas.io.formats.style.Styler at 0x7f78230d9250>"
            ],
            "text/html": [
              "<style type=\"text/css\">\n",
              "</style>\n",
              "<table id=\"T_fdff2_\" class=\"dataframe\">\n",
              "  <thead>\n",
              "    <tr>\n",
              "      <th class=\"col_heading level0 col0\" >Valores de x</th>\n",
              "      <th class=\"col_heading level0 col1\" >Valores de y</th>\n",
              "    </tr>\n",
              "  </thead>\n",
              "  <tbody>\n",
              "    <tr>\n",
              "      <td id=\"T_fdff2_row0_col0\" class=\"data row0 col0\" >0</td>\n",
              "      <td id=\"T_fdff2_row0_col1\" class=\"data row0 col1\" >6</td>\n",
              "    </tr>\n",
              "    <tr>\n",
              "      <td id=\"T_fdff2_row1_col0\" class=\"data row1 col0\" >2</td>\n",
              "      <td id=\"T_fdff2_row1_col1\" class=\"data row1 col1\" >8</td>\n",
              "    </tr>\n",
              "    <tr>\n",
              "      <td id=\"T_fdff2_row2_col0\" class=\"data row2 col0\" >4</td>\n",
              "      <td id=\"T_fdff2_row2_col1\" class=\"data row2 col1\" >10</td>\n",
              "    </tr>\n",
              "    <tr>\n",
              "      <td id=\"T_fdff2_row3_col0\" class=\"data row3 col0\" >6</td>\n",
              "      <td id=\"T_fdff2_row3_col1\" class=\"data row3 col1\" >12</td>\n",
              "    </tr>\n",
              "    <tr>\n",
              "      <td id=\"T_fdff2_row4_col0\" class=\"data row4 col0\" >8</td>\n",
              "      <td id=\"T_fdff2_row4_col1\" class=\"data row4 col1\" >14</td>\n",
              "    </tr>\n",
              "    <tr>\n",
              "      <td id=\"T_fdff2_row5_col0\" class=\"data row5 col0\" >10</td>\n",
              "      <td id=\"T_fdff2_row5_col1\" class=\"data row5 col1\" >16</td>\n",
              "    </tr>\n",
              "    <tr>\n",
              "      <td id=\"T_fdff2_row6_col0\" class=\"data row6 col0\" >12</td>\n",
              "      <td id=\"T_fdff2_row6_col1\" class=\"data row6 col1\" >18</td>\n",
              "    </tr>\n",
              "  </tbody>\n",
              "</table>\n"
            ]
          },
          "metadata": {},
          "execution_count": 10
        }
      ]
    },
    {
      "cell_type": "markdown",
      "source": [
        "Ahora preguntémonos: ¿en qué proporción cambia $y$ cuando aumentamos $x$? Si paso de mi primer valor de $x$ al segundo, es decir, si paso de 0 a 2, ¿cuánto estoy aumentando a mi primer valor de $y$? ¡También dos! Es decir, que la proporción de los cambios entre $x$ e $y$ es 1: si aumento dos a $x$, también aumento 2 a $y$. En nuestro primer ejemplo, si agregábamos 2 a $a$, nuestro valor de $b$ aumentaba cinco veces $a$.\n",
        "\n",
        "Esto tiene sentido porque la multiplicación aumenta nuestros valores con mayor velocidad y en diferente proporción que la suma: por ejemplo, $2 \\times 4 = 8$, pero $2 + 4 = 6$, y conforme tomamos números más grandes, nuestra multiplicación continúa creciendo a mayor velocidad que la suma: $2 \\times 10 = 20$, pero $2 + 10 = 12$.\n",
        "\n",
        "Grafiquemos nuestra nueva función de suma:"
      ],
      "metadata": {
        "id": "1Rc_6XsjZm-t"
      }
    },
    {
      "cell_type": "code",
      "source": [
        "derivada = (y[2] - y[1]) / (x[2] - x[1])\n",
        "\n",
        "fig, ax = plt.subplots(figsize=(10, 7))\n",
        "ax.plot(x, y, marker='o', color='blue', label='recta de la función') \n",
        "ax.set_facecolor('black')\n",
        "ax.set_xlabel('Valores de x')\n",
        "ax.set_ylabel('Valores de y')\n",
        "ax.axline((x[1], y[1]), slope=derivada, color='red', label='pendiente')\n",
        "ax.hlines(y=10, xmin=0, xmax=4, linewidth=1, color='white', linestyles='dashed')\n",
        "ax.vlines(x=4, ymin=0, ymax=10, linewidth=1, color='white', linestyles='dashed')\n",
        "ax.legend()\n",
        "plt.show()"
      ],
      "metadata": {
        "colab": {
          "base_uri": "https://localhost:8080/",
          "height": 442
        },
        "id": "fzrKL4kXXkyV",
        "outputId": "c375dbc0-39ef-4118-bc69-5bd321fd28eb"
      },
      "execution_count": 11,
      "outputs": [
        {
          "output_type": "display_data",
          "data": {
            "text/plain": [
              "<Figure size 720x504 with 1 Axes>"
            ],
            "image/png": "[encoded data removed]"
          },
          "metadata": {
            "needs_background": "light"
          }
        }
      ]
    },
    {
      "cell_type": "markdown",
      "source": [
        "La inclinación de la recta es menor porque $y$ aumenta lentamente en proporción a $x$, de 2 en 2. Una vez más: únicamente estamos averiguando la proporción que hay entre los valores de $x$ y de $y$. Si cada valor de $x$ aumenta significativamente cada valor correspondiente de la función, entonces nuestra derivada será alta y la inclinación de la recta será empinada. \n",
        "\n",
        "Por otra parte, cuando cada valor de la función aumenta poco conforme hacemos más grande nuestra variable de entrada, entonces la derivada será pequeña y la inclinación será poca.\n",
        "\n",
        "Veamos, por último, una función no lineal para distinguir la tangente de la gráfica de la función:"
      ],
      "metadata": {
        "id": "eH3YenH1u6Hf"
      }
    },
    {
      "cell_type": "code",
      "source": [
        "xs = np.arange(1, 11, 1)\n",
        "ys = [3 for i in xs]\n",
        "def cub(x, y): return x**y\n",
        "r = cub(xs, ys)\n",
        "\n",
        "derivs = (cub(xs+0.00001, ys) - cub(xs, ys)) / 0.00001\n",
        "\n",
        "fig, ax = plt.subplots(ncols=2, figsize=(10, 7))\n",
        "ax[0].plot(xs, r, marker='o', color='blue', label='gráfica de la función')\n",
        "ax[0].set_title('Gráfica')\n",
        "ax[0].set_facecolor('black')\n",
        "ax[0].set_xlabel('Valores de x')\n",
        "ax[0].set_ylabel('Valores de r')\n",
        "ax[0].axline((xs[5], r[5]), slope=derivs[5], color='red', label='tangente')\n",
        "ax[0].legend()\n",
        "ax[1].plot(xs, r, marker='o', color='blue', label='gráfica de la función') \n",
        "ax[1].set_title('Zoom a la gráfica')\n",
        "ax[1].set_facecolor('black')\n",
        "ax[1].set_xlabel('Valores de x')\n",
        "ax[1].set_ylabel('Valores de r')\n",
        "ax[1].axline((xs[5], r[5]), slope=derivs[5], color='red', label='tangente')\n",
        "ax[1].set_xlim(xs[1], xs[7])\n",
        "ax[1].set_ylim(r[0], 600)\n",
        "ax[1].legend()\n",
        "plt.show()"
      ],
      "metadata": {
        "colab": {
          "base_uri": "https://localhost:8080/",
          "height": 458
        },
        "id": "nzyx7t3b--sy",
        "outputId": "e5dae2e5-d0d0-4064-ef76-2442e0d14f71"
      },
      "execution_count": 12,
      "outputs": [
        {
          "output_type": "display_data",
          "data": {
            "text/plain": [
              "<Figure size 720x504 with 2 Axes>"
            ],
            "image/png": "[encoded data removed]"
          },
          "metadata": {
            "needs_background": "light"
          }
        }
      ]
    },
    {
      "cell_type": "markdown",
      "source": [
        "En este último caso, la proporción entre $x$ y el resultado de la función nos la da la fórmula $yx^{y-1}$. Por ejemplo, la derivada del punto a partir del cual trazamos la tangente anterior se puede calcular así:\n",
        "\n",
        "$$\n",
        "yx^{y-1}\n",
        "$$\n",
        "\n",
        "$$\n",
        "y = 3, x = 6, y-1=2\n",
        "$$\n",
        "\n",
        "$$\n",
        "3(6^2) = 3(36) = 108\n",
        "$$\n",
        "\n",
        "¿De dónde sale esa fórmula? Bueno, estas fórmulas las averiguan matemáticos que estudian los patrones lógico-abstractos de las expresiones matemáticas. Es lo mismo que hacíamos en nuestro primer ejemplo al calcular que 2 multiplicaba a 5; en este caso, aunque más complejo, es prácticamente lo mismo."
      ],
      "metadata": {
        "id": "DgMuKbVCDwib"
      }
    },
    {
      "cell_type": "markdown",
      "source": [
        "Ahora que ya entendemos conceptualmente la derivada, estudiemos brevemente sus fórmulas matemáticas. Una manera de definir la derivada es:\n",
        "\n",
        "$\n",
        "f^{\\prime}(x)=\\lim _{h \\rightarrow 0} \\frac{f(x+h)-f(x)}{h}\n",
        "$\n",
        "\n",
        "Otra fórmula luce así:\n",
        "$\n",
        "\\frac{\\partial f(x, y)}{\\partial x}=\\frac{f(x+h, y)-f(x, y)}{h}\n",
        "$\n",
        "\n",
        "```{margin}\n",
        "Sobre límites se puede leer [este artículo](https://es.khanacademy.org/math/ap-calculus-ab/ab-limits-new/ab-1-2/a/limits-intro?modal=1); sobre derivadas, [estos videos](https://es.khanacademy.org/math/ap-calculus-ab/ab-differentiation-1-new).\n",
        "```\n",
        "\n",
        "Por una parte, es importante familiarizarnos con la notación matemática, así podremos identificar estos conceptos y fórmulas en los textos académicos. Los signos $\\delta, \\Delta$ son letras del alfabeto griego llamadas «delta» (la primera es minúscula; la segunda, mayúscula), y generalmente se utilizan para representar un cambio. El símbolo $\\lim _{h \\rightarrow 0}$ significa «el límite de la función cuando $h$ tiende a 0»\n",
        "\n",
        "Ambas fórmulas significan lo mismo. Si prestamos atención, ambas realizan una resta para medir el impacto de la variable en la función, y después una división para estimar la proporción de dicho cambio. En Wikipedia, se define a la derivada de una función como una «razón de cambio instantánea con la que varía el valor de dicha función matemática, según se modifique el valor de su variable independiente». En otras palabras, es lo que decíamos: la derivada mide la proporción (o razón, o tasa, o magnitud) del cambio que los valores de la variable provocan en la función en un punto determinado."
      ],
      "metadata": {
        "id": "mLgR9NRKalOf"
      }
    },
    {
      "cell_type": "markdown",
      "source": [
        "### Pero ¿para qué sirve la derivada?\n",
        "\n",
        "Imaginemos que tenemos dos variables: $x = -2$ y $y = 3$. El resultado de multiplicarlas es $-6$, pero queremos alterar ese resultado para llegar a $0$ y tenemos una restricción: la única manera de hacerlo es a través de las entradas. Para ello, podríamos pensar en aumentar o disminuir las entradas en pasos pequeños y probar aleatoriamente hasta conseguir el resultado.\n",
        "\n",
        "```{margin}\n",
        "Ojo: disminuir el 3 aumenta el resultado, puesto que está siendo multiplicado por un número negativo. Ejemplo: 3-1 = 2, 2*-2 = -4, y -4 es menor que -6, el resultado inicial.\n",
        "```\n",
        "Supongamos que nuestro cambio aplicado será $0.01$: disminuiremos $y$ en esa cantidad y aumentaremos $x$ de la misma forma: $x = -1.99 \\times y = 2.99 = -5.95$. Bien, $-5.95$ es más cercano a $0$ que $-6$; sin embargo, este método no parece muy efectivo, especialmente considerando que las redes neuronales contendrán miles de millones de estas operaciones.\n",
        "\n",
        "Si recordamos la lección aprendida en las derivadas, se nos puede ocurrir utilizarlas para resolver este problema: dado que la derivada me dice el impacto que tiene una variable de entrada en la función, ¿será posible utilizarla para alterar el resultado? Es decir, si la derivada me dice cuándo una varible tiene un impacto negativo, positivo, alto o pequeño, entonces debería poder utilizar información para influir en el resultado de manera más eficiente. Si la derivada me indica que una variable influye positivamente en el resultado, pero yo quiero disminuirlo, entonces sabré que debo disminuir esa variable, y así sucesivamente."
      ],
      "metadata": {
        "id": "hcBGYQuhVo4W"
      }
    },
    {
      "cell_type": "markdown",
      "source": [
        "### Pequegrad\n",
        "\n",
        "Para entender mejor la posible solución planteada, crearemos primero la clase `Numero`, es decir, formularemos una estructura que nos permita definir, modificar y operar con números. Dado que las redes neuronales son gigantescas expresiones matemáticas, los números serán nuestros elementos primarios. De momento, cada `Numero` tendrá las siguientes propiedades: un `valor`, un par de valores `previos` para el caso de que el `valor` haya sido generado mediante una operación (por ejemplo, 2 y 2 en el caso de que multiplicados hayan generado el número 4), la `operación` que generó dicho valor (en nuestro ejemplo, la multiplicación) y una etiqueta en caso de que queramos asociar nuestro `valor` a una variable. Por ahora, únicamente tendremos las operaciones de suma, multiplcación, resta y división:"
      ],
      "metadata": {
        "id": "PNrFqDOydgjv"
      }
    },
    {
      "cell_type": "code",
      "source": [
        "class Numero:\n",
        "  def __init__(self, valor, _previos=(), _op='', etiqueta=''):\n",
        "    self.valor = valor\n",
        "    self._previos = set(_previos)\n",
        "    self._op = _op\n",
        "    self.etiqueta = etiqueta\n",
        "\n",
        "  def __add__(self, otro): # adición\n",
        "    otro = otro if isinstance(otro, Numero) else Numero(otro) # nos cercioramos de que el otro valor sea un Número\n",
        "    resultado = Numero(self.valor + otro.valor, (self, otro), '+')\n",
        "    return resultado\n",
        "\n",
        "  def __radd__(self, otro): \n",
        "    return self + otro\n",
        "\n",
        "  def __mul__(self, otro): # multiplicación\n",
        "    otro = otro if isinstance(otro, Numero) else Numero(otro)\n",
        "    resultado = Numero(self.valor * otro.valor, (self, otro), '*')\n",
        "    return resultado\n",
        "\n",
        "  def __rmul__(self, otro):\n",
        "    return self * otro\n",
        "\n",
        "  def __sub__(self, otro): # resta, substracción\n",
        "    return self + (-otro)\n",
        "\n",
        "  def __truediv__(self, otro): # división\n",
        "    return self * otro**-1 #dividir es lo mismo que multiplicar por el dividendo elevado a la menos 1\n",
        "  \n",
        "  def __rtruediv__(self, otro):\n",
        "    return otro * self**-1\n",
        "\n",
        "  def __neg__(self): # volver negativo un número\n",
        "    return self * -1\n",
        "\n",
        "  def __repr__(self):\n",
        "    return f'Valor={self.valor}' # esta función determina cómo se representa nuestro número"
      ],
      "metadata": {
        "id": "_Yze9yvclvhq"
      },
      "execution_count": 138,
      "outputs": []
    },
    {
      "cell_type": "markdown",
      "source": [
        "Utilizaremos un problema más desafiante que una simple multiplicación:"
      ],
      "metadata": {
        "id": "VDwSqPE72Dne"
      }
    },
    {
      "cell_type": "code",
      "source": [
        "# Utilizaremos nuestra clase para crear la función L con los siguientes números y operaciones:\n",
        "\n",
        "a = Numero(-2.0, etiqueta='a')\n",
        "b = Numero(3.0, etiqueta='b')\n",
        "c = a*b; c.etiqueta = 'c' # definimos c, que es el resultado de multiplicar a y b\n",
        "d = Numero(10.0, etiqueta='d')\n",
        "e = c + d; e.etiqueta = 'e'\n",
        "f = Numero(-3.0); f.etiqueta = 'f'\n",
        "L = f * e; L.etiqueta= 'L'\n",
        "\n",
        "print(f'Ejemplo: Valor de c: {c} | Valores previos: {c._previos} | Operación realizada para generar c: {c._op}')"
      ],
      "metadata": {
        "colab": {
          "base_uri": "https://localhost:8080/"
        },
        "id": "EElKJC6DTSHR",
        "outputId": "06aac40c-5efe-4eeb-a9db-a6264e6c17eb"
      },
      "execution_count": 136,
      "outputs": [
        {
          "output_type": "stream",
          "name": "stdout",
          "text": [
            "Ejemplo: Valor de c: Valor=-6.0 | Valores previos: {Valor=3.0, Valor=-2.0} | Operación realizada para generar c: *\n"
          ]
        }
      ]
    },
    {
      "cell_type": "markdown",
      "source": [
        "```{margin}\n",
        "El código para graficar no tiene que ver con las redes neuronales, de manera que queda fuera de nuestro enfoque explicarlo.\n",
        "```\n",
        "\n",
        "También crearemos una función para graficar nuestras operaciones:"
      ],
      "metadata": {
        "id": "FLvY71CbeIHO"
      }
    },
    {
      "cell_type": "code",
      "source": [
        "from graphviz import Digraph\n",
        "\n",
        "def rastreo(origen):\n",
        "  # construye un conjunto de todos los nodos en un gráfico\n",
        "  nodos, lineas = set(), set()\n",
        "  def construir(v):\n",
        "    if v not in nodos:\n",
        "      nodos.add(v)\n",
        "      for parte in v._previos:\n",
        "        lineas.add((parte, v))\n",
        "        construir(parte)\n",
        "  construir(origen)\n",
        "  return nodos, lineas\n",
        "\n",
        "def graficar(origen):\n",
        "  grafica = Digraph(format='svg', graph_attr={'rankdir': 'LR'}) # left to right, izquierda a derecha\n",
        "\n",
        "  nodos, lineas = rastreo(origen)\n",
        "  for n in nodos:\n",
        "    uid = str(id(n))\n",
        "    # por cada valor en la grafica, crea un nodo rectangular ('record') para él\n",
        "    grafica.node(name=uid, label='{ %s | valor %.4f}' % (n.etiqueta, n.valor), shape='record')\n",
        "    if n._op:\n",
        "      # si el valor es resultado de una operación, crea un nodo para la operación\n",
        "      grafica.node(name = uid + n._op, label = n._op)\n",
        "      # conecta los nodos\n",
        "      grafica.edge(uid + n._op, uid)\n",
        "\n",
        "  for n1, n2 in lineas:\n",
        "    # conecta n1 al nodo operación de n2\n",
        "    grafica.edge(str(id(n1)), str(id(n2)) + n2._op)\n",
        "\n",
        "  return grafica"
      ],
      "metadata": {
        "id": "66jT2SWidSW2"
      },
      "execution_count": 111,
      "outputs": []
    },
    {
      "cell_type": "markdown",
      "source": [
        "Finalmente, visualizamos la función. El problema a resolver consiste en influir en los valores de la función $L$ para llevarla a 0."
      ],
      "metadata": {
        "id": "POesBWAy2P6P"
      }
    },
    {
      "cell_type": "code",
      "source": [
        "graficar(L)"
      ],
      "metadata": {
        "colab": {
          "base_uri": "https://localhost:8080/",
          "height": 192
        },
        "id": "2niNn1wpdXMm",
        "outputId": "7c30edfb-8b7f-4786-9075-1ad981582acf"
      },
      "execution_count": 133,
      "outputs": [
        {
          "output_type": "execute_result",
          "data": {
            "text/plain": [
              "<graphviz.dot.Digraph at 0x7f7822e92590>"
            ],
            "image/svg+xml": "<?xml version=\"1.0\" encoding=\"UTF-8\" standalone=\"no\"?>\n<!DOCTYPE svg PUBLIC \"-//W3C//DTD SVG 1.1//EN\"\n \"http://www.w3.org/Graphics/SVG/1.1/DTD/svg11.dtd\">\n<!-- Generated by graphviz version 2.40.1 (20161225.0304)\n -->\n<!-- Title: %3 Pages: 1 -->\n<svg width=\"871pt\" height=\"128pt\"\n viewBox=\"0.00 0.00 871.00 128.00\" xmlns=\"http://www.w3.org/2000/svg\" xmlns:xlink=\"http://www.w3.org/1999/xlink\">\n<g id=\"graph0\" class=\"graph\" transform=\"scale(1 1) rotate(0) translate(4 124)\">\n<title>%3</title>\n<polygon fill=\"#ffffff\" stroke=\"transparent\" points=\"-4,4 -4,-124 867,-124 867,4 -4,4\"/>\n<!-- 140153959251536 -->\n<g id=\"node1\" class=\"node\">\n<title>140153959251536</title>\n<polygon fill=\"none\" stroke=\"#000000\" points=\"492,-82.5 492,-118.5 608,-118.5 608,-82.5 492,-82.5\"/>\n<text text-anchor=\"middle\" x=\"502.5\" y=\"-96.8\" font-family=\"Times,serif\" font-size=\"14.00\" fill=\"#000000\">f</text>\n<polyline fill=\"none\" stroke=\"#000000\" points=\"513,-82.5 513,-118.5 \"/>\n<text text-anchor=\"middle\" x=\"560.5\" y=\"-96.8\" font-family=\"Times,serif\" font-size=\"14.00\" fill=\"#000000\">valor &#45;3.0000</text>\n</g>\n<!-- 140153959249808* -->\n<g id=\"node9\" class=\"node\">\n<title>140153959249808*</title>\n<ellipse fill=\"none\" stroke=\"#000000\" cx=\"671\" cy=\"-72.5\" rx=\"27\" ry=\"18\"/>\n<text text-anchor=\"middle\" x=\"671\" y=\"-68.8\" font-family=\"Times,serif\" font-size=\"14.00\" fill=\"#000000\">*</text>\n</g>\n<!-- 140153959251536&#45;&gt;140153959249808* -->\n<g id=\"edge8\" class=\"edge\">\n<title>140153959251536&#45;&gt;140153959249808*</title>\n<path fill=\"none\" stroke=\"#000000\" d=\"M608.0192,-87.0741C617.3331,-84.9188 626.7255,-82.7453 635.3115,-80.7585\"/>\n<polygon fill=\"#000000\" stroke=\"#000000\" points=\"636.3717,-84.1057 645.3251,-78.4413 634.7935,-77.2859 636.3717,-84.1057\"/>\n</g>\n<!-- 140153959248528 -->\n<g id=\"node2\" class=\"node\">\n<title>140153959248528</title>\n<polygon fill=\"none\" stroke=\"#000000\" points=\"246,-55.5 246,-91.5 364,-91.5 364,-55.5 246,-55.5\"/>\n<text text-anchor=\"middle\" x=\"257.5\" y=\"-69.8\" font-family=\"Times,serif\" font-size=\"14.00\" fill=\"#000000\">c</text>\n<polyline fill=\"none\" stroke=\"#000000\" points=\"269,-55.5 269,-91.5 \"/>\n<text text-anchor=\"middle\" x=\"316.5\" y=\"-69.8\" font-family=\"Times,serif\" font-size=\"14.00\" fill=\"#000000\">valor &#45;6.0000</text>\n</g>\n<!-- 140153959249872+ -->\n<g id=\"node5\" class=\"node\">\n<title>140153959249872+</title>\n<ellipse fill=\"none\" stroke=\"#000000\" cx=\"429\" cy=\"-45.5\" rx=\"27\" ry=\"18\"/>\n<text text-anchor=\"middle\" x=\"429\" y=\"-41.8\" font-family=\"Times,serif\" font-size=\"14.00\" fill=\"#000000\">+</text>\n</g>\n<!-- 140153959248528&#45;&gt;140153959249872+ -->\n<g id=\"edge7\" class=\"edge\">\n<title>140153959248528&#45;&gt;140153959249872+</title>\n<path fill=\"none\" stroke=\"#000000\" d=\"M364.0947,-60.156C374.0654,-57.9046 384.1366,-55.6305 393.2736,-53.5672\"/>\n<polygon fill=\"#000000\" stroke=\"#000000\" points=\"394.1542,-56.9566 403.1376,-51.3399 392.6123,-50.1285 394.1542,-56.9566\"/>\n</g>\n<!-- 140153959248528* -->\n<g id=\"node3\" class=\"node\">\n<title>140153959248528*</title>\n<ellipse fill=\"none\" stroke=\"#000000\" cx=\"181\" cy=\"-73.5\" rx=\"27\" ry=\"18\"/>\n<text text-anchor=\"middle\" x=\"181\" y=\"-69.8\" font-family=\"Times,serif\" font-size=\"14.00\" fill=\"#000000\">*</text>\n</g>\n<!-- 140153959248528*&#45;&gt;140153959248528 -->\n<g id=\"edge1\" class=\"edge\">\n<title>140153959248528*&#45;&gt;140153959248528</title>\n<path fill=\"none\" stroke=\"#000000\" d=\"M208.2123,-73.5C216.4666,-73.5 225.9371,-73.5 235.6518,-73.5\"/>\n<polygon fill=\"#000000\" stroke=\"#000000\" points=\"235.8231,-77.0001 245.8231,-73.5 235.823,-70.0001 235.8231,-77.0001\"/>\n</g>\n<!-- 140153959249872 -->\n<g id=\"node4\" class=\"node\">\n<title>140153959249872</title>\n<polygon fill=\"none\" stroke=\"#000000\" points=\"493,-27.5 493,-63.5 607,-63.5 607,-27.5 493,-27.5\"/>\n<text text-anchor=\"middle\" x=\"504.5\" y=\"-41.8\" font-family=\"Times,serif\" font-size=\"14.00\" fill=\"#000000\">e</text>\n<polyline fill=\"none\" stroke=\"#000000\" points=\"516,-27.5 516,-63.5 \"/>\n<text text-anchor=\"middle\" x=\"561.5\" y=\"-41.8\" font-family=\"Times,serif\" font-size=\"14.00\" fill=\"#000000\">valor 4.0000</text>\n</g>\n<!-- 140153959249872&#45;&gt;140153959249808* -->\n<g id=\"edge9\" class=\"edge\">\n<title>140153959249872&#45;&gt;140153959249808*</title>\n<path fill=\"none\" stroke=\"#000000\" d=\"M607.3109,-58.2884C616.8819,-60.4241 626.5597,-62.5836 635.3825,-64.5523\"/>\n<polygon fill=\"#000000\" stroke=\"#000000\" points=\"634.767,-68.001 645.2893,-66.7629 636.2916,-61.169 634.767,-68.001\"/>\n</g>\n<!-- 140153959249872+&#45;&gt;140153959249872 -->\n<g id=\"edge2\" class=\"edge\">\n<title>140153959249872+&#45;&gt;140153959249872</title>\n<path fill=\"none\" stroke=\"#000000\" d=\"M456.1548,-45.5C464.1372,-45.5 473.2459,-45.5 482.5772,-45.5\"/>\n<polygon fill=\"#000000\" stroke=\"#000000\" points=\"482.7472,-49.0001 492.7472,-45.5 482.7472,-42.0001 482.7472,-49.0001\"/>\n</g>\n<!-- 140153959249168 -->\n<g id=\"node6\" class=\"node\">\n<title>140153959249168</title>\n<polygon fill=\"none\" stroke=\"#000000\" points=\"244,-.5 244,-36.5 366,-36.5 366,-.5 244,-.5\"/>\n<text text-anchor=\"middle\" x=\"256\" y=\"-14.8\" font-family=\"Times,serif\" font-size=\"14.00\" fill=\"#000000\">d</text>\n<polyline fill=\"none\" stroke=\"#000000\" points=\"268,-.5 268,-36.5 \"/>\n<text text-anchor=\"middle\" x=\"317\" y=\"-14.8\" font-family=\"Times,serif\" font-size=\"14.00\" fill=\"#000000\">valor 10.0000</text>\n</g>\n<!-- 140153959249168&#45;&gt;140153959249872+ -->\n<g id=\"edge5\" class=\"edge\">\n<title>140153959249168&#45;&gt;140153959249872+</title>\n<path fill=\"none\" stroke=\"#000000\" d=\"M366.2735,-31.8418C375.5565,-33.8631 384.8612,-35.8891 393.3551,-37.7386\"/>\n<polygon fill=\"#000000\" stroke=\"#000000\" points=\"392.742,-41.1871 403.2577,-39.8948 394.2313,-34.3473 392.742,-41.1871\"/>\n</g>\n<!-- 140153959024592 -->\n<g id=\"node7\" class=\"node\">\n<title>140153959024592</title>\n<polygon fill=\"none\" stroke=\"#000000\" points=\"0,-83.5 0,-119.5 118,-119.5 118,-83.5 0,-83.5\"/>\n<text text-anchor=\"middle\" x=\"11.5\" y=\"-97.8\" font-family=\"Times,serif\" font-size=\"14.00\" fill=\"#000000\">a</text>\n<polyline fill=\"none\" stroke=\"#000000\" points=\"23,-83.5 23,-119.5 \"/>\n<text text-anchor=\"middle\" x=\"70.5\" y=\"-97.8\" font-family=\"Times,serif\" font-size=\"14.00\" fill=\"#000000\">valor &#45;2.0000</text>\n</g>\n<!-- 140153959024592&#45;&gt;140153959248528* -->\n<g id=\"edge4\" class=\"edge\">\n<title>140153959024592&#45;&gt;140153959248528*</title>\n<path fill=\"none\" stroke=\"#000000\" d=\"M118.2131,-87.9101C127.536,-85.7704 136.9146,-83.618 145.4768,-81.6529\"/>\n<polygon fill=\"#000000\" stroke=\"#000000\" points=\"146.4937,-85.0106 155.4573,-79.3623 144.9278,-78.1879 146.4937,-85.0106\"/>\n</g>\n<!-- 140153959249808 -->\n<g id=\"node8\" class=\"node\">\n<title>140153959249808</title>\n<polygon fill=\"none\" stroke=\"#000000\" points=\"734,-54.5 734,-90.5 863,-90.5 863,-54.5 734,-54.5\"/>\n<text text-anchor=\"middle\" x=\"747\" y=\"-68.8\" font-family=\"Times,serif\" font-size=\"14.00\" fill=\"#000000\">L</text>\n<polyline fill=\"none\" stroke=\"#000000\" points=\"760,-54.5 760,-90.5 \"/>\n<text text-anchor=\"middle\" x=\"811.5\" y=\"-68.8\" font-family=\"Times,serif\" font-size=\"14.00\" fill=\"#000000\">valor &#45;12.0000</text>\n</g>\n<!-- 140153959249808*&#45;&gt;140153959249808 -->\n<g id=\"edge3\" class=\"edge\">\n<title>140153959249808*&#45;&gt;140153959249808</title>\n<path fill=\"none\" stroke=\"#000000\" d=\"M698.0395,-72.5C705.8233,-72.5 714.7148,-72.5 723.9166,-72.5\"/>\n<polygon fill=\"#000000\" stroke=\"#000000\" points=\"723.9855,-76.0001 733.9854,-72.5 723.9854,-69.0001 723.9855,-76.0001\"/>\n</g>\n<!-- 140153959024080 -->\n<g id=\"node10\" class=\"node\">\n<title>140153959024080</title>\n<polygon fill=\"none\" stroke=\"#000000\" points=\"1.5,-28.5 1.5,-64.5 116.5,-64.5 116.5,-28.5 1.5,-28.5\"/>\n<text text-anchor=\"middle\" x=\"13.5\" y=\"-42.8\" font-family=\"Times,serif\" font-size=\"14.00\" fill=\"#000000\">b</text>\n<polyline fill=\"none\" stroke=\"#000000\" points=\"25.5,-28.5 25.5,-64.5 \"/>\n<text text-anchor=\"middle\" x=\"71\" y=\"-42.8\" font-family=\"Times,serif\" font-size=\"14.00\" fill=\"#000000\">valor 3.0000</text>\n</g>\n<!-- 140153959024080&#45;&gt;140153959248528* -->\n<g id=\"edge6\" class=\"edge\">\n<title>140153959024080&#45;&gt;140153959248528*</title>\n<path fill=\"none\" stroke=\"#000000\" d=\"M116.7845,-59.2884C126.4347,-61.4241 136.1924,-63.5836 145.0881,-65.5523\"/>\n<polygon fill=\"#000000\" stroke=\"#000000\" points=\"144.5567,-69.0193 155.0768,-67.7629 146.0694,-62.1847 144.5567,-69.0193\"/>\n</g>\n</g>\n</svg>\n"
          },
          "metadata": {},
          "execution_count": 133
        }
      ]
    },
    {
      "cell_type": "markdown",
      "source": [
        "Como decíamos, intuitivamente creemos que la derivada puede ayudarnos: con la derivada sabemos qué impacto tiene cada variable en el resultado final $L$. En ese sentido, lo que tendremos que hacer primero es calcular la derivada de cada variable con respecto a $L$.\n",
        "\n",
        "En principio, la derivada de $L$ con respecto a sí misma es 1: aunque suene absurdo y evidente a la vez, el cambio en $L$ es proporcional (idéntico) a sí mismo. Ahora, la derivada de $f$ y $e$ con respecto a $L$ la podemos averiguar con la fórmula que veníamos utilizando:"
      ],
      "metadata": {
        "id": "89o4mqtSx6vd"
      }
    },
    {
      "cell_type": "code",
      "source": [
        "def derivada():\n",
        "  h = 0.000001\n",
        "\n",
        "  # Función original\n",
        "  a = Numero(-2.0, etiqueta='a')\n",
        "  b = Numero(3.0, etiqueta='b')\n",
        "  c = a*b; c.etiqueta = 'c'\n",
        "  d = Numero(10.0, etiqueta='d')\n",
        "  e = c + d; e.etiqueta = 'e'\n",
        "  f = Numero(-3.0); f.etiqueta = 'f'\n",
        "  L1 = f * e; L.etiqueta= 'L1'\n",
        "\n",
        "  # Función con incremento h\n",
        "  a = Numero(-2.0, etiqueta='a')\n",
        "  b = Numero(3.0, etiqueta='b')\n",
        "  c = a*b; c.etiqueta = 'c'\n",
        "  d = Numero(10.0, etiqueta='d')\n",
        "  e = c + d; e.etiqueta = 'e'\n",
        "  e.valor += h # aumento de h para obtener la derivada de e con respecto a L\n",
        "  f = Numero(-3.0); f.etiqueta = 'f'\n",
        "  L2 = f * e; L.etiqueta= 'L2'\n",
        "\n",
        "  print((L2 - L1) / h) # fórmula de la derivada\n",
        "\n",
        "derivada()"
      ],
      "metadata": {
        "colab": {
          "base_uri": "https://localhost:8080/"
        },
        "id": "fHdnQm5033ZI",
        "outputId": "ec670b93-05d0-494d-9b5f-2751ad6ba7a8"
      },
      "execution_count": 145,
      "outputs": [
        {
          "output_type": "stream",
          "name": "stdout",
          "text": [
            "Valor=-2.9999999995311555\n"
          ]
        }
      ]
    },
    {
      "cell_type": "markdown",
      "source": [
        "La derivada de $e$ con respecto a la función es aproximadamente -3. A estas alturas, ya habremos notado un patrón: cuando derivamos una multiplicación, el resultado es la otra variable multiplicadora. En este caso, $L$ es el resultado de multiplicar $e$ con $f$. Vimos que la derivada de $e$ es -3, o sea $f$. Podemos inducir, empíricamente y por simetría, que la derivada de $f$ es $e$, o sea 4.\n",
        "\n",
        "Ahora que ya tenemos esta información, queremos continuar al nodo anterior: las derivadas de $c$ y $d$. Pero aquí hay una sutileza que, bien entendida, nos dará la clave de las redes neuronales: debemos obtener la derivada de $c$ y $d$ con respecto a $L$, no con respecto a $e$. Entonces, ¿cómo podemos averiguar el impacto que $c$ y $d$ tienen en $L$ a través de $e$? Para hacer este cálculo solo hace falta una intuición bastante simple.\n",
        "\n",
        "### La regla de la cadena: propagación hacia atrás\n",
        "Tomemos prestada la analogía de George Simmons: si una bicicleta es dos veces más rápida que una persona corriendo, y un automóvil cuatro veces más rápido que una bicicleta, entonces el automóvil es $2 \\times 4 = 8$ veces más rápido que una persona corriendo.\n",
        "\n",
        "De igual forma, si queremos saber la influencia que $c$ tiene en $L$, solo debemos obtener la derivada de $c$ con respecto a $e$, y multiplicarla por la derivada de $e$ con respecto a $L$. Es decir, debemos multiplicar la fuerza de $c$ con la de $e$ para saber con cuánta fuerza llega $c$ hasta $L$. Lo mismo vale para $d$ y a esta regla se le llama «regla de la cadena» (o «propagación hacia atrás», en el campo de la inteligencia artificial).\n",
        "\n",
        "Ahora, para obtener la derivada de $c$ con respecto a $e$, recordemos otro patrón que vimos: las derivadas de los productos sumados nos daban como resultado 1 porque la función avanzaba en la misma proporción que avanzaba la variable. Verifiquémoslo:"
      ],
      "metadata": {
        "id": "BBnTUgPJ6BM9"
      }
    },
    {
      "cell_type": "code",
      "source": [
        "def deriv_c(c, d):\n",
        "  return (((c+0.00001)+d) - (c+d)) / 0.00001\n",
        "\n",
        "deriv_c(-6, 10)"
      ],
      "metadata": {
        "colab": {
          "base_uri": "https://localhost:8080/"
        },
        "id": "XbVZ79MhAiaX",
        "outputId": "107c4849-e672-4755-b4c6-7ced81c02769"
      },
      "execution_count": 153,
      "outputs": [
        {
          "output_type": "execute_result",
          "data": {
            "text/plain": [
              "0.9999999999621422"
            ]
          },
          "metadata": {},
          "execution_count": 153
        }
      ]
    },
    {
      "cell_type": "markdown",
      "source": [
        "El resultado efectivamente es aproximadamente 1. Por simetría nuevamente, entendemos que la derivada de $d$ con respecto a $e$ también es 1. Y ahora que ya tenemos ambas derivadas podemos multiplicarlas: $1 \\times -3 = -3$. Así pues, la derivada de $d$ y $c$ con respecto a $L$ es -3. Comprobémoslo:"
      ],
      "metadata": {
        "id": "Oqci9P96Bv9m"
      }
    },
    {
      "cell_type": "code",
      "source": [
        "def derivada():\n",
        "  h = 0.000001\n",
        "\n",
        "  # Función original\n",
        "  a = Numero(-2.0, etiqueta='a')\n",
        "  b = Numero(3.0, etiqueta='b')\n",
        "  c = a*b; c.etiqueta = 'c'\n",
        "  d = Numero(10.0, etiqueta='d')\n",
        "  e = c + d; e.etiqueta = 'e'\n",
        "  f = Numero(-3.0); f.etiqueta = 'f'\n",
        "  L1 = f * e; L.etiqueta= 'L1'\n",
        "\n",
        "  # Función con incremento h\n",
        "  a = Numero(-2.0, etiqueta='a')\n",
        "  b = Numero(3.0, etiqueta='b')\n",
        "  c = a*b; c.etiqueta = 'c'\n",
        "  c.valor += h # aumento de h para obtener la derivada de c con respecto a L\n",
        "  d = Numero(10.0, etiqueta='d')\n",
        "  e = c + d; e.etiqueta = 'e'\n",
        "  f = Numero(-3.0); f.etiqueta = 'f'\n",
        "  L2 = f * e; L.etiqueta= 'L2'\n",
        "\n",
        "  print((L2 - L1) / h) # fórmula de la derivada\n",
        "\n",
        "derivada()"
      ],
      "metadata": {
        "colab": {
          "base_uri": "https://localhost:8080/"
        },
        "id": "9Mse5RqJADZu",
        "outputId": "f6f997de-dba0-42cd-8a8b-2c85a98eb93d"
      },
      "execution_count": 158,
      "outputs": [
        {
          "output_type": "stream",
          "name": "stdout",
          "text": [
            "Valor=-2.9999999995311555\n"
          ]
        }
      ]
    },
    {
      "cell_type": "markdown",
      "source": [
        "Finalmente, debemos hacer lo mismo para obtener las derivadas de $a$ y $b$. Entonces, dado el patrón que habíamos descubierto, la derivada de $a$ con respecto a $c$ es $b$, o sea $3$, y viceversa: la derivada de $b$ es $a$, o sea $-2$. Pero recordemos: esta derivada «local» está dada con respecto a $c$, y a nosotros nos interesa la derivada con respecto a $L$, es decir, la magnitud de la influencia que $a$ y $b$ tienen en $L$. Para saberlo, únicamente debemos aplicar la regla de la cadena y multiplicar las derivadas que tenemos por la derivada de $c$. Entonces la derivada de $a$ es $3 \\times -3 = -9$, mientras que la derivada de $b$ es $-2 \\times -3 = 6$.\n",
        "```{margin}\n",
        "A la derivada general, es decir, a la que se da con respecto al resultado final y no al local, se le denomina «gradiente».\n",
        "```\n",
        "\n",
        "Ahora que ya tenemos estos valores, podemos optimizar nuestro código para contemplarlos y visualizarlos de mejor manera. Añadiremos también la función de exponenciación. En la práctica, nadie calcula las derivadas manualmente como lo hicimos, puesto que sería una labor eterna; pero ya hemos aprendido los patrones para calcularlas, así que podemos implementarnos en nuestro código para que se calculen automáticamente:"
      ],
      "metadata": {
        "id": "Hwg2Fb7GCQDt"
      }
    },
    {
      "cell_type": "code",
      "source": [
        "class Numero:\n",
        "  def __init__(self, valor, _previos=(), _op='', etiqueta=''):\n",
        "    self.valor = valor\n",
        "    self._previos = set(_previos)\n",
        "    self._op = _op\n",
        "    self.etiqueta = etiqueta\n",
        "    self.grad = 0.0 # gradiente, comienza en 0\n",
        "    self._propagar = lambda: None # el valor predeterminado de la propagación hacia atrás es nulo\n",
        "\n",
        "  def __add__(self, otro): \n",
        "    otro = otro if isinstance(otro, Numero) else Numero(otro) \n",
        "    resultado = Numero(self.valor + otro.valor, (self, otro), '+')\n",
        "\n",
        "    def _propagar():\n",
        "      self.grad += 1.0 * resultado.grad # en la suma, la derivada es 1; luego se multiplica por la «derivada global»\n",
        "      otro.grad += 1.0 * resultado.grad\n",
        "    resultado._propagar = _propagar\n",
        "\n",
        "    return resultado \n",
        "\n",
        "  def __radd__(self, otro): \n",
        "    return self + otro\n",
        "\n",
        "  def __mul__(self, otro):\n",
        "    otro = otro if isinstance(otro, Numero) else Numero(otro)\n",
        "    resultado = Numero(self.valor * otro.valor, (self, otro), '*')\n",
        "    return resultado\n",
        "\n",
        "  def __rmul__(self, otro):\n",
        "    return self * otro\n",
        "\n",
        "  def __sub__(self, otro): \n",
        "    return self + (-otro)\n",
        "\n",
        "  def __rsub__(self, otro):\n",
        "    return otro + (-self)\n",
        "\n",
        "  def __pow__(self, otro): # exponenciación\n",
        "    assert isinstance(otro, (int, float))\n",
        "    resultado = Numero(self.valor**otro, (self,), f'**{otro}')\n",
        "    return resultado\n",
        "\n",
        "  def __truediv__(self, otro): \n",
        "    return self * otro**-1 \n",
        "  \n",
        "  def __rtruediv__(self, otro):\n",
        "    return otro * self**-1\n",
        "\n",
        "  def __neg__(self): \n",
        "    return self * -1\n",
        "\n",
        "  def __repr__(self):\n",
        "    return f'Valor={self.valor}'"
      ],
      "metadata": {
        "id": "bMCGlNT4r9zr"
      },
      "execution_count": 159,
      "outputs": []
    },
    {
      "cell_type": "code",
      "source": [],
      "metadata": {
        "id": "MuvOWSnTJMZI"
      },
      "execution_count": null,
      "outputs": []
    }
  ]
}