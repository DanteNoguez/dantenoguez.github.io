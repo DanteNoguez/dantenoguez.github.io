{
  "nbformat": 4,
  "nbformat_minor": 0,
  "metadata": {
    "colab": {
      "provenance": []
    },
    "kernelspec": {
      "name": "python3",
      "display_name": "Python 3"
    },
    "language_info": {
      "name": "python"
    }
  },
  "cells": [
    {
      "cell_type": "markdown",
      "source": [
        "# Elementos de cálculo infinitesimal"
      ],
      "metadata": {
        "id": "Jbd9q74gVp3w"
      }
    },
    {
      "cell_type": "code",
      "execution_count": null,
      "metadata": {
        "id": "yz01uvKrfG0t"
      },
      "outputs": [],
      "source": [
        "!pip install matplotlib --upgrade"
      ]
    },
    {
      "cell_type": "code",
      "source": [
        "import numpy as np\n",
        "import matplotlib.pyplot as plt"
      ],
      "metadata": {
        "id": "7HTreJO9fIuP"
      },
      "execution_count": 1,
      "outputs": []
    },
    {
      "cell_type": "markdown",
      "source": [
        "Este texto es la continuación de la primera parte de nuestros [Elementos de redes neuronales](https://dantenoguez.github.io/notebooks/alfa/redes.html). Mi propósito es obtener geométricamente la integral a partir de la derivada."
      ],
      "metadata": {
        "id": "Gz-GuWGo_L5G"
      }
    },
    {
      "cell_type": "markdown",
      "source": [
        "### La integral demostrada según el orden geométrico\n",
        "\n",
        "De la misma forma que la derivada es la pendiente, podemos entender a la integral definida como el área debajo de un segmento de la función. Por ejemplo:"
      ],
      "metadata": {
        "id": "FdfgXdsKK8pO"
      }
    },
    {
      "cell_type": "code",
      "source": [
        "x = np.arange(0, 21, 2) \n",
        "b = 5\n",
        "def f(x, b): return x*b\n",
        "c = f(x, b)\n",
        "\n",
        "fig, ax = plt.subplots(figsize=(10, 7))\n",
        "ax.plot(x, c, marker='o', color='blue') \n",
        "plt.xticks(ticks=x)\n",
        "ax.set_facecolor('black')\n",
        "ax.set_xlabel('Valores de x')\n",
        "ax.set_ylabel('Valores de c')\n",
        "ax.hlines(y=c[3], xmin=x[3], xmax=x[6], linewidth=1, color='white', linestyles='dashed')\n",
        "ax.vlines(x=x[3], ymin=0, ymax=c[3], linewidth=1, color='white', linestyles='dashed')\n",
        "ax.vlines(x=x[6], ymin=0, ymax=c[6], linewidth=1, color='white', linestyles='dashed')\n",
        "plt.show()"
      ],
      "metadata": {
        "colab": {
          "base_uri": "https://localhost:8080/",
          "height": 442
        },
        "id": "g2dayXv_LDgK",
        "outputId": "c738e6ef-7ded-453c-b128-f18426f7ca75"
      },
      "execution_count": 19,
      "outputs": [
        {
          "output_type": "display_data",
          "data": {
            "text/plain": [
              "<Figure size 720x504 with 1 Axes>"
            ],
            "image/png": "[encoded data removed]"
          },
          "metadata": {
            "needs_background": "light"
          }
        }
      ]
    },
    {
      "cell_type": "markdown",
      "source": [
        "La integral determinaría el área desde $x=6$ hasta $x=12$, y para abordar este problema geométricamente podemos dividir al área en dos figuras tales que:\n",
        "\n",
        "$$\n",
        "Rectángulo = base \\times altura = (12 - 6)(30) = 180\n",
        "$$\n",
        "\n",
        "$$\n",
        "Triángulo = \\frac{1}{2} \\times base \\times altura = \\frac{base \\times altura}{2} = \\frac{(12-6)(60-30)}{2} = 90\n",
        "$$\n",
        "\n",
        "$$\n",
        "\\text{Área total} = 180 + 90 = 270\n",
        "$$\n",
        "\n",
        "Pero podemos plantear el problema también así:\n",
        "\n",
        "$$\n",
        "\\int_{a}^{b}f(x)dx \n",
        "$$\n",
        "\n",
        "Y para resolverlo, utilizar la fórmula:\n",
        "\n",
        "$$\n",
        "\\int_{a}^{b}x^ndx = \\frac{x^{n+1}}{n + 1} + C, \\ n \\neq -1\n",
        "$$\n",
        "\n",
        "Utilizando una constante $C = 0$, tenemos que:\n",
        "\n",
        "$$\n",
        "\\int_{x=6}^{x=12}(x^1 \\cdot b)dx = \\frac{x^2 \\cdot 5}{2} = \\frac{12^2 \\cdot 5}{2} - \\frac{6^2 \\cdot 5}{2} = \\frac{144 \\cdot 5}{2} - \\frac{36 \\cdot 5}{2} = \\frac{720}{2} - \\frac{180}{2} = 360 - 90 = 270\n",
        "$$\n",
        "\n",
        "La diferencia sustancial es la misma que con las derivadas: obtener el área debajo de un segmento de una función no lineal mediante figuras geométricas sería inexacto y tedioso, de manera que el cálculo integral resuelve este problema."
      ],
      "metadata": {
        "id": "kBCqQuT-Lss5"
      }
    },
    {
      "cell_type": "markdown",
      "source": [
        "### Teorema fundamental del cálculo\n",
        "\n",
        "Por último, el teorema fundamental del cálculo estatuye que la derivación y la integración son operaciones inversas. Mientras que la derivación consiste fundamentalmente en una operación de división y con ella obtenemos —en dos dimensiones— la pendiente de la tangente a un punto, la integración fundamentalmente consiste en una multiplicación para obtener el área bajo la curva de la función entre dos puntos dados."
      ],
      "metadata": {
        "id": "WO3ol_OpWh9o"
      }
    },
    {
      "cell_type": "markdown",
      "source": [
        "### Reflexiones\n",
        "\n",
        "Curiosamente, la palabra «cálculo» viene del latín [*calculus*,](https://www.perseus.tufts.edu/hopper/text?doc=Perseus:text:1999.04.0059:entry=calculus) cuyo significado es «pequeña piedra». Calcular, en las épocas antiguas, implicaba el uso de piedritas que se iban contando una tras otra, justo como cuando éramos pequeños hacíamos con el ábaco.\n",
        "\n",
        "El cálculo lidia con cambios infinitamente pequeños —de ahí su nombre «cálculo infinitesimal»—. Inicialmente, estos «cambios pequeños» se concibieron como trucos prácticos que facilitaban cálculos como los que hemos hecho, pero nunca hubo una justificación matemáticamente rigurosa para proceder así, «imaginando» figuras infinitamente pequeñas. De ahí precisamente que Newton se hubiera negado a publicar su trabajo de cálculo y que Leibniz haya afirmado que lidiar con lo infinitamente pequeño era una simple ficción mental que facilitaba ciertos cálculos en la práctica."
      ],
      "metadata": {
        "id": "PljcRW-vXOTP"
      }
    }
  ]
}